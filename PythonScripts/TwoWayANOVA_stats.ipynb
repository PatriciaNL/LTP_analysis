{
 "cells": [
  {
   "cell_type": "code",
   "execution_count": 26,
   "metadata": {},
   "outputs": [],
   "source": [
    "# load packages\n",
    "import numpy as np \n",
    "from scipy.io   import  loadmat\n",
    "from scipy import stats\n",
    "import pandas as pd\n",
    "import os\n",
    "import matplotlib.pyplot as plt #import matplotlib as plt\n",
    "from scipy.optimize import curve_fit \n",
    "import seaborn as sns #import mat73\n",
    "import pickle as pkl\n",
    "from datetime import datetime\n",
    "import statsmodels.api as sm \n",
    "from statsmodels.formula.api import ols"
   ]
  },
  {
   "cell_type": "code",
   "execution_count": 22,
   "metadata": {},
   "outputs": [],
   "source": [
    "#create data\n",
    "df = pd.DataFrame({'water': np.repeat(['daily', 'weekly'], 15),\n",
    "                   'sun': np.tile(np.repeat(['low', 'med', 'high'], 5), 2),\n",
    "                   'height': [6, 6, 6, 5, 6, 5, 5, 6, 4, 5,\n",
    "                              6, 6, 7, 8, 7, 3, 4, 4, 4, 5,\n",
    "                              4, 4, 4, 4, 4, 5, 6, 6, 7, 8]})"
   ]
  },
  {
   "cell_type": "code",
   "execution_count": 24,
   "metadata": {},
   "outputs": [
    {
     "name": "stdout",
     "output_type": "stream",
     "text": [
      "     water   sun  height\n",
      "0    daily   low       6\n",
      "1    daily   low       6\n",
      "2    daily   low       6\n",
      "3    daily   low       5\n",
      "4    daily   low       6\n",
      "5    daily   med       5\n",
      "6    daily   med       5\n",
      "7    daily   med       6\n",
      "8    daily   med       4\n",
      "9    daily   med       5\n",
      "10   daily  high       6\n",
      "11   daily  high       6\n",
      "12   daily  high       7\n",
      "13   daily  high       8\n",
      "14   daily  high       7\n",
      "15  weekly   low       3\n",
      "16  weekly   low       4\n",
      "17  weekly   low       4\n",
      "18  weekly   low       4\n",
      "19  weekly   low       5\n",
      "20  weekly   med       4\n",
      "21  weekly   med       4\n",
      "22  weekly   med       4\n",
      "23  weekly   med       4\n",
      "24  weekly   med       4\n",
      "25  weekly  high       5\n",
      "26  weekly  high       6\n",
      "27  weekly  high       6\n",
      "28  weekly  high       7\n",
      "29  weekly  high       8\n"
     ]
    }
   ],
   "source": [
    "print(df)"
   ]
  },
  {
   "cell_type": "code",
   "execution_count": 23,
   "metadata": {},
   "outputs": [
    {
     "data": {
      "text/html": [
       "<div>\n",
       "<style scoped>\n",
       "    .dataframe tbody tr th:only-of-type {\n",
       "        vertical-align: middle;\n",
       "    }\n",
       "\n",
       "    .dataframe tbody tr th {\n",
       "        vertical-align: top;\n",
       "    }\n",
       "\n",
       "    .dataframe thead th {\n",
       "        text-align: right;\n",
       "    }\n",
       "</style>\n",
       "<table border=\"1\" class=\"dataframe\">\n",
       "  <thead>\n",
       "    <tr style=\"text-align: right;\">\n",
       "      <th></th>\n",
       "      <th>sum_sq</th>\n",
       "      <th>df</th>\n",
       "      <th>F</th>\n",
       "      <th>PR(&gt;F)</th>\n",
       "    </tr>\n",
       "  </thead>\n",
       "  <tbody>\n",
       "    <tr>\n",
       "      <th>C(water)</th>\n",
       "      <td>8.533333</td>\n",
       "      <td>1.0</td>\n",
       "      <td>16.0000</td>\n",
       "      <td>0.000527</td>\n",
       "    </tr>\n",
       "    <tr>\n",
       "      <th>C(sun)</th>\n",
       "      <td>24.866667</td>\n",
       "      <td>2.0</td>\n",
       "      <td>23.3125</td>\n",
       "      <td>0.000002</td>\n",
       "    </tr>\n",
       "    <tr>\n",
       "      <th>C(water):C(sun)</th>\n",
       "      <td>2.466667</td>\n",
       "      <td>2.0</td>\n",
       "      <td>2.3125</td>\n",
       "      <td>0.120667</td>\n",
       "    </tr>\n",
       "    <tr>\n",
       "      <th>Residual</th>\n",
       "      <td>12.800000</td>\n",
       "      <td>24.0</td>\n",
       "      <td>NaN</td>\n",
       "      <td>NaN</td>\n",
       "    </tr>\n",
       "  </tbody>\n",
       "</table>\n",
       "</div>"
      ],
      "text/plain": [
       "                    sum_sq    df        F    PR(>F)\n",
       "C(water)          8.533333   1.0  16.0000  0.000527\n",
       "C(sun)           24.866667   2.0  23.3125  0.000002\n",
       "C(water):C(sun)   2.466667   2.0   2.3125  0.120667\n",
       "Residual         12.800000  24.0      NaN       NaN"
      ]
     },
     "execution_count": 23,
     "metadata": {},
     "output_type": "execute_result"
    }
   ],
   "source": [
    "#perform two-way ANOVA\n",
    "model = ols('height ~ C(water) + C(sun) + C(water):C(sun)', data=df).fit()\n",
    "sm.stats.anova_lm(model, typ=2)"
   ]
  },
  {
   "cell_type": "markdown",
   "metadata": {},
   "source": [
    "#### import and set actual anova params"
   ]
  },
  {
   "cell_type": "code",
   "execution_count": 32,
   "metadata": {},
   "outputs": [
    {
     "name": "stdout",
     "output_type": "stream",
     "text": [
      "Files on hand: ['LTP_ResponseDifferences_20240223_1325.pkl', 'PostPreResponseDifferences_20240220_1029.pkl']\n",
      "Current WD: C:\\plimon\\LTP_analysis\\RCA_F1\\AmpResponseDiffs\\LTP_ResponseDifferences_20240223_1325.pkl\n",
      "Does File #1 Exist? True\n"
     ]
    }
   ],
   "source": [
    "# Main Directory of processed file from MatLab\n",
    "#MainDir = 'D:\\\\AttnXV3_analysis\\\\RCA_F1\\\\AvgCRFs\\\\' # set dir\n",
    "MainDir = 'C:\\\\plimon\\\\LTP_analysis\\\\RCA_F1\\\\AmpResponseDiffs\\\\' # set dir\n",
    "os.chdir(MainDir) # change old dir, to this dir\n",
    "d = os.listdir(MainDir) # list files in dir\n",
    "print(f'Files on hand: {d}')\n",
    "##############################################\n",
    "FileN = d[0] # choose one                        \n",
    "file_path1 = os.path.join(MainDir, FileN) # join paths and prep 2 load\n",
    "print('Current WD:',file_path1) # does path exist ... ?\n",
    "print('Does File #1 Exist?',os.path.exists(file_path1)) # yes or no"
   ]
  },
  {
   "cell_type": "code",
   "execution_count": 33,
   "metadata": {},
   "outputs": [
    {
     "name": "stdout",
     "output_type": "stream",
     "text": [
      "dict_keys(['DiffData', 'ErrVals', 'SubNames', 'DictMainKeys', 'ContLevs', 'crfLabs', 'VoiceMemo'])\n"
     ]
    }
   ],
   "source": [
    "loadData = pkl.load(open(file_path1,'rb'))\n",
    "print(loadData.keys())"
   ]
  },
  {
   "cell_type": "code",
   "execution_count": 34,
   "metadata": {},
   "outputs": [
    {
     "name": "stdout",
     "output_type": "stream",
     "text": [
      "['Cont:Post - pre responses for all conditions for all subs, sub x contrast diff']\n",
      "['attnL F1', 'attnL F2', 'attnR F1', 'attnR F2']\n"
     ]
    }
   ],
   "source": [
    "data = loadData['DiffData']\n",
    "# wont load error bars just yet\n",
    "data_labels = loadData['DictMainKeys']\n",
    "SubNames = np.array(loadData['SubNames'])\n",
    "note = loadData['VoiceMemo']\n",
    "contrast_levels = loadData['ContLevs']\n",
    "contrast_labs = loadData['crfLabs']\n",
    "print(note)\n",
    "NumSubs = int(len(SubNames))\n",
    "print(data_labels) # labels for nr plots"
   ]
  },
  {
   "cell_type": "code",
   "execution_count": 38,
   "metadata": {},
   "outputs": [
    {
     "name": "stdout",
     "output_type": "stream",
     "text": [
      "dict_keys([0, 1, 2, 3])\n",
      "(25, 12)\n",
      "(12,)\n"
     ]
    }
   ],
   "source": [
    "print(data.keys())\n",
    "print(data[0].shape)"
   ]
  },
  {
   "cell_type": "markdown",
   "metadata": {},
   "source": [
    "#### Stack all condition differences for 1 subject - make into a function"
   ]
  },
  {
   "cell_type": "code",
   "execution_count": 27,
   "metadata": {},
   "outputs": [],
   "source": [
    "NumBins = 6 # number of contrasts\n",
    "NumHarms = 2 # number of harmonic data: 2F1, 4F1\n",
    "NumComp = 0 # first component from RCA\n",
    "NumConds = 4\n",
    "diff_ax = np.arange(0,NumBins) # plot differences"
   ]
  },
  {
   "cell_type": "code",
   "execution_count": 62,
   "metadata": {},
   "outputs": [
    {
     "name": "stdout",
     "output_type": "stream",
     "text": [
      "48\n"
     ]
    }
   ],
   "source": [
    "RowPop = NumBins * NumHarms * NumConds # 6 x 2 x 4\n",
    "SubRows = NumBins*NumHarms\n",
    "ContrastInd = np.arange(0,NumBins)\n",
    "print(RowPop)"
   ]
  },
  {
   "cell_type": "code",
   "execution_count": null,
   "metadata": {},
   "outputs": [],
   "source": [
    "#def make_dfs():\n",
    "#    return"
   ]
  },
  {
   "cell_type": "code",
   "execution_count": 121,
   "metadata": {},
   "outputs": [],
   "source": [
    "soi = 0\n",
    "\n",
    "SubjArr = [soi] * RowPop # Subject label\n",
    "ValArr = np.zeros((RowPop)) # INDEPENDENT VARIABLE 12 x 4  = 48 rows per val\n",
    "ContrastArr = np.arange(RowPop) % NumBins\n",
    "AttnXArr = np.zeros((RowPop))\n",
    "FreqFiltArr = np.zeros((RowPop))\n",
    "HarmArr = np.zeros((RowPop))\n",
    "\n",
    "# load subject response differnces across conditions\n",
    "for co in range(NumConds):\n",
    "   HarmArr[(co*SubRows):(co+1)*SubRows]  = [0] * NumBins + [1] * NumBins # index harmonic data:  2F / 4F\n",
    "   dIn = data[co][soi,:] \n",
    "   ValArr[(co*SubRows):(co+1)*SubRows] = dIn # Sort Data Values \n",
    "   if co == 0 or co == 1: # Index if Data is AttnL or AttnR\n",
    "      AttnXArr[(co*SubRows):(co+1)*(SubRows)] = 0\n",
    "   else:\n",
    "      AttnXArr[(co*SubRows):(co+1)*(SubRows)] = 1\n",
    "   if co % 2:          # Index what data was F1 = 6 Hz or F2 = 7.5 Hz \n",
    "      FreqFiltArr[(co*SubRows):(co+1)*SubRows] = [1]*SubRows\n",
    "   else:\n",
    "      FreqFiltArr[(co*SubRows):(co+1)*SubRows] = [0]*SubRows\n",
    "\n",
    "dataOut = {'Subj': SubjArr,\n",
    "            'AttnX': AttnXArr,\n",
    "            'FreqFilt': FreqFiltArr,\n",
    "            'Harmonic': HarmArr,\n",
    "            'Contrast': ContrastArr,\n",
    "            'Vals': ValArr}\n",
    "df = pd.DataFrame(dataOut)"
   ]
  },
  {
   "cell_type": "code",
   "execution_count": 122,
   "metadata": {},
   "outputs": [
    {
     "name": "stdout",
     "output_type": "stream",
     "text": [
      "    Subj  AttnX  FreqFilt  Harmonic  Contrast      Vals\n",
      "0      0    0.0       0.0       0.0         0 -0.053774\n",
      "1      0    0.0       0.0       0.0         1 -0.395514\n",
      "2      0    0.0       0.0       0.0         2  0.293846\n",
      "3      0    0.0       0.0       0.0         3  0.278024\n",
      "4      0    0.0       0.0       0.0         4 -0.058382\n",
      "5      0    0.0       0.0       0.0         5  0.510312\n",
      "6      0    0.0       0.0       1.0         0 -0.714807\n",
      "7      0    0.0       0.0       1.0         1  0.041290\n",
      "8      0    0.0       0.0       1.0         2  0.358222\n",
      "9      0    0.0       0.0       1.0         3 -0.309274\n",
      "10     0    0.0       0.0       1.0         4 -0.673892\n",
      "11     0    0.0       0.0       1.0         5 -0.606761\n",
      "12     0    0.0       1.0       0.0         0  0.260233\n",
      "13     0    0.0       1.0       0.0         1  0.456049\n",
      "14     0    0.0       1.0       0.0         2  0.776490\n",
      "15     0    0.0       1.0       0.0         3  1.408964\n",
      "16     0    0.0       1.0       0.0         4  0.961284\n",
      "17     0    0.0       1.0       0.0         5  1.156185\n",
      "18     0    0.0       1.0       1.0         0  0.076939\n",
      "19     0    0.0       1.0       1.0         1  0.115658\n",
      "20     0    0.0       1.0       1.0         2  0.198931\n",
      "21     0    0.0       1.0       1.0         3  0.299216\n",
      "22     0    0.0       1.0       1.0         4  0.063718\n",
      "23     0    0.0       1.0       1.0         5  0.323937\n",
      "24     0    1.0       0.0       0.0         0 -0.775198\n",
      "25     0    1.0       0.0       0.0         1 -0.815475\n",
      "26     0    1.0       0.0       0.0         2 -0.053603\n",
      "27     0    1.0       0.0       0.0         3 -0.323075\n",
      "28     0    1.0       0.0       0.0         4 -0.582493\n",
      "29     0    1.0       0.0       0.0         5 -1.159285\n",
      "30     0    1.0       0.0       1.0         0 -0.578882\n",
      "31     0    1.0       0.0       1.0         1 -0.391748\n",
      "32     0    1.0       0.0       1.0         2 -0.018715\n",
      "33     0    1.0       0.0       1.0         3 -0.029895\n",
      "34     0    1.0       0.0       1.0         4  0.632342\n",
      "35     0    1.0       0.0       1.0         5 -0.543272\n",
      "36     0    1.0       1.0       0.0         0 -0.466828\n",
      "37     0    1.0       1.0       0.0         1 -0.461035\n",
      "38     0    1.0       1.0       0.0         2  0.072231\n",
      "39     0    1.0       1.0       0.0         3 -0.738794\n",
      "40     0    1.0       1.0       0.0         4 -0.470692\n",
      "41     0    1.0       1.0       0.0         5 -0.833771\n",
      "42     0    1.0       1.0       1.0         0 -0.703505\n",
      "43     0    1.0       1.0       1.0         1 -0.369109\n",
      "44     0    1.0       1.0       1.0         2 -0.253832\n",
      "45     0    1.0       1.0       1.0         3 -0.203853\n",
      "46     0    1.0       1.0       1.0         4  0.430723\n",
      "47     0    1.0       1.0       1.0         5  0.146105\n",
      "(48, 6)\n"
     ]
    }
   ],
   "source": [
    "print(df)\n",
    "print(df.shape)"
   ]
  }
 ],
 "metadata": {
  "kernelspec": {
   "display_name": "Python 3",
   "language": "python",
   "name": "python3"
  },
  "language_info": {
   "codemirror_mode": {
    "name": "ipython",
    "version": 3
   },
   "file_extension": ".py",
   "mimetype": "text/x-python",
   "name": "python",
   "nbconvert_exporter": "python",
   "pygments_lexer": "ipython3",
   "version": "3.11.8"
  }
 },
 "nbformat": 4,
 "nbformat_minor": 2
}
