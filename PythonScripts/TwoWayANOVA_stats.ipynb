{
 "cells": [
  {
   "cell_type": "code",
   "execution_count": 18,
   "metadata": {},
   "outputs": [],
   "source": [
    "# load packages\n",
    "import numpy as np \n",
    "from scipy.io   import  loadmat\n",
    "from scipy import stats\n",
    "import pandas as pd\n",
    "import os\n",
    "import matplotlib.pyplot as plt #import matplotlib as plt\n",
    "from scipy.optimize import curve_fit \n",
    "import seaborn as sns #import mat73\n",
    "import pickle as pkl\n",
    "from datetime import datetime\n",
    "import statsmodels.api as sm \n",
    "from statsmodels.formula.api import ols"
   ]
  },
  {
   "cell_type": "code",
   "execution_count": 19,
   "metadata": {},
   "outputs": [],
   "source": [
    "# #perform two-way ANOVA\n",
    "# model = ols('height ~ C(water) + C(sun) + C(water):C(sun)', data=df).fit()\n",
    "# sm.stats.anova_lm(model, typ=2)"
   ]
  },
  {
   "cell_type": "markdown",
   "metadata": {},
   "source": [
    "#### import and set actual anova params"
   ]
  },
  {
   "cell_type": "code",
   "execution_count": 20,
   "metadata": {},
   "outputs": [
    {
     "name": "stdout",
     "output_type": "stream",
     "text": [
      "Files on hand: ['LTP_ResponseDifferences_20240223_1325.pkl', 'PostPreResponseDifferences_20240220_1029.pkl']\n",
      "Current WD: C:\\plimon\\LTP_analysis\\RCA_F1\\AmpResponseDiffs\\LTP_ResponseDifferences_20240223_1325.pkl\n",
      "Does File #1 Exist? True\n"
     ]
    }
   ],
   "source": [
    "# Main Directory of processed file from MatLab\n",
    "#MainDir = 'D:\\\\AttnXV3_analysis\\\\RCA_F1\\\\AvgCRFs\\\\' # set dir\n",
    "MainDir = 'C:\\\\plimon\\\\LTP_analysis\\\\RCA_F1\\\\AmpResponseDiffs\\\\' # set dir\n",
    "os.chdir(MainDir) # change old dir, to this dir\n",
    "d = os.listdir(MainDir) # list files in dir\n",
    "print(f'Files on hand: {d}')\n",
    "##############################################\n",
    "FileN = d[0] # choose one                        \n",
    "file_path1 = os.path.join(MainDir, FileN) # join paths and prep 2 load\n",
    "print('Current WD:',file_path1) # does path exist ... ?\n",
    "print('Does File #1 Exist?',os.path.exists(file_path1)) # yes or no"
   ]
  },
  {
   "cell_type": "code",
   "execution_count": 21,
   "metadata": {},
   "outputs": [
    {
     "name": "stdout",
     "output_type": "stream",
     "text": [
      "dict_keys(['DiffData', 'ErrVals', 'SubNames', 'DictMainKeys', 'ContLevs', 'crfLabs', 'VoiceMemo'])\n"
     ]
    }
   ],
   "source": [
    "loadData = pkl.load(open(file_path1,'rb'))\n",
    "print(loadData.keys())"
   ]
  },
  {
   "cell_type": "code",
   "execution_count": 22,
   "metadata": {},
   "outputs": [
    {
     "name": "stdout",
     "output_type": "stream",
     "text": [
      "['Cont:Post - pre responses for all conditions for all subs, sub x contrast diff']\n",
      "['attnL F1', 'attnL F2', 'attnR F1', 'attnR F2']\n"
     ]
    }
   ],
   "source": [
    "data = loadData['DiffData']\n",
    "# wont load error bars just yet\n",
    "data_labels = loadData['DictMainKeys']\n",
    "SubNames = np.array(loadData['SubNames'])\n",
    "note = loadData['VoiceMemo']\n",
    "contrast_levels = loadData['ContLevs']\n",
    "contrast_labs = loadData['crfLabs']\n",
    "print(note)\n",
    "NumSubs = int(len(SubNames))\n",
    "print(data_labels) # labels for nr plots"
   ]
  },
  {
   "cell_type": "markdown",
   "metadata": {},
   "source": [
    "#### Stack all condition differences for 1 subject - make into a function"
   ]
  },
  {
   "cell_type": "code",
   "execution_count": 23,
   "metadata": {},
   "outputs": [],
   "source": [
    "NumBins = 6 # number of contrasts\n",
    "NumHarms = 2 # number of harmonic data: 2F1, 4F1\n",
    "NumComp = 0 # first component from RCA\n",
    "NumConds = 4"
   ]
  },
  {
   "cell_type": "code",
   "execution_count": 24,
   "metadata": {},
   "outputs": [],
   "source": [
    "RowPop = NumBins * NumHarms * NumConds # 6 x 2 x 4\n",
    "SubRows = NumBins*NumHarms\n",
    "ContrastInd = np.arange(0,NumBins)\n",
    "ContrastArr = np.arange(RowPop) % NumBins"
   ]
  },
  {
   "cell_type": "code",
   "execution_count": 25,
   "metadata": {},
   "outputs": [],
   "source": [
    "AttnXArr = np.zeros((RowPop))\n",
    "FreqFiltArr = np.zeros((RowPop))\n",
    "HarmArr = np.zeros((RowPop))\n",
    "# load subject response differnces across conditions\n",
    "for co in range(NumConds):\n",
    "    HarmArr[(co*SubRows):(co+1)*SubRows]  = [0] * NumBins + [1] * NumBins # index harmonic data:  2F / 4F \n",
    "if co == 0 or co == 1: # Index if Data is AttnL or AttnR\n",
    "    AttnXArr[(co*SubRows):(co+1)*(SubRows)] = 0\n",
    "else:\n",
    "    AttnXArr[(co*SubRows):(co+1)*(SubRows)] = 1\n",
    "if co % 2:          # Index what data was F1 = 6 Hz or F2 = 7.5 Hz \n",
    "    FreqFiltArr[(co*SubRows):(co+1)*SubRows] = [1]*SubRows\n",
    "else:\n",
    "    FreqFiltArr[(co*SubRows):(co+1)*SubRows] = [0]*SubRows"
   ]
  },
  {
   "cell_type": "code",
   "execution_count": 11,
   "metadata": {},
   "outputs": [],
   "source": [
    "def MakeDataFramePerSubject(RowPop,SubRows,ContrastArr,AttnXArr,FreqFiltArr,HarmArr,NumConds,soi, dictIn):\n",
    "    SubjArr = [soi] * RowPop # Subject label\n",
    "    ValArr = np.zeros((RowPop)) # INDEPENDENT VARIABLE 12 x 4  = 48 rows per val\n",
    "    # load subject response differnces across conditions\n",
    "    for co in range(NumConds):\n",
    "        dIn = dictIn[co][soi,:] \n",
    "        ValArr[(co*SubRows):(co+1)*SubRows] = dIn # Sort Data Values \n",
    "    \n",
    "    dataOut = {'Subj': SubjArr,\n",
    "                'AttnX': AttnXArr,\n",
    "                'FreqFilt': FreqFiltArr,\n",
    "                'Harmonic': HarmArr,\n",
    "                'Contrast': ContrastArr,\n",
    "                'Vals': ValArr}\n",
    "    df = pd.DataFrame(dataOut)\n",
    "    return df"
   ]
  },
  {
   "cell_type": "markdown",
   "metadata": {},
   "source": [
    "#### Load Some DateFrames to see if they differ"
   ]
  },
  {
   "cell_type": "code",
   "execution_count": 27,
   "metadata": {},
   "outputs": [],
   "source": [
    "#print(Sub_df[22])"
   ]
  },
  {
   "cell_type": "code",
   "execution_count": 30,
   "metadata": {},
   "outputs": [],
   "source": [
    "Sub_df = {}\n",
    "for su in range(NumSubs):\n",
    "    Sub_df[su]= MakeDataFramePerSubject(RowPop,SubRows,ContrastArr,AttnXArr,FreqFiltArr,HarmArr,NumConds,soi=su,dictIn=data)"
   ]
  },
  {
   "cell_type": "code",
   "execution_count": 39,
   "metadata": {},
   "outputs": [
    {
     "name": "stdout",
     "output_type": "stream",
     "text": [
      "(1200, 6)\n",
      "['Subj', 'AttnX', 'FreqFilt', 'Harmonic', 'Contrast', 'Vals']\n"
     ]
    }
   ],
   "source": [
    "anova_array = np.zeros((RowPop*NumSubs,6))\n",
    "print(anova_array.shape)\n",
    "\n",
    "headerArr =list(Sub_df[0].columns.values)\n",
    "print(headerArr)"
   ]
  },
  {
   "cell_type": "code",
   "execution_count": 40,
   "metadata": {},
   "outputs": [],
   "source": [
    "for su in range(NumSubs):\n",
    "    aIn = np.array(Sub_df[su])\n",
    "    anova_array[(RowPop*su):(RowPop*(su+1)),:] = aIn"
   ]
  },
  {
   "cell_type": "code",
   "execution_count": 45,
   "metadata": {},
   "outputs": [
    {
     "name": "stdout",
     "output_type": "stream",
     "text": [
      "      Subj  AttnX  FreqFilt  Harmonic  Contrast      Vals\n",
      "0      0.0    0.0       0.0       0.0       0.0 -0.053774\n",
      "1      0.0    0.0       0.0       0.0       1.0 -0.395514\n",
      "2      0.0    0.0       0.0       0.0       2.0  0.293846\n",
      "3      0.0    0.0       0.0       0.0       3.0  0.278024\n",
      "4      0.0    0.0       0.0       0.0       4.0 -0.058382\n",
      "...    ...    ...       ...       ...       ...       ...\n",
      "1195  24.0    1.0       1.0       1.0       1.0 -0.210037\n",
      "1196  24.0    1.0       1.0       1.0       2.0  0.035446\n",
      "1197  24.0    1.0       1.0       1.0       3.0  0.010592\n",
      "1198  24.0    1.0       1.0       1.0       4.0  0.058085\n",
      "1199  24.0    1.0       1.0       1.0       5.0 -0.155763\n",
      "\n",
      "[1200 rows x 6 columns]\n"
     ]
    }
   ],
   "source": [
    "anova_df = pd.DataFrame(anova_array, columns = headerArr)\n",
    "print(anova_df)"
   ]
  },
  {
   "cell_type": "markdown",
   "metadata": {},
   "source": [
    "#### Run sum anova"
   ]
  },
  {
   "cell_type": "code",
   "execution_count": 49,
   "metadata": {},
   "outputs": [
    {
     "data": {
      "text/html": [
       "<div>\n",
       "<style scoped>\n",
       "    .dataframe tbody tr th:only-of-type {\n",
       "        vertical-align: middle;\n",
       "    }\n",
       "\n",
       "    .dataframe tbody tr th {\n",
       "        vertical-align: top;\n",
       "    }\n",
       "\n",
       "    .dataframe thead th {\n",
       "        text-align: right;\n",
       "    }\n",
       "</style>\n",
       "<table border=\"1\" class=\"dataframe\">\n",
       "  <thead>\n",
       "    <tr style=\"text-align: right;\">\n",
       "      <th></th>\n",
       "      <th>sum_sq</th>\n",
       "      <th>df</th>\n",
       "      <th>F</th>\n",
       "      <th>PR(&gt;F)</th>\n",
       "    </tr>\n",
       "  </thead>\n",
       "  <tbody>\n",
       "    <tr>\n",
       "      <th>C(Harmonic)</th>\n",
       "      <td>0.036925</td>\n",
       "      <td>1.0</td>\n",
       "      <td>0.076461</td>\n",
       "      <td>0.782200</td>\n",
       "    </tr>\n",
       "    <tr>\n",
       "      <th>C(Contrast)</th>\n",
       "      <td>2.016581</td>\n",
       "      <td>5.0</td>\n",
       "      <td>0.835161</td>\n",
       "      <td>0.524682</td>\n",
       "    </tr>\n",
       "    <tr>\n",
       "      <th>C(AttnX)</th>\n",
       "      <td>2.355269</td>\n",
       "      <td>1.0</td>\n",
       "      <td>4.877137</td>\n",
       "      <td>0.027404</td>\n",
       "    </tr>\n",
       "    <tr>\n",
       "      <th>Residual</th>\n",
       "      <td>575.641093</td>\n",
       "      <td>1192.0</td>\n",
       "      <td>NaN</td>\n",
       "      <td>NaN</td>\n",
       "    </tr>\n",
       "  </tbody>\n",
       "</table>\n",
       "</div>"
      ],
      "text/plain": [
       "                 sum_sq      df         F    PR(>F)\n",
       "C(Harmonic)    0.036925     1.0  0.076461  0.782200\n",
       "C(Contrast)    2.016581     5.0  0.835161  0.524682\n",
       "C(AttnX)       2.355269     1.0  4.877137  0.027404\n",
       "Residual     575.641093  1192.0       NaN       NaN"
      ]
     },
     "execution_count": 49,
     "metadata": {},
     "output_type": "execute_result"
    }
   ],
   "source": [
    "#perform two-way ANOVA\n",
    "model = ols('Vals ~ C(Harmonic) + C(Contrast) + C(AttnX)', data=anova_df).fit()\n",
    "sm.stats.anova_lm(model, typ=2)"
   ]
  }
 ],
 "metadata": {
  "kernelspec": {
   "display_name": "Python 3",
   "language": "python",
   "name": "python3"
  },
  "language_info": {
   "codemirror_mode": {
    "name": "ipython",
    "version": 3
   },
   "file_extension": ".py",
   "mimetype": "text/x-python",
   "name": "python",
   "nbconvert_exporter": "python",
   "pygments_lexer": "ipython3",
   "version": "3.11.8"
  }
 },
 "nbformat": 4,
 "nbformat_minor": 2
}
