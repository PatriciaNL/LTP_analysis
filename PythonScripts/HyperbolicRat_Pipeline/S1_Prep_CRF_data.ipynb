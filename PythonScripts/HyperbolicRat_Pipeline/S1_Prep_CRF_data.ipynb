{
 "cells": [
  {
   "cell_type": "code",
   "execution_count": 1,
   "metadata": {},
   "outputs": [],
   "source": [
    "# load packages\n",
    "import numpy as np \n",
    "from scipy.io   import  loadmat\n",
    "import pandas as pd\n",
    "import os\n",
    "import matplotlib.pyplot as plt #import matplotlib as plt\n",
    "from scipy.optimize import curve_fit \n",
    "import seaborn as sns #import mat73\n",
    "import pickle as pkl\n",
    "from datetime import datetime"
   ]
  },
  {
   "cell_type": "code",
   "execution_count": 2,
   "metadata": {},
   "outputs": [],
   "source": [
    "NumBins = 6 # number of contrasts\n",
    "NumHarms = 4 # number of harmonic data: 2F1, 4F1\n",
    "NumConds = 4"
   ]
  },
  {
   "cell_type": "code",
   "execution_count": 3,
   "metadata": {},
   "outputs": [
    {
     "name": "stdout",
     "output_type": "stream",
     "text": [
      "[0 1 2 3 4 5]\n"
     ]
    }
   ],
   "source": [
    "cp1 = sns.color_palette(\"husl\", 8) # color pallete 1 \n",
    "cp2 = sns.color_palette(\"Paired\", 12)  # color pallete 2\n",
    "sns.set_theme() # set global plot theme\n",
    "x_lev = np.arange(0,NumBins,1) # x ticks for plotting\n",
    "print(x_lev)"
   ]
  },
  {
   "cell_type": "code",
   "execution_count": 4,
   "metadata": {},
   "outputs": [
    {
     "name": "stdout",
     "output_type": "stream",
     "text": [
      "Files on hand: ['AllCondCRF_AllHarmonics_pnlApp_20240315_1641.mat', 'AllCondCRF_AllHarmonics_pnlApp_20240315_1641.pkl', 'AllCondCRF_AllSess_pnlApp_20240314_1235.mat', 'AllCondCRF_AllSess_pnlApp_20240314_1235.pkl', 'AllCondCRF_AllSess_pnlApp_20240314_1237.mat', 'AllCondCRF_AllSess_pnlApp_20240314_1237.pkl', 'Clean_LTPData_20240313_1457.pkl', 'Clean_LTPData_2468F_20240316_2252.pkl', 'Clean_LTPData_2468F_20240318_2256.pkl', 'Clean_LTPData_2468F_20240319_1040.pkl', 'Clean_LTPData_firingrate_20240314_1400.pkl']\n",
      "Current WD: C:\\plimon\\LTP_analysis\\RCA_F1\\AvgCRFs\\Clean_LTPData_2468F_20240319_1040.pkl\n",
      "Does File #1 Exist? True\n"
     ]
    }
   ],
   "source": [
    "# Main Directory of processed file from MatLab\n",
    "# MainDir = 'D:\\\\AttnXV3_analysis\\\\RCA_F1\\\\AvgCRFs\\\\' # set dir\n",
    "MainDir = 'C:\\\\plimon\\\\LTP_analysis\\\\RCA_F1\\\\AvgCRFs\\\\' # set dir\n",
    "os.chdir(MainDir) # change old dir, to this dir\n",
    "d = os.listdir(MainDir) # list files in dir\n",
    "print(f'Files on hand: {d}')\n",
    "##############################################\n",
    "FileN = d[-2] # choose one                        \n",
    "file_path1 = os.path.join(MainDir, FileN) # join paths and prep 2 load\n",
    "print('Current WD:',file_path1) # does path exist ... ?\n",
    "print('Does File #1 Exist?',os.path.exists(file_path1)) # yes or no"
   ]
  },
  {
   "cell_type": "code",
   "execution_count": 5,
   "metadata": {},
   "outputs": [
    {
     "name": "stdout",
     "output_type": "stream",
     "text": [
      "dict_keys(['crf', 'resp_diffs', 'mod_crf', 'coSubNames', 'ConditionLabels', 'ContLevs', 'ContLabs'])\n"
     ]
    }
   ],
   "source": [
    "loadData = pkl.load(open(file_path1,'rb'))\n",
    "print(loadData.keys())\n",
    "\n",
    "pp_data = loadData['crf']  # original CRF data\n",
    "diff_data =  loadData['resp_diffs'] # post - pre data for all conditions\n",
    "CorrectedCRF = loadData['mod_crf']  # crf with no supersaturation=\n",
    "coSubNames = loadData['coSubNames'] \n",
    "data_labels = loadData['ConditionLabels'] \n",
    "contrast_levels = loadData['ContLevs']  # for plotting x\n",
    "contrast_labs  = loadData['ContLabs'] # for setting x ticks"
   ]
  },
  {
   "cell_type": "code",
   "execution_count": 6,
   "metadata": {},
   "outputs": [
    {
     "data": {
      "text/plain": [
       "<matplotlib.legend.Legend at 0x1cafb313d50>"
      ]
     },
     "execution_count": 6,
     "metadata": {},
     "output_type": "execute_result"
    },
    {
     "data": {
      "image/png": "[encoded data removed]",
      "text/plain": [
       "<Figure size 640x480 with 1 Axes>"
      ]
     },
     "metadata": {},
     "output_type": "display_data"
    }
   ],
   "source": [
    "x = pp_data[0]\n",
    "\n",
    "plt.plot(x[0,0:6,0], label = 'pre')\n",
    "plt.plot(x[0,0:6,1], label = 'post')\n",
    "plt.legend()"
   ]
  },
  {
   "cell_type": "code",
   "execution_count": 7,
   "metadata": {},
   "outputs": [],
   "source": [
    "def naka_rushton(C, C50, n, Rmax, b):\n",
    "    \"\"\"\n",
    "    This function models neural responses captured by Contrast Response Functions\n",
    "     \n",
    "    C50 (parameter 1) : Contrast level that yields half of max response (contrast %)\n",
    "    n (parameter 2)   : Determines the curve arc for fitting (small integer)\n",
    "    Rmax (Parameter 3): Max response elicited (mv)\n",
    "    b (Parameter 4)   : Starting value (origin)\n",
    "    \"\"\"\n",
    "    return ((Rmax * ((C**n) / (C50**n + C**n)))+b)"
   ]
  },
  {
   "cell_type": "code",
   "execution_count": 12,
   "metadata": {},
   "outputs": [
    {
     "name": "stdout",
     "output_type": "stream",
     "text": [
      "(20, 24, 2)\n",
      "(20, 2, 12)\n"
     ]
    }
   ],
   "source": [
    "#def ReshapeFeedData(dIn, HarmMax = [0,1]):\n",
    "dIn = x # 20 24 2 \n",
    "HarmMax = [0,1] # harmonic 2f ans 4f for nr function only right now\n",
    "\n",
    "[xiters, csweeps, cond] = dIn.shape # 20 x 24 x 2\n",
    "print(dIn.shape)\n",
    "NumRows = csweeps/NumBins # 4\n",
    "\n",
    "crf_mtrx = np.zeros((xiters,int(len(HarmMax)),NumBins*2))\n",
    "print(crf_mtrx.shape) # 20  2 x \n",
    "\n",
    "for su in range(xiters):\n",
    "    pre = dIn[su,:,0] # 24\n",
    "    post = dIn[su,:,1]\n",
    "\n",
    "    pre_o = np.zeros((int(len(HarmMax)),NumBins))\n",
    "    post_o = np.zeros((int(len(HarmMax)),NumBins))\n",
    "\n",
    "    for i in range(len(HarmMax)):\n",
    "        s = int(i*NumBins)\n",
    "        e = int(s+NumBins)\n",
    "        pre_o[i,:] = pre[s:e]\n",
    "        post_o[i,:] = post[s:e]\n",
    "        dOut = np.hstack((pre_o,post_o)) # 2 x 12 (harmonic x pre/post)\n",
    "    crf_mtrx[su,:,:] = dOut # 20 x 2 x 12\n"
   ]
  },
  {
   "cell_type": "code",
   "execution_count": 9,
   "metadata": {},
   "outputs": [
    {
     "name": "stdout",
     "output_type": "stream",
     "text": [
      "(20, 3, 12)\n",
      "(3, 12)\n"
     ]
    },
    {
     "data": {
      "text/plain": [
       "[<matplotlib.lines.Line2D at 0x1cafdb0ea90>]"
      ]
     },
     "execution_count": 9,
     "metadata": {},
     "output_type": "execute_result"
    },
    {
     "data": {
      "image/png": "[encoded data removed]",
      "text/plain": [
       "<Figure size 640x480 with 1 Axes>"
      ]
     },
     "metadata": {},
     "output_type": "display_data"
    }
   ],
   "source": [
    "print(crf_mtrx.shape) # 20 x 2 x 12 [subject x [harmonic levels/]]\n",
    "crf_x = crf_mtrx[0,:,:]\n",
    "print(crf_x.shape) # 2 x 12\n",
    "plt.plot(crf_x[0,0:6])\n",
    "plt.plot(crf_x[0,6:])"
   ]
  },
  {
   "cell_type": "code",
   "execution_count": 18,
   "metadata": {},
   "outputs": [],
   "source": [
    "def ReshapeFeedData(NumBins,dIn,HarmMax):\n",
    "    \"\"\"\n",
    "    This script takes the pre x post crf for all particpants. \n",
    "    dIn = 3d array [subj x allcontrastsceepresponses x 2 ([pre = 0 , post = 1])]\n",
    "    NumBins = number of contrasts used in ltp sweep condition \n",
    "    HarmMax = [x,x,x,x] = fill array to max harmonic you want to feed \n",
    "    to Naka rushon function!\n",
    "    \"\"\"\n",
    "    xiters = dIn.shape[0] # get # of subjects \n",
    "\n",
    "    crf_mtrx = np.zeros((xiters,int(len(HarmMax)),NumBins*2)) # fill array to index by row \n",
    "\n",
    "    for su in range(xiters): # iterate for all particpants\n",
    "        pre = dIn[su,:,0] # import single pre crfs per haronic \n",
    "        post = dIn[su,:,1] # import single post crfs per haronic\n",
    "\n",
    "        pre_o = np.zeros((int(len(HarmMax)),NumBins)) # reshaped (numharmsin x numbins)\n",
    "        post_o = np.zeros((int(len(HarmMax)),NumBins))\n",
    "\n",
    "        for i in range(len(HarmMax)): # index all harmonics of interest \n",
    "            s = int(i*NumBins) # start\n",
    "            e = int(s+NumBins) # end \n",
    "            pre_o[i,:] = pre[s:e] # index\n",
    "            post_o[i,:] = post[s:e]\n",
    "            dOut = np.hstack((pre_o,post_o)) # 2 x 12 (harmonic x pre/post) # stack sub data pre post side by side\n",
    "        # save everyones data in a reshaped array \n",
    "        crf_mtrx[su,:,:] = dOut # 20 x 2 x 12\n",
    "\n",
    "    return crf_mtrx"
   ]
  },
  {
   "cell_type": "code",
   "execution_count": 28,
   "metadata": {},
   "outputs": [
    {
     "name": "stdout",
     "output_type": "stream",
     "text": [
      "(20, 2, 12)\n",
      "(20, 2, 12)\n",
      "(20, 2, 12)\n",
      "(20, 2, 12)\n"
     ]
    }
   ],
   "source": [
    "nr_dIn = {} # naka rushton data in - many abbrev from now on .. running out of names. ...\n",
    "\n",
    "for co in range(NumConds):\n",
    "    nr_dIn[co] = ReshapeFeedData(NumBins,dIn = pp_data[0], HarmMax = [0,1])\n",
    "    print(nr_dIn[co].shape)\n"
   ]
  },
  {
   "cell_type": "code",
   "execution_count": 25,
   "metadata": {},
   "outputs": [
    {
     "name": "stdout",
     "output_type": "stream",
     "text": [
      "(20, 3, 12)\n"
     ]
    }
   ],
   "source": [
    "print(test.shape)"
   ]
  }
 ],
 "metadata": {
  "kernelspec": {
   "display_name": "Python 3",
   "language": "python",
   "name": "python3"
  },
  "language_info": {
   "codemirror_mode": {
    "name": "ipython",
    "version": 3
   },
   "file_extension": ".py",
   "mimetype": "text/x-python",
   "name": "python",
   "nbconvert_exporter": "python",
   "pygments_lexer": "ipython3",
   "version": "3.11.8"
  }
 },
 "nbformat": 4,
 "nbformat_minor": 2
}
