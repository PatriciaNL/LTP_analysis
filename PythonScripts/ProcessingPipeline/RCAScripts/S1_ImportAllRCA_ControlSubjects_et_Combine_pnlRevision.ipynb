{
 "cells": [
  {
   "cell_type": "markdown",
   "metadata": {},
   "source": [
    "### **STEP ONE** OF DATA PROCESSING PIPELINE"
   ]
  },
  {
   "cell_type": "markdown",
   "metadata": {},
   "source": [
    "##### This script imports data in which a Reliable Component Analysis was performed. Visual Stimulus was dual frequency tagged: 2F1 = 6 Hz, 2F2 = 7.5 Hz (inverting stim). Each participant completed 2 sessions. For each session, a xF1 and xF2 bandpass filter was performed. So 1 single participant has 4 data files. This is for a frequency-based analysis of the LTP paradigm"
   ]
  },
  {
   "cell_type": "code",
   "execution_count": 58,
   "metadata": {},
   "outputs": [],
   "source": [
    "# load packages\n",
    "import numpy as np \n",
    "import scipy.io\n",
    "from scipy.io   import  loadmat\n",
    "import pandas as pd\n",
    "import os\n",
    "import matplotlib.pyplot as plt #import matplotlib as plt\n",
    "from scipy.optimize import curve_fit \n",
    "import seaborn as sns #import mat73\n",
    "import pickle as pkl\n",
    "from datetime import datetime\n",
    "from itertools import chain"
   ]
  },
  {
   "cell_type": "markdown",
   "metadata": {},
   "source": [
    "### Set Dynamic Params"
   ]
  },
  {
   "cell_type": "code",
   "execution_count": 59,
   "metadata": {},
   "outputs": [],
   "source": [
    "rca_comp = 1 # rca component to look at \n",
    "harmo = 0 # harmonic to look at 0-3 : 2, 4,6,8"
   ]
  },
  {
   "cell_type": "markdown",
   "metadata": {},
   "source": [
    "### Set Dir Path(s): MainDir, SaveDataDir"
   ]
  },
  {
   "cell_type": "code",
   "execution_count": 60,
   "metadata": {},
   "outputs": [
    {
     "name": "stdout",
     "output_type": "stream",
     "text": [
      "Avilable Files to choose from: 5\n",
      "Files on hand: ['desktop.ini', 'OfficialF1_Control_rcaResults_Sweep.mat', 'OfficialF1_rcaResults_Sweep_F2F4F6F8.mat', 'OfficialF2_Control_rcaResults_Sweep.mat', 'OfficialF2_rcaResults_Sweep_F2F4F6F8.mat']\n",
      "Current WD: C:\\plimon\\LTP_analysis\\RCA_Fx_OutputData\\RCA_Files\\OfficialF1_Control_rcaResults_Sweep.mat\n",
      "Does File #1 Exist? True\n",
      "Current WD: C:\\plimon\\LTP_analysis\\RCA_Fx_OutputData\\RCA_Files\\OfficialF2_Control_rcaResults_Sweep.mat\n",
      "Does File #2 Exist? True\n"
     ]
    }
   ],
   "source": [
    "# Main Directory of processed file from MatLab\n",
    "MainDir = 'C:\\\\plimon\\\\LTP_analysis\\\\RCA_Fx_OutputData\\\\RCA_Files\\\\' # set dir - on my computer\n",
    "os.chdir(MainDir) # change old dir, to this dir\n",
    "d = os.listdir(MainDir) # list files in dir\n",
    "print(f'Avilable Files to choose from: {len(d)}')\n",
    "print(f'Files on hand: {d}')\n",
    "##############################################\n",
    "FileN_f1 = d[1] # choose one\n",
    "FileN_f2  = d[3]                         \n",
    "file_path1 = os.path.join(MainDir, FileN_f1) # join paths and prep 2 load\n",
    "print('Current WD:',file_path1) # does path exist ... ?\n",
    "print('Does File #1 Exist?',os.path.exists(file_path1)) # yes or no\n",
    "\n",
    "file_path2 = os.path.join(MainDir, FileN_f2) # join paths and prep 2 load\n",
    "print('Current WD:',file_path2) # does path exist ... ?\n",
    "print('Does File #2 Exist?',os.path.exists(file_path1)) # yes or no"
   ]
  },
  {
   "cell_type": "code",
   "execution_count": 61,
   "metadata": {},
   "outputs": [],
   "source": [
    "# # Save Data Dir ...\n",
    "# #SaveDataDir = 'D:\\\\AttnXV3_analysis\\\\RCA_F1\\\\AllSubjSweepRCA\\\\' # set dir where files (.pkl, .csv) will be saved\n",
    "# SaveDataDir = 'C:\\\\plimon\\\\LTP_analysis\\\\RCA_F1\\\\' # set dir where files (.pkl, .csv) will be saved\n",
    "# FileOutName = 'AllSessionDataCombin_allHarms' \n",
    "# newPath = os.path.join(SaveDataDir, FileOutName)\n",
    "# if not os.path.exists(SaveDataDir):\n",
    "#     os.makedirs(SaveDataDir)\n",
    "# print(f'Path to save data:{SaveDataDir}')\n",
    "# ######################################################\n",
    "# dnt = datetime.now() # add date and time bc im wreckless when saving ..\n",
    "# fdnt = dnt.strftime(\"%Y%m%d_%H%M%S\") # set the above as a string ...\n",
    "# FileN = f'{FileOutName}_{fdnt}.pkl' \n",
    "# #FileNToMatlab = f'{FileOutName}_{fdnt}.h5' \n",
    "# #FileN = f'{FileOutName}_{fdnt}.csv' \n",
    "# NewFileNPath = os.path.join(SaveDataDir,FileN)\n",
    "# print('Full New File Dir: ', NewFileNPath)"
   ]
  },
  {
   "cell_type": "markdown",
   "metadata": {},
   "source": [
    "### load all data per file"
   ]
  },
  {
   "cell_type": "code",
   "execution_count": 86,
   "metadata": {},
   "outputs": [],
   "source": [
    "df_f1 = scipy.io.loadmat(file_path1)\n",
    "df_f2 = scipy.io.loadmat(file_path2)"
   ]
  },
  {
   "cell_type": "markdown",
   "metadata": {},
   "source": [
    "#### Load F1 and F2 RCA Data"
   ]
  },
  {
   "cell_type": "code",
   "execution_count": 87,
   "metadata": {},
   "outputs": [],
   "source": [
    "rca_f1 = df_f1['rcaResult']['projectedData'][0,0]\n",
    "f1 = [rca_f1[x,0] for x in range(rca_f1.shape[0])] # entry per subject"
   ]
  },
  {
   "cell_type": "code",
   "execution_count": 64,
   "metadata": {},
   "outputs": [],
   "source": [
    "rca_f2 = df_f2['rcaResult']['projectedData'][0,0]\n",
    "f2 = [rca_f2[x,0] for x in range(rca_f2.shape[0])]"
   ]
  },
  {
   "cell_type": "code",
   "execution_count": 65,
   "metadata": {},
   "outputs": [
    {
     "name": "stdout",
     "output_type": "stream",
     "text": [
      "Total Data Files: 10\n"
     ]
    }
   ],
   "source": [
    "# load subject names ...\n",
    "SubNames = df_f1['rcaResult'][0,0][5]\n",
    "FileName = [x[0][3:] for subjlist in SubNames for x in subjlist[0][2][0]]\n",
    "print(f'Total Data Files: {len(FileName)}')"
   ]
  },
  {
   "cell_type": "code",
   "execution_count": 66,
   "metadata": {},
   "outputs": [],
   "source": [
    "str_split = '-'  # strong to index sub name and expt cond.\n",
    "labels = ['Potentiated Stim, Attention Congruent','Non-Potentiated Stim, Attention Congruent','No Stim, Attention Incongruent, F1 ','No Stim, Attention Incongruent, F2']\n",
    "#labels = ['A-I C','A-I Control','~A-I','A-I INC']\n",
    "contrast_labs = ['1%','3%','5%','16%','40%','100%']\n",
    "# custom colors\n",
    "colors = [\"#FF0B04\", \"#4374B3\", \"#228B22\", \"#8A2BE2\"]\n",
    "# Set color palette\n",
    "sns.set_palette(sns.color_palette(colors))"
   ]
  },
  {
   "cell_type": "markdown",
   "metadata": {},
   "source": [
    "#### Make Subj Session Name Format Uniform and extract sub ID "
   ]
  },
  {
   "cell_type": "code",
   "execution_count": 67,
   "metadata": {},
   "outputs": [],
   "source": [
    "# set all file names to the same hyphen format\n",
    "FileName = [FileName.replace('_','-') for FileName in FileName]\n",
    "NumFiles = int(len(FileName))\n",
    "# Find How Many Subject Names There are ...\n",
    "string_ind = '-'\n",
    "uniqueSubs = []\n",
    "SessFileType = []\n",
    "'for each file name, get sub ID and also session record'\n",
    "for n in range(NumFiles):\n",
    "    x = FileName[n] # single file name string ie: 'nl-xxxx_attnX'\n",
    "    if string_ind in x:\n",
    "        y = x.split(string_ind)[0] # get subj number\n",
    "        #print(y)\n",
    "        z = x.split(string_ind)[1] # get session condition name \n",
    "        #print(z)\n",
    "        # from each session name extract import info that will help us index and exclude later on ..\n",
    "        uniqueSubs.append(y) # store all participant numbers (repeating - will be sorted later)\n",
    "        SessFileType.append(z) # store the condtion label"
   ]
  },
  {
   "cell_type": "markdown",
   "metadata": {},
   "source": [
    "### If running control group, unhashtag this line of code VVV"
   ]
  },
  {
   "cell_type": "code",
   "execution_count": 68,
   "metadata": {},
   "outputs": [
    {
     "name": "stdout",
     "output_type": "stream",
     "text": [
      "['attnR', 'attnR', 'attnR', 'attnR', 'attnR', 'attnR', 'attnR', 'attnR', 'attnR', 'attnR']\n"
     ]
    }
   ],
   "source": [
    "subjLen  = int(len(uniqueSubs))\n",
    "SessFileType = ['attnR' for _ in range(subjLen)]\n",
    "print(SessFileType)"
   ]
  },
  {
   "cell_type": "code",
   "execution_count": 69,
   "metadata": {},
   "outputs": [
    {
     "name": "stdout",
     "output_type": "stream",
     "text": [
      "Subject IDs: ['2738', '2740', '2742', '2745', '2746', '2751', '2769', '345202', '345215', '345216']\n",
      " Conditions: ['attnR', 'attnR']\n"
     ]
    }
   ],
   "source": [
    "print(f'Subject IDs: {uniqueSubs}')\n",
    "print(f' Conditions: {SessFileType[0:2]}')"
   ]
  },
  {
   "cell_type": "code",
   "execution_count": 70,
   "metadata": {},
   "outputs": [
    {
     "name": "stdout",
     "output_type": "stream",
     "text": [
      "Total Participants: 10\n"
     ]
    }
   ],
   "source": [
    "# given double sessions.., how many unique participants do we have?\n",
    "TotalFiles = np.array(uniqueSubs)\n",
    "[NumSubs, SessCounts] = np.unique(TotalFiles, return_counts = True) # returns unique subject and how many sessions they did (should be 2)\n",
    "print(f'Total Participants: {len(NumSubs)}')\n",
    "[FileQuants, TotSess] = np.unique(SessCounts, return_counts = True) # returns counts of how many subs did 1 session and 2 sessions "
   ]
  },
  {
   "cell_type": "code",
   "execution_count": 71,
   "metadata": {},
   "outputs": [],
   "source": [
    "TwoSess = SessCounts == 2 # index of who completed 2 sessions ..\n",
    "GoodSubjs = NumSubs[TwoSess] # subs who completed 2 sessions \n",
    "SingleSessSubjs = NumSubs[~TwoSess] # subs who did not complete 2 sessions "
   ]
  },
  {
   "cell_type": "code",
   "execution_count": 72,
   "metadata": {},
   "outputs": [
    {
     "name": "stdout",
     "output_type": "stream",
     "text": [
      "['2738' '2740' '2742' '2745' '2746' '2751' '2769' '345202' '345215'\n",
      " '345216']\n"
     ]
    }
   ],
   "source": [
    "SingleSubs = SingleSessSubjs\n",
    "print(SingleSessSubjs)"
   ]
  },
  {
   "cell_type": "markdown",
   "metadata": {},
   "source": [
    "#### Have to add this step because I ran someone for attnR **twice** ... yikes ..."
   ]
  },
  {
   "cell_type": "code",
   "execution_count": 73,
   "metadata": {},
   "outputs": [],
   "source": [
    "# # makes sure paticipants did complete attnL and attnR\n",
    "# FNameCrit = ['attnL', 'attnR'] # session names \n",
    "# CleanSubjs = []\n",
    "\n",
    "# for i in range(len(GoodSubjs)):\n",
    "#     subj = GoodSubjs[i]\n",
    "#     f_list = [x for x in FileName if subj in x] # import all strongs were sub number is \n",
    "#     list_check  = np.sort(f_list) # abc order strings -  attnL and THEN attnR\n",
    "#     #print(list_check)\n",
    "#     print(list_check)\n",
    "#     counter = 0\n",
    "#     for n in range(len(FNameCrit)):\n",
    "#         if FNameCrit[n] in list_check[n]: # expt label should match file name in same position\n",
    "#             counter = counter + 1 # if so add 1 \n",
    "#             if (n == 1) and (counter == 2): # if both files strings are different, append\n",
    "#                 CleanSubjs.append(GoodSubjs[i])\n",
    "#         else: # if not, add em to the singletons ... \n",
    "#             print(f'{GoodSubjs[i]} did not match file name for {FNameCrit[n]}, moving subj to proper file ind array')\n",
    "#             str_nm = (np.array([GoodSubjs[i]], dtype=object))\n",
    "#             SingleSubs = np.concatenate((str_nm, SingleSessSubjs))"
   ]
  },
  {
   "cell_type": "markdown",
   "metadata": {},
   "source": [
    "### If there is a specific group of subjects to look at, here is where subj ID's can be grouped"
   ]
  },
  {
   "cell_type": "code",
   "execution_count": 74,
   "metadata": {},
   "outputs": [
    {
     "name": "stdout",
     "output_type": "stream",
     "text": [
      "10\n",
      "8\n"
     ]
    }
   ],
   "source": [
    "#dataSet_Inds = ['2651','2658','2659','2661','2664','2666','2668','2672','2674','2695','345202','345215','2715','2726']\n",
    "ds_set =SingleSubs\n",
    "print(len(ds_set))\n",
    "#dubSubs = ['2652']\n",
    "# for control subjects: \n",
    "'subject 2749 has one additional block of post, so will modify code for this chunk only'\n",
    "badSubs = ['2745', '345215'] \n",
    "# for LTP Subjects\n",
    "#badSubs = ['2661','2669','2671','2716','2663','2652'] # reasonable exclusions...\n",
    "#badSubs = ['2652','2663','2655','2657','2661','2668','2669','2671','2696','2660','2678','2627'] # most conservative ec : activity across all conditions decreased and/or very noisy crf's \n",
    "filter_noisySubs = [x for x in ds_set if x not in badSubs ]\n",
    "dataSet_Inds = filter_noisySubs\n",
    "print(len(dataSet_Inds))"
   ]
  },
  {
   "cell_type": "code",
   "execution_count": 75,
   "metadata": {},
   "outputs": [
    {
     "name": "stdout",
     "output_type": "stream",
     "text": [
      "8\n"
     ]
    }
   ],
   "source": [
    "# total number of file sessions!\n",
    "sCount = [x for x in uniqueSubs if x not in badSubs]\n",
    "print(len(sCount))"
   ]
  },
  {
   "cell_type": "markdown",
   "metadata": {},
   "source": [
    "#### How many participants **actually** completed single control sessions:"
   ]
  },
  {
   "cell_type": "code",
   "execution_count": 76,
   "metadata": {},
   "outputs": [
    {
     "name": "stdout",
     "output_type": "stream",
     "text": [
      "10 Participants completed control session\n"
     ]
    }
   ],
   "source": [
    "print(f'{len(SingleSubs)} Participants completed control session')"
   ]
  },
  {
   "cell_type": "markdown",
   "metadata": {},
   "source": [
    "### Plot CRF for set harmonic index, per rca component selected"
   ]
  },
  {
   "cell_type": "code",
   "execution_count": 77,
   "metadata": {},
   "outputs": [
    {
     "name": "stdout",
     "output_type": "stream",
     "text": [
      "importing subject 2738s data\n",
      "[0]\n",
      "AttnR File Pos: [0], Exp Session: attnR\n",
      "importing subject 2740s data\n",
      "[1]\n",
      "AttnR File Pos: [1], Exp Session: attnR\n",
      "importing subject 2742s data\n",
      "[2]\n",
      "AttnR File Pos: [2], Exp Session: attnR\n",
      "importing subject 2746s data\n",
      "[4]\n",
      "AttnR File Pos: [4], Exp Session: attnR\n",
      "importing subject 2751s data\n",
      "[5]\n",
      "AttnR File Pos: [5], Exp Session: attnR\n",
      "importing subject 2769s data\n",
      "[6]\n",
      "AttnR File Pos: [6], Exp Session: attnR\n",
      "importing subject 345202s data\n",
      "[7]\n",
      "AttnR File Pos: [7], Exp Session: attnR\n",
      "importing subject 345216s data\n",
      "[9]\n",
      "AttnR File Pos: [9], Exp Session: attnR\n"
     ]
    },
    {
     "name": "stderr",
     "output_type": "stream",
     "text": [
      "C:\\Users\\plimon\\AppData\\Local\\Temp\\ipykernel_15832\\159860642.py:88: RuntimeWarning: Mean of empty slice\n",
      "  av = np.nanmean(avgVal,axis = 1) #[2]\n"
     ]
    }
   ],
   "source": [
    "'init dicts to save data'\n",
    "ProcessedConditionData = {} # pcd processed condition data\n",
    "diffs = {} # post - pre  / post + pre data\n",
    "ProcessedComplexVals = {}\n",
    "####################################################\n",
    "'make empty df for missing values to still get plots'\n",
    "emptyMat = np.zeros((48,4,78))\n",
    "emptyMat[:] = np.nan\n",
    "NumTrialsRmv = 5\n",
    "\n",
    "###################################################\n",
    "for sIn in range(len(dataSet_Inds)):\n",
    "    'initialize subkeys for data'\n",
    "    ProcessedConditionData[sIn] = {} # pcd processed condition data\n",
    "    diffs[sIn] = {} # post - pre  / post + pre data\n",
    "    ProcessedComplexVals[sIn] = {} # init dict to store real and imaginary values for data\n",
    "\n",
    "    'enter subj ID to find file locations'\n",
    "    All_Data_sIn = dataSet_Inds[sIn]\n",
    "    print(f'importing subject {All_Data_sIn}s data')\n",
    "    SubjFile_Pos = [(i, x) for i, x in enumerate(FileName) if All_Data_sIn in x]\n",
    "\n",
    "    #print(SubjFile_Pos)\n",
    "    fx_fileInds = np.array([SubjFile_Pos[0][0]]) # FILE POSITION\n",
    "    #SessionCond = SubjFile_Pos[0][1] # FILE NAME\n",
    "    print(fx_fileInds)\n",
    "\n",
    "    print(f'AttnR File Pos: {fx_fileInds}, Exp Session: attnR')\n",
    "            # set data set to plot w filler data\n",
    "    DuoSessionData = [emptyMat,emptyMat,f1[fx_fileInds[0]], f2[fx_fileInds[0]]]\n",
    "\n",
    "    'iterate thorugh all conditions, see *labels* above'\n",
    "    for datamat in range(4): \n",
    "\n",
    "        x = np.array(DuoSessionData[datamat])\n",
    "        # look at first RCA component\n",
    "        xf = x[:,rca_comp,:] # [48 x 78] 1f1 2f1 4f1 6f1\n",
    "\n",
    "        cols,rows = xf.shape # get dims of data  \n",
    "        col_index = int(cols/2) # real and imaginary values to divide\n",
    "        row_index = int(rows/2) # pre post boundries to divide \n",
    "        ComplexData = np.zeros((2,col_index,rows)) #real/imag x contrast/harmonic vals x trials\n",
    "\n",
    "        #print(ComplexData.shape)\n",
    "        realData= xf[0:col_index,:] # real values for all trials \n",
    "        phaseData = xf[col_index:,:] # imaginary values for all trials\n",
    "\n",
    "        'store data in a more organized array (reshape)'\n",
    "        ComplexData[0,:,:] = realData\n",
    "        ComplexData[1,:,:] = phaseData\n",
    "\n",
    "        harmonicData = {}\n",
    "        'harmonic epochs indicies'\n",
    "        HamronicIndicies = np.arange(0,col_index,6) # index to get \n",
    "        'index data to prep for further processing'\n",
    "        for j in range(4):\n",
    "            s = HamronicIndicies[j]\n",
    "            e = s+6\n",
    "            harmonicData[j] = ComplexData[:,s:e,:]  #[2 x 6 x ~80 ]\n",
    "\n",
    "        'pre allocate for crf and complex values'   \n",
    "        #complexValues = {} # no combination of real x imaginary\n",
    "        #CleanCRF = {} # contrast response functions\n",
    "        'pre post differnces per harmonic'\n",
    "        pp_diff = np.zeros((4,6)) \n",
    "\n",
    "        'import harmonic data per datamatrix in data set as pre post'\n",
    "\n",
    "        for l in range(4):\n",
    "            cplxValsRec = np.zeros((2,2,6)) # pre/postx real/imaginary values x per contrast sweep incriment\n",
    "            crfValsRec = np.zeros((2,6))\n",
    "\n",
    "            'import data per harmonic'\n",
    "            hd = harmonicData[l] # 2 x 6 x numtrials\n",
    "            'split pre/post'\n",
    "            #########################################\n",
    "            'remove the first 5 trials for pre and post blocks to remove inhibitory effects'\n",
    "            p1 = hd[:,:,NumTrialsRmv:row_index] # pre  [2x6xnumtrials]\n",
    "            p2 = hd[:,:,row_index+NumTrialsRmv:] # post \n",
    "\n",
    "            'store pre post in temp set array'\n",
    "            px_set = [p1,p2] # store pre post in temp array\n",
    "\n",
    "            for pp in range(2):\n",
    "                dIn = px_set[pp] # import pre or post data [2x6,~39]\n",
    "                for sweep in range(6): # import data for 1 contrast only [2x39]\n",
    "                    avgVal = dIn[:,sweep,:] # 2 x 39 vals\n",
    "                    av = np.nanmean(avgVal,axis = 1) #[2]\n",
    "                    'pre/post x contrast values ][2 x 6]'\n",
    "                    crfValsRec[pp,sweep] = np.hypot(av[0],av[1]) # pre / post contrast response functions\n",
    "                    cplxValsRec[pp,:,sweep] = av #[2x2xx6] # pre/posr x real/imaginary values x contrast sweep inc\n",
    "\n",
    "            pp_diff[l,:] = (crfValsRec[1,:] - crfValsRec[0,:]) / (crfValsRec[0,:] + crfValsRec[1,:]) # post - pre response differences\n",
    "\n",
    "            ProcessedConditionData[sIn,datamat,l] = crfValsRec\n",
    "            diffs[sIn,datamat] = pp_diff\n",
    "            ProcessedComplexVals[sIn,datamat,l] = cplxValsRec"
   ]
  },
  {
   "cell_type": "code",
   "execution_count": 85,
   "metadata": {},
   "outputs": [
    {
     "name": "stderr",
     "output_type": "stream",
     "text": [
      "C:\\Users\\plimon\\AppData\\Local\\Temp\\ipykernel_15832\\4292487886.py:20: RuntimeWarning: Mean of empty slice\n",
      "  avgs = np.nanmean(diffs_dataSet,axis = (1))\n",
      "C:\\Users\\plimon\\AppData\\Local\\Packages\\PythonSoftwareFoundation.Python.3.11_qbz5n2kfra8p0\\LocalCache\\local-packages\\Python311\\site-packages\\numpy\\lib\\nanfunctions.py:1879: RuntimeWarning: Degrees of freedom <= 0 for slice.\n",
      "  var = nanvar(a, axis=axis, dtype=dtype, out=out, ddof=ddof,\n"
     ]
    },
    {
     "data": {
      "text/plain": [
       "<matplotlib.collections.LineCollection at 0x221b2989250>"
      ]
     },
     "execution_count": 85,
     "metadata": {},
     "output_type": "execute_result"
    },
    {
     "data": {
      "image/png": "[encoded data removed]",
      "text/plain": [
       "<Figure size 700x700 with 1 Axes>"
      ]
     },
     "metadata": {},
     "output_type": "display_data"
    }
   ],
   "source": [
    "custom = {\"axes.edgecolor\": \"blue\", \"grid.linestyle\": \"dashed\", \"grid.color\": \"white\"}\n",
    "sns.set_style(\"darkgrid\", rc = custom)\n",
    "dsi = int(len(dataSet_Inds))\n",
    "diffs_dataSet = np.zeros((4,dsi,6))\n",
    "# harmo  = 0\n",
    "harmoincC = ['2F','4F','6F','8F']\n",
    "\n",
    "fig,axs = plt.subplots(figsize = (7,7), squeeze=True)\n",
    "plt.suptitle(f'{harmoincC[harmo]} Average CRF', fontsize = 18)\n",
    "#axs.set_ylim([-0.150,0.150])\n",
    "\n",
    "'find srqt of subject size'\n",
    "sqr_root = np.sqrt(dsi)\n",
    "\n",
    "\n",
    "for fi_co in range(4):\n",
    "    for subjIn in range(len(dataSet_Inds)):\n",
    "        diffs_dataSet[fi_co,subjIn,:] = diffs[subjIn,fi_co][harmo,:]\n",
    "\n",
    "avgs = np.nanmean(diffs_dataSet,axis = (1))\n",
    "stds = (np.nanstd(diffs_dataSet,axis = (1))) / sqr_root\n",
    "\n",
    "for i in range(4):\n",
    "    # axs.plot(avgs[i,:], linewidth = 4, label = labels[i], color = colors[i])\n",
    "    axs.scatter(np.arange(0,6,1), avgs[i,:], linewidth = 4, label = labels[i], color = colors[i])\n",
    "    #if i == 0 or i == 3:\n",
    "    axs.errorbar(x = np.arange(0,6,1),y = avgs[i,:], yerr = stds[i,:], color = colors[i], capsize=6, linewidth = 3) # fmt = 'o'\n",
    "    axs.legend(loc = 'lower right', fontsize = 11)\n",
    "axs.set_ylabel(f'Amplitude (mV)')\n",
    "axs.set_xlabel(f'Contrast %')\n",
    "axs.set_xticks(ticks = np.arange(0,6,1),labels = contrast_labs)\n",
    "axs.hlines(0,xmin = 0 , xmax = 5, color = 'black', linewidth = 3)"
   ]
  },
  {
   "cell_type": "code",
   "execution_count": 79,
   "metadata": {},
   "outputs": [],
   "source": [
    "'here is where data will be combined, regardless of Atten-Induction Cong/Incong'\n",
    "ssrp_Diffs_All_F1 = np.zeros((dsi*2,6)) # get attn Induct Cong data\n",
    "ssrp_Diffs_All_F2 = np.zeros((dsi*2,6)) # get attn Induct Cong data\n",
    "# diffs[subject data, conditions 1-4] [harmonic, contrast data]\n",
    "\n",
    "for sub in range(dsi):\n",
    "    F1_combs = np.zeros((2,6)) # store F1 data for both sessions\n",
    "    F2_combs = np.zeros_like(F1_combs) # store F2 data from both sessions \n",
    "\n",
    "    'attention induction congruent data flies'\n",
    "    F1_aic = diffs[sub,0][harmo,:] # F1 induction (ai congruent)\n",
    "    F2_aicntrl = diffs[sub,1][harmo,:] # F2  (control)\n",
    "    'attention-induction incongruent data files'\n",
    "    F1_aiincntrl= diffs[sub,2][harmo,:] # F1 induction (ai-incongruent)\n",
    "    F2_aiinc = diffs[sub,3][harmo,:]# F2 \n",
    "\n",
    "    F1_combs[0,:] = F1_aic\n",
    "    F1_combs[1,:] = F1_aiincntrl\n",
    "\n",
    "    F2_combs[0,:] = F2_aicntrl\n",
    "    F2_combs[1,:] = F2_aiinc\n",
    "\n",
    "    ssrp_Diffs_All_F1[sub:sub+2,:] = F1_combs\n",
    "    ssrp_Diffs_All_F2[sub:sub+2,:] = F2_combs\n"
   ]
  },
  {
   "cell_type": "code",
   "execution_count": 80,
   "metadata": {},
   "outputs": [
    {
     "name": "stdout",
     "output_type": "stream",
     "text": [
      "(16, 6)\n"
     ]
    }
   ],
   "source": [
    "print(ssrp_Diffs_All_F1.shape)\n",
    "\n",
    "f1_m = np.nanmean(ssrp_Diffs_All_F1,axis = 0)\n",
    "f2_m = np.nanmean(ssrp_Diffs_All_F2,axis = 0)\n",
    "\n",
    "stds_F1 = (np.nanstd(ssrp_Diffs_All_F1,axis = (0))) / sqr_root\n",
    "stds_F2 = (np.nanstd(ssrp_Diffs_All_F2,axis = (0))) / sqr_root\n"
   ]
  },
  {
   "cell_type": "code",
   "execution_count": 81,
   "metadata": {},
   "outputs": [
    {
     "data": {
      "text/plain": [
       "<matplotlib.legend.Legend at 0x221b28a8090>"
      ]
     },
     "execution_count": 81,
     "metadata": {},
     "output_type": "execute_result"
    },
    {
     "data": {
      "image/png": "[encoded data removed]",
      "text/plain": [
       "<Figure size 500x500 with 1 Axes>"
      ]
     },
     "metadata": {},
     "output_type": "display_data"
    }
   ],
   "source": [
    "fig,axs = plt.subplots(figsize = (5,5), squeeze=True)\n",
    "plt.suptitle(f'Average SSRP, ~Attention Dependent', fontsize  = 18)\n",
    "\n",
    "axs.plot(f1_m, color = colors[0], label = 'Left Hemi', linewidth = 3)\n",
    "axs.errorbar(x = np.arange(0,6,1),y = f1_m, yerr = stds_F1,  color = colors[0])\n",
    "\n",
    "\n",
    "axs.plot(f2_m, color = colors[2], label = 'Right Hemi', linewidth = 3)\n",
    "axs.errorbar(x = np.arange(0,6,1),y = f2_m, yerr = stds_F2, color = colors[2])\n",
    "\n",
    "\n",
    "axs.hlines(0,xmin = 0,xmax = 5, color = 'black')\n",
    "axs.legend(loc = 'lower right', fontsize = 18)"
   ]
  },
  {
   "cell_type": "code",
   "execution_count": 82,
   "metadata": {},
   "outputs": [],
   "source": [
    "# sn = 10\n",
    "# F1_combs = np.zeros((2,6))\n",
    "# F2_combs = np.zeros_like(F1_combs)\n",
    "\n",
    "# 'attention induction congruent data flies'\n",
    "# F1_aic = diffs[sn,0][harmo,:] # F1 induction (ai congruent)\n",
    "# F2_aicntrl = diffs[sn,1][harmo,:] # F2  (control)\n",
    "# 'attention-induction incongruent data files'\n",
    "# F1_aiincntrl= diffs[sn,2][harmo,:] # F1 induction (ai-incongruent)\n",
    "# F2_aiinc = diffs[sn,3][harmo,:]# F2 \n",
    "\n",
    "# F1_combs[0,:] = F1_aic\n",
    "# F1_combs[1,:] = F1_aiincntrl\n",
    "\n",
    "# F2_combs[0,:] = F2_aicntrl\n",
    "# F2_combs[1,:] = F2_aiinc"
   ]
  },
  {
   "cell_type": "markdown",
   "metadata": {},
   "source": [
    "#### Save Data into .pkl file"
   ]
  },
  {
   "cell_type": "code",
   "execution_count": 83,
   "metadata": {},
   "outputs": [],
   "source": [
    "# dataOut = {}\n",
    "\n",
    "# dataOut[0] = SessDataOut\n",
    "# dataOut[1] = SingleSessDataOut"
   ]
  },
  {
   "cell_type": "code",
   "execution_count": 84,
   "metadata": {},
   "outputs": [
    {
     "name": "stdout",
     "output_type": "stream",
     "text": [
      "Did Not Save File! Change file name before switching to y!\n"
     ]
    }
   ],
   "source": [
    "saveFile = 'n'\n",
    "\n",
    "if saveFile == 'y':\n",
    " with open(NewFileNPath, 'wb') as file:\n",
    "    pkl.dump(dataOut, file, protocol=pkl.HIGHEST_PROTOCOL)\n",
    "    print('Sorted Data Saved! :))')\n",
    "else:\n",
    "    print('Did Not Save File! Change file name before switching to y!')"
   ]
  }
 ],
 "metadata": {
  "kernelspec": {
   "display_name": "base",
   "language": "python",
   "name": "python3"
  },
  "language_info": {
   "codemirror_mode": {
    "name": "ipython",
    "version": 3
   },
   "file_extension": ".py",
   "mimetype": "text/x-python",
   "name": "python",
   "nbconvert_exporter": "python",
   "pygments_lexer": "ipython3",
   "version": "3.11.9"
  }
 },
 "nbformat": 4,
 "nbformat_minor": 2
}
