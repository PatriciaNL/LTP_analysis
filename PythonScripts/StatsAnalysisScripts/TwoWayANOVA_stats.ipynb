{
 "cells": [
  {
   "cell_type": "markdown",
   "metadata": {},
   "source": [
    "## STEP ONE OF STATS ANALYSIS FROM PROCESSED DATA PIPELINE"
   ]
  },
  {
   "cell_type": "markdown",
   "metadata": {},
   "source": [
    "#### This script imports CRF data and sorts each participants data in a dataframe, appends them all together an then 2 Way ANOVA Model is computed with this dataframe."
   ]
  },
  {
   "cell_type": "code",
   "execution_count": 30,
   "metadata": {},
   "outputs": [],
   "source": [
    "# load packages\n",
    "import numpy as np \n",
    "from scipy.io   import  loadmat\n",
    "from scipy import stats\n",
    "import pandas as pd\n",
    "import os\n",
    "import matplotlib.pyplot as plt #import matplotlib as plt\n",
    "from scipy.optimize import curve_fit \n",
    "import seaborn as sns #import mat73\n",
    "import pickle as pkl\n",
    "from datetime import datetime\n",
    "import statsmodels.api as sm \n",
    "from statsmodels.formula.api import ols"
   ]
  },
  {
   "cell_type": "markdown",
   "metadata": {},
   "source": [
    "#### import and set actual anova params"
   ]
  },
  {
   "cell_type": "code",
   "execution_count": 31,
   "metadata": {},
   "outputs": [
    {
     "name": "stdout",
     "output_type": "stream",
     "text": [
      "Files on hand: ['AllCondCRF_AllSess_pnlApp_20240314_1235.mat', 'AllCondCRF_AllSess_pnlApp_20240314_1235.pkl', 'AllCondCRF_AllSess_pnlApp_20240314_1237.mat', 'AllCondCRF_AllSess_pnlApp_20240314_1237.pkl', 'Clean_LTPData_20240313_1457.pkl', 'Clean_LTPData_firingrate_20240314_1400.pkl']\n",
      "Current WD: C:\\plimon\\LTP_analysis\\RCA_F1\\AvgCRFs\\Clean_LTPData_firingrate_20240314_1400.pkl\n",
      "Does File #1 Exist? True\n"
     ]
    }
   ],
   "source": [
    "# Main Directory of processed file from MatLab\n",
    "#MainDir = 'D:\\\\AttnXV3_analysis\\\\RCA_F1\\\\AvgCRFs\\\\' # set dir\n",
    "MainDir = 'C:\\\\plimon\\\\LTP_analysis\\\\RCA_F1\\\\AvgCRFs\\\\' # set dir\n",
    "os.chdir(MainDir) # change old dir, to this dir\n",
    "d = os.listdir(MainDir) # list files in dir\n",
    "print(f'Files on hand: {d}')\n",
    "##############################################\n",
    "FileN = d[-1] # choose one                        \n",
    "file_path1 = os.path.join(MainDir, FileN) # join paths and prep 2 load\n",
    "print('Current WD:',file_path1) # does path exist ... ?\n",
    "print('Does File #1 Exist?',os.path.exists(file_path1)) # yes or no"
   ]
  },
  {
   "cell_type": "code",
   "execution_count": 32,
   "metadata": {},
   "outputs": [
    {
     "name": "stdout",
     "output_type": "stream",
     "text": [
      "dict_keys(['crf', 'resp_diffs', 'mod_crf', 'coSubNames', 'ConditionLabels', 'ContLevs', 'ContLabs'])\n"
     ]
    }
   ],
   "source": [
    "loadData = pkl.load(open(file_path1,'rb'))\n",
    "print(loadData.keys())"
   ]
  },
  {
   "cell_type": "code",
   "execution_count": 33,
   "metadata": {},
   "outputs": [
    {
     "name": "stdout",
     "output_type": "stream",
     "text": [
      "['attnL F1', 'attnL F2', 'attnR F1', 'attnR F2']\n"
     ]
    }
   ],
   "source": [
    "data = loadData['resp_diffs']\n",
    "SubNames = loadData['coSubNames']\n",
    "data_labels = loadData['ConditionLabels']\n",
    "contrast_levels = loadData['ContLevs']\n",
    "contrast_labs = loadData['ContLabs']\n",
    "print(data_labels) # labels for nr plots"
   ]
  },
  {
   "cell_type": "markdown",
   "metadata": {},
   "source": [
    "#### Stack all condition differences for 1 subject - make into a function"
   ]
  },
  {
   "cell_type": "code",
   "execution_count": 34,
   "metadata": {},
   "outputs": [],
   "source": [
    "NumBins = 6 # number of contrasts\n",
    "NumHarms = 2 # number of harmonic data: 2F1, 4F1\n",
    "NumComp = 0 # first component from RCA\n",
    "NumConds = 4"
   ]
  },
  {
   "cell_type": "markdown",
   "metadata": {},
   "source": [
    "#### Uniform Vars:"
   ]
  },
  {
   "cell_type": "code",
   "execution_count": 35,
   "metadata": {},
   "outputs": [],
   "source": [
    "## CONTRAST\n",
    "c_levels = np.arange(NumBins)\n",
    "ContrastArr = np.hstack((c_levels,c_levels)) # contrast ind col for df\n"
   ]
  },
  {
   "cell_type": "code",
   "execution_count": 36,
   "metadata": {},
   "outputs": [],
   "source": [
    "## HARMONIC \n",
    "HarmArr = np.zeros(NumBins*NumHarms)\n",
    "for hi in range(NumHarms):\n",
    "    s = (hi)+((NumBins-1)*hi)\n",
    "    e = ((hi+1)*NumBins)\n",
    "    HarmArr[s:e] = int(hi) # harmonic ind col for df"
   ]
  },
  {
   "cell_type": "markdown",
   "metadata": {},
   "source": [
    "#### Get Dynamic Vars per cond and save into array"
   ]
  },
  {
   "cell_type": "code",
   "execution_count": 55,
   "metadata": {},
   "outputs": [],
   "source": [
    "def MakeDataLogs(NumBins, NumHarms, ContrastArr,HarmArr, dIn,costrIn, snIn, conditionFile):\n",
    "    dIn = data[conditionFile]\n",
    "    # print(dIn.shape) \n",
    "    costrIn = data_labels[conditionFile]\n",
    "    snIn = SubNames[conditionFile]\n",
    "    \n",
    "    strCatch = ' '\n",
    "    if strCatch in costrIn:\n",
    "        attninf = costrIn.split(strCatch)[0] #  set attnX ind\n",
    "        FreqFiltInf = costrIn.split(strCatch)[1] #  set freq filt ind\n",
    "    # get attnX index, attnL == 1, attnR == 0\n",
    "        if attninf == 'attnL':\n",
    "            AttnXArr = np.ones((NumBins*NumHarms))\n",
    "        elif attninf == 'attnR':\n",
    "            AttnXArr = np.zeros((NumBins*NumHarms))\n",
    "    # get freq filt index, attnL == 1, attnR == 0\n",
    "        if FreqFiltInf == 'F1':\n",
    "            FreqFiltArr = np.ones((NumBins*NumHarms))\n",
    "        elif FreqFiltInf == 'F2':\n",
    "            FreqFiltArr =  np.zeros((NumBins*NumHarms))\n",
    "\n",
    "    print(f'{attninf},{AttnXArr}')\n",
    "    print(f'{FreqFiltInf}{FreqFiltArr}')\n",
    "    \n",
    "    DataLogs = {}\n",
    "\n",
    "    for su in range(len(snIn)):\n",
    "        SubjDataLog = np.zeros((NumBins*NumHarms,6))\n",
    "        \n",
    "        sID = snIn[su]\n",
    "        sVals = dIn[su,:]\n",
    "        # fill array w data\n",
    "        SubjDataLog[:,0] = sID # SUBJ id \n",
    "        SubjDataLog[:,1] =  AttnXArr # attention \n",
    "        SubjDataLog[:,2] = FreqFiltArr# FreqFilt (freq tagged contrast (hi / low))\n",
    "        SubjDataLog[:,3] = HarmArr # Harmonic \n",
    "        SubjDataLog[:,4] =  ContrastArr# Contrast ind\n",
    "        SubjDataLog[:,5] = sVals\n",
    "\n",
    "        DataLogs[su] = SubjDataLog\n",
    "\n",
    "    return DataLogs\n"
   ]
  },
  {
   "cell_type": "code",
   "execution_count": 59,
   "metadata": {},
   "outputs": [
    {
     "name": "stdout",
     "output_type": "stream",
     "text": [
      "attnL,[1. 1. 1. 1. 1. 1. 1. 1. 1. 1. 1. 1.]\n",
      "F1[1. 1. 1. 1. 1. 1. 1. 1. 1. 1. 1. 1.]\n",
      "\n",
      "attnL,[1. 1. 1. 1. 1. 1. 1. 1. 1. 1. 1. 1.]\n",
      "F2[0. 0. 0. 0. 0. 0. 0. 0. 0. 0. 0. 0.]\n",
      "\n",
      "attnR,[0. 0. 0. 0. 0. 0. 0. 0. 0. 0. 0. 0.]\n",
      "F1[1. 1. 1. 1. 1. 1. 1. 1. 1. 1. 1. 1.]\n",
      "\n",
      "attnR,[0. 0. 0. 0. 0. 0. 0. 0. 0. 0. 0. 0.]\n",
      "F2[0. 0. 0. 0. 0. 0. 0. 0. 0. 0. 0. 0.]\n",
      "\n"
     ]
    }
   ],
   "source": [
    "DataLogsperCond = {}\n",
    "\n",
    "for co in range(NumConds):\n",
    "    DataLogsperCond[co] = MakeDataLogs(NumBins,NumHarms,ContrastArr,HarmArr,dIn=data,costrIn=data_labels,snIn = SubNames,conditionFile = int(co))\n",
    "    print()"
   ]
  },
  {
   "cell_type": "code",
   "execution_count": 100,
   "metadata": {},
   "outputs": [],
   "source": [
    "coLogs = {}\n",
    "for co in range(NumConds):\n",
    "\n",
    "    dfs_In = DataLogsperCond[co]\n",
    "    coLogs[co] = np.concatenate ([dfs_In[key] for key in dfs_In], axis = 0)\n"
   ]
  },
  {
   "cell_type": "code",
   "execution_count": 105,
   "metadata": {},
   "outputs": [],
   "source": [
    "Log = np.concatenate ([coLogs[key] for key in coLogs], axis = 0)"
   ]
  },
  {
   "cell_type": "code",
   "execution_count": 106,
   "metadata": {},
   "outputs": [
    {
     "name": "stdout",
     "output_type": "stream",
     "text": [
      "(1236, 6)\n"
     ]
    }
   ],
   "source": [
    "print(Log.shape)"
   ]
  },
  {
   "cell_type": "code",
   "execution_count": null,
   "metadata": {},
   "outputs": [],
   "source": []
  },
  {
   "cell_type": "code",
   "execution_count": null,
   "metadata": {},
   "outputs": [],
   "source": []
  },
  {
   "cell_type": "code",
   "execution_count": null,
   "metadata": {},
   "outputs": [],
   "source": [
    "RowPop = NumBins * NumHarms * NumConds # 6 x 2 x 4\n",
    "SubRows = NumBins*NumHarms\n",
    "ContrastInd = np.arange(0,NumBins)\n",
    "ContrastArr = np.arange(RowPop) % NumBins"
   ]
  },
  {
   "cell_type": "code",
   "execution_count": null,
   "metadata": {},
   "outputs": [],
   "source": [
    "AttnXArr = np.zeros((RowPop))\n",
    "FreqFiltArr = np.zeros((RowPop))\n",
    "HarmArr = np.zeros((RowPop))\n",
    "# load subject response differnces across conditions"
   ]
  },
  {
   "cell_type": "code",
   "execution_count": null,
   "metadata": {},
   "outputs": [],
   "source": [
    "for co in range(NumConds):\n",
    "    HarmArr[(co*SubRows):(co+1)*SubRows]  = [0] * NumBins + [1] * NumBins # index harmonic data:  2F / 4F \n",
    "\n",
    "for co in range(NumConds):\n",
    "    if co == 0 or co == 1: # Index if Data is AttnL or AttnR\n",
    "        AttnXArr[(co*SubRows):(co+1)*(SubRows)] = 0\n",
    "    else:\n",
    "        AttnXArr[(co*SubRows):(co+1)*(SubRows)] = 1\n",
    "\n",
    "for co in range(NumConds):\n",
    "    if co % 2:          # Index what data was F1 = 6 Hz or F2 = 7.5 Hz \n",
    "        FreqFiltArr[(co*SubRows):(co+1)*SubRows] = [1]*SubRows\n",
    "    else:\n",
    "        FreqFiltArr[(co*SubRows):(co+1)*SubRows] = [0]*SubRows"
   ]
  },
  {
   "cell_type": "code",
   "execution_count": null,
   "metadata": {},
   "outputs": [],
   "source": [
    "def MakeDataFramePerSubject(RowPop,SubRows,ContrastArr,AttnXArr,FreqFiltArr,HarmArr,NumConds,soi, dictIn):\n",
    "    SubjArr = [soi] * RowPop # Subject label\n",
    "    ValArr = np.zeros((RowPop)) # INDEPENDENT VARIABLE 12 x 4  = 48 rows per val\n",
    "    # load subject response differnces across conditions\n",
    "    for co in range(NumConds):\n",
    "        dIn = dictIn[co][soi,:] \n",
    "        ValArr[(co*SubRows):(co+1)*SubRows] = dIn # Sort Data Values \n",
    "    \n",
    "    dataOut = {'Subj': SubjArr,\n",
    "               \n",
    "                'AttnX': AttnXArr, # done \n",
    "                'FreqFilt': FreqFiltArr, # done \n",
    "                'Harmonic': HarmArr, # done\n",
    "                'Contrast': ContrastArr, # done \n",
    "\n",
    "                'Vals': ValArr}\n",
    "    df = pd.DataFrame(dataOut)\n",
    "    return df"
   ]
  },
  {
   "cell_type": "code",
   "execution_count": null,
   "metadata": {},
   "outputs": [],
   "source": [
    "Sub_df = {}\n",
    "for su in range(NumSubs):\n",
    "    Sub_df[su]= MakeDataFramePerSubject(RowPop,SubRows,ContrastArr,AttnXArr,FreqFiltArr,HarmArr,NumConds,soi=su,dictIn=data)"
   ]
  },
  {
   "cell_type": "code",
   "execution_count": null,
   "metadata": {},
   "outputs": [],
   "source": [
    "Sub_df[21] # sanity check "
   ]
  },
  {
   "cell_type": "code",
   "execution_count": null,
   "metadata": {},
   "outputs": [],
   "source": [
    "anova_array = np.zeros((RowPop*NumSubs,6))\n",
    "print(anova_array.shape)\n",
    "\n",
    "headerArr =list(Sub_df[0].columns.values)\n",
    "print(headerArr)"
   ]
  },
  {
   "cell_type": "markdown",
   "metadata": {},
   "source": [
    "#### Save everyones dataframe into a big one"
   ]
  },
  {
   "cell_type": "code",
   "execution_count": null,
   "metadata": {},
   "outputs": [],
   "source": [
    "for su in range(NumSubs):\n",
    "    aIn = np.array(Sub_df[su])\n",
    "    anova_array[(RowPop*su):(RowPop*(su+1)),:] = aIn"
   ]
  },
  {
   "cell_type": "markdown",
   "metadata": {},
   "source": [
    "#### Add header labels necessary for ANOVA"
   ]
  },
  {
   "cell_type": "code",
   "execution_count": null,
   "metadata": {},
   "outputs": [],
   "source": [
    "anova_df = pd.DataFrame(anova_array, columns = headerArr)"
   ]
  },
  {
   "cell_type": "markdown",
   "metadata": {},
   "source": [
    "#### Vis Sanity Check for data frame"
   ]
  },
  {
   "cell_type": "code",
   "execution_count": null,
   "metadata": {},
   "outputs": [],
   "source": [
    "anova_df"
   ]
  },
  {
   "cell_type": "markdown",
   "metadata": {},
   "source": [
    "#### Run ANOVA"
   ]
  },
  {
   "cell_type": "code",
   "execution_count": null,
   "metadata": {},
   "outputs": [],
   "source": [
    "#perform two-way ANOVA\n",
    "one_way_interactions = ols('Vals ~ C(AttnX) + C(FreqFilt) + C(Harmonic)+ C(Contrast)+  C(FreqFilt):C(Harmonic)', data=anova_df).fit()\n",
    "sm.stats.anova_lm(one_way_interactions, typ=2)\n",
    "# can take into account if model can account for subject \n",
    "# can model compre within participant - ie: one subjs f anf f2 data are compared withing - paried comparision "
   ]
  }
 ],
 "metadata": {
  "kernelspec": {
   "display_name": "Python 3",
   "language": "python",
   "name": "python3"
  },
  "language_info": {
   "codemirror_mode": {
    "name": "ipython",
    "version": 3
   },
   "file_extension": ".py",
   "mimetype": "text/x-python",
   "name": "python",
   "nbconvert_exporter": "python",
   "pygments_lexer": "ipython3",
   "version": "3.11.8"
  }
 },
 "nbformat": 4,
 "nbformat_minor": 2
}
