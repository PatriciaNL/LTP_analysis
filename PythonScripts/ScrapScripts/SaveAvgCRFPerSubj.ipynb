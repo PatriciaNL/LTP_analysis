{
 "cells": [
  {
   "cell_type": "markdown",
   "metadata": {},
   "source": [
    "## STEP TWO OF DATA PROCESSING PIPELINE - nm"
   ]
  },
  {
   "cell_type": "markdown",
   "metadata": {},
   "source": [
    "#### This script saves the Average Contrast Response Function for each subject, all data is saved as a 12 x 2 array.\n",
    "#### * Can Compute and Save: [*Saturation Level Adjustments (No SuperSat)], [*Average CRF For all Subjects], and [*Original CRF's]"
   ]
  },
  {
   "cell_type": "markdown",
   "metadata": {},
   "source": [
    "###### Data Out Format: \n",
    "###### [0:6,:]  = 2F1 , [6:,:] = 4F2\n",
    "###### [:,0] = Pre Induction EEG, [:,1] = Post Induction EEG"
   ]
  },
  {
   "cell_type": "code",
   "execution_count": 1,
   "metadata": {},
   "outputs": [],
   "source": [
    "# load packages\n",
    "import numpy as np \n",
    "import scipy.io\n",
    "from scipy.io   import  loadmat\n",
    "import pandas as pd\n",
    "import os\n",
    "import matplotlib.pyplot as plt #import matplotlib as plt\n",
    "from scipy.optimize import curve_fit \n",
    "import seaborn as sns #import mat73\n",
    "import pickle as pkl\n",
    "from datetime import datetime"
   ]
  },
  {
   "cell_type": "markdown",
   "metadata": {},
   "source": [
    "### Set Dir Path(s): MainDir, SaveDataDir"
   ]
  },
  {
   "cell_type": "code",
   "execution_count": 2,
   "metadata": {},
   "outputs": [
    {
     "name": "stdout",
     "output_type": "stream",
     "text": [
      "Current WD: C:\\plimon\\LTP_analysis\\RCA_F1\\RCA\\rcaResults_Sweep_contrast_sweeps_F1.mat\n",
      "Does Path Exist? True\n"
     ]
    }
   ],
   "source": [
    "# Main Directory of processed file from MatLab\n",
    "#MainDir = 'D:\\\\AttnXV3_analysis\\\\RCA_F1\\\\RCA\\\\' # set dir\n",
    "MainDir = 'C:\\\\plimon\\\\LTP_analysis\\\\RCA_F1\\\\RCA\\\\' # set dir\n",
    "os.chdir(MainDir) # change old dir, to this dir\n",
    "d = os.listdir(MainDir) # list files in dir\n",
    "##############################################\n",
    "FileN = (d[0]) # choose one                         \n",
    "file_path = os.path.join(MainDir, FileN) # join paths and prep 2 load\n",
    "print('Current WD:',file_path) # does path exist ... ?\n",
    "print('Does Path Exist?',os.path.exists(file_path)) # yes or no"
   ]
  },
  {
   "cell_type": "code",
   "execution_count": 3,
   "metadata": {},
   "outputs": [
    {
     "name": "stdout",
     "output_type": "stream",
     "text": [
      "Full New File Dir:  C:\\LTP_analysis\\RCA_F1\\AvgCRFs\\AverageCRF_20240228_160820.pkl\n"
     ]
    }
   ],
   "source": [
    "# Save Data Dir ...\n",
    "# SaveDataDir = 'D:\\\\AttnXV3_analysis\\\\RCA_F1\\\\AvgCRFs\\\\' # set dir where files (.pkl, .csv) will be saved\n",
    "SaveDataDir = 'C:\\\\LTP_analysis\\\\RCA_F1\\\\AvgCRFs\\\\'\n",
    "FileOutName = 'AverageCRF' # make sure this file changes each time you save\n",
    "######################################################\n",
    "dnt = datetime.now() # add date and time bc im wreckless when saving ..\n",
    "fdnt = dnt.strftime(\"%Y%m%d_%H%M%S\") # set the above as a string ...\n",
    "FileN = f'{FileOutName}_{fdnt}.pkl' \n",
    "#FileNToMatlab = f'{FileOutName}_{fdnt}.h5' \n",
    "#FileN = f'{FileOutName}_{fdnt}.csv' \n",
    "NewFileNPath = os.path.join(SaveDataDir,FileN)\n",
    "#MatLabFilePath = os.path.join(SaveDataDir, FileNToMatlab)\n",
    "print('Full New File Dir: ', NewFileNPath)\n",
    "#print('Full New File Dir: ', MatLabFilePath)"
   ]
  },
  {
   "cell_type": "markdown",
   "metadata": {},
   "source": [
    "### Set Some Basic Struct Params"
   ]
  },
  {
   "cell_type": "code",
   "execution_count": 4,
   "metadata": {},
   "outputs": [],
   "source": [
    "NumBins = 6 # number of contrasts\n",
    "NumHarms = 2 # number of harmonic data: 2F1, 4F1\n",
    "NumComp = 0 # first component from RCA\n",
    "contrast_levels=np.array([1, 3, 5, 16, 40, 100])\n",
    "contrast_levels_labs=['1%', '3%', '5%', '16%', '40%', '100%']"
   ]
  },
  {
   "cell_type": "markdown",
   "metadata": {},
   "source": [
    "### Some Functions"
   ]
  },
  {
   "cell_type": "code",
   "execution_count": 5,
   "metadata": {},
   "outputs": [],
   "source": [
    "def CleanRCA(x): \n",
    "    \"\"\"\n",
    "    Data In : data array\n",
    "    Replace 0's in data with nan's\n",
    "    \"\"\"\n",
    "    x[x == 0] = np.nan\n",
    "    return x\n",
    "################################################################################\n",
    "def CombineRealImg(x, NumHarms):\n",
    "    \"\"\"\n",
    "    Comine real and imaginary numbers, only 1st component\n",
    "    For average across pre and post\n",
    "    \"\"\"\n",
    "    [NumCols, NumTrials] = np.shape(x) # 24 x 78-80\n",
    "    DomainCutoff = int(NumCols/NumHarms) # use to index cutoff  - float -> int\n",
    "    CondCutoff = int(NumTrials/2) # 39 - 40 depends...\n",
    "    pre = x[:,:CondCutoff] # 24 x 39 - 40 depends ...\n",
    "    post = x[:,CondCutoff:]\n",
    "    AmpPerBin = np.ones((DomainCutoff,NumHarms)) # [bins (2f1 then 4f1)] X [pre /post] \\ 12 x 2\n",
    "    for RowInd in range(DomainCutoff):\n",
    "        ################ combining data generated from real and imaginary comp (1st half of cols and last half)\n",
    "        AmpPerBin[RowInd,0] = np.hypot(np.nanmean(pre[RowInd,:]),np.nanmean(pre[RowInd+DomainCutoff,:])) # 12 x 78 PRE\n",
    "        AmpPerBin[RowInd,1] = np.hypot(np.nanmean(post[RowInd,:]),np.nanmean(post[RowInd+DomainCutoff,:])) # 12 x 78 POST\n",
    "    return AmpPerBin # single array output\n",
    "###########################################################################################################################\n",
    "def FixSaturation(x,NumBins,NumSubs,start,end,col):\n",
    "    \"\"\"\n",
    "    Fix SuperSaturation towards the higher contrasts \n",
    "    by setting those lower values to the max response before\n",
    "    this dip occurs \n",
    "    \"\"\"\n",
    "    r1 = start\n",
    "    r2 = end\n",
    "    cond = col \n",
    "    d = np.zeros((NumSubs,NumBins))\n",
    "    pos_rec = []\n",
    "    for i in range(NumSubs):\n",
    "        dataIn = x[i][r1:r2,cond] \n",
    "        dataOut = np.zeros((1,NumBins))\n",
    "        maxpos = np.argmax(dataIn, axis = 0)\n",
    "        pos_rec.append(maxpos)\n",
    "        maxamp = dataIn[maxpos]\n",
    "        if maxpos < NumBins:\n",
    "            dataOut[0,:maxpos] =  dataIn[:maxpos]\n",
    "            dataOut[0,maxpos:] = maxamp\n",
    "            d[i,:] = dataOut\n",
    "        else:\n",
    "            d[i,:]  = dataIn\n",
    "    return d, pos_rec"
   ]
  },
  {
   "cell_type": "markdown",
   "metadata": {},
   "source": [
    "### Load Data"
   ]
  },
  {
   "cell_type": "code",
   "execution_count": 6,
   "metadata": {},
   "outputs": [],
   "source": [
    "mat_data = scipy.io.loadmat(file_path)\n",
    "rca = mat_data['rcaResult']['projectedData'][0,0]\n",
    "rcaData = [rca[i,0] for i in range(rca.shape[0])] # final data output"
   ]
  },
  {
   "cell_type": "markdown",
   "metadata": {},
   "source": [
    "#### Load Subj Names (later: and Create an Index for left and right)"
   ]
  },
  {
   "cell_type": "code",
   "execution_count": null,
   "metadata": {},
   "outputs": [],
   "source": [
    "# load subject names \n",
    "SubNames = mat_data['rcaResult'][0,0][5]\n",
    "FileName = [x[0][3:] for subjlist in SubNames for x in subjlist[0][2][0]]\n",
    "print(len(FileName))\n",
    "print(FileName[0])"
   ]
  },
  {
   "cell_type": "markdown",
   "metadata": {},
   "source": [
    "### Set 0's to NaN's"
   ]
  },
  {
   "cell_type": "code",
   "execution_count": null,
   "metadata": {},
   "outputs": [],
   "source": [
    "data = dict()\n",
    "for k in range(len(rcaData)):\n",
    "    data[k] = CleanRCA(rcaData[k])\n",
    "NumSubs = int(len(data.keys()))"
   ]
  },
  {
   "cell_type": "markdown",
   "metadata": {},
   "source": [
    "### Combine Real and Imaginary Numbers on Average for Each Data File"
   ]
  },
  {
   "cell_type": "markdown",
   "metadata": {},
   "source": [
    "## Save Option #1 - Original Contrast Response Functions : avgCRF"
   ]
  },
  {
   "cell_type": "code",
   "execution_count": null,
   "metadata": {},
   "outputs": [],
   "source": [
    "avgCRF = dict()\n",
    "for i in range(NumSubs):\n",
    "    dataIn = data[i][:,NumComp,:] # only for 1st rca component\n",
    "    avgCRF[i] = CombineRealImg(dataIn,NumHarms)"
   ]
  },
  {
   "cell_type": "markdown",
   "metadata": {},
   "source": [
    "## Save Option #2 - Fix Super/Saturation that Occurs Near the High Contrasts : avgCRF_1"
   ]
  },
  {
   "cell_type": "code",
   "execution_count": null,
   "metadata": {},
   "outputs": [],
   "source": [
    "pre1, pr1 = FixSaturation(avgCRF,NumBins,NumSubs,0,6,0) # [55 x 6] ~ [NumSubs x Contrast]\n",
    "post1, pr2 = FixSaturation(avgCRF,NumBins,NumSubs,0,6,1) \n",
    "pre2, pr3 = FixSaturation(avgCRF,NumBins,NumSubs,6,12,0)\n",
    "post2, pr4 = FixSaturation(avgCRF,NumBins,NumSubs,6,12,1)"
   ]
  },
  {
   "cell_type": "code",
   "execution_count": null,
   "metadata": {},
   "outputs": [],
   "source": [
    "p1 = np.array(pr1)\n",
    "print(np.unique(contrast_levels[p1],return_counts = True))"
   ]
  },
  {
   "cell_type": "markdown",
   "metadata": {},
   "source": [
    "#### Visual for Confirmation"
   ]
  },
  {
   "cell_type": "code",
   "execution_count": null,
   "metadata": {},
   "outputs": [],
   "source": [
    "# visual of how data looks uncorrected / corrected\n",
    "sns.set_theme()\n",
    "fig, axs = plt.subplots(4,2,figsize = (10,20), sharey = True, sharex = False)\n",
    "for i in range(NumSubs):\n",
    "    axs[0,0].plot(avgCRF[i][0:6,0]) # pre 2f\n",
    "    axs[0,0].set_xticks(range(len(contrast_levels_labs)))\n",
    "    axs[0,0].set_xticklabels(contrast_levels_labs)\n",
    "\n",
    "    axs[1,0].plot(avgCRF[i][0:6,1]) #post 2f\n",
    "    axs[2,0].plot(avgCRF[i][6:,0]) # pre 4f\n",
    "    axs[3,0].plot(avgCRF[i][6:,1]) # post 4f\n",
    "    axs[0,1].plot(pre1[i,:])\n",
    "    axs[1,1].plot(post1[i,:])\n",
    "    axs[2,1].plot(pre2[i,:])\n",
    "    axs[2,1].set_xticks(range(len(contrast_levels_labs)))\n",
    "    axs[2,1].set_xticklabels(contrast_levels_labs)\n",
    "    axs[3,1].plot(post2[i,:])\n",
    "\n",
    "axs[0,0].set_title('Orignal Data 2F')\n",
    "axs[0,0].set_xlabel('Contrast %')\n",
    "axs[0,0].set_ylabel('Amplitude (mV)')\n",
    "axs[0,1].set_title('After Saturation Fix 4F')\n",
    "\n",
    "axs[1,0].set_title('Post 2F')\n",
    "axs[2,0].set_title('Pre 4F')\n",
    "axs[3,0].set_title('Post 4F')"
   ]
  },
  {
   "cell_type": "markdown",
   "metadata": {},
   "source": [
    "#### Save Data in the Format Other Scripts are Designed to Handle"
   ]
  },
  {
   "cell_type": "code",
   "execution_count": null,
   "metadata": {},
   "outputs": [],
   "source": [
    "avgCRF_1 = dict() # NumSubjs worth of keys()\n",
    "for ind in range(NumSubs):\n",
    "    apb = np.zeros((NumBins*2,NumHarms))  # [12x2] array\n",
    "    apb[:6,0] = pre1[ind,:]\n",
    "    apb[6:,0] = pre2[ind,:]\n",
    "    apb[:6,1] = post1[ind,:]\n",
    "    apb[6:,1] = post2[ind,:]\n",
    "    avgCRF_1[ind] = apb\n",
    "    #print(avgCRF[ind].shape) # [12 x 2]\n",
    "if (len(avgCRF_1.keys()) == NumSubs):\n",
    "    print(f'All {NumSubs} Subjects CRF Data Saved! :))')"
   ]
  },
  {
   "cell_type": "markdown",
   "metadata": {},
   "source": [
    "## Save Option #3 - Contrast Response Function Averaged - 12 x 2 array only"
   ]
  },
  {
   "cell_type": "code",
   "execution_count": null,
   "metadata": {},
   "outputs": [],
   "source": [
    "all_subjavgCRF = np.zeros((12,2))\n",
    "m1 = np.zeros((NumSubs,1))\n",
    "m2 = np.zeros((NumSubs,1))\n",
    "for bin in range(NumBins*2): # 6\n",
    "    for j in range(NumSubs): # 55\n",
    "        r1 = avgCRF[j][bin,0]\n",
    "        r2 = avgCRF[j][bin,1]\n",
    "        m1[j,0] = r1\n",
    "        m2[j,0] = r2\n",
    "    \n",
    "        avgcrf1 = np.mean(m1, axis = 0)\n",
    "        avgcrf2 = np.mean(m2, axis = 0)\n",
    "    all_subjavgCRF[bin,0] = avgcrf1\n",
    "    all_subjavgCRF[bin,1] = avgcrf2\n",
    "#print(all_subjavgCRF)\n",
    "print(f'All CRFs have been averaged! A {np.shape(all_subjavgCRF)} array is avilable to export')"
   ]
  },
  {
   "cell_type": "markdown",
   "metadata": {},
   "source": [
    "## Save Option #4 - NO SATURATION Contrast Response Function Averaged - 12 x 2 array only"
   ]
  },
  {
   "cell_type": "code",
   "execution_count": null,
   "metadata": {},
   "outputs": [],
   "source": [
    "all_subjavgCRF_NoSat = np.zeros((12,2))\n",
    "m1 = np.zeros((NumSubs,1))\n",
    "m2 = np.zeros((NumSubs,1))\n",
    "for bin in range(NumBins*2): # 6\n",
    "    for j in range(NumSubs): # 55\n",
    "        r1 = avgCRF_1[j][bin,0]\n",
    "        r2 = avgCRF_1[j][bin,1]\n",
    "        m1[j,0] = r1\n",
    "        m2[j,0] = r2\n",
    "    \n",
    "        avgcrf1 = np.mean(m1, axis = 0)\n",
    "        avgcrf2 = np.mean(m2, axis = 0)\n",
    "    all_subjavgCRF_NoSat[bin,0] = avgcrf1\n",
    "    all_subjavgCRF_NoSat[bin,1] = avgcrf2\n",
    "#print(all_subjavgCRF)\n",
    "print(f'All CRFs have been averaged! A {np.shape(all_subjavgCRF_NoSat)} array is avilable to export')"
   ]
  },
  {
   "cell_type": "code",
   "execution_count": null,
   "metadata": {},
   "outputs": [],
   "source": [
    "print(all_subjavgCRF_NoSat[0:6,0] == all_subjavgCRF[0:6,0])\n",
    "# just check if data is false as higher contrasts progress .. "
   ]
  },
  {
   "cell_type": "markdown",
   "metadata": {},
   "source": [
    "#### Quick Viz of avg crf"
   ]
  },
  {
   "cell_type": "code",
   "execution_count": null,
   "metadata": {},
   "outputs": [],
   "source": [
    "fig,axs = plt.subplots(1,2, figsize=(8,4), sharey=True)\n",
    "axs[0].plot(all_subjavgCRF[:6,0], color = 'black', label = 'pre 2f')\n",
    "axs[0].plot(all_subjavgCRF[:6,1], color = 'blue', label = 'post 2f')\n",
    "axs[1].plot(all_subjavgCRF[6:,0], color = 'black', label = 'pre 4f')\n",
    "axs[1].plot(all_subjavgCRF[6:,1], color = 'blue', label = 'post 4f')\n",
    "plt.suptitle('Average CRFs for all Participants')\n",
    "plt.legend()\n",
    "plt.show()\n",
    "\n",
    "fig,axs = plt.subplots(1,2, figsize=(8,4), sharey=True)\n",
    "axs[0].plot(all_subjavgCRF_NoSat[:6,0], color = 'black', label = 'pre 2f')\n",
    "axs[0].plot(all_subjavgCRF_NoSat[:6,1], color = 'blue', label = 'post 2f')\n",
    "axs[1].plot(all_subjavgCRF_NoSat[6:,0], color = 'black', label = 'pre 4f')\n",
    "axs[1].plot(all_subjavgCRF_NoSat[6:,1], color = 'blue', label = 'post 4f')\n",
    "plt.suptitle('Fixed Sat. Average CRFs for all Participants')\n",
    "plt.legend()\n",
    "plt.show()"
   ]
  },
  {
   "cell_type": "markdown",
   "metadata": {},
   "source": [
    "### Save Data! Choose One Array or Export All Data"
   ]
  },
  {
   "cell_type": "code",
   "execution_count": null,
   "metadata": {},
   "outputs": [],
   "source": [
    "ExportDataToFile = 'n' # dont gotta explain this one ...\n",
    "# all data into a single dict to export\n",
    "allData = {'OriginalCRF':avgCRF, # all crf's\n",
    "           'NoSatCRF'   :avgCRF_1, # fixed saturation crf's\n",
    "           'avgCRF'     :all_subjavgCRF, # single crf for all data files\n",
    "           'NoSatavgCRF':all_subjavgCRF_NoSat,\n",
    "           'FileNames'  :FileName} # single crf for all data files - super/saturation fixed\n",
    "\n",
    "# A few manners and options to save data\n",
    "if ExportDataToFile == 'y':\n",
    "    # 1: Save only 1 array of data 1 dict only .............\n",
    "    #pkl.dump(avgCRF, open(NewFileNPath,'wb')) # Orginal Uncorrected CRF's\n",
    "    #pkl.dump(avgCRF_1, open(NewFileNPath,'wb')) # Modified for Saturation\n",
    "\n",
    "    # 2: Save data as a csv file  1 dict only....................\n",
    "    #tpdta = list(zip(*avgCRF.values()))\n",
    "    #df = pd.DataFrame(tpdta, columns=avgCRF.keys())\n",
    "    #df.to_csv(NewFileNPath, index = False)\n",
    "\n",
    "    # 3: Save Mass Subj CRF as an Array ####\n",
    "    #df = pd.DataFrame(all_subjavgCRF)\n",
    "    #df.to_csv(NewFileNPath, index=False)\n",
    "\n",
    "    # 4: Save all the Data, original, corrected and averaged\n",
    "    #with h5py.File(MatLabFilePath, 'w') as hf:\n",
    "    #    for key, value in allData.items():\n",
    "    #        hf.create_dataset(key, data=value)\n",
    "\n",
    "    with open(NewFileNPath, 'wb') as file:\n",
    "        pkl.dump(allData, file)\n",
    "    print('Average CRF Saved! :))')\n",
    "else:\n",
    "    print('Did Not Save File! Change file name before switching to y!')"
   ]
  },
  {
   "cell_type": "markdown",
   "metadata": {},
   "source": [
    "#### For Later"
   ]
  },
  {
   "cell_type": "code",
   "execution_count": null,
   "metadata": {},
   "outputs": [],
   "source": [
    "##### Future Goals...!: \n",
    "##### 1.: Import Noise1 and Noise2 and compute that as the first level of contrast\n",
    "\n",
    "#NoiseLow = mat_data['rcaResult']['noiseData'][0,0][0,0][0]\n",
    "#nl = [NoiseLow[i,0] for i in range(NoiseLow.shape[0])]\n",
    "\n",
    "#NoiseHigh = mat_data['rcaResult']['noiseData'][0,0][0,0][1]\n",
    "#nh = [NoiseHigh[i,0] for i in range(NoiseHigh.shape[0])]"
   ]
  }
 ],
 "metadata": {
  "kernelspec": {
   "display_name": "base",
   "language": "python",
   "name": "python3"
  },
  "language_info": {
   "codemirror_mode": {
    "name": "ipython",
    "version": 3
   },
   "file_extension": ".py",
   "mimetype": "text/x-python",
   "name": "python",
   "nbconvert_exporter": "python",
   "pygments_lexer": "ipython3",
   "version": "3.11.8"
  }
 },
 "nbformat": 4,
 "nbformat_minor": 2
}
