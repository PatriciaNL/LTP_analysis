{
 "cells": [
  {
   "cell_type": "markdown",
   "metadata": {},
   "source": [
    "### **STEP TWO** OF DATA PROCESSING PIPELINE"
   ]
  },
  {
   "cell_type": "markdown",
   "metadata": {},
   "source": [
    "#### This script imports all data that we sorted in step one and visualizes the data for each participant. ideally, this script and its plots should be used to perform visual inspection and start determining if some data was too noisy to be included. This script exports average contrast response functions for each participant.\n",
    "\n",
    "### Upcoming goals 2/27/24: check if no saturation can be plotted"
   ]
  },
  {
   "cell_type": "code",
   "execution_count": 1,
   "metadata": {},
   "outputs": [],
   "source": [
    "# load packages\n",
    "import numpy as np \n",
    "import scipy.io\n",
    "from scipy.io   import  loadmat\n",
    "import pandas as pd\n",
    "import os\n",
    "import matplotlib.pyplot as plt #import matplotlib as plt\n",
    "from scipy.optimize import curve_fit \n",
    "import seaborn as sns #import mat73\n",
    "import pickle as pkl\n",
    "from datetime import datetime"
   ]
  },
  {
   "cell_type": "markdown",
   "metadata": {},
   "source": [
    "### Functions for Data Processing"
   ]
  },
  {
   "cell_type": "code",
   "execution_count": 2,
   "metadata": {},
   "outputs": [],
   "source": [
    "def CleanRCA(x): # replace 0's in data with nan's\n",
    "    x[x == 0] = np.nan\n",
    "    return x\n",
    "################################################################################\n",
    "# comine real and imaginary numbers, only 1st component - For average across pre and post\n",
    "def CombineRealImg(x, NumHarms):\n",
    "    [NumCols, NumTrials] = np.shape(x) # 24 x 78-80\n",
    "    DomainCutoff = int(NumCols/NumHarms) # use to index cutoff  - float -> int\n",
    "    CondCutoff = int(NumTrials/2) # 39 - 40 depends...\n",
    "    pre = x[:,:CondCutoff] # 24 x 39 - 40 depends ...\n",
    "    post = x[:,CondCutoff:]\n",
    "    AmpPerBin = np.ones((DomainCutoff,NumHarms)) # [bins (2f1 then 4f1)] X [pre /post] \\ 12 x 2\n",
    "    for RowInd in range(DomainCutoff):\n",
    "        ################ combining data generated from real and imaginary comp (1st half of cols and last half)\n",
    "        AmpPerBin[RowInd,0] = np.hypot(np.nanmean(pre[RowInd,:]),np.nanmean(pre[RowInd+DomainCutoff,:])) # 12 x 78 PRE\n",
    "        AmpPerBin[RowInd,1] = np.hypot(np.nanmean(post[RowInd,:]),np.nanmean(post[RowInd+DomainCutoff,:])) # 12 x 78 POST\n",
    "    return AmpPerBin # single array output"
   ]
  },
  {
   "cell_type": "code",
   "execution_count": 3,
   "metadata": {},
   "outputs": [],
   "source": [
    "NumBins = 6 # number of contrasts\n",
    "NumHarms = 2 # number of harmonic data: 2F1, 4F1\n",
    "NumComp = 0 # first component from RCA\n",
    "NumConds = 4\n",
    "dk_labs = ['attnL F1','attnL F2','attnR F1','attnR F2',]\n",
    "contrast_levels=np.array([1, 3, 5, 16, 40, 100])\n",
    "contrast_levels_labs=['1%', '3%', '5%', '16%', '40%', '100%']"
   ]
  },
  {
   "cell_type": "code",
   "execution_count": 4,
   "metadata": {},
   "outputs": [],
   "source": [
    "x = sns.color_palette(\"husl\", 8)\n",
    "y = sns.color_palette(\"hls\", 8)"
   ]
  },
  {
   "cell_type": "code",
   "execution_count": 5,
   "metadata": {},
   "outputs": [
    {
     "name": "stdout",
     "output_type": "stream",
     "text": [
      "Files on hand: ['AllRCAData_pnlApp_20240313_105950.pkl']\n",
      "Current WD: C:\\plimon\\LTP_analysis\\RCA_F1\\AllSubjSweepRCA\\AllRCAData_pnlApp_20240313_105950.pkl\n",
      "Does File #1 Exist? True\n"
     ]
    }
   ],
   "source": [
    "# Main Directory of processed file from MatLab\n",
    "# MainDir = 'D:\\\\AttnXV3_analysis\\\\RCA_F1\\\\AllSubjSweepRCA\\\\' # set dir\n",
    "MainDir = 'C:\\\\plimon\\\\LTP_analysis\\\\RCA_F1\\\\AllSubjSweepRCA\\\\' # set dir\n",
    "os.chdir(MainDir) # change old dir, to this dir\n",
    "d = os.listdir(MainDir) # list files in dir\n",
    "print(f'Files on hand: {d}')\n",
    "##############################################\n",
    "FileN = d[-1] # choose one                        \n",
    "file_path1 = os.path.join(MainDir, FileN) # join paths and prep 2 load\n",
    "print('Current WD:',file_path1) # does path exist ... ?\n",
    "print('Does File #1 Exist?',os.path.exists(file_path1)) # yes or no"
   ]
  },
  {
   "cell_type": "code",
   "execution_count": 6,
   "metadata": {},
   "outputs": [
    {
     "name": "stdout",
     "output_type": "stream",
     "text": [
      "Path to Save Figures is: C:\\plimon\\LTP_analysis\\TwoSessionPlots_LTP\\CRF_plots\n"
     ]
    }
   ],
   "source": [
    "# SaveFigDir = 'D:\\\\AttnXV3_analysis\\\\TwoSessionPlots_LTP\\\\'\n",
    "SaveFigDir = 'C:\\\\plimon\\\\LTP_analysis\\\\TwoSessionPlots_LTP\\\\'\n",
    "SubFoldName = 'CRF_plots' # can change folder name to add to another folder now\n",
    "newPath = os.path.join(SaveFigDir,SubFoldName)\n",
    "if not os.path.exists(newPath):\n",
    "    os.makedirs(newPath)\n",
    "print('Path to Save Figures is:',newPath)"
   ]
  },
  {
   "cell_type": "code",
   "execution_count": 7,
   "metadata": {},
   "outputs": [
    {
     "name": "stdout",
     "output_type": "stream",
     "text": [
      "dict_keys([0, 1])\n"
     ]
    }
   ],
   "source": [
    "loadData = pkl.load(open(file_path1, 'rb'))\n",
    "print(loadData.keys())"
   ]
  },
  {
   "cell_type": "code",
   "execution_count": 8,
   "metadata": {},
   "outputs": [
    {
     "name": "stdout",
     "output_type": "stream",
     "text": [
      "Data for double session subs\n",
      "dict_keys([0, 1, 2, 3, 'FullSessSubjNames', 'DataNotes'])\n",
      "Data for single session subs\n",
      "dict_keys([0, 1, 2, 3, 'AttnLSubNames', 'AttnRSubNames'])\n"
     ]
    }
   ],
   "source": [
    "print(f'Data for double session subs')\n",
    "print(loadData[0].keys())\n",
    "print(f'Data for single session subs')\n",
    "print(loadData[1].keys())"
   ]
  },
  {
   "cell_type": "markdown",
   "metadata": {},
   "source": [
    "### Extract Double Session Data + other important info"
   ]
  },
  {
   "cell_type": "code",
   "execution_count": 9,
   "metadata": {},
   "outputs": [],
   "source": [
    "TwoSessData = loadData[0]\n",
    "#print(loadData[0].keys())"
   ]
  },
  {
   "cell_type": "code",
   "execution_count": 10,
   "metadata": {},
   "outputs": [
    {
     "name": "stdout",
     "output_type": "stream",
     "text": [
      "dict_keys([0, 1, 2, 3])\n"
     ]
    }
   ],
   "source": [
    "SubName = TwoSessData['FullSessSubjNames'] # suject names\n",
    "NumSubs = int(len(SubName)) # number of participants \n",
    "txt = TwoSessData['DataNotes'] # notes from file imported\n",
    "data2s_inds = list(TwoSessData.keys())[0:4]\n",
    "data_2s = {key: TwoSessData[key] for key in data2s_inds}\n",
    "print(data_2s.keys())"
   ]
  },
  {
   "cell_type": "markdown",
   "metadata": {},
   "source": [
    "### Extract Single Session Data + other important info"
   ]
  },
  {
   "cell_type": "code",
   "execution_count": 11,
   "metadata": {},
   "outputs": [],
   "source": [
    "SingleSessData = loadData[1]\n",
    "#print(loadData[1].keys())"
   ]
  },
  {
   "cell_type": "code",
   "execution_count": 12,
   "metadata": {},
   "outputs": [
    {
     "name": "stdout",
     "output_type": "stream",
     "text": [
      "dict_keys([0, 1, 2, 3])\n",
      "['2660' '2708' '2715' '2716' '2727' '2733' '2734'] 7\n",
      "['2663' '2663' '2676' '2678' '2726'] 5\n"
     ]
    }
   ],
   "source": [
    "# import actual data \n",
    "data_1s_inds = list(SingleSessData.keys())[0:4]\n",
    "data_1s = {key: SingleSessData[key] for key in data_1s_inds}\n",
    "print(data_1s.keys())\n",
    "# Name subs who completed attnL only + counts\n",
    "attnLSubs = SingleSessData['AttnLSubNames']\n",
    "NumSubs_l = int(len(attnLSubs))\n",
    "print(attnLSubs, NumSubs_l)\n",
    "# Name subs who completed attnR only + counts\n",
    "attnRSubs = SingleSessData['AttnRSubNames']\n",
    "NumSubs_r = int(len(attnRSubs))\n",
    "print(attnRSubs, NumSubs_r)"
   ]
  },
  {
   "cell_type": "code",
   "execution_count": 13,
   "metadata": {},
   "outputs": [],
   "source": [
    "# SubName = loadData['FullSessSubjNames']\n",
    "# NumSubs = len(SubName)\n",
    "# txt = loadData['DataNotes']\n",
    "# print(txt)\n",
    "# ### ... import actual data ...###\n",
    "# data_inds = list(loadData.keys())[2:6]\n",
    "# print(data_inds)\n",
    "# data = {key: loadData[key] for key in data_inds}"
   ]
  },
  {
   "cell_type": "markdown",
   "metadata": {},
   "source": [
    "#### 1.1| Remove NaNs from RCA Data"
   ]
  },
  {
   "cell_type": "code",
   "execution_count": 14,
   "metadata": {},
   "outputs": [],
   "source": [
    "data_out = {} # double session subjects\n",
    "for data_set_ind in range(NumConds):\n",
    "    data_out[data_set_ind] = {}  # Initialize inner dictionary for data_set_ind\n",
    "    for i in range(NumSubs):\n",
    "        # a dict of 4 with XSubs dict keys of data\n",
    "        data_out[data_set_ind][i] = CleanRCA(np.array(data_2s[data_set_ind][i]))"
   ]
  },
  {
   "cell_type": "code",
   "execution_count": 15,
   "metadata": {},
   "outputs": [],
   "source": [
    "data_out_1Sess = {} # single session subjects\n",
    "for i in range(NumConds):\n",
    "    data_out_1Sess[i] = {}\n",
    "    if i == 0 or i == 1: \n",
    "        NSubs = NumSubs_l\n",
    "    else:\n",
    "        NSubs = NumSubs_r\n",
    "    for j in range(NSubs):\n",
    "        data_out_1Sess[i][j] = CleanRCA(np.array(data_1s[i][j]))"
   ]
  },
  {
   "cell_type": "markdown",
   "metadata": {},
   "source": [
    "#### 1.2| Combine Real and Imaginary Data and Save"
   ]
  },
  {
   "cell_type": "code",
   "execution_count": 16,
   "metadata": {},
   "outputs": [],
   "source": [
    "avgCRF = {} # double session subjects\n",
    "for co in range(NumConds):\n",
    "    avgCRF[co] = {}  # Initialize inner dictionary for data_set_ind\n",
    "    for i in range(NumSubs):\n",
    "        ds = np.array(data_out[co][i])\n",
    "        dIn = np.squeeze(ds[:,0,:]) # this is where we choose what comp to analyze\n",
    "        avgCRF[co][i] = CombineRealImg(dIn,NumHarms = 2) # 12 x 2 array"
   ]
  },
  {
   "cell_type": "code",
   "execution_count": 17,
   "metadata": {},
   "outputs": [],
   "source": [
    "avgCRF_1Sess = {} # single session subjects\n",
    "for co in range(NumConds):\n",
    "    avgCRF_1Sess[co] = {}\n",
    "    if co == 0 or co == 1: \n",
    "        NSubs = NumSubs_l\n",
    "    else:\n",
    "        NSubs = NumSubs_r\n",
    "    for i in range(NSubs):\n",
    "        ds = np.array(data_out_1Sess[co][i])\n",
    "        dIn = np.squeeze(ds[:,0,:])\n",
    "        avgCRF_1Sess[co][i] = CombineRealImg(dIn,NumHarms = 2) # 12 x 2 array"
   ]
  },
  {
   "cell_type": "code",
   "execution_count": 18,
   "metadata": {},
   "outputs": [
    {
     "name": "stdout",
     "output_type": "stream",
     "text": [
      "Full New File Dir:  C:\\plimon\\LTP_analysis\\RCA_F1\\AvgCRFs\\AllCondCRF_AllSess_pnlApp_20240314_1235.pkl\n",
      "Where matlab file will be stored C:\\plimon\\LTP_analysis\\RCA_F1\\AvgCRFs\\AllCondCRF_AllSess_pnlApp_20240314_1235.mat\n",
      "Path to Save File is: C:\\plimon\\LTP_analysis\\RCA_F1\\AvgCRFs\\\n"
     ]
    }
   ],
   "source": [
    "# set save data dir \n",
    "# Set directory to save NR Data in ..new folder\n",
    "# SaveDataDir = 'D:\\\\AttnXV3_analysis\\\\RCA_F1\\\\AvgCRFs\\\\' # set dir where files (.pkl, .csv) will be saved\n",
    "SaveDataDir = 'C:\\\\plimon\\\\LTP_analysis\\\\RCA_F1\\\\AvgCRFs\\\\' # set dir where files (.pkl, .csv) will be saved\n",
    "FileOutName = 'AllCondCRF_AllSess_pnlApp' # make sure this file changes each time you save\n",
    "######################################################\n",
    "dnt = datetime.now() # add date and time bc im wreckless when saving ..\n",
    "fdnt = dnt.strftime(\"%Y%m%d_%H%M\") # set the above as a string ...\n",
    "FileN = f'{FileOutName}_{fdnt}.pkl' \n",
    "MatLabFileN = f'{FileOutName}_{fdnt}.mat'\n",
    "\n",
    "NewFileNPath = os.path.join(SaveDataDir,FileN)\n",
    "Mat_NewFileNPath = os.path.join(SaveDataDir, MatLabFileN)\n",
    "\n",
    "print('Full New File Dir: ', NewFileNPath)\n",
    "print('Where matlab file will be stored',Mat_NewFileNPath )\n",
    "\n",
    "if not os.path.exists(SaveDataDir):\n",
    "    os.makedirs(SaveDataDir)\n",
    "print('Path to Save File is:',SaveDataDir)"
   ]
  },
  {
   "cell_type": "markdown",
   "metadata": {},
   "source": [
    "##### Save All Original Contrast Response Functions into a .pkl file"
   ]
  },
  {
   "cell_type": "code",
   "execution_count": 19,
   "metadata": {},
   "outputs": [],
   "source": [
    "# add another personal voice memo ...\n",
    "Note = ['This file contains all subjects [single and double] sessions, avg of CRF [12x2] array, original crfs']\n",
    "\n",
    "DictOut = {}\n",
    "DictOut['Data'] = avgCRF # double session data\n",
    "DictOut['SubNames'] = SubName # subject names\n",
    "\n",
    "DictOut['DataSingleSess'] = avgCRF_1Sess # single session data\n",
    "DictOut['DSSAttnl'] = attnLSubs\n",
    "DictOut['DSSAttnR'] = attnRSubs\n",
    "\n",
    "DictOut['VoiceMemo'] = Note # personal note about data\n",
    "DictOut['DictMainKeys'] = dk_labs\n",
    "DictOut['ContLevs'] = contrast_levels\n",
    "DictOut['crfLabs'] = contrast_levels_labs"
   ]
  },
  {
   "cell_type": "markdown",
   "metadata": {},
   "source": [
    "### Save Data"
   ]
  },
  {
   "cell_type": "code",
   "execution_count": 20,
   "metadata": {},
   "outputs": [
    {
     "name": "stdout",
     "output_type": "stream",
     "text": [
      "Average CRF Saved! :))\n"
     ]
    }
   ],
   "source": [
    "saveFile = 'y'\n",
    "\n",
    "if saveFile == 'n':\n",
    " \n",
    " scipy.io.savemat(Mat_NewFileNPath,DictOut)\n",
    "\n",
    " with open(NewFileNPath, 'wb') as file:\n",
    "    pkl.dump(DictOut, file, protocol=pkl.HIGHEST_PROTOCOL)\n",
    "    # save as .mat file or .csv file to import into matlab \n",
    "    \n",
    "    print('Average CRF Saved! :))')\n",
    "else:\n",
    "    print('Did Not Save File! Change file name before switching to y!')"
   ]
  },
  {
   "cell_type": "markdown",
   "metadata": {},
   "source": [
    "#### Visualize Data - can only plot per harmonic right now "
   ]
  },
  {
   "cell_type": "code",
   "execution_count": null,
   "metadata": {},
   "outputs": [],
   "source": [
    "sns.set_theme()\n",
    "dpi = 150 # img res\n",
    "for sub_ind in range(1):# NumSubs\n",
    "    fig, axs = plt.subplots(1,4,figsize = (16,4), sharey = True )\n",
    "    for c in range(NumConds):\n",
    "        ImgName = (f'Sub_{SubName[sub_ind]}_data2F_.png')\n",
    "        axs[c].plot(avgCRF[c][sub_ind][:6,0], label = f' Pre {dk_labs[c]}', color = x[c], linewidth = 4, linestyle = '-.')\n",
    "        axs[c].plot(avgCRF[c][sub_ind][:6,1], label = f'Post {dk_labs[c]}', color = y[c], linewidth = 4)\n",
    "        axs[c].set_xlabel('Contrast %')\n",
    "        axs[c].set_ylabel('Amplitude (mV)')\n",
    "        axs[c].legend(loc = 'lower right')\n",
    "        axs[c].set_xticks(range(len(contrast_levels_labs)))\n",
    "        axs[c].set_xticklabels(contrast_levels_labs)\n",
    "        plt.suptitle(f'CRF For all sessions (1st Harmonic), Sub: {SubName[sub_ind]}')\n",
    "        #ImgPath = os.path.join(newPath, ImgName)\n",
    "        #plt.savefig(ImgPath, dpi = dpi)\n",
    "    plt.show()"
   ]
  },
  {
   "cell_type": "markdown",
   "metadata": {},
   "source": [
    "#### Vis Single Sessions"
   ]
  },
  {
   "cell_type": "code",
   "execution_count": null,
   "metadata": {},
   "outputs": [],
   "source": [
    "sns.set_theme()\n",
    "dpi = 150 # img res\n",
    "for sub_ind in range(NumSubs_l):\n",
    "    fig, axs = plt.subplots(1,2,figsize = (8,4), sharey = True )\n",
    "    for c in range(2):\n",
    "        ImgName = (f'Sub_{attnLSubs[sub_ind]}_data2F_.png')\n",
    "\n",
    "        axs[c].plot(avgCRF_1Sess[c][sub_ind][:6,0], label = f' Pre {dk_labs[c]}', color = x[c], linewidth = 4, linestyle = '-.')\n",
    "        axs[c].plot(avgCRF_1Sess[c][sub_ind][:6,1], label = f'Post {dk_labs[c]}', color = y[c], linewidth = 4)\n",
    "\n",
    "        axs[c].set_xlabel('Contrast %')\n",
    "        axs[c].set_ylabel('Amplitude (mV)')\n",
    "        axs[c].legend(loc = 'lower right')\n",
    "        axs[c].set_xticks(range(len(contrast_levels_labs)))\n",
    "        axs[c].set_xticklabels(contrast_levels_labs)\n",
    "        plt.suptitle(f'CRF For single sessions, attnL (1st Harmonic), Sub: {attnLSubs[sub_ind]}')\n",
    "        #ImgPath = os.path.join(newPath, ImgName)\n",
    "        #plt.savefig(ImgPath, dpi = dpi)\n",
    "    plt.show()"
   ]
  },
  {
   "cell_type": "code",
   "execution_count": null,
   "metadata": {},
   "outputs": [],
   "source": [
    "for sub_ind in range(NumSubs_r):\n",
    "    fig, axs = plt.subplots(1,2,figsize = (8,4), sharey = True )\n",
    "    for c in range(2):\n",
    "        ImgName = (f'Sub_{attnRSubs[sub_ind]}_data2F_.png')\n",
    "\n",
    "        axs[c].plot(avgCRF_1Sess[c+2][sub_ind][:6,0], label = f' Pre {dk_labs[c+2]}', color = x[c+2], linewidth = 4, linestyle = '-.')\n",
    "        axs[c].plot(avgCRF_1Sess[c+2][sub_ind][:6,1], label = f'Post {dk_labs[c+2]}', color = y[c+2], linewidth = 4)\n",
    "\n",
    "        axs[c].set_xlabel('Contrast %')\n",
    "        axs[c].set_ylabel('Amplitude (mV)')\n",
    "        axs[c].legend(loc = 'lower right')\n",
    "        axs[c].set_xticks(range(len(contrast_levels_labs)))\n",
    "        axs[c].set_xticklabels(contrast_levels_labs)\n",
    "        plt.suptitle(f'CRF For single sessions, attnR (1st Harmonic), Sub: {attnRSubs[sub_ind]}')\n",
    "        #ImgPath = os.path.join(newPath, ImgName)\n",
    "        #plt.savefig(ImgPath, dpi = dpi)\n",
    "    plt.show()"
   ]
  },
  {
   "cell_type": "code",
   "execution_count": null,
   "metadata": {},
   "outputs": [],
   "source": [
    "# rent = 3438.47\n",
    "# ollie_rent = 65\n",
    "# addnl_extra_g = 100\n",
    "\n",
    "# g_extra = ollie_rent+addnl_extra_g # total extra \n",
    "# post_extra_rent = rent - g_extra\n",
    "# P_base_rent = post_extra_rent/2\n",
    "# G_base_rent = (post_extra_rent/2)+ g_extra\n",
    "\n",
    "\n",
    "# print(f'Patis total rent {P_base_rent}')\n",
    "# print(f'Glos total rent {G_base_rent}')\n",
    "# san_check = P_base_rent + G_base_rent\n",
    "# print(rent , san_check)\n",
    "# print(rent == san_check)"
   ]
  }
 ],
 "metadata": {
  "kernelspec": {
   "display_name": "base",
   "language": "python",
   "name": "python3"
  },
  "language_info": {
   "codemirror_mode": {
    "name": "ipython",
    "version": 3
   },
   "file_extension": ".py",
   "mimetype": "text/x-python",
   "name": "python",
   "nbconvert_exporter": "python",
   "pygments_lexer": "ipython3",
   "version": "3.11.8"
  }
 },
 "nbformat": 4,
 "nbformat_minor": 2
}
