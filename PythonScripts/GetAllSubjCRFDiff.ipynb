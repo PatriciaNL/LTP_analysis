{
 "cells": [
  {
   "cell_type": "markdown",
   "metadata": {},
   "source": [
    "#### This script will perform CRF Differences and save them as a dict -> .pkl file\n",
    "#### 1| save diffferce parameters: per contrast per harmonic in a post - pre manner\n",
    "#### 2| plot data - make sure there is a yline at 0 to represnt the differnces - or plot this in a seperate plot\n",
    "#### 3| maybe compute the statistical differnce between the data and save vals too - or in another script - we'll see\n",
    "####  4| maybe find the error bars? \n"
   ]
  },
  {
   "cell_type": "code",
   "execution_count": 39,
   "metadata": {},
   "outputs": [],
   "source": [
    "# load packages\n",
    "import numpy as np \n",
    "from scipy.io   import  loadmat\n",
    "import pandas as pd\n",
    "import os\n",
    "import matplotlib.pyplot as plt #import matplotlib as plt\n",
    "from scipy.optimize import curve_fit \n",
    "import seaborn as sns #import mat73\n",
    "import pickle as pkl\n",
    "from datetime import datetime"
   ]
  },
  {
   "cell_type": "code",
   "execution_count": 40,
   "metadata": {},
   "outputs": [],
   "source": [
    "NumBins = 6 # number of contrasts\n",
    "NumHarms = 2 # number of harmonic data: 2F1, 4F1\n",
    "NumComp = 0 # first component from RCA\n",
    "NumConds = 4"
   ]
  },
  {
   "cell_type": "code",
   "execution_count": 41,
   "metadata": {},
   "outputs": [],
   "source": [
    "cp1 = sns.color_palette(\"cubehelix\",12)# dark to light\n",
    "cp2 = sns.color_palette(\"hls\",12)"
   ]
  },
  {
   "cell_type": "code",
   "execution_count": 42,
   "metadata": {},
   "outputs": [
    {
     "name": "stdout",
     "output_type": "stream",
     "text": [
      "Files on hand: ['AllCondCRF_AllSess_20240212_1128.pkl', 'AllCondCRF_AllSess_20240213_1141.pkl']\n",
      "Current WD: D:\\AttnXV3_analysis\\RCA_F1\\AvgCRFs\\AllCondCRF_AllSess_20240213_1141.pkl\n",
      "Does File #1 Exist? True\n"
     ]
    }
   ],
   "source": [
    "# Main Directory of processed file from MatLab\n",
    "MainDir = 'D:\\\\AttnXV3_analysis\\\\RCA_F1\\\\AvgCRFs\\\\' # set dir\n",
    "os.chdir(MainDir) # change old dir, to this dir\n",
    "d = os.listdir(MainDir) # list files in dir\n",
    "print(f'Files on hand: {d}')\n",
    "##############################################\n",
    "FileN = d[-1] # choose one                        \n",
    "file_path1 = os.path.join(MainDir, FileN) # join paths and prep 2 load\n",
    "print('Current WD:',file_path1) # does path exist ... ?\n",
    "print('Does File #1 Exist?',os.path.exists(file_path1)) # yes or no"
   ]
  },
  {
   "cell_type": "code",
   "execution_count": 43,
   "metadata": {},
   "outputs": [
    {
     "name": "stdout",
     "output_type": "stream",
     "text": [
      "dict_keys(['Data', 'SubNames', 'VoiceMemo', 'DictMainKeys', 'ContLevs', 'crfLabs'])\n"
     ]
    }
   ],
   "source": [
    "loadData = pkl.load(open(file_path1,'rb'))\n",
    "print(loadData.keys())"
   ]
  },
  {
   "cell_type": "code",
   "execution_count": 44,
   "metadata": {},
   "outputs": [
    {
     "name": "stdout",
     "output_type": "stream",
     "text": [
      "['This file contains all subjects who did both sessions, avg of CRF [12x2] array, original crfs']\n",
      "['attnL F1', 'attnL F2', 'attnR F1', 'attnR F2']\n"
     ]
    }
   ],
   "source": [
    "data = loadData['Data']\n",
    "data_labels = loadData['DictMainKeys']\n",
    "SubNames = np.array(loadData['SubNames'])\n",
    "note = loadData['VoiceMemo']\n",
    "contrast_levels = loadData['ContLevs']\n",
    "contrast_labs = loadData['crfLabs']\n",
    "print(note)\n",
    "NumSubs = int(len(SubNames))\n",
    "print(data_labels) # labels for nr plots"
   ]
  },
  {
   "cell_type": "code",
   "execution_count": 45,
   "metadata": {},
   "outputs": [
    {
     "name": "stdout",
     "output_type": "stream",
     "text": [
      "dict_keys([0, 1, 2, 3])\n",
      "dict_keys([0, 1, 2, 3, 4, 5, 6, 7, 8, 9, 10, 11, 12, 13, 14, 15, 16, 17, 18, 19, 20, 21, 22, 23, 24])\n"
     ]
    }
   ],
   "source": [
    "print(data.keys())\n",
    "print(data[0].keys())"
   ]
  },
  {
   "cell_type": "code",
   "execution_count": 69,
   "metadata": {},
   "outputs": [],
   "source": [
    "#sns.set_theme()\n",
    "def GetDiffs(NumSubs, dictIn):\n",
    "    aOut = np.zeros((NumSubs,NumBins*2)) # 55 x 12 \n",
    "    for su in range(NumSubs):\n",
    "        aIn = dictIn[su]\n",
    "        AllDiffs = aIn[:,1] - aIn[:,0]\n",
    "        aOut[su,:] = AllDiffs\n",
    "    return aOut"
   ]
  },
  {
   "cell_type": "code",
   "execution_count": 77,
   "metadata": {},
   "outputs": [
    {
     "name": "stdout",
     "output_type": "stream",
     "text": [
      "(25, 12)\n",
      "(25, 12)\n",
      "(25, 12)\n",
      "(25, 12)\n"
     ]
    }
   ],
   "source": [
    "AllDiffs  = {} # 4 [nsubj * 12 array]\n",
    "for co in range(NumConds):  \n",
    "    AllDiffs[co] = GetDiffs(NumSubs,data[co])\n",
    "    print(AllDiffs[co].shape)"
   ]
  },
  {
   "cell_type": "code",
   "execution_count": 64,
   "metadata": {},
   "outputs": [
    {
     "data": {
      "text/plain": [
       "<matplotlib.collections.LineCollection at 0x1c8c2b0d1d0>"
      ]
     },
     "execution_count": 64,
     "metadata": {},
     "output_type": "execute_result"
    },
    {
     "data": {
      "image/png": "[encoded data removed]",
      "text/plain": [
       "<Figure size 600x300 with 2 Axes>"
      ]
     },
     "metadata": {},
     "output_type": "display_data"
    }
   ],
   "source": [
    "fig,axs = plt.subplots(1,2, figsize=(6,3), sharey = True)\n",
    "\n",
    "axs[0].plot(AllDiffs[:6])\n",
    "axs[1].plot(AllDiffs[6:])\n",
    "axs[0].hlines(0, xmin = 0, xmax = 3)"
   ]
  }
 ],
 "metadata": {
  "kernelspec": {
   "display_name": "base",
   "language": "python",
   "name": "python3"
  },
  "language_info": {
   "codemirror_mode": {
    "name": "ipython",
    "version": 3
   },
   "file_extension": ".py",
   "mimetype": "text/x-python",
   "name": "python",
   "nbconvert_exporter": "python",
   "pygments_lexer": "ipython3",
   "version": "3.11.8"
  }
 },
 "nbformat": 4,
 "nbformat_minor": 2
}
