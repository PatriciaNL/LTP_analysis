{
 "cells": [
  {
   "cell_type": "markdown",
   "metadata": {},
   "source": [
    "### STEP FOUR OF PROCESSING PIPELINE"
   ]
  },
  {
   "cell_type": "markdown",
   "metadata": {},
   "source": [
    "#### This script imports all Conditional CRF's for each subject and the results are visualized in this script when all CRF's are averaged for both original CRF's and no SuperSaturation CRF's. \n",
    "#### This script is mainly to present plots before and after some participants are excluded. Mainly plots for presenation.\n",
    "\n",
    "#### 2 Types of plots (4 in total): \n",
    "####  Average CRF before and after removing some participants for original anf No S.Sat data for all conditions.\n",
    "#### Avg CRFs with everyones invididual data plotted as the background. For OG data and No S.Sat data. \n",
    "#### No data to be exported in this step, consider this a second step to verify what subs to exclude."
   ]
  },
  {
   "cell_type": "code",
   "execution_count": null,
   "metadata": {},
   "outputs": [],
   "source": [
    "# load packages\n",
    "import numpy as np \n",
    "from scipy.io   import  loadmat\n",
    "import pandas as pd\n",
    "import os\n",
    "import matplotlib.pyplot as plt #import matplotlib as plt\n",
    "from scipy.optimize import curve_fit \n",
    "import seaborn as sns #import mat73\n",
    "import pickle as pkl\n",
    "from datetime import datetime"
   ]
  },
  {
   "cell_type": "code",
   "execution_count": null,
   "metadata": {},
   "outputs": [],
   "source": [
    "NumBins = 6 # number of contrasts\n",
    "NumHarms = 2 # number of harmonic data: 2F1, 4F1\n",
    "NumComp = 0 # first component from RCA\n",
    "NumConds = 4\n",
    "dk_labs = ['attnL F1','attnL F2','attnR F1','attnR F2',]\n",
    "contrast_levels=np.array([1, 3, 5, 16, 40, 100])\n",
    "contrast_levels_labs=['1%', '3%', '5%', '16%', '40%', '100%']"
   ]
  },
  {
   "cell_type": "code",
   "execution_count": null,
   "metadata": {},
   "outputs": [],
   "source": [
    "def GrandCRF(data):\n",
    "    \"\"\"This function computes the average by stacking [12x2]\n",
    "    arrays along 0th dim and then average across the 0th dimension\"\"\"\n",
    "    TotSubs = list(data.values())\n",
    "    temp = np.stack(TotSubs, axis = 0) # [Subj x 12r x 2c]\n",
    "    dOut = np.mean(temp, axis = 0)\n",
    "    return dOut\n",
    "\n",
    "def OmitData(SubNames, noisySub_arr):\n",
    "    \"\"\"\"This function finds and removes a participants data for all files\n",
    "    returns a np.array with the positions to omit from the grand average\n",
    "    of CRF\n",
    "    ######################################################################\n",
    "    SubNames = list of subject names\n",
    "    noisySub_arr = array that must be smaller than the size of SubNames\"\"\"\n",
    "    nS_array = np.array(noisySub_arr)\n",
    "    omit = np.where(SubNames == nS_array[:,None])[1]\n",
    "    return omit"
   ]
  },
  {
   "cell_type": "code",
   "execution_count": null,
   "metadata": {},
   "outputs": [],
   "source": [
    "cp1 = sns.color_palette(\"husl\", 8)\n",
    "cp2 = sns.color_palette(\"hls\", 8)"
   ]
  },
  {
   "cell_type": "code",
   "execution_count": null,
   "metadata": {},
   "outputs": [],
   "source": [
    "# Main Directory of processed file from MatLab\n",
    "# MainDir = 'D:\\\\AttnXV3_analysis\\\\RCA_F1\\\\AvgCRFs\\\\' # set dir\n",
    "MainDir = 'C:\\\\plimon\\\\LTP_analysis\\\\RCA_F1\\\\AvgCRFs\\\\' # set dir\n",
    "os.chdir(MainDir) # change old dir, to this dir\n",
    "d = os.listdir(MainDir) # list files in dir\n",
    "print(f'Files on hand: {d}')\n",
    "##############################################\n",
    "FileN = d[-1] # choose one                        \n",
    "file_path1 = os.path.join(MainDir, FileN) # join paths and prep 2 load\n",
    "print('Current WD:',file_path1) # does path exist ... ?\n",
    "print('Does File #1 Exist?',os.path.exists(file_path1)) # yes or no"
   ]
  },
  {
   "cell_type": "code",
   "execution_count": null,
   "metadata": {},
   "outputs": [],
   "source": [
    "loadData = pkl.load(open(file_path1,'rb'))\n",
    "print(loadData.keys())"
   ]
  },
  {
   "cell_type": "code",
   "execution_count": null,
   "metadata": {},
   "outputs": [],
   "source": [
    "data = loadData['Data']\n",
    "data_labels = loadData['DictMainKeys']\n",
    "SubNames = np.array(loadData['SubNames'])\n",
    "note = loadData['VoiceMemo']\n",
    "contrast_levels = loadData['ContLevs']\n",
    "contrast_labs = loadData['crfLabs']\n",
    "print(note)"
   ]
  },
  {
   "cell_type": "markdown",
   "metadata": {},
   "source": [
    "#### Use this if planning on excluding participants / grouping subj responses"
   ]
  },
  {
   "cell_type": "code",
   "execution_count": null,
   "metadata": {},
   "outputs": [],
   "source": [
    "noisySub = ['2651','2652', '2671' ,'2668','2696']\n",
    "#sub, counts = (np.unique(rmv, return_counts = True))\n",
    "#print(sub[counts >1])\n",
    "noisySub = np.sort(noisySub)\n",
    "omit = OmitData(SubNames,noisySub)\n",
    "omit = np.array(omit)\n",
    "print(f'Subjects Data to omit: {SubNames[omit]}')\n",
    "GoodSubjs = np.ones((int(len(SubNames))))\n",
    "GoodSubjs[omit] = 0 # index to process subj data\n",
    "print(GoodSubjs)"
   ]
  },
  {
   "cell_type": "markdown",
   "metadata": {},
   "source": [
    "#### Remove Subjects from Average Contrast Response Function"
   ]
  },
  {
   "cell_type": "code",
   "execution_count": null,
   "metadata": {},
   "outputs": [],
   "source": [
    "cleanData = {}\n",
    "\n",
    "for co in range(NumConds):\n",
    "    if co not in cleanData:\n",
    "        cleanData[co] = {}\n",
    "    for sub in range(len(SubNames)):\n",
    "        xIn = data[co][sub] # 12 x 2\n",
    "        pos = GoodSubjs[sub]\n",
    "        if pos == 1:\n",
    "            #print(f'keep {SubNames[sub]}')\n",
    "            cleanData[co][sub] = xIn\n",
    "        #else: \n",
    "            #print(f'removing subject {SubNames[sub]}')\n",
    "print(f'Analysis Reduced to {len(cleanData[0].keys())} subjects, total {len(SubNames)}')"
   ]
  },
  {
   "cell_type": "markdown",
   "metadata": {},
   "source": [
    "### 2 Options for plotting: Everyones CRF's / Select Subjects CRF's..."
   ]
  },
  {
   "cell_type": "code",
   "execution_count": null,
   "metadata": {},
   "outputs": [],
   "source": [
    "avgCRF_ori = {}\n",
    "avgCRF_clean = {}\n",
    "for c in range(4):#(NumConds):\n",
    "    avgCRF_ori[c]= GrandCRF(data = data[c]) # all participants data\n",
    "    avgCRF_clean[c]= GrandCRF(data = cleanData[c]) # select participants \n",
    "#print(avgCRF[0].shape)"
   ]
  },
  {
   "cell_type": "code",
   "execution_count": null,
   "metadata": {},
   "outputs": [],
   "source": [
    "sns.set_theme()\n",
    "fig, axs = plt.subplots(2,4, figsize=(14,8), sharey = True)\n",
    "\n",
    "for col in range(NumConds):\n",
    "    d_In = avgCRF_ori[col]\n",
    "    axs[0,col].plot(d_In[:6,0],label = f'Pre {dk_labs[col]}', color = cp1[col],linewidth = 3, linestyle = '-.')\n",
    "    axs[0,col].plot(d_In[:6,1:],label = f'Post {dk_labs[col]}', color = cp2[col],linewidth = 3)\n",
    "\n",
    "    axs[1,col].plot(d_In[6:,0],label = f'Pre {dk_labs[col]}', color = cp1[col],linewidth = 3, linestyle = '-.')\n",
    "    axs[1,col].plot(d_In[6:,1],label = f' Post{dk_labs[col]}', color = cp2[col],linewidth = 3)\n",
    "\n",
    "    axs[0,col].set_xlabel('Contrast %')\n",
    "    axs[0,col].set_ylabel('Amplitude (mV)')\n",
    "    axs[0,col].legend(loc = 'lower right')\n",
    "\n",
    "    axs[1,col].set_xlabel('Contrast %')\n",
    "    axs[1,col].set_ylabel('Amplitude (mV)')\n",
    "    axs[1,col].legend(loc = 'lower right')\n",
    "\n",
    "    axs[0,col].legend(loc = 'lower right')\n",
    "    axs[0,col].set_xticks(range(len(contrast_levels_labs)))\n",
    "    axs[0,col].set_xticklabels(contrast_levels_labs)\n",
    "    axs[1,col].set_xticks(range(len(contrast_levels_labs)))\n",
    "    axs[1,col].set_xticklabels(contrast_levels_labs)\n",
    "\n",
    "plt.suptitle('Average CRF Across All Participants')\n",
    "plt.tight_layout()"
   ]
  },
  {
   "cell_type": "code",
   "execution_count": null,
   "metadata": {},
   "outputs": [],
   "source": [
    "sns.set_theme()\n",
    "fig, axs = plt.subplots(2,4, figsize=(16,9), sharey = True)\n",
    "\n",
    "for col in range(NumConds):\n",
    "    d_In = avgCRF_clean[col]\n",
    "    axs[0,col].plot(d_In[:6,0],label = f'Pre {dk_labs[col]}', color = cp1[col],linewidth = 3, linestyle = '-.')\n",
    "    axs[0,col].plot(d_In[:6,1:],label = f'Post {dk_labs[col]}', color = cp2[col],linewidth = 3)\n",
    "\n",
    "    axs[1,col].plot(d_In[6:,0],label = f'Pre {dk_labs[col]}', color = cp1[col],linewidth = 3, linestyle = '-.')\n",
    "    axs[1,col].plot(d_In[6:,1],label = f' Post{dk_labs[col]}', color = cp2[col],linewidth = 3)\n",
    "\n",
    "    axs[0,col].set_xlabel('Contrast %')\n",
    "    axs[0,col].set_ylabel('Amplitude (mV)')\n",
    "    axs[0,col].legend(loc = 'lower right')\n",
    "\n",
    "    axs[1,col].set_xlabel('Contrast %')\n",
    "    axs[1,col].set_ylabel('Amplitude (mV)')\n",
    "    axs[1,col].legend(loc = 'lower right')\n",
    "\n",
    "    axs[0,col].legend(loc = 'lower right')\n",
    "    axs[0,col].set_xticks(range(len(contrast_levels_labs)))\n",
    "    axs[0,col].set_xticklabels(contrast_levels_labs)\n",
    "    axs[1,col].set_xticks(range(len(contrast_levels_labs)))\n",
    "    axs[1,col].set_xticklabels(contrast_levels_labs)\n",
    "\n",
    "plt.suptitle('Average CRF Across All Participants - removed subjects')\n",
    "plt.tight_layout()"
   ]
  },
  {
   "cell_type": "code",
   "execution_count": null,
   "metadata": {},
   "outputs": [],
   "source": [
    "pre = 1\n",
    "post = 0\n",
    "ss = 0\n",
    "sse = 6\n",
    "counter = 0 \n",
    "\n",
    "fig,axs = plt.subplots(2,4, figsize = (16,20), sharey = False)\n",
    "for co in data.keys(): # 4\n",
    "        dIn = data[co] # each subjects crf\n",
    "        avg_data = avgCRF_ori[co] # avgeraged crf\n",
    "        for subiter in dIn.keys(): # all subjects\n",
    "                xIn = dIn[subiter]\n",
    "                for t in range(2):\n",
    "                        if t == 0:\n",
    "                                lab = 'pre'\n",
    "                        else:\n",
    "                                lab = 'post'        \n",
    "                        axs[0,co].plot(xIn[:sse,t], color =  cp1[t*5], alpha = 0.5, linewidth = 1)\n",
    "                        axs[1,co].plot(xIn[sse:,t], color =  cp1[t*5], alpha = 0.5, linewidth = 1)\n",
    "                        axs[0,co].plot(avg_data[:sse,t], color =  cp1[t*5], label = lab, linewidth = 4)\n",
    "                        axs[1,co].plot(avg_data[sse:,t],color =  cp1[t*5], label = lab, linewidth = 4) # plot pre and post via t \n",
    "                        #axs[t,co].plot(xIn[ss+(sse*t):sse*(t+1),t], color = cp1[t])\n",
    "                        #axs[t,co].plot(xIn[ss+(sse*t):sse*(t+1),t], color = cp2[t])\n",
    "                        axs[0,co].legend(labels = ['Pre','Mean Pre','Post','Mean Post'], loc = 'upper left')\n",
    "plt.suptitle(f'All Subj CRFs', fontsize = 25)\n",
    "plt.tight_layout()"
   ]
  },
  {
   "cell_type": "code",
   "execution_count": null,
   "metadata": {},
   "outputs": [],
   "source": [
    "pre = 1\n",
    "post = 0\n",
    "ss = 0\n",
    "sse = 6\n",
    "counter = 0 \n",
    "\n",
    "fig,axs = plt.subplots(2,4, figsize = (16,20), sharey = False)\n",
    "for co in data.keys(): # 4\n",
    "        dIn = cleanData[co] # each subjects crf\n",
    "        avg_data = avgCRF_clean[co] # avgeraged crf\n",
    "        for subiter in dIn.keys(): # all subjects\n",
    "                xIn = dIn[subiter]\n",
    "                for t in range(2):\n",
    "                        if t == 0:\n",
    "                                lab = 'pre'\n",
    "                        else:\n",
    "                                lab = 'post'\n",
    "                        axs[0,co].plot(xIn[:sse,t], color = cp1[t*3], label = lab, alpha = 0.5, linewidth = 1)\n",
    "                        axs[0,co].plot(avg_data[:sse,t], color = cp1[t*3], linewidth = 4)\n",
    "                        axs[1,co].plot(xIn[sse:,t], color = cp1[t*3], label = lab, alpha = 0.5, linewidth = 1)\n",
    "                        axs[1,co].plot(avg_data[sse:,t],color = cp1[t*3], linewidth = 4) # plot pre and post via t \n",
    "                        #axs[t,co].plot(xIn[ss+(sse*t):sse*(t+1),t], color = cp1[t])\n",
    "                        #axs[t,co].plot(xIn[ss+(sse*t):sse*(t+1),t], color = cp2[t])\n",
    "                        axs[0,co].legend(labels = ['Pre','Mean Pre','Post','Mean Post'], loc = 'upper left')\n",
    "plt.suptitle(f'Select Subj CRFs', fontsize = 25)\n",
    "plt.tight_layout()"
   ]
  },
  {
   "cell_type": "code",
   "execution_count": null,
   "metadata": {},
   "outputs": [],
   "source": [
    "### %history use this if you delete ur cell code and its recent ...\n",
    "### cntrl and / hashtags many lines of code at once \n",
    "#### This script imports all Confitional CRF's for each subject and the results are visualized in this script when all CRF's are averaged\n",
    "##### tip: use esc + z to recover accidentally deleted cell"
   ]
  },
  {
   "cell_type": "code",
   "execution_count": null,
   "metadata": {},
   "outputs": [],
   "source": [
    "# pre = 1\n",
    "# post = 0\n",
    "# ss = 0\n",
    "# sse = 6\n",
    "# counter = 0 \n",
    "# labels = []\n",
    "# fig,axs = plt.subplots(2,4, figsize = (16,8), sharey = True)\n",
    "# for co in data.keys(): # 4\n",
    "#         dIn = data[co]\n",
    "#         for subiter in dIn.keys(): # all subjects\n",
    "#                 xIn = dIn[subiter]\n",
    "#                 for t in range(2):\n",
    "#                         if t == 0:\n",
    "#                                 lab = 'pre'\n",
    "#                         else:\n",
    "#                                 lab = 'post'\n",
    "#                         labels.append(lab)\n",
    "#                         axs[0,co].plot(xIn[:sse,t], color = cp1[t*5], label = lab)\n",
    "#                         axs[1,co].plot(xIn[sse:,t], color = cp1[t*5], label = lab)#\n",
    "#                         #axs[t,co].plot(xIn[ss+(sse*t):sse*(t+1),t], color = cp1[t])\n",
    "#                         #axs[t,co].plot(xIn[ss+(sse*t):sse*(t+1),t], color = cp2[t])\n",
    "#                         axs[0,co].legend(labels = labels[0:2], loc = 'upper left')\n",
    "# plt.suptitle(f'All Subj CRFs')\n",
    "# plt.tight_layout()\n",
    "# ###########################################################################################\n",
    "# labels = []\n",
    "# fig,axs = plt.subplots(2,4, figsize = (16,8), sharey = True)\n",
    "# for co in cleanData.keys(): # 4\n",
    "#         dIn = cleanData[co]\n",
    "#         for subiter in dIn.keys(): # all subjects\n",
    "#                 xIn = dIn[subiter]\n",
    "#                 for t in range(2):\n",
    "#                         if t == 0:\n",
    "#                                 lab = 'pre'\n",
    "#                         else:\n",
    "#                                 lab = 'post'\n",
    "#                         labels.append(lab)\n",
    "#                         axs[0,co].plot(xIn[:sse,t], color = cp1[t*5], label = lab)\n",
    "#                         axs[1,co].plot(xIn[sse:,t], color = cp1[t*5], label = lab)#\n",
    "#                         #axs[t,co].plot(xIn[ss+(sse*t):sse*(t+1),t], color = cp1[t])\n",
    "#                         #axs[t,co].plot(xIn[ss+(sse*t):sse*(t+1),t], color = cp2[t])\n",
    "#                         axs[0,co].legend(labels = labels[0:2], loc = 'upper left')\n",
    "# plt.suptitle(f'Select CRFs')\n",
    "# plt.tight_layout()"
   ]
  }
 ],
 "metadata": {
  "kernelspec": {
   "display_name": "base",
   "language": "python",
   "name": "python3"
  },
  "language_info": {
   "codemirror_mode": {
    "name": "ipython",
    "version": 3
   },
   "file_extension": ".py",
   "mimetype": "text/x-python",
   "name": "python",
   "nbconvert_exporter": "python",
   "pygments_lexer": "ipython3",
   "version": "3.11.8"
  }
 },
 "nbformat": 4,
 "nbformat_minor": 2
}
