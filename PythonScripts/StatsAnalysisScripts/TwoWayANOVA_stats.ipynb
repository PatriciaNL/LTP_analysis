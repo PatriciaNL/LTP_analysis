{
 "cells": [
  {
   "cell_type": "markdown",
   "metadata": {},
   "source": [
    "## STEP ONE OF STATS ANALYSIS FROM PROCESSED DATA PIPELINE"
   ]
  },
  {
   "cell_type": "markdown",
   "metadata": {},
   "source": [
    "#### This script imports CRF data and sorts each participants data in a dataframe, appends them all together an then 2 Way ANOVA Model is computed with this dataframe."
   ]
  },
  {
   "cell_type": "code",
   "execution_count": 1,
   "metadata": {},
   "outputs": [],
   "source": [
    "# load packages\n",
    "import numpy as np \n",
    "from scipy.io   import  loadmat\n",
    "from scipy import stats\n",
    "import pandas as pd\n",
    "import os\n",
    "import matplotlib.pyplot as plt #import matplotlib as plt\n",
    "from scipy.optimize import curve_fit \n",
    "import seaborn as sns #import mat73\n",
    "import pickle as pkl\n",
    "from datetime import datetime\n",
    "import statsmodels.api as sm \n",
    "from statsmodels.formula.api import ols"
   ]
  },
  {
   "cell_type": "markdown",
   "metadata": {},
   "source": [
    "#### import and set actual anova params"
   ]
  },
  {
   "cell_type": "code",
   "execution_count": 2,
   "metadata": {},
   "outputs": [
    {
     "name": "stdout",
     "output_type": "stream",
     "text": [
      "Files on hand: ['AllCondCRF_AllHarmonics_pnlApp_20240315_1641.mat', 'AllCondCRF_AllHarmonics_pnlApp_20240315_1641.pkl', 'AllCondCRF_AllSess_pnlApp_20240314_1235.mat', 'AllCondCRF_AllSess_pnlApp_20240314_1235.pkl', 'AllCondCRF_AllSess_pnlApp_20240314_1237.mat', 'AllCondCRF_AllSess_pnlApp_20240314_1237.pkl', 'Clean_LTPData_20240313_1457.pkl', 'Clean_LTPData_2468F_20240316_2252.pkl', 'Clean_LTPData_firingrate_20240314_1400.pkl']\n",
      "Current WD: C:\\plimon\\LTP_analysis\\RCA_F1\\AvgCRFs\\Clean_LTPData_2468F_20240316_2252.pkl\n",
      "Does File #1 Exist? True\n"
     ]
    }
   ],
   "source": [
    "# Main Directory of processed file from MatLab\n",
    "#MainDir = 'D:\\\\AttnXV3_analysis\\\\RCA_F1\\\\AvgCRFs\\\\' # set dir\n",
    "MainDir = 'C:\\\\plimon\\\\LTP_analysis\\\\RCA_F1\\\\AvgCRFs\\\\' # set dir\n",
    "os.chdir(MainDir) # change old dir, to this dir\n",
    "d = os.listdir(MainDir) # list files in dir\n",
    "print(f'Files on hand: {d}')\n",
    "##############################################\n",
    "FileN = d[-2] # choose one                        \n",
    "file_path1 = os.path.join(MainDir, FileN) # join paths and prep 2 load\n",
    "print('Current WD:',file_path1) # does path exist ... ?\n",
    "print('Does File #1 Exist?',os.path.exists(file_path1)) # yes or no"
   ]
  },
  {
   "cell_type": "code",
   "execution_count": 3,
   "metadata": {},
   "outputs": [
    {
     "name": "stdout",
     "output_type": "stream",
     "text": [
      "dict_keys(['crf', 'resp_diffs', 'mod_crf', 'coSubNames', 'ConditionLabels', 'ContLevs', 'ContLabs'])\n"
     ]
    }
   ],
   "source": [
    "loadData = pkl.load(open(file_path1,'rb'))\n",
    "print(loadData.keys())"
   ]
  },
  {
   "cell_type": "code",
   "execution_count": 4,
   "metadata": {},
   "outputs": [
    {
     "name": "stdout",
     "output_type": "stream",
     "text": [
      "['AtnL(100%) Hi Contrast(100%)', 'AtnL(100%) Lo Contrast(1%)', 'AtnR(1%) Hi Contrast(100%)', 'AtnR(1%) Lo Contrast(1%)']\n"
     ]
    }
   ],
   "source": [
    "data = loadData['resp_diffs']\n",
    "crf_responses = loadData['crf']\n",
    "SubNames = loadData['coSubNames']\n",
    "data_labels = loadData['ConditionLabels']\n",
    "contrast_levels = loadData['ContLevs']\n",
    "contrast_labs = loadData['ContLabs']\n",
    "print(data_labels) # labels for nr plots"
   ]
  },
  {
   "cell_type": "code",
   "execution_count": 5,
   "metadata": {},
   "outputs": [],
   "source": [
    "data_labels = ['AttnL F1','AttnL F2','AttnR F1','AttnR F2']"
   ]
  },
  {
   "cell_type": "markdown",
   "metadata": {},
   "source": [
    "#### Stack all condition differences for 1 subject - make into a function"
   ]
  },
  {
   "cell_type": "code",
   "execution_count": 6,
   "metadata": {},
   "outputs": [],
   "source": [
    "NumBins = 6 # number of contrasts\n",
    "NumHarms = 4 # number of harmonic data: 2F1, 4F1\n",
    "NumConds = 4"
   ]
  },
  {
   "cell_type": "markdown",
   "metadata": {},
   "source": [
    "#### Uniform Vars:"
   ]
  },
  {
   "cell_type": "code",
   "execution_count": 7,
   "metadata": {},
   "outputs": [],
   "source": [
    "## CONTRAST\n",
    "c_levels = np.arange(NumBins)\n",
    "ContrastArr = np.tile(c_levels,NumHarms)# contrast ind col for df"
   ]
  },
  {
   "cell_type": "code",
   "execution_count": 8,
   "metadata": {},
   "outputs": [],
   "source": [
    "## HARMONIC \n",
    "HarmArr = np.zeros(NumBins*NumHarms)\n",
    "for hi in range(NumHarms):\n",
    "    s = (hi)+((NumBins-1)*hi)\n",
    "    e = ((hi+1)*NumBins)\n",
    "    HarmArr[s:e] = int(hi) # harmonic ind col for df"
   ]
  },
  {
   "cell_type": "markdown",
   "metadata": {},
   "source": [
    "#### Get Dynamic Vars per cond and save into array"
   ]
  },
  {
   "cell_type": "code",
   "execution_count": 9,
   "metadata": {},
   "outputs": [],
   "source": [
    "def MakeDataLogs(NumBins, NumHarms, ContrastArr,HarmArr, dIn,costrIn, snIn, conditionFile):\n",
    "    dIn = data[conditionFile]\n",
    "    # print(dIn.shape) \n",
    "    costrIn = data_labels[conditionFile]\n",
    "    snIn = SubNames[conditionFile]\n",
    "    \n",
    "    strCatch = ' '\n",
    "    if strCatch in costrIn:\n",
    "        attninf = costrIn.split(strCatch)[0] #  set attnX ind\n",
    "        FreqFiltInf = costrIn.split(strCatch)[1] #  set freq filt ind\n",
    "    # get attnX index, attnL == 1, attnR == 0\n",
    "        if attninf == 'AttnL':\n",
    "            AttnXArr = np.ones((NumBins*NumHarms))\n",
    "        elif attninf == 'AttnR':\n",
    "            AttnXArr = np.zeros((NumBins*NumHarms))\n",
    "    # get freq filt index, attnL == 1, attnR == 0\n",
    "        if FreqFiltInf == 'F1':\n",
    "            FreqFiltArr = np.ones((NumBins*NumHarms))\n",
    "        elif FreqFiltInf == 'F2':\n",
    "            FreqFiltArr =  np.zeros((NumBins*NumHarms))\n",
    "    # print(f'{attninf},{AttnXArr}')\n",
    "    # print(f'{FreqFiltInf}{FreqFiltArr}')\n",
    "    DataLogs = {}\n",
    "\n",
    "    for su in range(len(snIn)):\n",
    "        SubjDataLog = np.zeros((NumBins*NumHarms,6))\n",
    "        \n",
    "        sID = snIn[su]\n",
    "        sVals = dIn[su,:]\n",
    "        # fill array w data\n",
    "        SubjDataLog[:,0] = sID # SUBJ id \n",
    "        SubjDataLog[:,1] =  AttnXArr # attention \n",
    "        SubjDataLog[:,2] = FreqFiltArr# FreqFilt (freq tagged contrast (hi / low))\n",
    "        SubjDataLog[:,3] = HarmArr # Harmonic \n",
    "        SubjDataLog[:,4] =  ContrastArr# Contrast ind\n",
    "        SubjDataLog[:,5] = sVals\n",
    "\n",
    "        DataLogs[su] = SubjDataLog\n",
    "    return DataLogs"
   ]
  },
  {
   "cell_type": "code",
   "execution_count": 10,
   "metadata": {},
   "outputs": [],
   "source": [
    "################################################################################################################################\n",
    "def MakePrePostDataLog(conditionFile,NumBins,NumHarms,dIn=crf_responses,costrIn=data_labels,snIn = SubNames):\n",
    "    dIn = crf_responses[conditionFile]\n",
    "    [ns,nh,nc] = dIn.shape # num sub, num harm, num cond (pre / post)\n",
    "    costrIn = data_labels[conditionFile] # \n",
    "    snIn = SubNames[conditionFile]\n",
    "    strCatch = ' '\n",
    "    if strCatch in costrIn:\n",
    "        attninf = costrIn.split(strCatch)[0] #  set attnX ind\n",
    "        FreqFiltInf = costrIn.split(strCatch)[1] #  set freq filt ind\n",
    "    # get attnX index, attnL == 1, attnR == 0\n",
    "        if attninf == 'AttnL':\n",
    "            AttnXArr = np.ones(((NumBins*NumHarms)*2))\n",
    "        elif attninf == 'AttnR':\n",
    "            AttnXArr = np.zeros((NumBins*NumHarms)*2)\n",
    "    # get freq filt index, attnL == 1, attnR == 0\n",
    "        if FreqFiltInf == 'F1':\n",
    "            FreqFiltArr = np.ones(((NumBins*NumHarms)*2))\n",
    "        elif FreqFiltInf == 'F2':\n",
    "            FreqFiltArr =  np.zeros(((NumBins*NumHarms)*2))\n",
    "    # PRE / POST IND, R5\n",
    "    coInd = ['Pre','Post']\n",
    "    coInd = np.tile(coInd, (NumHarms*NumBins))\n",
    "    coIn = np.zeros_like((coInd))\n",
    "    coIn = [1 if val == 'Post' else val for val in coInd]\n",
    "    coIn = [0 if val == 'Pre' else val for val in coIn]\n",
    "    # CONTRAST BIN ARRAY, R4\n",
    "    clevs = np.sort(np.tile(c_levels,2))\n",
    "    sweep_ind = np.tile(clevs,NumHarms)\n",
    "    # HARMONIC ARRAY R3\n",
    "    Harm_Ind = np.sort(np.tile(np.arange(NumHarms),NumBins*2))\n",
    "    DataLogs = {}\n",
    "    # save data into arr\n",
    "    rshp_data = np.reshape(dIn, newshape=(ns,nh*2))\n",
    "    \n",
    "    for sIn in range(ns):\n",
    "        SubjDataLog = np.zeros((NumBins*NumHarms*2,7))\n",
    "    # sub ID, R0\n",
    "        sID = snIn[sIn]\n",
    "        # VALS, R6\n",
    "        sVals = rshp_data[sIn,:] # 20 48 (pre post manner)\n",
    "        # fill array w data\n",
    "        SubjDataLog[:,0] = sID # SUBJ id \n",
    "        SubjDataLog[:,1] = AttnXArr # attention \n",
    "        SubjDataLog[:,2] = FreqFiltArr# FreqFilt (freq tagged contrast (hi / low))\n",
    "        SubjDataLog[:,3] = Harm_Ind # Harmonic \n",
    "        SubjDataLog[:,4] = sweep_ind # Contrast sweep num ind\n",
    "        SubjDataLog[:,5] = coIn # Pre Post Ind [0,1]\n",
    "        SubjDataLog[:,6] = sVals\n",
    "        DataLogs[sIn] = SubjDataLog\n",
    "    return DataLogs"
   ]
  },
  {
   "cell_type": "code",
   "execution_count": 11,
   "metadata": {},
   "outputs": [
    {
     "name": "stdout",
     "output_type": "stream",
     "text": [
      "\n",
      "\n",
      "\n",
      "\n"
     ]
    }
   ],
   "source": [
    "DataLogsperCond = {}\n",
    "\n",
    "for co in range(NumConds):\n",
    "    DataLogsperCond[co] = MakeDataLogs(NumBins,NumHarms,ContrastArr,HarmArr,dIn=data,costrIn=data_labels,snIn = SubNames,conditionFile = int(co))\n",
    "    print()"
   ]
  },
  {
   "cell_type": "code",
   "execution_count": 12,
   "metadata": {},
   "outputs": [],
   "source": [
    "coLogs = {}\n",
    "for co in range(NumConds):\n",
    "\n",
    "    dfs_In = DataLogsperCond[co]\n",
    "    coLogs[co] = np.concatenate ([dfs_In[key] for key in dfs_In], axis = 0)\n"
   ]
  },
  {
   "cell_type": "code",
   "execution_count": 13,
   "metadata": {},
   "outputs": [],
   "source": [
    "Log = np.concatenate([coLogs[key] for key in coLogs], axis = 0)"
   ]
  },
  {
   "cell_type": "code",
   "execution_count": 14,
   "metadata": {},
   "outputs": [
    {
     "name": "stdout",
     "output_type": "stream",
     "text": [
      "(1728, 6)\n"
     ]
    }
   ],
   "source": [
    "print(Log.shape)"
   ]
  },
  {
   "cell_type": "code",
   "execution_count": 15,
   "metadata": {},
   "outputs": [],
   "source": [
    "log =  {'Subj': Log[:,0],\n",
    "        'AttnX': Log[:,1], #  \n",
    "        'Contrast_VEP': Log[:,2], #  \n",
    "        'Harmonic': Log[:,3], # \n",
    "        'Contrast_Bins': Log[:,4], #  \n",
    "        'Vals': Log[:,5]}\n",
    "ResponseDiffLog = pd.DataFrame(log)"
   ]
  },
  {
   "cell_type": "code",
   "execution_count": 16,
   "metadata": {},
   "outputs": [
    {
     "data": {
      "text/html": [
       "<div>\n",
       "<style scoped>\n",
       "    .dataframe tbody tr th:only-of-type {\n",
       "        vertical-align: middle;\n",
       "    }\n",
       "\n",
       "    .dataframe tbody tr th {\n",
       "        vertical-align: top;\n",
       "    }\n",
       "\n",
       "    .dataframe thead th {\n",
       "        text-align: right;\n",
       "    }\n",
       "</style>\n",
       "<table border=\"1\" class=\"dataframe\">\n",
       "  <thead>\n",
       "    <tr style=\"text-align: right;\">\n",
       "      <th></th>\n",
       "      <th>Subj</th>\n",
       "      <th>AttnX</th>\n",
       "      <th>Contrast_VEP</th>\n",
       "      <th>Harmonic</th>\n",
       "      <th>Contrast_Bins</th>\n",
       "      <th>Vals</th>\n",
       "    </tr>\n",
       "  </thead>\n",
       "  <tbody>\n",
       "    <tr>\n",
       "      <th>0</th>\n",
       "      <td>2654.0</td>\n",
       "      <td>1.0</td>\n",
       "      <td>1.0</td>\n",
       "      <td>0.0</td>\n",
       "      <td>0.0</td>\n",
       "      <td>-0.160264</td>\n",
       "    </tr>\n",
       "    <tr>\n",
       "      <th>1</th>\n",
       "      <td>2654.0</td>\n",
       "      <td>1.0</td>\n",
       "      <td>1.0</td>\n",
       "      <td>0.0</td>\n",
       "      <td>1.0</td>\n",
       "      <td>0.005230</td>\n",
       "    </tr>\n",
       "    <tr>\n",
       "      <th>2</th>\n",
       "      <td>2654.0</td>\n",
       "      <td>1.0</td>\n",
       "      <td>1.0</td>\n",
       "      <td>0.0</td>\n",
       "      <td>2.0</td>\n",
       "      <td>0.162359</td>\n",
       "    </tr>\n",
       "    <tr>\n",
       "      <th>3</th>\n",
       "      <td>2654.0</td>\n",
       "      <td>1.0</td>\n",
       "      <td>1.0</td>\n",
       "      <td>0.0</td>\n",
       "      <td>3.0</td>\n",
       "      <td>-0.189057</td>\n",
       "    </tr>\n",
       "    <tr>\n",
       "      <th>4</th>\n",
       "      <td>2654.0</td>\n",
       "      <td>1.0</td>\n",
       "      <td>1.0</td>\n",
       "      <td>0.0</td>\n",
       "      <td>4.0</td>\n",
       "      <td>-0.335596</td>\n",
       "    </tr>\n",
       "    <tr>\n",
       "      <th>...</th>\n",
       "      <td>...</td>\n",
       "      <td>...</td>\n",
       "      <td>...</td>\n",
       "      <td>...</td>\n",
       "      <td>...</td>\n",
       "      <td>...</td>\n",
       "    </tr>\n",
       "    <tr>\n",
       "      <th>1723</th>\n",
       "      <td>2726.0</td>\n",
       "      <td>0.0</td>\n",
       "      <td>0.0</td>\n",
       "      <td>3.0</td>\n",
       "      <td>1.0</td>\n",
       "      <td>-0.165616</td>\n",
       "    </tr>\n",
       "    <tr>\n",
       "      <th>1724</th>\n",
       "      <td>2726.0</td>\n",
       "      <td>0.0</td>\n",
       "      <td>0.0</td>\n",
       "      <td>3.0</td>\n",
       "      <td>2.0</td>\n",
       "      <td>-0.096241</td>\n",
       "    </tr>\n",
       "    <tr>\n",
       "      <th>1725</th>\n",
       "      <td>2726.0</td>\n",
       "      <td>0.0</td>\n",
       "      <td>0.0</td>\n",
       "      <td>3.0</td>\n",
       "      <td>3.0</td>\n",
       "      <td>-0.017477</td>\n",
       "    </tr>\n",
       "    <tr>\n",
       "      <th>1726</th>\n",
       "      <td>2726.0</td>\n",
       "      <td>0.0</td>\n",
       "      <td>0.0</td>\n",
       "      <td>3.0</td>\n",
       "      <td>4.0</td>\n",
       "      <td>-0.105655</td>\n",
       "    </tr>\n",
       "    <tr>\n",
       "      <th>1727</th>\n",
       "      <td>2726.0</td>\n",
       "      <td>0.0</td>\n",
       "      <td>0.0</td>\n",
       "      <td>3.0</td>\n",
       "      <td>5.0</td>\n",
       "      <td>0.050702</td>\n",
       "    </tr>\n",
       "  </tbody>\n",
       "</table>\n",
       "<p>1728 rows × 6 columns</p>\n",
       "</div>"
      ],
      "text/plain": [
       "        Subj  AttnX  Contrast_VEP  Harmonic  Contrast_Bins      Vals\n",
       "0     2654.0    1.0           1.0       0.0            0.0 -0.160264\n",
       "1     2654.0    1.0           1.0       0.0            1.0  0.005230\n",
       "2     2654.0    1.0           1.0       0.0            2.0  0.162359\n",
       "3     2654.0    1.0           1.0       0.0            3.0 -0.189057\n",
       "4     2654.0    1.0           1.0       0.0            4.0 -0.335596\n",
       "...      ...    ...           ...       ...            ...       ...\n",
       "1723  2726.0    0.0           0.0       3.0            1.0 -0.165616\n",
       "1724  2726.0    0.0           0.0       3.0            2.0 -0.096241\n",
       "1725  2726.0    0.0           0.0       3.0            3.0 -0.017477\n",
       "1726  2726.0    0.0           0.0       3.0            4.0 -0.105655\n",
       "1727  2726.0    0.0           0.0       3.0            5.0  0.050702\n",
       "\n",
       "[1728 rows x 6 columns]"
      ]
     },
     "execution_count": 16,
     "metadata": {},
     "output_type": "execute_result"
    }
   ],
   "source": [
    "ResponseDiffLog"
   ]
  },
  {
   "cell_type": "code",
   "execution_count": 17,
   "metadata": {},
   "outputs": [
    {
     "name": "stdout",
     "output_type": "stream",
     "text": [
      "                                   sum_sq                 df               F         PR(>F)\n",
      "C(Subj)                   12.048177163043    30.000000000000  6.180742443051 0.000000000000\n",
      "C(AttnX)                   0.018036231079     1.000000000000  0.277578833967 0.598361852140\n",
      "C(Contrast_VEP)            0.893332431168     1.000000000000 13.748447416623 0.000215755975\n",
      "C(Harmonic)                4.548999954613     3.000000000000 23.336473818760 0.000000000000\n",
      "C(Contrast_Bins)           0.987153846096     5.000000000000  3.038473086088 0.009789620192\n",
      "C(Contrast_VEP):C(AttnX)   0.287653043415     1.000000000000  4.427000077055 0.035522378667\n",
      "Residual                 109.551168456202 1,686.000000000000             NaN            NaN\n"
     ]
    }
   ],
   "source": [
    "one_way_interactions = ols('Vals ~ C(Subj)+C(AttnX)+C(Contrast_VEP)+C(Harmonic)+C(Contrast_Bins)+C(Contrast_VEP):C(AttnX)', data=ResponseDiffLog).fit()\n",
    "anova_table = sm.stats.anova_lm(one_way_interactions, typ=2)\n",
    "\n",
    "print(anova_table.to_string(float_format='{:,.12f}'.format))\n",
    "# something i noticed is that with additional hamronics the variance went down from 117 to 109 lol"
   ]
  },
  {
   "cell_type": "markdown",
   "metadata": {},
   "source": [
    "#### Make DataFrame for ANOVA given pre and post values"
   ]
  },
  {
   "cell_type": "code",
   "execution_count": 18,
   "metadata": {},
   "outputs": [],
   "source": [
    "crf_DataLogsperCond = {}\n",
    "\n",
    "for co in range(NumConds):\n",
    "    crf_DataLogsperCond[co] = MakePrePostDataLog(conditionFile = co,NumBins = 6,NumHarms = 4,dIn=crf_responses,costrIn=data_labels,snIn = SubNames)\n"
   ]
  },
  {
   "cell_type": "code",
   "execution_count": 19,
   "metadata": {},
   "outputs": [],
   "source": [
    "co_crfLogs = {}\n",
    "\n",
    "for co in range(NumConds):\n",
    "    dfsIn = crf_DataLogsperCond[co]\n",
    "    co_crfLogs[co] = np.concatenate ([dfsIn[key] for key in dfsIn], axis = 0)"
   ]
  },
  {
   "cell_type": "code",
   "execution_count": 20,
   "metadata": {},
   "outputs": [],
   "source": [
    "crf_Log = np.concatenate ([co_crfLogs[key] for key in co_crfLogs], axis = 0)"
   ]
  },
  {
   "cell_type": "code",
   "execution_count": 21,
   "metadata": {},
   "outputs": [
    {
     "name": "stdout",
     "output_type": "stream",
     "text": [
      "(3456, 7)\n"
     ]
    }
   ],
   "source": [
    "print(crf_Log.shape)"
   ]
  },
  {
   "cell_type": "code",
   "execution_count": 22,
   "metadata": {},
   "outputs": [],
   "source": [
    "co_log =  {'Subj': crf_Log[:,0],\n",
    "        'AttnX': crf_Log[:,1], #  \n",
    "        'Contrast_VEP': crf_Log[:,2], #  \n",
    "        'Harmonic': crf_Log[:,3], # \n",
    "        'Contrast_Bins': crf_Log[:,4], #  \n",
    "        'PrePost': crf_Log[:,5],\n",
    "        'Vals': crf_Log[:,6]}\n",
    "All_crf_Responses_Log = pd.DataFrame(co_log)"
   ]
  },
  {
   "cell_type": "code",
   "execution_count": 23,
   "metadata": {},
   "outputs": [
    {
     "data": {
      "text/html": [
       "<div>\n",
       "<style scoped>\n",
       "    .dataframe tbody tr th:only-of-type {\n",
       "        vertical-align: middle;\n",
       "    }\n",
       "\n",
       "    .dataframe tbody tr th {\n",
       "        vertical-align: top;\n",
       "    }\n",
       "\n",
       "    .dataframe thead th {\n",
       "        text-align: right;\n",
       "    }\n",
       "</style>\n",
       "<table border=\"1\" class=\"dataframe\">\n",
       "  <thead>\n",
       "    <tr style=\"text-align: right;\">\n",
       "      <th></th>\n",
       "      <th>Subj</th>\n",
       "      <th>AttnX</th>\n",
       "      <th>Contrast_VEP</th>\n",
       "      <th>Harmonic</th>\n",
       "      <th>Contrast_Bins</th>\n",
       "      <th>PrePost</th>\n",
       "      <th>Vals</th>\n",
       "    </tr>\n",
       "  </thead>\n",
       "  <tbody>\n",
       "    <tr>\n",
       "      <th>0</th>\n",
       "      <td>2654.0</td>\n",
       "      <td>1.0</td>\n",
       "      <td>1.0</td>\n",
       "      <td>0.0</td>\n",
       "      <td>0.0</td>\n",
       "      <td>0.0</td>\n",
       "      <td>0.811857</td>\n",
       "    </tr>\n",
       "    <tr>\n",
       "      <th>1</th>\n",
       "      <td>2654.0</td>\n",
       "      <td>1.0</td>\n",
       "      <td>1.0</td>\n",
       "      <td>0.0</td>\n",
       "      <td>0.0</td>\n",
       "      <td>1.0</td>\n",
       "      <td>0.651592</td>\n",
       "    </tr>\n",
       "    <tr>\n",
       "      <th>2</th>\n",
       "      <td>2654.0</td>\n",
       "      <td>1.0</td>\n",
       "      <td>1.0</td>\n",
       "      <td>0.0</td>\n",
       "      <td>1.0</td>\n",
       "      <td>0.0</td>\n",
       "      <td>2.149527</td>\n",
       "    </tr>\n",
       "    <tr>\n",
       "      <th>3</th>\n",
       "      <td>2654.0</td>\n",
       "      <td>1.0</td>\n",
       "      <td>1.0</td>\n",
       "      <td>0.0</td>\n",
       "      <td>1.0</td>\n",
       "      <td>1.0</td>\n",
       "      <td>2.154757</td>\n",
       "    </tr>\n",
       "    <tr>\n",
       "      <th>4</th>\n",
       "      <td>2654.0</td>\n",
       "      <td>1.0</td>\n",
       "      <td>1.0</td>\n",
       "      <td>0.0</td>\n",
       "      <td>2.0</td>\n",
       "      <td>0.0</td>\n",
       "      <td>3.336312</td>\n",
       "    </tr>\n",
       "    <tr>\n",
       "      <th>...</th>\n",
       "      <td>...</td>\n",
       "      <td>...</td>\n",
       "      <td>...</td>\n",
       "      <td>...</td>\n",
       "      <td>...</td>\n",
       "      <td>...</td>\n",
       "      <td>...</td>\n",
       "    </tr>\n",
       "    <tr>\n",
       "      <th>3451</th>\n",
       "      <td>2726.0</td>\n",
       "      <td>0.0</td>\n",
       "      <td>0.0</td>\n",
       "      <td>3.0</td>\n",
       "      <td>3.0</td>\n",
       "      <td>1.0</td>\n",
       "      <td>0.185763</td>\n",
       "    </tr>\n",
       "    <tr>\n",
       "      <th>3452</th>\n",
       "      <td>2726.0</td>\n",
       "      <td>0.0</td>\n",
       "      <td>0.0</td>\n",
       "      <td>3.0</td>\n",
       "      <td>4.0</td>\n",
       "      <td>0.0</td>\n",
       "      <td>0.652750</td>\n",
       "    </tr>\n",
       "    <tr>\n",
       "      <th>3453</th>\n",
       "      <td>2726.0</td>\n",
       "      <td>0.0</td>\n",
       "      <td>0.0</td>\n",
       "      <td>3.0</td>\n",
       "      <td>4.0</td>\n",
       "      <td>1.0</td>\n",
       "      <td>0.547095</td>\n",
       "    </tr>\n",
       "    <tr>\n",
       "      <th>3454</th>\n",
       "      <td>2726.0</td>\n",
       "      <td>0.0</td>\n",
       "      <td>0.0</td>\n",
       "      <td>3.0</td>\n",
       "      <td>5.0</td>\n",
       "      <td>0.0</td>\n",
       "      <td>0.770253</td>\n",
       "    </tr>\n",
       "    <tr>\n",
       "      <th>3455</th>\n",
       "      <td>2726.0</td>\n",
       "      <td>0.0</td>\n",
       "      <td>0.0</td>\n",
       "      <td>3.0</td>\n",
       "      <td>5.0</td>\n",
       "      <td>1.0</td>\n",
       "      <td>0.820955</td>\n",
       "    </tr>\n",
       "  </tbody>\n",
       "</table>\n",
       "<p>3456 rows × 7 columns</p>\n",
       "</div>"
      ],
      "text/plain": [
       "        Subj  AttnX  Contrast_VEP  Harmonic  Contrast_Bins  PrePost      Vals\n",
       "0     2654.0    1.0           1.0       0.0            0.0      0.0  0.811857\n",
       "1     2654.0    1.0           1.0       0.0            0.0      1.0  0.651592\n",
       "2     2654.0    1.0           1.0       0.0            1.0      0.0  2.149527\n",
       "3     2654.0    1.0           1.0       0.0            1.0      1.0  2.154757\n",
       "4     2654.0    1.0           1.0       0.0            2.0      0.0  3.336312\n",
       "...      ...    ...           ...       ...            ...      ...       ...\n",
       "3451  2726.0    0.0           0.0       3.0            3.0      1.0  0.185763\n",
       "3452  2726.0    0.0           0.0       3.0            4.0      0.0  0.652750\n",
       "3453  2726.0    0.0           0.0       3.0            4.0      1.0  0.547095\n",
       "3454  2726.0    0.0           0.0       3.0            5.0      0.0  0.770253\n",
       "3455  2726.0    0.0           0.0       3.0            5.0      1.0  0.820955\n",
       "\n",
       "[3456 rows x 7 columns]"
      ]
     },
     "execution_count": 23,
     "metadata": {},
     "output_type": "execute_result"
    }
   ],
   "source": [
    "All_crf_Responses_Log"
   ]
  },
  {
   "cell_type": "code",
   "execution_count": 24,
   "metadata": {},
   "outputs": [
    {
     "name": "stdout",
     "output_type": "stream",
     "text": [
      "                                             sum_sq                 df                  F         PR(>F)\n",
      "C(Subj)                          1,321.924905213626    30.000000000000    37.476073700687 0.000000000000\n",
      "C(AttnX)                             4.286706532303     1.000000000000     3.645795520704 0.056294807180\n",
      "C(Contrast_VEP)                    121.001215048784     1.000000000000   102.910167631076 0.000000000000\n",
      "C(Harmonic)                      4,065.072783570516     3.000000000000 1,152.432839678798 0.000000000000\n",
      "C(Contrast_Bins)                   899.401263821881     5.000000000000   152.986124627252 0.000000000000\n",
      "C(PrePost)                           0.681165792584     1.000000000000     0.579323818121 0.446630130168\n",
      "C(Contrast_VEP):C(Contrast_Bins)    32.520501034293     5.000000000000     5.531663812692 0.000044386930\n",
      "Residual                         4,008.283647734964 3,409.000000000000                NaN            NaN\n"
     ]
    }
   ],
   "source": [
    "one_way_interactions = ols('Vals ~ C(Subj)+C(AttnX)+C(Contrast_VEP)+C(Harmonic)+C(Contrast_Bins)+C(PrePost)+C(Contrast_VEP):C(Contrast_Bins)', data=All_crf_Responses_Log).fit()\n",
    "anova_table = sm.stats.anova_lm(one_way_interactions, typ=2)\n",
    "\n",
    "print(anova_table.to_string(float_format='{:,.12f}'.format))"
   ]
  },
  {
   "cell_type": "code",
   "execution_count": 25,
   "metadata": {},
   "outputs": [],
   "source": [
    "LogsOut = {}\n",
    "\n",
    "DiffLog = ResponseDiffLog\n",
    "PrePostLog = All_crf_Responses_Log"
   ]
  },
  {
   "cell_type": "markdown",
   "metadata": {},
   "source": [
    "# Save out data (export)"
   ]
  },
  {
   "cell_type": "code",
   "execution_count": 26,
   "metadata": {},
   "outputs": [
    {
     "name": "stdout",
     "output_type": "stream",
     "text": [
      "Path to Save File is: C:\\plimon\\LTP_analysis\\RCA_F1\\StatsDataFrames\\\n",
      "Full New File Dir:  C:\\plimon\\LTP_analysis\\RCA_F1\\StatsDataFrames\\LTP_LogsOut_2468F_df_20240317_0656.pkl\n",
      "Response Differences Data Frame Saved as pkl and csv! :))\n"
     ]
    }
   ],
   "source": [
    "SaveDataDir = 'C:\\\\plimon\\\\LTP_analysis\\\\RCA_F1\\\\StatsDataFrames\\\\' # set dir where files (.pkl, .csv) will be saved\n",
    "if not os.path.exists(SaveDataDir):\n",
    "    os.makedirs(SaveDataDir)\n",
    "print('Path to Save File is:',SaveDataDir)\n",
    "\n",
    "FileOutName = 'LTP_LogsOut_2468F_df' # make sure this file changes each time you save\n",
    "######################################################\n",
    "dnt = datetime.now() # add date and time bc im wreckless when saving ..\n",
    "fdnt = dnt.strftime(\"%Y%m%d_%H%M\") # set the above as a string ...\n",
    "FileN = f'{FileOutName}_{fdnt}.pkl' \n",
    "cFileN = f'{FileOutName}_{fdnt}.csv' \n",
    "\n",
    "NewFileNPath = os.path.join(SaveDataDir,FileN)\n",
    "cNewFilePath = os.path.join(SaveDataDir,cFileN)\n",
    "\n",
    "print('Full New File Dir: ', NewFileNPath)\n",
    "\n",
    "############################################################################################\n",
    "saveFile = 'y'\n",
    "\n",
    "if saveFile == 'y':\n",
    " \n",
    " ResponseDiffLog.to_csv(cNewFilePath)\n",
    " \n",
    " with open(NewFileNPath, 'wb') as file:\n",
    "    pkl.dump(LogsOut, file, protocol=pkl.HIGHEST_PROTOCOL)\n",
    "    # save as .mat file or .csv file to import into matlab \n",
    "\n",
    "    \n",
    "    print('Response Differences Data Frame Saved as pkl and csv! :))')\n",
    "else:\n",
    "    print('Did Not Save File! Change file name before switching to y!')"
   ]
  }
 ],
 "metadata": {
  "kernelspec": {
   "display_name": "Python 3",
   "language": "python",
   "name": "python3"
  },
  "language_info": {
   "codemirror_mode": {
    "name": "ipython",
    "version": 3
   },
   "file_extension": ".py",
   "mimetype": "text/x-python",
   "name": "python",
   "nbconvert_exporter": "python",
   "pygments_lexer": "ipython3",
   "version": "3.11.8"
  }
 },
 "nbformat": 4,
 "nbformat_minor": 2
}
