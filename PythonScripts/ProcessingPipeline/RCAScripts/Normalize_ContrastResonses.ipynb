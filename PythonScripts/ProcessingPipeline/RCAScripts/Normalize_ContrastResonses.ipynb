{
 "cells": [
  {
   "cell_type": "code",
   "execution_count": 236,
   "metadata": {},
   "outputs": [],
   "source": [
    "# load packages\n",
    "import numpy as np \n",
    "import scipy.io\n",
    "from scipy.io   import  loadmat\n",
    "import pandas as pd\n",
    "import os\n",
    "import matplotlib.pyplot as plt #import matplotlib as plt\n",
    "from scipy.optimize import curve_fit \n",
    "import seaborn as sns #import mat73\n",
    "import pickle as pkl\n",
    "from datetime import datetime\n",
    "from itertools import chain"
   ]
  },
  {
   "cell_type": "code",
   "execution_count": 237,
   "metadata": {},
   "outputs": [],
   "source": [
    "rca_comp = 0 # rca component to look at \n",
    "harmo = 0 # harmonic to look at 0-3 : 2, 4,6,8"
   ]
  },
  {
   "cell_type": "code",
   "execution_count": 238,
   "metadata": {},
   "outputs": [
    {
     "name": "stdout",
     "output_type": "stream",
     "text": [
      "Avilable Files to choose from: 5\n",
      "Files on hand: ['desktop.ini', 'OfficialF1_Control_rcaResults_Sweep.mat', 'OfficialF1_rcaResults_Sweep_F2F4F6F8.mat', 'OfficialF2_Control_rcaResults_Sweep.mat', 'OfficialF2_rcaResults_Sweep_F2F4F6F8.mat']\n",
      "Current WD: C:\\plimon\\LTP_analysis\\RCA_Fx_OutputData\\RCA_Files\\OfficialF1_Control_rcaResults_Sweep.mat\n",
      "Does File #1 Exist? True\n",
      "Current WD: C:\\plimon\\LTP_analysis\\RCA_Fx_OutputData\\RCA_Files\\OfficialF2_Control_rcaResults_Sweep.mat\n",
      "Does File #2 Exist? True\n"
     ]
    }
   ],
   "source": [
    "# Main Directory of processed file from MatLab\n",
    "MainDir = 'C:\\\\plimon\\\\LTP_analysis\\\\RCA_Fx_OutputData\\\\RCA_Files\\\\' # set dir - on my computer\n",
    "os.chdir(MainDir) # change old dir, to this dir\n",
    "d = os.listdir(MainDir) # list files in dir\n",
    "print(f'Avilable Files to choose from: {len(d)}')\n",
    "print(f'Files on hand: {d}')\n",
    "##############################################\n",
    "FileN_f1 = d[1] # choose one\n",
    "FileN_f2  = d[3]                         \n",
    "file_path1 = os.path.join(MainDir, FileN_f1) # join paths and prep 2 load\n",
    "print('Current WD:',file_path1) # does path exist ... ?\n",
    "print('Does File #1 Exist?',os.path.exists(file_path1)) # yes or no\n",
    "\n",
    "file_path2 = os.path.join(MainDir, FileN_f2) # join paths and prep 2 load\n",
    "print('Current WD:',file_path2) # does path exist ... ?\n",
    "print('Does File #2 Exist?',os.path.exists(file_path1)) # yes or no"
   ]
  },
  {
   "cell_type": "code",
   "execution_count": 239,
   "metadata": {},
   "outputs": [],
   "source": [
    "df_f1 = scipy.io.loadmat(file_path1)\n",
    "df_f2 = scipy.io.loadmat(file_path2)"
   ]
  },
  {
   "cell_type": "code",
   "execution_count": 240,
   "metadata": {},
   "outputs": [],
   "source": [
    "rca_f1 = df_f1['rcaResult']['projectedData'][0,0]\n",
    "f1 = [rca_f1[x,0] for x in range(rca_f1.shape[0])] # entry per subject"
   ]
  },
  {
   "cell_type": "code",
   "execution_count": 241,
   "metadata": {},
   "outputs": [],
   "source": [
    "F1_noise = df_f1['rcaResult']['noiseData'][0,0]\n",
    "noise_f1 = [F1_noise[x,0] for x in range(F1_noise.shape[0])][0][0]# entry per subject"
   ]
  },
  {
   "cell_type": "code",
   "execution_count": 242,
   "metadata": {},
   "outputs": [],
   "source": [
    "rca_f2 = df_f2['rcaResult']['projectedData'][0,0]\n",
    "f2 = [rca_f2[x,0] for x in range(rca_f2.shape[0])]"
   ]
  },
  {
   "cell_type": "code",
   "execution_count": 243,
   "metadata": {},
   "outputs": [],
   "source": [
    "F2_noise = df_f2['rcaResult']['noiseData'][0,0]\n",
    "noise_f2 = [F2_noise[x,0] for x in range(F2_noise.shape[0])][0][0]# entry per subject"
   ]
  },
  {
   "cell_type": "code",
   "execution_count": 244,
   "metadata": {},
   "outputs": [
    {
     "name": "stdout",
     "output_type": "stream",
     "text": [
      "Total Data Files: 10\n"
     ]
    }
   ],
   "source": [
    "# load subject names ...\n",
    "SubNames = df_f1['rcaResult'][0,0][5]\n",
    "FileName = [x[0][3:] for subjlist in SubNames for x in subjlist[0][2][0]]\n",
    "print(f'Total Data Files: {len(FileName)}')"
   ]
  },
  {
   "cell_type": "code",
   "execution_count": 245,
   "metadata": {},
   "outputs": [],
   "source": [
    "str_split = '-'  # strong to index sub name and expt cond.\n",
    "labels = ['Potentiated Stim, Attention Congruent','Non-Potentiated Stim, Attention Congruent','No Stim, Attention Incongruent, F1 ','No Stim, Attention Incongruent, F2']\n",
    "contrast_labs = ['1%','3%','5%','16%','40%','100%']\n",
    "# custom colors\n",
    "colors = [\"#FF0B04\", \"#4374B3\", \"#228B22\", \"#8A2BE2\"]\n",
    "# Set color palette\n",
    "sns.set_palette(sns.color_palette(colors))"
   ]
  },
  {
   "cell_type": "code",
   "execution_count": 246,
   "metadata": {},
   "outputs": [],
   "source": [
    "# set all file names to the same hyphen format\n",
    "FileName = [FileName.replace('_','-') for FileName in FileName]\n",
    "NumFiles = int(len(FileName))\n",
    "# Find How Many Subject Names There are ...\n",
    "string_ind = '-'\n",
    "uniqueSubs = []\n",
    "SessFileType = []\n",
    "'for each file name, get sub ID and also session record'\n",
    "for n in range(NumFiles):\n",
    "    x = FileName[n] # single file name string ie: 'nl-xxxx_attnX'\n",
    "    if string_ind in x:\n",
    "        y = x.split(string_ind)[0] # get subj number\n",
    "        #print(y)\n",
    "        z = x.split(string_ind)[1] # get session condition name \n",
    "        # from each session name extract import info that will help us index and exclude later on ..\n",
    "        uniqueSubs.append(y) # store all participant numbers (repeating - will be sorted later)\n",
    "        SessFileType.append(z) # store the condtion label"
   ]
  },
  {
   "cell_type": "code",
   "execution_count": 247,
   "metadata": {},
   "outputs": [
    {
     "name": "stdout",
     "output_type": "stream",
     "text": [
      "['attnR', 'attnR', 'attnR', 'attnR', 'attnR', 'attnR', 'attnR', 'attnR', 'attnR', 'attnR']\n"
     ]
    }
   ],
   "source": [
    "subjLen  = int(len(uniqueSubs))\n",
    "SessFileType = ['attnR' for in range(subjLen)]\n",
    "print(SessFileType)"
   ]
  },
  {
   "cell_type": "code",
   "execution_count": 248,
   "metadata": {},
   "outputs": [
    {
     "name": "stdout",
     "output_type": "stream",
     "text": [
      "Subject IDs: ['2738', '2740', '2742', '2745', '2746', '2751', '2769', '345202', '345215', '345216']\n",
      " Conditions: ['attnR', 'attnR']\n"
     ]
    }
   ],
   "source": [
    "print(f'Subject IDs: {uniqueSubs}')\n",
    "print(f' Conditions: {SessFileType[0:2]}')"
   ]
  },
  {
   "cell_type": "code",
   "execution_count": 249,
   "metadata": {},
   "outputs": [
    {
     "name": "stdout",
     "output_type": "stream",
     "text": [
      "Total Participants: 10\n"
     ]
    }
   ],
   "source": [
    "# given double sessions.., how many unique participants do we have?\n",
    "TotalFiles = np.array(uniqueSubs)\n",
    "[NumSubs, SessCounts] = np.unique(TotalFiles, return_counts = True) # returns unique subject and how many sessions they did (should be 2)\n",
    "print(f'Total Participants: {len(NumSubs)}')\n",
    "[FileQuants, TotSess] = np.unique(SessCounts, return_counts = True) # returns counts of how many subs did 1 session and 2 sessions "
   ]
  },
  {
   "cell_type": "code",
   "execution_count": 250,
   "metadata": {},
   "outputs": [
    {
     "name": "stdout",
     "output_type": "stream",
     "text": [
      "['2738' '2740' '2742' '2745' '2746' '2751' '2769' '345202' '345215'\n",
      " '345216']\n"
     ]
    }
   ],
   "source": [
    "print(NumSubs)"
   ]
  },
  {
   "cell_type": "code",
   "execution_count": 251,
   "metadata": {},
   "outputs": [
    {
     "name": "stdout",
     "output_type": "stream",
     "text": [
      "10\n",
      "10\n"
     ]
    }
   ],
   "source": [
    "#dataSet_Inds = ['2651','2658','2659','2661','2664','2666','2668','2672','2674','2695','345202','345215','2715','2726']\n",
    "ds_set = NumSubs\n",
    "print(len(ds_set))\n",
    "#dubSubs = ['2652']\n",
    "# for control subjects: \n",
    "'subject 2749 has one additional block of post, so will modify code for this chunk only'\n",
    "badSubs = ['5555']#['2745', '345215'] \n",
    "# for LTP Subjects\n",
    "#badSubs = ['2661','2669','2671','2716','2663','2652'] # reasonable exclusions...\n",
    "#badSubs = ['2652','2663','2655','2657','2661','2668','2669','2671','2696','2660','2678','2627'] # most conservative ec : activity across all conditions decreased and/or very noisy crf's \n",
    "filter_noisySubs = [x for x in ds_set if x not in badSubs ]\n",
    "dataSet_Inds = filter_noisySubs\n",
    "print(len(dataSet_Inds))"
   ]
  },
  {
   "cell_type": "code",
   "execution_count": 252,
   "metadata": {},
   "outputs": [
    {
     "name": "stdout",
     "output_type": "stream",
     "text": [
      "10\n"
     ]
    }
   ],
   "source": [
    "# total number of file sessions!\n",
    "sCount = [x for x in uniqueSubs if x not in badSubs]\n",
    "print(len(sCount))"
   ]
  },
  {
   "cell_type": "code",
   "execution_count": 282,
   "metadata": {},
   "outputs": [
    {
     "name": "stdout",
     "output_type": "stream",
     "text": [
      "importing subject 2738s data\n",
      "AttnR File Pos: [0], Exp Session: attnR\n",
      "(2, 6)\n",
      "nan\n",
      "nan\n",
      "nan\n",
      "nan\n",
      "nan\n",
      "nan\n",
      "(2, 6)\n",
      "nan\n",
      "nan\n",
      "nan\n",
      "nan\n",
      "nan\n",
      "nan\n",
      "(2, 6)\n",
      "nan\n",
      "nan\n",
      "nan\n",
      "nan\n",
      "nan\n",
      "nan\n",
      "(2, 6)\n",
      "nan\n",
      "nan\n",
      "nan\n",
      "nan\n",
      "nan\n",
      "nan\n",
      "(2, 6)\n",
      "nan\n",
      "nan\n",
      "nan\n",
      "nan\n",
      "nan\n",
      "nan\n",
      "(2, 6)\n",
      "nan\n",
      "nan\n",
      "nan\n",
      "nan\n",
      "nan\n",
      "nan\n",
      "(2, 6)\n",
      "nan\n",
      "nan\n",
      "nan\n",
      "nan\n",
      "nan\n",
      "nan\n",
      "(2, 6)\n",
      "nan\n",
      "nan\n",
      "nan\n",
      "nan\n",
      "nan\n",
      "nan\n",
      "(2, 6)\n",
      "0.6120167849720762\n",
      "1.7124575000014057\n",
      "2.5690350303906704\n",
      "3.2225430966204427\n",
      "3.002239131828754\n",
      "3.458790416726188\n",
      "(2, 6)\n",
      "0.8429802967905731\n",
      "0.8218776007152027\n",
      "0.8066734920368119\n",
      "0.7869542450845413\n",
      "0.6913576960961053\n",
      "0.9340973256257334\n",
      "(2, 6)\n",
      "0.22065421797501794\n",
      "0.1935483068387098\n",
      "0.14286067942599914\n",
      "0.15299500298660798\n",
      "0.14952637023672938\n",
      "0.3507188970493465\n",
      "(2, 6)\n",
      "0.11730774968169946\n",
      "0.08792683378122616\n",
      "0.12185975488683026\n",
      "0.06278230541139701\n",
      "0.18197670534484067\n",
      "0.3162970479373741\n",
      "(2, 6)\n",
      "0.6337339385020037\n",
      "2.0319941107852224\n",
      "2.918761909780993\n",
      "3.461321129418305\n",
      "3.1376589715385466\n",
      "2.577385462970113\n",
      "(2, 6)\n",
      "0.30600701714370404\n",
      "0.6055138906624375\n",
      "0.5721827496430605\n",
      "0.3233630093311283\n",
      "0.2035546008880297\n",
      "0.5361085357107496\n",
      "(2, 6)\n",
      "0.03609778110774012\n",
      "0.03920822251879213\n",
      "0.09218011833168088\n",
      "0.11583222231505215\n",
      "0.15027899882197127\n",
      "0.5520116442342106\n",
      "(2, 6)\n",
      "0.08109597609104437\n",
      "0.020563804262463452\n",
      "0.0633324315374105\n",
      "0.11136579097180742\n",
      "0.11598761948271843\n",
      "0.31758903151445\n"
     ]
    },
    {
     "name": "stderr",
     "output_type": "stream",
     "text": [
      "C:\\Users\\plimon\\AppData\\Local\\Temp\\ipykernel_7352\\1524677076.py:88: RuntimeWarning: Mean of empty slice\n",
      "  noiseVals = np.nanmean(nd,axis = 2)\n",
      "C:\\Users\\plimon\\AppData\\Local\\Temp\\ipykernel_7352\\1524677076.py:111: RuntimeWarning: Mean of empty slice\n",
      "  av = np.nanmean(avgVal,axis = 1) #[2]\n"
     ]
    }
   ],
   "source": [
    "'init dicts to save data'\n",
    "ProcessedConditionData = {} # pcd processed condition data\n",
    "diffs = {} # post - pre  / post + pre data\n",
    "ProcessedComplexVals = {}\n",
    "noise = {}\n",
    "####################################################\n",
    "'make empty df for missing values to still get plots'\n",
    "emptyMat = np.zeros((48,4,78))\n",
    "emptyMat[:] = np.nan\n",
    "NumTrialsRmv = 5\n",
    "###################################################\n",
    "for sIn in range(1):#(len(dataSet_Inds)):\n",
    "    'initialize subkeys for data'\n",
    "    ProcessedConditionData[sIn] = {} # pcd processed condition data\n",
    "    diffs[sIn] = {} # post - pre  / post + pre data\n",
    "    ProcessedComplexVals[sIn] = {} # init dict to store real and imaginary values for data\n",
    "\n",
    "    'enter subj ID to find file locations'\n",
    "    All_Data_sIn = dataSet_Inds[sIn]\n",
    "    print(f'importing subject {All_Data_sIn}s data')\n",
    "    SubjFile_Pos = [(i, x) for i, x in enumerate(FileName) if All_Data_sIn in x]\n",
    "\n",
    "    fx_fileInds = np.array([SubjFile_Pos[0][0]]) # FILE POSITION\n",
    "\n",
    "    print(f'AttnR File Pos: {fx_fileInds}, Exp Session: attnR')\n",
    "            # set data set to plot w filler data\n",
    "    DuoSessionData = [emptyMat,emptyMat,f1[fx_fileInds[0]], f2[fx_fileInds[0]]]\n",
    "    DuoNoiseData = [emptyMat,emptyMat, np.array(noise_f1[fx_fileInds])[0][0],np.array(noise_f2[fx_fileInds])[0][0]]\n",
    "\n",
    "    'iterate thorugh all conditions, see *labels* above'\n",
    "    for datamat in range(4): \n",
    "\n",
    "        x = np.array(DuoSessionData[datamat])\n",
    "        nx = DuoNoiseData\n",
    "        # look at first RCA component\n",
    "        xf = x[:,rca_comp,:] # [48 x 78] 1f1 2f1 4f1 6f1\n",
    "        nf = x[:,rca_comp,:]\n",
    "\n",
    "        cols,rows = xf.shape # get dims of data  \n",
    "        col_index = int(cols/2) # real and imaginary values to divide\n",
    "        row_index = int(rows/2) # pre post boundries to divide \n",
    "        ComplexData = np.zeros((2,col_index,rows)) #real/imag x contrast/harmonic vals x trials\n",
    "        n_ComplexData = np.zeros((2,col_index,rows)) #real/imag x contrast/harmonic vals x trials\n",
    "\n",
    "        #print(ComplexData.shape)\n",
    "        realData= xf[0:col_index,:] # real values for all trials \n",
    "        phaseData = xf[col_index:,:] # imaginary values for all trials\n",
    "        #print(ComplexData.shape)\n",
    "        n_realData= nf[0:col_index,:] # real values for all trials \n",
    "        n_phaseData = nf[col_index:,:] # imaginary values for all trials\n",
    "\n",
    "        'store data in a more organized array (reshape)'\n",
    "        ComplexData[0,:,:] = realData\n",
    "        ComplexData[1,:,:] = phaseData\n",
    "\n",
    "        n_ComplexData[0,:,:] = n_realData\n",
    "        n_ComplexData[1,:,:] = n_phaseData\n",
    "\n",
    "        harmonicData = {}\n",
    "        noiseharmonicdata = {}\n",
    "        'harmonic epochs indicies'\n",
    "        HamronicIndicies = np.arange(0,col_index,6) # index to get \n",
    "        'index data to prep for further processing'\n",
    "        for j in range(4):\n",
    "            s = HamronicIndicies[j]\n",
    "            e = s+6\n",
    "            harmonicData[j] = ComplexData[:,s:e,:]  #[2 x 6 x ~80 ]\n",
    "            noiseharmonicdata[j] = n_ComplexData[:,s:e,:]\n",
    "\n",
    "        'pre allocate for crf and complex values'   \n",
    "        #complexValues = {} # no combination of real x imaginary\n",
    "        #CleanCRF = {} # contrast response functions\n",
    "        'pre post differnces per harmonic'\n",
    "        pp_diff = np.zeros((4,6)) \n",
    "\n",
    "        'import harmonic data per datamatrix in data set as pre post'\n",
    "        noiseValsRec = np.zeros((4,6))\n",
    "        for l in range(4):\n",
    "            cplxValsRec = np.zeros((2,2,6)) # pre/postx real/imaginary values x per contrast sweep incriment\n",
    "            crfValsRec = np.zeros((2,6))\n",
    "\n",
    "\n",
    "            'import data per harmonic'\n",
    "            hd = harmonicData[l] # 2 x 6 x numtrials\n",
    "            nd = noiseharmonicdata[l]\n",
    "            'split pre/post'\n",
    "\n",
    "            noiseVals = np.nanmean(nd,axis = 2)\n",
    "            print(noiseVals.shape)\n",
    "\n",
    "            for contfreqs in range(6):\n",
    "                noiseIn = noiseVals[:,contfreqs]\n",
    "                hypo_noise = np.hypot(noiseIn[0],noiseIn[1])\n",
    "                print(hypo_noise)\n",
    "            noiseValsRec[l,contfreqs] = hypo_noise\n",
    "\n",
    "        \n",
    "            #########################################\n",
    "            'remove the first 5 trials for pre and post blocks to remove inhibitory effects'\n",
    "            p1 = hd[:,:,NumTrialsRmv:row_index] # pre  [2x6xnumtrials]\n",
    "            p2 = hd[:,:,row_index+NumTrialsRmv:] # post \n",
    "\n",
    "            \n",
    "            'store pre post in temp set array'\n",
    "            px_set = [p1,p2] # store pre post in temp array\n",
    "\n",
    "            for pp in range(2):\n",
    "                dIn = px_set[pp] # import pre or post data [2x6,~39]\n",
    "                for sweep in range(6): # import data for 1 contrast only [2x39]\n",
    "                    avgVal = dIn[:,sweep,:] # 2 x 39 vals\n",
    "                    av = np.nanmean(avgVal,axis = 1) #[2]\n",
    "                    'pre/post x contrast values ][2 x 6]'\n",
    "                    crfValsRec[pp,sweep] = np.hypot(av[0],av[1]) # pre / post contrast response functions\n",
    "                    cplxValsRec[pp,:,sweep] = av #[2x2xx6] # pre/posr x real/imaginary values x contrast sweep inc\n",
    "\n",
    "            pp_diff[l,:] = (crfValsRec[1,:] - crfValsRec[0,:]) / (crfValsRec[0,:] + crfValsRec[1,:]) # post - pre response differences\n",
    "\n",
    "            ProcessedConditionData[sIn,datamat,l] = crfValsRec\n",
    "            diffs[sIn,datamat] = pp_diff\n",
    "            ProcessedComplexVals[sIn,datamat,l] = cplxValsRec\n",
    "\n"
   ]
  },
  {
   "cell_type": "code",
   "execution_count": 275,
   "metadata": {},
   "outputs": [
    {
     "name": "stdout",
     "output_type": "stream",
     "text": [
      "dict_keys([0, (0, 0, 0), (0, 0, 1), (0, 0, 2), (0, 0, 3), (0, 1, 0), (0, 1, 1), (0, 1, 2), (0, 1, 3), (0, 2, 0), (0, 2, 1), (0, 2, 2), (0, 2, 3), (0, 3, 0), (0, 3, 1), (0, 3, 2), (0, 3, 3)])\n",
      "dict_keys([0])\n"
     ]
    }
   ],
   "source": [
    "print((ProcessedConditionData.keys()))\n",
    "print(noise.keys())"
   ]
  },
  {
   "cell_type": "code",
   "execution_count": null,
   "metadata": {},
   "outputs": [
    {
     "name": "stdout",
     "output_type": "stream",
     "text": [
      "[[0.47315478 1.58816082 2.403683   3.29124137 3.13013834 2.68626744]\n",
      " [0.88832238 2.74848112 3.63307691 3.85948163 3.3484271  2.66411805]]\n"
     ]
    }
   ],
   "source": [
    "crf = ProcessedConditionData[0,3,0]\n",
    "\n",
    "print(crf)"
   ]
  },
  {
   "cell_type": "code",
   "execution_count": 259,
   "metadata": {},
   "outputs": [
    {
     "data": {
      "text/plain": [
       "<matplotlib.legend.Legend at 0x275d0786f10>"
      ]
     },
     "execution_count": 259,
     "metadata": {},
     "output_type": "execute_result"
    },
    {
     "data": {
      "image/png": "[encoded data removed]",
      "text/plain": [
       "<Figure size 600x600 with 4 Axes>"
      ]
     },
     "metadata": {},
     "output_type": "display_data"
    }
   ],
   "source": [
    "fig,axs = plt.subplots(2,2,figsize = ((6,6)), sharey = True)\n",
    "\n",
    "\n",
    "axs[0,0].plot(ProcessedConditionData[0,2,0][0,:], label = 'pre', color = 'black')\n",
    "axs[0,0].plot(ProcessedConditionData[0,2,0][1,:], label = 'post', color = 'blue')\n",
    "axs[0,0].legend()\n",
    "\n",
    "axs[0,1].plot(ProcessedConditionData[0,3,0][0,:], label = 'pre', color = 'black')\n",
    "axs[0,1].plot(ProcessedConditionData[0,3,0][1,:], label = 'post', color = 'blue')\n",
    "axs[0,1].legend()\n",
    "\n",
    "axs[1,0].plot(ProcessedConditionData[0,2,1][0,:], label = 'pre', color = 'black')\n",
    "axs[1,0].plot(ProcessedConditionData[0,2,1][1,:], label = 'post', color = 'blue')\n",
    "axs[1,0].legend()\n",
    "\n",
    "axs[1,1].plot(ProcessedConditionData[0,3,1][0,:], label = 'pre', color = 'black')\n",
    "axs[1,1].plot(ProcessedConditionData[0,3,1][1,:], label = 'post', color = 'blue')\n",
    "axs[1,1].legend()\n"
   ]
  },
  {
   "cell_type": "code",
   "execution_count": 262,
   "metadata": {},
   "outputs": [
    {
     "name": "stdout",
     "output_type": "stream",
     "text": [
      "(2, 6)\n",
      "3.410183877227235\n"
     ]
    },
    {
     "data": {
      "text/plain": [
       "<matplotlib.legend.Legend at 0x275d129ee90>"
      ]
     },
     "execution_count": 262,
     "metadata": {},
     "output_type": "execute_result"
    },
    {
     "data": {
      "image/png": "[encoded data removed]",
      "text/plain": [
       "<Figure size 600x300 with 2 Axes>"
      ]
     },
     "metadata": {},
     "output_type": "display_data"
    }
   ],
   "source": [
    "normDataIn = ProcessedConditionData[0,2,0]\n",
    "print(normDataIn.shape)\n",
    "\n",
    "fig,axs = plt.subplots(1,2,figsize = ((6,3)))\n",
    "\n",
    "axs[0].plot(normDataIn[0,:], color = 'black', label = 'pre')\n",
    "axs[0].plot(normDataIn[1,:], label = 'post')\n",
    "axs[0].legend()\n",
    "\n",
    "max_AmpVal = np.max(normDataIn[0,:])\n",
    "print(max_AmpVal)\n",
    "\n",
    "normDataOut = normDataIn / max_AmpVal\n",
    "\n",
    "axs[1].plot(normDataOut[0,:], color = 'black', label = 'pre')\n",
    "axs[1].plot(normDataOut[1,:], label = 'post')\n",
    "axs[1].legend()"
   ]
  }
 ],
 "metadata": {
  "kernelspec": {
   "display_name": "Python 3",
   "language": "python",
   "name": "python3"
  },
  "language_info": {
   "codemirror_mode": {
    "name": "ipython",
    "version": 3
   },
   "file_extension": ".py",
   "mimetype": "text/x-python",
   "name": "python",
   "nbconvert_exporter": "python",
   "pygments_lexer": "ipython3",
   "version": "3.11.9"
  }
 },
 "nbformat": 4,
 "nbformat_minor": 2
}
