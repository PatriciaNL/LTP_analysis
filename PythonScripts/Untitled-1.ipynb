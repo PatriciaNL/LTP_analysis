{
 "cells": [
  {
   "cell_type": "markdown",
   "metadata": {},
   "source": [
    "Import EEG Data, condtions and filters applied"
   ]
  },
  {
   "cell_type": "code",
   "execution_count": 3,
   "metadata": {},
   "outputs": [],
   "source": [
    "# load packages\n",
    "import numpy as np \n",
    "from scipy.fft import fft, ifft\n",
    "from scipy.io   import  loadmat\n",
    "import pandas as pd\n",
    "import os\n",
    "import matplotlib as plt\n",
    "import seaborn as sns\n",
    "import h5py\n",
    "import mat73"
   ]
  },
  {
   "cell_type": "code",
   "execution_count": 13,
   "metadata": {},
   "outputs": [
    {
     "name": "stdout",
     "output_type": "stream",
     "text": [
      "D:\\AttnXV3_analysis\\cleanEEG\\C3_nF1clean_LeftHemi_121123.mat\n"
     ]
    }
   ],
   "source": [
    "# Main Directory of processed file from MatLab\n",
    "MainDir = 'D:\\\\AttnXV3_analysis\\\\cleanEEG\\\\'\n",
    "os.chdir(MainDir)\n",
    "# Set File Name \n",
    "FileN = 'C3_nF1clean_LeftHemi_121123.mat'\n",
    "# join paths and prep 2 load\n",
    "file_path = os.path.join(MainDir, FileN)\n",
    "print(file_path)"
   ]
  },
  {
   "cell_type": "code",
   "execution_count": 16,
   "metadata": {},
   "outputs": [
    {
     "data": {
      "text/plain": [
       "dict_keys(['HemiData', 'eeg', 'names', 'usedChans'])"
      ]
     },
     "execution_count": 16,
     "metadata": {},
     "output_type": "execute_result"
    }
   ],
   "source": [
    "data_dict = mat73.loadmat(file_path) \n",
    "# data_dict.keys()\n",
    "DataStore = data_dict['DataStore']\n",
    "# reveal what keys are saved\n",
    "DataStore.keys()"
   ]
  },
  {
   "cell_type": "code",
   "execution_count": 18,
   "metadata": {},
   "outputs": [],
   "source": [
    "HemiData = DataStore['HemiData']\n",
    "EEG = DataStore['eeg']\n",
    "Names = DataStore['names']\n",
    "usedChans = DataStore['usedChans']"
   ]
  },
  {
   "cell_type": "code",
   "execution_count": 62,
   "metadata": {},
   "outputs": [],
   "source": [
    "t = np.array((EEG[1]))"
   ]
  },
  {
   "cell_type": "code",
   "execution_count": 64,
   "metadata": {},
   "outputs": [
    {
     "name": "stdout",
     "output_type": "stream",
     "text": [
      "Shape of array 1: (560, 59, 6)\n",
      "Shape of array 2: (560, 59, 6)\n",
      "Shape of array 3: (560, 59, 6)\n",
      "Shape of array 4: (560, 59, 6)\n",
      "Shape of array 5: (560, 59, 6)\n",
      "Shape of array 6: (560, 59, 6)\n",
      "Shape of array 7: (560, 59, 6)\n",
      "Shape of array 8: (560, 59, 6)\n",
      "Shape of array 9: (560, 59, 6)\n",
      "Shape of array 10: (560, 59, 6)\n"
     ]
    }
   ],
   "source": [
    "for i, array in enumerate(t):\n",
    "    # Print the shape of each array (assuming it's 560 x 11 x 6)\n",
    "    print(f\"Shape of array {i+1}: {array.shape}\")\n",
    "        \n",
    "    # Access and print specific elements from each array\n",
    "    element = array[0, 0, 0]"
   ]
  }
 ],
 "metadata": {
  "kernelspec": {
   "display_name": "base",
   "language": "python",
   "name": "python3"
  },
  "language_info": {
   "codemirror_mode": {
    "name": "ipython",
    "version": 3
   },
   "file_extension": ".py",
   "mimetype": "text/x-python",
   "name": "python",
   "nbconvert_exporter": "python",
   "pygments_lexer": "ipython3",
   "version": "3.11.5"
  }
 },
 "nbformat": 4,
 "nbformat_minor": 2
}
