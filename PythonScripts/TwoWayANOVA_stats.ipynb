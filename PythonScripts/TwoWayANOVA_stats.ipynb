{
 "cells": [
  {
   "cell_type": "code",
   "execution_count": 26,
   "metadata": {},
   "outputs": [],
   "source": [
    "# load packages\n",
    "import numpy as np \n",
    "from scipy.io   import  loadmat\n",
    "from scipy import stats\n",
    "import pandas as pd\n",
    "import os\n",
    "import matplotlib.pyplot as plt #import matplotlib as plt\n",
    "from scipy.optimize import curve_fit \n",
    "import seaborn as sns #import mat73\n",
    "import pickle as pkl\n",
    "from datetime import datetime\n",
    "import statsmodels.api as sm \n",
    "from statsmodels.formula.api import ols"
   ]
  },
  {
   "cell_type": "code",
   "execution_count": 22,
   "metadata": {},
   "outputs": [],
   "source": [
    "#create data\n",
    "df = pd.DataFrame({'water': np.repeat(['daily', 'weekly'], 15),\n",
    "                   'sun': np.tile(np.repeat(['low', 'med', 'high'], 5), 2),\n",
    "                   'height': [6, 6, 6, 5, 6, 5, 5, 6, 4, 5,\n",
    "                              6, 6, 7, 8, 7, 3, 4, 4, 4, 5,\n",
    "                              4, 4, 4, 4, 4, 5, 6, 6, 7, 8]})"
   ]
  },
  {
   "cell_type": "code",
   "execution_count": 24,
   "metadata": {},
   "outputs": [
    {
     "name": "stdout",
     "output_type": "stream",
     "text": [
      "     water   sun  height\n",
      "0    daily   low       6\n",
      "1    daily   low       6\n",
      "2    daily   low       6\n",
      "3    daily   low       5\n",
      "4    daily   low       6\n",
      "5    daily   med       5\n",
      "6    daily   med       5\n",
      "7    daily   med       6\n",
      "8    daily   med       4\n",
      "9    daily   med       5\n",
      "10   daily  high       6\n",
      "11   daily  high       6\n",
      "12   daily  high       7\n",
      "13   daily  high       8\n",
      "14   daily  high       7\n",
      "15  weekly   low       3\n",
      "16  weekly   low       4\n",
      "17  weekly   low       4\n",
      "18  weekly   low       4\n",
      "19  weekly   low       5\n",
      "20  weekly   med       4\n",
      "21  weekly   med       4\n",
      "22  weekly   med       4\n",
      "23  weekly   med       4\n",
      "24  weekly   med       4\n",
      "25  weekly  high       5\n",
      "26  weekly  high       6\n",
      "27  weekly  high       6\n",
      "28  weekly  high       7\n",
      "29  weekly  high       8\n"
     ]
    }
   ],
   "source": [
    "print(df)"
   ]
  },
  {
   "cell_type": "code",
   "execution_count": 23,
   "metadata": {},
   "outputs": [
    {
     "data": {
      "text/html": [
       "<div>\n",
       "<style scoped>\n",
       "    .dataframe tbody tr th:only-of-type {\n",
       "        vertical-align: middle;\n",
       "    }\n",
       "\n",
       "    .dataframe tbody tr th {\n",
       "        vertical-align: top;\n",
       "    }\n",
       "\n",
       "    .dataframe thead th {\n",
       "        text-align: right;\n",
       "    }\n",
       "</style>\n",
       "<table border=\"1\" class=\"dataframe\">\n",
       "  <thead>\n",
       "    <tr style=\"text-align: right;\">\n",
       "      <th></th>\n",
       "      <th>sum_sq</th>\n",
       "      <th>df</th>\n",
       "      <th>F</th>\n",
       "      <th>PR(&gt;F)</th>\n",
       "    </tr>\n",
       "  </thead>\n",
       "  <tbody>\n",
       "    <tr>\n",
       "      <th>C(water)</th>\n",
       "      <td>8.533333</td>\n",
       "      <td>1.0</td>\n",
       "      <td>16.0000</td>\n",
       "      <td>0.000527</td>\n",
       "    </tr>\n",
       "    <tr>\n",
       "      <th>C(sun)</th>\n",
       "      <td>24.866667</td>\n",
       "      <td>2.0</td>\n",
       "      <td>23.3125</td>\n",
       "      <td>0.000002</td>\n",
       "    </tr>\n",
       "    <tr>\n",
       "      <th>C(water):C(sun)</th>\n",
       "      <td>2.466667</td>\n",
       "      <td>2.0</td>\n",
       "      <td>2.3125</td>\n",
       "      <td>0.120667</td>\n",
       "    </tr>\n",
       "    <tr>\n",
       "      <th>Residual</th>\n",
       "      <td>12.800000</td>\n",
       "      <td>24.0</td>\n",
       "      <td>NaN</td>\n",
       "      <td>NaN</td>\n",
       "    </tr>\n",
       "  </tbody>\n",
       "</table>\n",
       "</div>"
      ],
      "text/plain": [
       "                    sum_sq    df        F    PR(>F)\n",
       "C(water)          8.533333   1.0  16.0000  0.000527\n",
       "C(sun)           24.866667   2.0  23.3125  0.000002\n",
       "C(water):C(sun)   2.466667   2.0   2.3125  0.120667\n",
       "Residual         12.800000  24.0      NaN       NaN"
      ]
     },
     "execution_count": 23,
     "metadata": {},
     "output_type": "execute_result"
    }
   ],
   "source": [
    "#perform two-way ANOVA\n",
    "model = ols('height ~ C(water) + C(sun) + C(water):C(sun)', data=df).fit()\n",
    "sm.stats.anova_lm(model, typ=2)"
   ]
  },
  {
   "cell_type": "markdown",
   "metadata": {},
   "source": [
    "#### import and set actual anova params"
   ]
  },
  {
   "cell_type": "code",
   "execution_count": 32,
   "metadata": {},
   "outputs": [
    {
     "name": "stdout",
     "output_type": "stream",
     "text": [
      "Files on hand: ['LTP_ResponseDifferences_20240223_1325.pkl', 'PostPreResponseDifferences_20240220_1029.pkl']\n",
      "Current WD: C:\\plimon\\LTP_analysis\\RCA_F1\\AmpResponseDiffs\\LTP_ResponseDifferences_20240223_1325.pkl\n",
      "Does File #1 Exist? True\n"
     ]
    }
   ],
   "source": [
    "# Main Directory of processed file from MatLab\n",
    "#MainDir = 'D:\\\\AttnXV3_analysis\\\\RCA_F1\\\\AvgCRFs\\\\' # set dir\n",
    "MainDir = 'C:\\\\plimon\\\\LTP_analysis\\\\RCA_F1\\\\AmpResponseDiffs\\\\' # set dir\n",
    "os.chdir(MainDir) # change old dir, to this dir\n",
    "d = os.listdir(MainDir) # list files in dir\n",
    "print(f'Files on hand: {d}')\n",
    "##############################################\n",
    "FileN = d[0] # choose one                        \n",
    "file_path1 = os.path.join(MainDir, FileN) # join paths and prep 2 load\n",
    "print('Current WD:',file_path1) # does path exist ... ?\n",
    "print('Does File #1 Exist?',os.path.exists(file_path1)) # yes or no"
   ]
  },
  {
   "cell_type": "code",
   "execution_count": 33,
   "metadata": {},
   "outputs": [
    {
     "name": "stdout",
     "output_type": "stream",
     "text": [
      "dict_keys(['DiffData', 'ErrVals', 'SubNames', 'DictMainKeys', 'ContLevs', 'crfLabs', 'VoiceMemo'])\n"
     ]
    }
   ],
   "source": [
    "loadData = pkl.load(open(file_path1,'rb'))\n",
    "print(loadData.keys())"
   ]
  },
  {
   "cell_type": "code",
   "execution_count": 34,
   "metadata": {},
   "outputs": [
    {
     "name": "stdout",
     "output_type": "stream",
     "text": [
      "['Cont:Post - pre responses for all conditions for all subs, sub x contrast diff']\n",
      "['attnL F1', 'attnL F2', 'attnR F1', 'attnR F2']\n"
     ]
    }
   ],
   "source": [
    "data = loadData['DiffData']\n",
    "# wont load error bars just yet\n",
    "data_labels = loadData['DictMainKeys']\n",
    "SubNames = np.array(loadData['SubNames'])\n",
    "note = loadData['VoiceMemo']\n",
    "contrast_levels = loadData['ContLevs']\n",
    "contrast_labs = loadData['crfLabs']\n",
    "print(note)\n",
    "NumSubs = int(len(SubNames))\n",
    "print(data_labels) # labels for nr plots"
   ]
  },
  {
   "cell_type": "code",
   "execution_count": 38,
   "metadata": {},
   "outputs": [
    {
     "name": "stdout",
     "output_type": "stream",
     "text": [
      "dict_keys([0, 1, 2, 3])\n",
      "(25, 12)\n",
      "(12,)\n"
     ]
    }
   ],
   "source": [
    "print(data.keys())\n",
    "print(data[0].shape)"
   ]
  },
  {
   "cell_type": "markdown",
   "metadata": {},
   "source": [
    "#### Stack all condition differences for 1 subject - make into a function"
   ]
  },
  {
   "cell_type": "code",
   "execution_count": 27,
   "metadata": {},
   "outputs": [],
   "source": [
    "NumBins = 6 # number of contrasts\n",
    "NumHarms = 2 # number of harmonic data: 2F1, 4F1\n",
    "NumComp = 0 # first component from RCA\n",
    "NumConds = 4\n",
    "diff_ax = np.arange(0,NumBins) # plot differences"
   ]
  },
  {
   "cell_type": "code",
   "execution_count": 62,
   "metadata": {},
   "outputs": [
    {
     "name": "stdout",
     "output_type": "stream",
     "text": [
      "48\n"
     ]
    }
   ],
   "source": [
    "RowPop = NumBins * NumHarms * NumConds # 6 x 2 x 4\n",
    "SubRows = NumBins*NumHarms\n",
    "ContrastInd = np.arange(0,NumBins)\n",
    "print(RowPop)"
   ]
  },
  {
   "cell_type": "code",
   "execution_count": null,
   "metadata": {},
   "outputs": [],
   "source": [
    "#def make_df():\n",
    "#    return"
   ]
  },
  {
   "cell_type": "code",
   "execution_count": 116,
   "metadata": {},
   "outputs": [],
   "source": [
    "soi = 0\n",
    "SubjArr = [soi] * RowPop # Subject label\n",
    "ValArr = np.zeros((RowPop)) # INDEPENDENT VARIABLE 12 x 4  = 48 rows per val\n",
    "ContrastArr = np.arange(RowPop) % NumBins\n",
    "AttnXArr = np.zeros((RowPop))\n",
    "FreqFiltArr = np.zeros((RowPop))\n",
    "HarmArr = np.zeros((RowPop))\n",
    "\n",
    "# load subject response differnces across conditions\n",
    "for co in range(NumConds):\n",
    "   HarmArr[(co*SubRows):(co+1)*SubRows]  = [0] * NumBins + [1] * NumBins # index harmonic data:  2F / 4F\n",
    "   dIn = data[co][soi,:] \n",
    "   ValArr[(co*SubRows):(co+1)*SubRows] = dIn # Sort Data Values \n",
    "   if co == 0 or co == 1: # Index if Data is AttnL or AttnR\n",
    "      AttnXArr[(co*SubRows):(co+1)*(SubRows)] = 0\n",
    "   else:\n",
    "      AttnXArr[(co*SubRows):(co+1)*(SubRows)] = 1\n",
    "   if co % 2:          # Index what data was F1 = 6 Hz or F2 = 7.5 Hz \n",
    "      FreqFiltArr[(co*SubRows):(co+1)*SubRows] = [1]*SubRows\n",
    "   else:\n",
    "      FreqFiltArr[(co*SubRows):(co+1)*SubRows] = [0]*SubRows\n",
    "    "
   ]
  }
 ],
 "metadata": {
  "kernelspec": {
   "display_name": "Python 3",
   "language": "python",
   "name": "python3"
  },
  "language_info": {
   "codemirror_mode": {
    "name": "ipython",
    "version": 3
   },
   "file_extension": ".py",
   "mimetype": "text/x-python",
   "name": "python",
   "nbconvert_exporter": "python",
   "pygments_lexer": "ipython3",
   "version": "3.11.8"
  }
 },
 "nbformat": 4,
 "nbformat_minor": 2
}
