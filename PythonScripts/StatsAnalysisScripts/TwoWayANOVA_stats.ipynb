{
 "cells": [
  {
   "cell_type": "markdown",
   "metadata": {},
   "source": [
    "## STEP ONE OF STATS ANALYSIS FROM PROCESSED DATA PIPELINE"
   ]
  },
  {
   "cell_type": "markdown",
   "metadata": {},
   "source": [
    "#### This script imports CRF data and sorts each participants data in a dataframe, appends them all together an then 2 Way ANOVA Model is computed with this dataframe."
   ]
  },
  {
   "cell_type": "code",
   "execution_count": 1,
   "metadata": {},
   "outputs": [],
   "source": [
    "# load packages\n",
    "import numpy as np \n",
    "from scipy.io   import  loadmat\n",
    "from scipy import stats\n",
    "import pandas as pd\n",
    "import os\n",
    "import matplotlib.pyplot as plt #import matplotlib as plt\n",
    "from scipy.optimize import curve_fit \n",
    "import seaborn as sns #import mat73\n",
    "import pickle as pkl\n",
    "from datetime import datetime\n",
    "import statsmodels.api as sm \n",
    "from statsmodels.formula.api import ols"
   ]
  },
  {
   "cell_type": "markdown",
   "metadata": {},
   "source": [
    "#### import and set actual anova params"
   ]
  },
  {
   "cell_type": "code",
   "execution_count": 2,
   "metadata": {},
   "outputs": [
    {
     "name": "stdout",
     "output_type": "stream",
     "text": [
      "Files on hand: ['AllCondCRF_AllSess_pnlApp_20240314_1235.mat', 'AllCondCRF_AllSess_pnlApp_20240314_1235.pkl', 'AllCondCRF_AllSess_pnlApp_20240314_1237.mat', 'AllCondCRF_AllSess_pnlApp_20240314_1237.pkl', 'Clean_LTPData_20240313_1457.pkl', 'Clean_LTPData_firingrate_20240314_1400.pkl']\n",
      "Current WD: C:\\plimon\\LTP_analysis\\RCA_F1\\AvgCRFs\\Clean_LTPData_firingrate_20240314_1400.pkl\n",
      "Does File #1 Exist? True\n"
     ]
    }
   ],
   "source": [
    "# Main Directory of processed file from MatLab\n",
    "#MainDir = 'D:\\\\AttnXV3_analysis\\\\RCA_F1\\\\AvgCRFs\\\\' # set dir\n",
    "MainDir = 'C:\\\\plimon\\\\LTP_analysis\\\\RCA_F1\\\\AvgCRFs\\\\' # set dir\n",
    "os.chdir(MainDir) # change old dir, to this dir\n",
    "d = os.listdir(MainDir) # list files in dir\n",
    "print(f'Files on hand: {d}')\n",
    "##############################################\n",
    "FileN = d[-1] # choose one                        \n",
    "file_path1 = os.path.join(MainDir, FileN) # join paths and prep 2 load\n",
    "print('Current WD:',file_path1) # does path exist ... ?\n",
    "print('Does File #1 Exist?',os.path.exists(file_path1)) # yes or no"
   ]
  },
  {
   "cell_type": "code",
   "execution_count": 3,
   "metadata": {},
   "outputs": [
    {
     "name": "stdout",
     "output_type": "stream",
     "text": [
      "dict_keys(['crf', 'resp_diffs', 'mod_crf', 'coSubNames', 'ConditionLabels', 'ContLevs', 'ContLabs'])\n"
     ]
    }
   ],
   "source": [
    "loadData = pkl.load(open(file_path1,'rb'))\n",
    "print(loadData.keys())"
   ]
  },
  {
   "cell_type": "code",
   "execution_count": 4,
   "metadata": {},
   "outputs": [
    {
     "name": "stdout",
     "output_type": "stream",
     "text": [
      "['attnL F1', 'attnL F2', 'attnR F1', 'attnR F2']\n"
     ]
    }
   ],
   "source": [
    "data = loadData['resp_diffs']\n",
    "SubNames = loadData['coSubNames']\n",
    "data_labels = loadData['ConditionLabels']\n",
    "contrast_levels = loadData['ContLevs']\n",
    "contrast_labs = loadData['ContLabs']\n",
    "print(data_labels) # labels for nr plots"
   ]
  },
  {
   "cell_type": "markdown",
   "metadata": {},
   "source": [
    "#### Stack all condition differences for 1 subject - make into a function"
   ]
  },
  {
   "cell_type": "code",
   "execution_count": 5,
   "metadata": {},
   "outputs": [],
   "source": [
    "NumBins = 6 # number of contrasts\n",
    "NumHarms = 2 # number of harmonic data: 2F1, 4F1\n",
    "NumComp = 0 # first component from RCA\n",
    "NumConds = 4"
   ]
  },
  {
   "cell_type": "markdown",
   "metadata": {},
   "source": [
    "#### Uniform Vars:"
   ]
  },
  {
   "cell_type": "code",
   "execution_count": 6,
   "metadata": {},
   "outputs": [],
   "source": [
    "## CONTRAST\n",
    "c_levels = np.arange(NumBins)\n",
    "ContrastArr = np.hstack((c_levels,c_levels)) # contrast ind col for df\n"
   ]
  },
  {
   "cell_type": "code",
   "execution_count": 7,
   "metadata": {},
   "outputs": [],
   "source": [
    "## HARMONIC \n",
    "HarmArr = np.zeros(NumBins*NumHarms)\n",
    "for hi in range(NumHarms):\n",
    "    s = (hi)+((NumBins-1)*hi)\n",
    "    e = ((hi+1)*NumBins)\n",
    "    HarmArr[s:e] = int(hi) # harmonic ind col for df"
   ]
  },
  {
   "cell_type": "markdown",
   "metadata": {},
   "source": [
    "#### Get Dynamic Vars per cond and save into array"
   ]
  },
  {
   "cell_type": "code",
   "execution_count": 8,
   "metadata": {},
   "outputs": [],
   "source": [
    "def MakeDataLogs(NumBins, NumHarms, ContrastArr,HarmArr, dIn,costrIn, snIn, conditionFile):\n",
    "    dIn = data[conditionFile]\n",
    "    # print(dIn.shape) \n",
    "    costrIn = data_labels[conditionFile]\n",
    "    snIn = SubNames[conditionFile]\n",
    "    \n",
    "    strCatch = ' '\n",
    "    if strCatch in costrIn:\n",
    "        attninf = costrIn.split(strCatch)[0] #  set attnX ind\n",
    "        FreqFiltInf = costrIn.split(strCatch)[1] #  set freq filt ind\n",
    "    # get attnX index, attnL == 1, attnR == 0\n",
    "        if attninf == 'attnL':\n",
    "            AttnXArr = np.ones((NumBins*NumHarms))\n",
    "        elif attninf == 'attnR':\n",
    "            AttnXArr = np.zeros((NumBins*NumHarms))\n",
    "    # get freq filt index, attnL == 1, attnR == 0\n",
    "        if FreqFiltInf == 'F1':\n",
    "            FreqFiltArr = np.ones((NumBins*NumHarms))\n",
    "        elif FreqFiltInf == 'F2':\n",
    "            FreqFiltArr =  np.zeros((NumBins*NumHarms))\n",
    "\n",
    "    print(f'{attninf},{AttnXArr}')\n",
    "    print(f'{FreqFiltInf}{FreqFiltArr}')\n",
    "    \n",
    "    DataLogs = {}\n",
    "\n",
    "    for su in range(len(snIn)):\n",
    "        SubjDataLog = np.zeros((NumBins*NumHarms,6))\n",
    "        \n",
    "        sID = snIn[su]\n",
    "        sVals = dIn[su,:]\n",
    "        # fill array w data\n",
    "        SubjDataLog[:,0] = sID # SUBJ id \n",
    "        SubjDataLog[:,1] =  AttnXArr # attention \n",
    "        SubjDataLog[:,2] = FreqFiltArr# FreqFilt (freq tagged contrast (hi / low))\n",
    "        SubjDataLog[:,3] = HarmArr # Harmonic \n",
    "        SubjDataLog[:,4] =  ContrastArr# Contrast ind\n",
    "        SubjDataLog[:,5] = sVals\n",
    "\n",
    "        DataLogs[su] = SubjDataLog\n",
    "\n",
    "    return DataLogs\n"
   ]
  },
  {
   "cell_type": "code",
   "execution_count": 9,
   "metadata": {},
   "outputs": [
    {
     "name": "stdout",
     "output_type": "stream",
     "text": [
      "attnL,[1. 1. 1. 1. 1. 1. 1. 1. 1. 1. 1. 1.]\n",
      "F1[1. 1. 1. 1. 1. 1. 1. 1. 1. 1. 1. 1.]\n",
      "\n",
      "attnL,[1. 1. 1. 1. 1. 1. 1. 1. 1. 1. 1. 1.]\n",
      "F2[0. 0. 0. 0. 0. 0. 0. 0. 0. 0. 0. 0.]\n",
      "\n",
      "attnR,[0. 0. 0. 0. 0. 0. 0. 0. 0. 0. 0. 0.]\n",
      "F1[1. 1. 1. 1. 1. 1. 1. 1. 1. 1. 1. 1.]\n",
      "\n",
      "attnR,[0. 0. 0. 0. 0. 0. 0. 0. 0. 0. 0. 0.]\n",
      "F2[0. 0. 0. 0. 0. 0. 0. 0. 0. 0. 0. 0.]\n",
      "\n"
     ]
    }
   ],
   "source": [
    "DataLogsperCond = {}\n",
    "\n",
    "for co in range(NumConds):\n",
    "    DataLogsperCond[co] = MakeDataLogs(NumBins,NumHarms,ContrastArr,HarmArr,dIn=data,costrIn=data_labels,snIn = SubNames,conditionFile = int(co))\n",
    "    print()"
   ]
  },
  {
   "cell_type": "code",
   "execution_count": 10,
   "metadata": {},
   "outputs": [],
   "source": [
    "coLogs = {}\n",
    "for co in range(NumConds):\n",
    "\n",
    "    dfs_In = DataLogsperCond[co]\n",
    "    coLogs[co] = np.concatenate ([dfs_In[key] for key in dfs_In], axis = 0)\n"
   ]
  },
  {
   "cell_type": "code",
   "execution_count": 11,
   "metadata": {},
   "outputs": [],
   "source": [
    "Log = np.concatenate ([coLogs[key] for key in coLogs], axis = 0)"
   ]
  },
  {
   "cell_type": "code",
   "execution_count": 12,
   "metadata": {},
   "outputs": [
    {
     "name": "stdout",
     "output_type": "stream",
     "text": [
      "(1236, 6)\n"
     ]
    }
   ],
   "source": [
    "print(Log.shape)"
   ]
  },
  {
   "cell_type": "code",
   "execution_count": 13,
   "metadata": {},
   "outputs": [],
   "source": [
    "log =  {'Subj': Log[:,0],\n",
    "        'AttnX': Log[:,1], #  \n",
    "        'FreqFilt': Log[:,2], #  \n",
    "        'Harmonic': Log[:,3], # \n",
    "        'Contrast': Log[:,4], #  \n",
    "        'Vals': Log[:,5]}\n",
    "ResponseDiffLog = pd.DataFrame(log)"
   ]
  },
  {
   "cell_type": "code",
   "execution_count": 14,
   "metadata": {},
   "outputs": [
    {
     "data": {
      "text/html": [
       "<div>\n",
       "<style scoped>\n",
       "    .dataframe tbody tr th:only-of-type {\n",
       "        vertical-align: middle;\n",
       "    }\n",
       "\n",
       "    .dataframe tbody tr th {\n",
       "        vertical-align: top;\n",
       "    }\n",
       "\n",
       "    .dataframe thead th {\n",
       "        text-align: right;\n",
       "    }\n",
       "</style>\n",
       "<table border=\"1\" class=\"dataframe\">\n",
       "  <thead>\n",
       "    <tr style=\"text-align: right;\">\n",
       "      <th></th>\n",
       "      <th>Subj</th>\n",
       "      <th>AttnX</th>\n",
       "      <th>FreqFilt</th>\n",
       "      <th>Harmonic</th>\n",
       "      <th>Contrast</th>\n",
       "      <th>Vals</th>\n",
       "    </tr>\n",
       "  </thead>\n",
       "  <tbody>\n",
       "    <tr>\n",
       "      <th>0</th>\n",
       "      <td>2652.0</td>\n",
       "      <td>1.0</td>\n",
       "      <td>1.0</td>\n",
       "      <td>0.0</td>\n",
       "      <td>0.0</td>\n",
       "      <td>0.505150</td>\n",
       "    </tr>\n",
       "    <tr>\n",
       "      <th>1</th>\n",
       "      <td>2652.0</td>\n",
       "      <td>1.0</td>\n",
       "      <td>1.0</td>\n",
       "      <td>0.0</td>\n",
       "      <td>1.0</td>\n",
       "      <td>0.406819</td>\n",
       "    </tr>\n",
       "    <tr>\n",
       "      <th>2</th>\n",
       "      <td>2652.0</td>\n",
       "      <td>1.0</td>\n",
       "      <td>1.0</td>\n",
       "      <td>0.0</td>\n",
       "      <td>2.0</td>\n",
       "      <td>0.020986</td>\n",
       "    </tr>\n",
       "    <tr>\n",
       "      <th>3</th>\n",
       "      <td>2652.0</td>\n",
       "      <td>1.0</td>\n",
       "      <td>1.0</td>\n",
       "      <td>0.0</td>\n",
       "      <td>3.0</td>\n",
       "      <td>-0.599435</td>\n",
       "    </tr>\n",
       "    <tr>\n",
       "      <th>4</th>\n",
       "      <td>2652.0</td>\n",
       "      <td>1.0</td>\n",
       "      <td>1.0</td>\n",
       "      <td>0.0</td>\n",
       "      <td>4.0</td>\n",
       "      <td>-0.799817</td>\n",
       "    </tr>\n",
       "    <tr>\n",
       "      <th>...</th>\n",
       "      <td>...</td>\n",
       "      <td>...</td>\n",
       "      <td>...</td>\n",
       "      <td>...</td>\n",
       "      <td>...</td>\n",
       "      <td>...</td>\n",
       "    </tr>\n",
       "    <tr>\n",
       "      <th>1231</th>\n",
       "      <td>2726.0</td>\n",
       "      <td>0.0</td>\n",
       "      <td>0.0</td>\n",
       "      <td>1.0</td>\n",
       "      <td>1.0</td>\n",
       "      <td>-0.043443</td>\n",
       "    </tr>\n",
       "    <tr>\n",
       "      <th>1232</th>\n",
       "      <td>2726.0</td>\n",
       "      <td>0.0</td>\n",
       "      <td>0.0</td>\n",
       "      <td>1.0</td>\n",
       "      <td>2.0</td>\n",
       "      <td>-0.249052</td>\n",
       "    </tr>\n",
       "    <tr>\n",
       "      <th>1233</th>\n",
       "      <td>2726.0</td>\n",
       "      <td>0.0</td>\n",
       "      <td>0.0</td>\n",
       "      <td>1.0</td>\n",
       "      <td>3.0</td>\n",
       "      <td>-0.168874</td>\n",
       "    </tr>\n",
       "    <tr>\n",
       "      <th>1234</th>\n",
       "      <td>2726.0</td>\n",
       "      <td>0.0</td>\n",
       "      <td>0.0</td>\n",
       "      <td>1.0</td>\n",
       "      <td>4.0</td>\n",
       "      <td>-0.071073</td>\n",
       "    </tr>\n",
       "    <tr>\n",
       "      <th>1235</th>\n",
       "      <td>2726.0</td>\n",
       "      <td>0.0</td>\n",
       "      <td>0.0</td>\n",
       "      <td>1.0</td>\n",
       "      <td>5.0</td>\n",
       "      <td>-0.180328</td>\n",
       "    </tr>\n",
       "  </tbody>\n",
       "</table>\n",
       "<p>1236 rows × 6 columns</p>\n",
       "</div>"
      ],
      "text/plain": [
       "        Subj  AttnX  FreqFilt  Harmonic  Contrast      Vals\n",
       "0     2652.0    1.0       1.0       0.0       0.0  0.505150\n",
       "1     2652.0    1.0       1.0       0.0       1.0  0.406819\n",
       "2     2652.0    1.0       1.0       0.0       2.0  0.020986\n",
       "3     2652.0    1.0       1.0       0.0       3.0 -0.599435\n",
       "4     2652.0    1.0       1.0       0.0       4.0 -0.799817\n",
       "...      ...    ...       ...       ...       ...       ...\n",
       "1231  2726.0    0.0       0.0       1.0       1.0 -0.043443\n",
       "1232  2726.0    0.0       0.0       1.0       2.0 -0.249052\n",
       "1233  2726.0    0.0       0.0       1.0       3.0 -0.168874\n",
       "1234  2726.0    0.0       0.0       1.0       4.0 -0.071073\n",
       "1235  2726.0    0.0       0.0       1.0       5.0 -0.180328\n",
       "\n",
       "[1236 rows x 6 columns]"
      ]
     },
     "execution_count": 14,
     "metadata": {},
     "output_type": "execute_result"
    }
   ],
   "source": [
    "ResponseDiffLog"
   ]
  },
  {
   "cell_type": "code",
   "execution_count": 15,
   "metadata": {},
   "outputs": [
    {
     "name": "stdout",
     "output_type": "stream",
     "text": [
      "                               sum_sq                 df               F         PR(>F)\n",
      "C(Subj)               17.934742298376    35.000000000000  3.560642913737 0.000000000029\n",
      "C(AttnX)               0.305226270540     1.000000000000  2.120914863017 0.145563288903\n",
      "C(FreqFilt)            2.620361220950     1.000000000000 18.208010241541 0.000021375303\n",
      "C(Harmonic)            6.426457257112     1.000000000000 44.655293559837 0.000000000036\n",
      "C(Contrast)            1.255161506245     5.000000000000  1.744339168034 0.121607874315\n",
      "C(FreqFilt):C(AttnX)   0.713615146520     1.000000000000  4.958672030586 0.026146542269\n",
      "Residual             171.399849448194 1,191.000000000000             NaN            NaN\n"
     ]
    }
   ],
   "source": [
    "one_way_interactions = ols('Vals ~ C(Subj) +C(AttnX) + C(FreqFilt) + C(Harmonic)+ C(Contrast)+  C(FreqFilt):C(AttnX)', data=ResponseDiffLog).fit()\n",
    "anova_table = sm.stats.anova_lm(one_way_interactions, typ=2)\n",
    "\n",
    "print(anova_table.to_string(float_format='{:,.12f}'.format))"
   ]
  },
  {
   "cell_type": "markdown",
   "metadata": {},
   "source": [
    "# Save out data (export)"
   ]
  },
  {
   "cell_type": "code",
   "execution_count": null,
   "metadata": {},
   "outputs": [],
   "source": []
  },
  {
   "cell_type": "code",
   "execution_count": null,
   "metadata": {},
   "outputs": [],
   "source": []
  },
  {
   "cell_type": "code",
   "execution_count": null,
   "metadata": {},
   "outputs": [],
   "source": [
    "RowPop = NumBins * NumHarms * NumConds # 6 x 2 x 4\n",
    "SubRows = NumBins*NumHarms\n",
    "ContrastInd = np.arange(0,NumBins)\n",
    "ContrastArr = np.arange(RowPop) % NumBins"
   ]
  },
  {
   "cell_type": "code",
   "execution_count": null,
   "metadata": {},
   "outputs": [],
   "source": [
    "AttnXArr = np.zeros((RowPop))\n",
    "FreqFiltArr = np.zeros((RowPop))\n",
    "HarmArr = np.zeros((RowPop))\n",
    "# load subject response differnces across conditions"
   ]
  },
  {
   "cell_type": "code",
   "execution_count": null,
   "metadata": {},
   "outputs": [],
   "source": [
    "for co in range(NumConds):\n",
    "    HarmArr[(co*SubRows):(co+1)*SubRows]  = [0] * NumBins + [1] * NumBins # index harmonic data:  2F / 4F \n",
    "\n",
    "for co in range(NumConds):\n",
    "    if co == 0 or co == 1: # Index if Data is AttnL or AttnR\n",
    "        AttnXArr[(co*SubRows):(co+1)*(SubRows)] = 0\n",
    "    else:\n",
    "        AttnXArr[(co*SubRows):(co+1)*(SubRows)] = 1\n",
    "\n",
    "for co in range(NumConds):\n",
    "    if co % 2:          # Index what data was F1 = 6 Hz or F2 = 7.5 Hz \n",
    "        FreqFiltArr[(co*SubRows):(co+1)*SubRows] = [1]*SubRows\n",
    "    else:\n",
    "        FreqFiltArr[(co*SubRows):(co+1)*SubRows] = [0]*SubRows"
   ]
  },
  {
   "cell_type": "code",
   "execution_count": null,
   "metadata": {},
   "outputs": [],
   "source": [
    "def MakeDataFramePerSubject(RowPop,SubRows,ContrastArr,AttnXArr,FreqFiltArr,HarmArr,NumConds,soi, dictIn):\n",
    "    SubjArr = [soi] * RowPop # Subject label\n",
    "    ValArr = np.zeros((RowPop)) # INDEPENDENT VARIABLE 12 x 4  = 48 rows per val\n",
    "    # load subject response differnces across conditions\n",
    "    for co in range(NumConds):\n",
    "        dIn = dictIn[co][soi,:] \n",
    "        ValArr[(co*SubRows):(co+1)*SubRows] = dIn # Sort Data Values \n",
    "    \n",
    "    dataOut = {'Subj': SubjArr,\n",
    "               \n",
    "                'AttnX': AttnXArr, # done \n",
    "                'FreqFilt': FreqFiltArr, # done \n",
    "                'Harmonic': HarmArr, # done\n",
    "                'Contrast': ContrastArr, # done \n",
    "\n",
    "                'Vals': ValArr}\n",
    "    df = pd.DataFrame(dataOut)\n",
    "    return df"
   ]
  },
  {
   "cell_type": "code",
   "execution_count": null,
   "metadata": {},
   "outputs": [],
   "source": [
    "Sub_df = {}\n",
    "for su in range(NumSubs):\n",
    "    Sub_df[su]= MakeDataFramePerSubject(RowPop,SubRows,ContrastArr,AttnXArr,FreqFiltArr,HarmArr,NumConds,soi=su,dictIn=data)"
   ]
  },
  {
   "cell_type": "code",
   "execution_count": null,
   "metadata": {},
   "outputs": [],
   "source": [
    "Sub_df[21] # sanity check "
   ]
  },
  {
   "cell_type": "code",
   "execution_count": null,
   "metadata": {},
   "outputs": [],
   "source": [
    "anova_array = np.zeros((RowPop*NumSubs,6))\n",
    "print(anova_array.shape)\n",
    "\n",
    "headerArr =list(Sub_df[0].columns.values)\n",
    "print(headerArr)"
   ]
  },
  {
   "cell_type": "markdown",
   "metadata": {},
   "source": [
    "#### Save everyones dataframe into a big one"
   ]
  },
  {
   "cell_type": "code",
   "execution_count": null,
   "metadata": {},
   "outputs": [],
   "source": [
    "for su in range(NumSubs):\n",
    "    aIn = np.array(Sub_df[su])\n",
    "    anova_array[(RowPop*su):(RowPop*(su+1)),:] = aIn"
   ]
  },
  {
   "cell_type": "markdown",
   "metadata": {},
   "source": [
    "#### Add header labels necessary for ANOVA"
   ]
  },
  {
   "cell_type": "code",
   "execution_count": null,
   "metadata": {},
   "outputs": [],
   "source": [
    "anova_df = pd.DataFrame(anova_array, columns = headerArr)"
   ]
  },
  {
   "cell_type": "markdown",
   "metadata": {},
   "source": [
    "#### Vis Sanity Check for data frame"
   ]
  },
  {
   "cell_type": "code",
   "execution_count": null,
   "metadata": {},
   "outputs": [],
   "source": [
    "anova_df"
   ]
  },
  {
   "cell_type": "markdown",
   "metadata": {},
   "source": [
    "#### Run ANOVA"
   ]
  },
  {
   "cell_type": "code",
   "execution_count": null,
   "metadata": {},
   "outputs": [],
   "source": [
    "#perform two-way ANOVA\n",
    "one_way_interactions = ols('Vals ~ C(AttnX) + C(FreqFilt) + C(Harmonic)+ C(Contrast)+  C(FreqFilt):C(Harmonic)', data=anova_df).fit()\n",
    "sm.stats.anova_lm(one_way_interactions, typ=2)\n",
    "# can take into account if model can account for subject \n",
    "# can model compre within participant - ie: one subjs f anf f2 data are compared withing - paried comparision "
   ]
  }
 ],
 "metadata": {
  "kernelspec": {
   "display_name": "Python 3",
   "language": "python",
   "name": "python3"
  },
  "language_info": {
   "codemirror_mode": {
    "name": "ipython",
    "version": 3
   },
   "file_extension": ".py",
   "mimetype": "text/x-python",
   "name": "python",
   "nbconvert_exporter": "python",
   "pygments_lexer": "ipython3",
   "version": "3.11.8"
  }
 },
 "nbformat": 4,
 "nbformat_minor": 2
}
