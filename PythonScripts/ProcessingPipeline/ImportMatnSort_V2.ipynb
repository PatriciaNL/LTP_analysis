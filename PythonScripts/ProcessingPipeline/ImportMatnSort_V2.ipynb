{
 "cells": [
  {
   "cell_type": "code",
   "execution_count": null,
   "metadata": {
    "metadata": {}
   },
   "outputs": [],
   "source": [
    "# load libs\n",
    "import numpy as np \n",
    "import scipy \n",
    "import pandas as pd\n",
    "import os\n",
    "import matplotlib.pyplot as plt #import matplotlib as plt\n",
    "from mpl_toolkits.axes_grid1 import make_axes_locatable\n",
    "import seaborn as sns #import mat73\n",
    "import pickle as pkl\n",
    "from datetime import datetime\n",
    "import mne\n",
    "from mne.viz import plot_topomap\n",
    "from mne.io import RawArray\n",
    "import numpy.matlib\n",
    "sns.set_theme() # set the plotting atmosphere\n",
    "rbow = sns.color_palette('husl',8)"
   ]
  },
  {
   "cell_type": "code",
   "execution_count": null,
   "metadata": {
    "metadata": {}
   },
   "outputs": [],
   "source": [
    "NumHarms = 4\n",
    "prebins = 1\n",
    "NumBins = 6 # 6 contrasts\n",
    "allbins = prebins+NumBins # 6 contrasts + prelude bin (7)\n",
    "NumChans = 128\n",
    "NumHemis = 2 # hemifield data = NumHarms*NumHemis # 8 : 2f1 4f1 6f1 8f1 2f2 4f2 6f2 8f2\n",
    "NumFriters = NumHarms*NumHemis\n",
    "co = 0 # condition out of 6 \n",
    "### row count to determine if 1f1 data exists\n",
    "ExpectedRows = (8*allbins)* 2 # 112 \n",
    "BadRows = (9*allbins)*2 # 126\n",
    "h = np.arange(0,NumFriters,1)\n",
    "# set freq index list for 2f1 - 8f2 data\n",
    "hIters = np.sort(np.tile(h,allbins))\n",
    "chanInd = np.arange(1,NumChans,1) # channel index ..."
   ]
  },
  {
   "cell_type": "code",
   "execution_count": null,
   "metadata": {
    "metadata": {}
   },
   "outputs": [],
   "source": [
    "# montage info \n",
    "montageIn = mne.channels.make_standard_montage(\"GSN-HydroCel-128\")\n",
    "info = mne.create_info(ch_names=montageIn.ch_names, sfreq=1, ch_types=\"eeg\")\n",
    "info.set_montage(montageIn)\n",
    "print(montageIn)\n",
    "# contrast labels\n",
    "# contrast_levels=np.array([1, 3, 5, 16, 40, 100])\n",
    "cll=['1%', '3%', '5%', '16%', '40%', '100%']\n",
    "# ttl = ['2f1','4f1','6f1','8f1','2f2','4f2','6f2','8f2']\n",
    "# occipital electrode placement locs\n",
    "elec_Arc1_outer = [68,64,58,51,47,42,37,31,    80,87,93,98,97,96,95,94]\n",
    "elec_Arc2 = [73,69,65,59,52,53,54,  55,  79,86,92,91,90,89,88]\n",
    "elec_Arc3 = [74,70,66,60,61,  78,85,84,83,82,  81]\n",
    "elec_Arc4_inner = [71,67,62,77,76,75,     72]\n",
    "AllAnalysisChans = np.concatenate([elec_Arc1_outer,elec_Arc2,elec_Arc3,elec_Arc4_inner])\n",
    "AnalysisChans = np.unique(AllAnalysisChans) - 1\n",
    "VisChans = np.sort(AnalysisChans)\n",
    "print(f'Channels to be visualized: {VisChans}')\n",
    "ocm = np.zeros_like((np.arange(0,NumChans,1)))\n",
    "ocm[VisChans] = True # set good chans to true\n",
    "#ocm_chans = ocm.astype(bool)\n",
    "\n",
    "# function to plot topos\n",
    "def init_TopoTemplate(title_In):\n",
    "    \"\"\"Prep topo plot fig and axes\"\"\"\n",
    "    fig, axes = plt.subplots(nrows=1, ncols=2, figsize=(8,4))\n",
    "    axes[0].axis('off')\n",
    "    axes[1].axis('off')\n",
    "    axes[0].gridspec_kw=dict(height_ratios=[3])\n",
    "    axes[1].gridspec_kw=dict(height_ratios=[3])\n",
    "    plt.tight_layout()\n",
    "    plt.suptitle(f'{title_In}', fontsize = 20)\n",
    "    return fig, axes"
   ]
  },
  {
   "cell_type": "markdown",
   "metadata": {},
   "source": [
    "### Import all files that will be sorted and exported into another .mat file"
   ]
  },
  {
   "cell_type": "code",
   "execution_count": null,
   "metadata": {
    "metadata": {}
   },
   "outputs": [],
   "source": [
    "# Main Directory of processed file from MatLab\n",
    "# MainDir = 'C:\\\\plimon\\\\LTP_analysis\\\\eegMatFiles\\\\MAT' # set dir (old dir)\n",
    "MainDir = 'C:\\\\plimon\\\\LTP_analysis\\\\eegMatFiles\\\\MatFilesComplete' # set dir (old dir)\n",
    "os.chdir(MainDir) # change old dir, to this dir\n",
    "d = os.listdir(MainDir) # list files in dir\n",
    "print(f'Number of Files on hand: {int(len(d))}')\n",
    "Fnames = np.sort(d) # get all subjects label names "
   ]
  },
  {
   "cell_type": "code",
   "execution_count": null,
   "metadata": {
    "metadata": {}
   },
   "outputs": [],
   "source": [
    "SignalData  = {} # ave average data \n",
    "#RealnImaginaryData = {} # save real and imaginary data \n",
    "\n",
    "for suIn in range(len(d)):#range(10):# og d \n",
    "    SignalData[suIn]  = {}\n",
    "    #RealnImaginaryData[0] = {}\n",
    "### import file via path \n",
    "    FileN = Fnames[suIn] # import from sorted subj expt name list                       \n",
    "    file_path = os.path.join(MainDir, FileN) # join paths and prep 2 load\n",
    "    mat_data = scipy.io.loadmat(file_path) # import data file\n",
    "\n",
    "### extract signal data from file and dims\n",
    "    MainData = mat_data['signalData'][co][0]\n",
    "    SortDataIn = np.array(MainData)\n",
    "    [NumRows, NumChans, NumTrials] = SortDataIn.shape # get dims of data to use later ..\n",
    "    real_imag_bound = int((NumRows/2)) # real and imaginary freq values ...\n",
    "    # prepost_bound = int(NumTrials/2)\n",
    "    # tInds = np.arange(0,NumTrials,prepost_bound)# trial inds\n",
    "\n",
    "### reshape real and imaginary values and remove 0's with nan's\n",
    "    dIn = SortDataIn.reshape(real_imag_bound,2,NumChans,NumTrials,order='A')\n",
    "    # RealnImaginaryData[suIn]= dIn    \n",
    "    dIn[dIn==0]=np.nan\n",
    "    #print(dIn.shape)\n",
    "    RowCount = int(dIn.shape[0])\n",
    "    if RowCount == int(ExpectedRows/2): # if data dont have extra f1 data\n",
    "        print(f'data is expected shape {dIn.shape}')\n",
    "        data = dIn\n",
    "    else:\n",
    "        #print(f'data contains f1 info') # data has extra f1 info - rmv\n",
    "        data = dIn[allbins:,:,:] # remove 0-7 rows\n",
    "        print(f'1f1 data removed, new shape {data.shape}')\n",
    "    # RealnImaginaryData[suIn] = data\n",
    "\n",
    "    xF_Bins = {}\n",
    "    for hi in range(8):\n",
    "        tempIn =data[hIters == hi]\n",
    "        tempOut = tempIn[1:,:,:,:]\n",
    "        xF_Bins[hi] = tempOut\n",
    "\n",
    "    SignalData[suIn]  = xF_Bins"
   ]
  },
  {
   "cell_type": "code",
   "execution_count": null,
   "metadata": {
    "metadata": {}
   },
   "outputs": [],
   "source": [
    "print(f'Total Files Imported {int(len(SignalData.keys()))}')"
   ]
  },
  {
   "cell_type": "code",
   "execution_count": null,
   "metadata": {
    "metadata": {}
   },
   "outputs": [],
   "source": [
    "allData = {} # store eeg channel activity \n",
    "complexValData = {} # store real and imaginary numbers\n",
    "\n",
    "for allFiles in range(len(d)): # len(d)\n",
    "    allData[allFiles] = {}  # new subkeys per sub key\n",
    "    complexValData[allFiles] = {} # new subkeys per sub key\n",
    "    sdIn = SignalData[allFiles] # import 1 subjects data for all 1f1-8f2\n",
    "\n",
    "    for fi in range(NumFriters):\n",
    "        avg = np.zeros((2,6,128)) # empy array to fill for each 2f1-8f2\n",
    "        Complex_avgs  = np.zeros((2,6,2,128)) # [pre post x bins x complex (real/imag) x chans]\n",
    "        sdkIn = sdIn[fi] # import one data array for 2-8 F1-F2 [6x2x128x78]\n",
    "        #print(sdkIn.shape)\n",
    "        nt = np.shape(sdkIn)[3] # get trial # completed\n",
    "        prepost_bound = int(nt/2) # index to split data \n",
    "        tInds = np.arange(0,nt,prepost_bound)# trial inds\n",
    "\n",
    "        for ppb in range(2): # iterate for pre post data matricies\n",
    "            st = tInds[ppb] # start index \n",
    "            ed = st+prepost_bound # end index\n",
    "            minimat = sdkIn[:,:,:,st:ed] # import pre or post chunk of data [binxrealimagxchansxtrials]\n",
    "            #print(minimat.shape) # 6 x 2 x 128 x 39\n",
    "                ############ get average channel activity pre / post induction \n",
    "            for b in range(NumBins): # per bin\n",
    "                for ch in range(NumChans): # per channel\n",
    "                    reN = np.nanmean(minimat[b,0,ch,:]) # real vales \n",
    "                    imagN = np.nanmean(minimat[b,1,ch,:]) # imaginary values\n",
    "                    h = np.hypot(reN,imagN) # hypotenuse of real and imaginary\n",
    "                    avg[ppb,b,ch] = h # 2 x 6 x 128\n",
    "            allData[allFiles][fi] = avg\n",
    "        ############# get avg real and imaginary values for all trials for one bin,one channel\n",
    "            for bi in range(NumBins):\n",
    "                sig = minimat[bi,:,:,:] # 2 x 128 x 39 = real/imaginary x channels x trials\n",
    "                for clex in range(2):\n",
    "                    cmlx_dim  = sig[clex,:,:] # real or imaginary  = [128x 39]\n",
    "                    #cmplx_avg = np.nanmean(cmlx_dim,axis = 1)\n",
    "                    Complex_avgs[ppb,bi,clex,:] = np.nanmean(cmlx_dim,axis = 1)\n",
    "            complexValData[allFiles][fi] = Complex_avgs\n"
   ]
  },
  {
   "cell_type": "markdown",
   "metadata": {},
   "source": [
    "#### Rmv hashtag to plot channel activity for 2f1 and 2f2 "
   ]
  },
  {
   "cell_type": "code",
   "execution_count": null,
   "metadata": {
    "metadata": {}
   },
   "outputs": [],
   "source": [
    "for j in range(2):\n",
    "    f1_pp = allData[j][0]\n",
    "    f2_pp = allData[j][4]\n",
    "\n",
    "    plt.plot(f1_pp[0,5,:], color = 'black', label = 'pre F1')\n",
    "    plt.plot(f1_pp[1,5,:],color = 'blue', label = 'post F1')\n",
    "    plt.plot(f2_pp[0,5,:], color = 'black', alpha = 0.5, label = 'pre F2')\n",
    "    plt.plot(f2_pp[1,5,:],color = 'red', label = 'post F2')\n",
    "    plt.title(f'F1/2 avg channel actvity, {Fnames[j]}')\n",
    "    plt.legend()\n",
    "    plt.show()"
   ]
  },
  {
   "cell_type": "code",
   "execution_count": null,
   "metadata": {
    "metadata": {}
   },
   "outputs": [],
   "source": [
    "# for stp in range(len(d)):\n",
    "#     fxs = [allData[stp][0], allData[stp][4]] # freq set xf1 xf2\n",
    "#     fxl = ['F1','F2']\n",
    "\n",
    "#     for i in range(1): # import f1 and f2 data\n",
    "#         t = fxs[i]\n",
    "#         #print(t.shape)\n",
    "#         for contrast in range(1): # NumBins\n",
    "#             tIn_pre = np.array(t[0,contrast+5,:])\n",
    "#             tIn_post = np.array(t[1,contrast+5,:])\n",
    "\n",
    "#             fig, axes = init_TopoTemplate(f'{Fnames[stp]}, {fxl[i]}, {cll[contrast+5]}')\n",
    "\n",
    "#             im,_ = plot_topomap(tIn_pre,info,mask = ocm,axes = axes[0],show =False,extrapolate = 'local',cmap = 'Spectral_r', res = 32, contours =3,sphere=(0.0,0.0,0.0,0.09),outlines = 'head')\n",
    "#             im,_ = plot_topomap(tIn_post,info,mask = ocm,axes = axes[1],show =False,extrapolate = 'local',cmap = 'Spectral_r', res = 32, contours =3,sphere=(0.0,0.0,0.0,0.09),outlines = 'head')\n",
    "\n",
    "#             divider = make_axes_locatable(axes[1])\n",
    "#             cax = divider.append_axes('right', size='5%', pad=0.1)\n",
    "#             cbar = plt.colorbar(im, cax=cax)"
   ]
  },
  {
   "cell_type": "markdown",
   "metadata": {},
   "source": [
    "# plot single subject data to confirm"
   ]
  },
  {
   "cell_type": "markdown",
   "metadata": {},
   "source": [
    "#### Bad Subjs: [2661,2669]"
   ]
  },
  {
   "cell_type": "code",
   "execution_count": null,
   "metadata": {
    "metadata": {}
   },
   "outputs": [],
   "source": [
    "dubSub = 10\n",
    "print(Fnames[dubSub])\n",
    "\n",
    "fxs = [allData[dubSub][0], allData[dubSub][4]] # freq set xf1 xf2\n",
    "fxl = ['F1','F2']\n",
    "\n",
    "for i in range(2): # import f1 and f2 data\n",
    "    t = fxs[i]\n",
    "    #print(t.shape)\n",
    "    for contrast in range(5): # NumBins\n",
    "        tIn_pre = np.array(t[0,contrast,:])\n",
    "        tIn_post = np.array(t[1,contrast,:])\n",
    "\n",
    "        fig, axes = init_TopoTemplate(f'{Fnames[dubSub]}, {fxl[i]}, {cll[contrast]}')\n",
    "\n",
    "        im,_ = plot_topomap(tIn_pre,info,mask = ocm,axes = axes[0],show =False,extrapolate = 'local',cmap = 'Spectral_r', res = 32, contours =3,sphere=(0.0,0.0,0.0,0.09),outlines = 'head')\n",
    "        im,_ = plot_topomap(tIn_post,info,mask = ocm,axes = axes[1],show =False,extrapolate = 'local',cmap = 'Spectral_r', res = 32, contours =3,sphere=(0.0,0.0,0.0,0.09),outlines = 'head')\n",
    "\n",
    "        divider = make_axes_locatable(axes[1])\n",
    "        cax = divider.append_axes('right', size='5%', pad=0.1)\n",
    "        cbar = plt.colorbar(im, cax=cax)\n",
    "\n",
    "#### bad subj files names here:\n",
    "# 2653_attnR_20231013_0932_RLS\n",
    "# 2655_attnL_20231009_1303_RLS\n",
    "# 2657_attnR_20231020_1201_RLS\n",
    "# 2661_attnL_20231018_1322_RLS\n",
    "# 2661_attnR_20231017_1358_RLS\n",
    "# 2669_attnR_20231023_1241_RLS\n",
    "# 2728-attnL_20240305_1534_RLS\n",
    "# 2733-attnL_20240312_1701_RLS\n",
    "# \n",
    "# Dubious ...\n",
    "# 2655_attnR_20231016_0948_RLS\n",
    "# 2671_attnL_20231024_1107_R LS"
   ]
  },
  {
   "cell_type": "code",
   "execution_count": null,
   "metadata": {
    "metadata": {}
   },
   "outputs": [],
   "source": [
    "print(int(len(complexValData.keys())))"
   ]
  },
  {
   "cell_type": "code",
   "execution_count": null,
   "metadata": {
    "metadata": {}
   },
   "outputs": [],
   "source": [
    "cvd = complexValData[30][0] #  2 x 6x 2 x 128\n",
    "cxl = ['real','imaginary']\n",
    "\n",
    "for pp in range(2):\n",
    "    pd = cvd[pp,:,:,:]\n",
    "    for bi in range(NumBins):\n",
    "        fig,axs = plt.subplots(2,1,figsize = (7,5),sharey = True)\n",
    "        lo_c = pd[bi,:,:] # [2 x 128]\n",
    "        for ri in range(2):\n",
    "            axs[0].scatter(np.arange(0,NumChans,1), lo_c[ri,:], label = f'{cxl[ri]}', color = rbow[ri+1])\n",
    "            axs[1].scatter( lo_c[0,:], lo_c[1,:], label = f'{cxl[ri]}', color = rbow[5])\n",
    "            axs[0].legend()\n",
    "            axs[1].legend()\n",
    "            axs[0].set_title(f'{cll[bi]}')\n",
    "# [pre post x bins x complex (real/imag) x chans]"
   ]
  },
  {
   "cell_type": "code",
   "execution_count": null,
   "metadata": {
    "metadata": {}
   },
   "outputs": [],
   "source": [
    "# fig,axs = plt.subplots(2,1,figsize = (10,6),sharey = True)\n",
    "# for ppb in range(2):\n",
    "#     for s in range(6):\n",
    "#         axs[ppb].scatter(np.arange(0,NumChans,1),avg[ppb,s,:],label = f'{cll[s]}', alpha = 0.7)\n",
    "#         axs[ppb].plot(avg[ppb,s,:])\n",
    "#         axs[ppb].legend()\n",
    "# plt.suptitle(f'Pre Post Channel activity per bin')"
   ]
  },
  {
   "cell_type": "code",
   "execution_count": null,
   "metadata": {
    "metadata": {}
   },
   "outputs": [],
   "source": [
    "FileNamesIndicies = np.array(d) # make list into array \n",
    "FileName = [FileNamesIndicies.replace('_','-') for FileNamesIndicies in FileNamesIndicies] # uniform fnames to make bools for attnl and attnR "
   ]
  },
  {
   "cell_type": "code",
   "execution_count": null,
   "metadata": {
    "metadata": {}
   },
   "outputs": [],
   "source": [
    "DataOut = {}\n",
    "\n",
    "DataOut['RealImaginaryData_sIns'] = complexValData\n",
    "DataOut['EEGData'] = allData\n",
    "DataOut['SubIDs'] = FileName"
   ]
  },
  {
   "cell_type": "code",
   "execution_count": null,
   "metadata": {
    "metadata": {}
   },
   "outputs": [],
   "source": [
    "SaveDataDir = 'C:\\\\plimon\\\\LTP_analysis\\\\eegMatFiles\\\\AllMat'\n",
    "print(os.path.exists(SaveDataDir)) # does pth exist :p\n",
    "\n",
    "dnt = datetime.now() # add date and time bc im wreckless when saving ..\n",
    "fdnt = dnt.strftime(\"%Y%m%d_%H%M%S\") # set the above as a string ...\n",
    "FileOutName = 'ProcessedData_pnlApproved'\n",
    "FileN = f'{FileOutName}_{fdnt}.pkl' \n",
    "NewFileNPath = os.path.join(SaveDataDir,FileN)\n",
    "print('Full New File Dir: ', NewFileNPath)\n",
    "\n",
    "saveFile = 'y'\n",
    "if saveFile == 'y':\n",
    " with open(NewFileNPath, 'wb') as file:\n",
    "    pkl.dump(DataOut, file, protocol=pkl.HIGHEST_PROTOCOL)\n",
    "    print('MAT Data For All Subjs Saved! :))')\n",
    "else:\n",
    "    print('Did Not Save File! Change file name before switching to y!')"
   ]
  }
 ],
 "metadata": {
  "kernelspec": {
   "display_name": "Python 3",
   "language": "python",
   "name": "python3"
  },
  "language_info": {
   "codemirror_mode": {
    "name": "ipython",
    "version": 3
   },
   "file_extension": ".py",
   "mimetype": "text/x-python",
   "name": "python",
   "nbconvert_exporter": "python",
   "pygments_lexer": "ipython3",
   "version": "3.11.9"
  }
 },
 "nbformat": 4,
 "nbformat_minor": 2
}
