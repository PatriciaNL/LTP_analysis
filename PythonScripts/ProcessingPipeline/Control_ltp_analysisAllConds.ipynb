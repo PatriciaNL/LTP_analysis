{
 "cells": [
  {
   "cell_type": "code",
   "execution_count": 190,
   "metadata": {},
   "outputs": [],
   "source": [
    "# load packages\n",
    "import numpy as np \n",
    "import scipy \n",
    "import pandas as pd\n",
    "import os\n",
    "import matplotlib.pyplot as plt #import matplotlib as plt\n",
    "from mpl_toolkits.axes_grid1 import make_axes_locatable\n",
    "import seaborn as sns #import mat73\n",
    "import pickle as pkl\n",
    "from datetime import datetime\n",
    "import mne\n",
    "from mne.viz import plot_topomap\n",
    "from mne.io import RawArray\n",
    "import numpy.matlib\n",
    "import scipy.stats as stats \n",
    "sns.set_theme() # set the plotting atmosphere"
   ]
  },
  {
   "cell_type": "code",
   "execution_count": 191,
   "metadata": {},
   "outputs": [],
   "source": [
    "SourceDir = 'C:\\\\plimon\\\\LTP_analysis\\\\Control_ltp_Data\\\\ryanltpstimuluste_20240430_1222'\n",
    "matl_dir = 'Exp_MATL_HCN_128_Avg'\n",
    "txt_dir = 'Exp_TEXT_HCN_128_Avg'"
   ]
  },
  {
   "cell_type": "code",
   "execution_count": 242,
   "metadata": {},
   "outputs": [],
   "source": [
    "FileDirIn = SourceDir + '\\\\' + txt_dir\n",
    "#print(FileDirIn)\n",
    "\n",
    "#print(os.path.isdir(FileDirIn))\n",
    "\n",
    "os.chdir(FileDirIn)\n",
    "df_names = os.listdir(FileDirIn)\n",
    "#print(df_names)\n",
    "\n",
    "folder_spec = 'RLS'\n",
    "#print(len(df_names))\n",
    "\n",
    "co_dataFiles = [file for file in df_names if file.startswith(folder_spec)]\n",
    "#print(len(co_dataFiles))\n",
    "#print(co_dataFiles)\n",
    "dirIn = FileDirIn+'\\\\'+co_dataFiles[1] \n",
    "#print(dirIn)\n",
    "\n",
    "#print(os.path.isfile(dirIn))\n",
    "\n",
    "# mat_data = loadmat(dirIn)\n",
    "# print(mat_data.keys())\n",
    "with open(dirIn, 'r') as file:\n",
    "    matrix = []\n",
    "    for line in file:\n",
    "        fields = line.strip().split()\n",
    "        row_data = []\n",
    "        for field in fields:\n",
    "            if field.isdigit():\n",
    "                # If the field is a digit, convert it to an integer\n",
    "                value = int(field)\n",
    "            else:\n",
    "                # If the field is not a digit, keep it as a string\n",
    "                value = field\n",
    "            row_data.append(value)\n",
    "        matrix.append(row_data)\n",
    "NumRows = int(len(matrix))\n",
    "NumCols = (int(len(matrix[1])))\n",
    "\n",
    "\n",
    "signal = []\n",
    "\n",
    "cPos = 10\n",
    "for r in range(NumRows-1):\n",
    "    dataRowIn = matrix[r+1][cPos] \n",
    "    signal.append(dataRowIn)"
   ]
  },
  {
   "cell_type": "code",
   "execution_count": 247,
   "metadata": {},
   "outputs": [
    {
     "name": "stdout",
     "output_type": "stream",
     "text": [
      "(93184,)\n",
      "46592.0\n"
     ]
    }
   ],
   "source": [
    "sig = np.array(signal)\n",
    "print(sig.shape)\n",
    "\n",
    "x = np.shape(sig)[0] / 2\n",
    "print(x)"
   ]
  },
  {
   "cell_type": "code",
   "execution_count": 236,
   "metadata": {},
   "outputs": [
    {
     "name": "stdout",
     "output_type": "stream",
     "text": [
      "['iSess', 'iCond', 'iTrial', 'iCh', 'iFr', 'AF', 'xF1', 'xF2', 'Harm', 'FK_Cond', 'iBin', 'SweepVal', 'Sr', 'Si', 'N1r', 'N1i', 'N2r', 'N2i', 'Signal', 'Phase', 'Noise', 'StdErr', 'PVal', 'SNR', 'LSB', 'RSB', 'UserSc', 'Thresh', 'ThrBin', 'Slope', 'ThrInRange', 'MaxSNR']\n"
     ]
    }
   ],
   "source": [
    "print(matrix[0])\n",
    "\n",
    "\n",
    "# inds to keep \n",
    "# iTrial, iCh,iFr,xF1,xF2,Harm,Signal"
   ]
  },
  {
   "cell_type": "code",
   "execution_count": 230,
   "metadata": {},
   "outputs": [
    {
     "name": "stdout",
     "output_type": "stream",
     "text": [
      "[0. 0. 0. ... 0. 0. 0.]\n"
     ]
    }
   ],
   "source": [
    "print(matrix[:,3])"
   ]
  },
  {
   "cell_type": "markdown",
   "metadata": {},
   "source": [
    "### Import Axx Files"
   ]
  },
  {
   "cell_type": "code",
   "execution_count": 199,
   "metadata": {},
   "outputs": [
    {
     "name": "stdout",
     "output_type": "stream",
     "text": [
      "6\n",
      "['RLS_c001.txt', 'RLS_c002.txt', 'RLS_c003.txt', 'RLS_c004.txt', 'RLS_c005.txt', 'RLS_c006.txt']\n",
      "6\n",
      "['RLS_c001.txt', 'RLS_c002.txt', 'RLS_c003.txt', 'RLS_c004.txt', 'RLS_c005.txt', 'RLS_c006.txt']\n",
      "C:\\plimon\\LTP_analysis\\Control_ltp_Data\\ryanltpstimuluste_20240430_1222\\Exp_TEXT_HCN_128_Avg\\RLS_c002.txt\n",
      "True\n"
     ]
    }
   ],
   "source": [
    "# look at rls in co5 activity for f1\n",
    "\n",
    "from scipy.io import loadmat\n",
    "\n",
    "FileDirIn = SourceDir + '\\\\' + txt_dir\n",
    "# print(FileDirIn)\n",
    "\n",
    "# print(os.path.isdir(FileDirIn))\n",
    "\n",
    "os.chdir(FileDirIn)\n",
    "df_names = os.listdir(FileDirIn)\n",
    "#print(df_names)\n",
    "\n",
    "folder_spec = 'RLS'\n",
    "#print(len(df_names))\n",
    "\n",
    "co_dataFiles = [file for file in df_names if file.startswith(folder_spec)]\n",
    "print(len(co_dataFiles))\n",
    "print(co_dataFiles)\n",
    "\n",
    "\n",
    "\n",
    "co_dataFiles = [file for file in df_names if file.startswith(folder_spec)]\n",
    "print(len(co_dataFiles))\n",
    "print(co_dataFiles)\n",
    "dirIn = FileDirIn+'\\\\'+co_dataFiles[1] \n",
    "print(dirIn)\n",
    "\n",
    "print(os.path.isfile(dirIn))\n",
    "\n",
    "# mat_data = loadmat(dirIn)\n",
    "# print(mat_data.keys())\n",
    "with open(dirIn, 'r') as file:\n",
    "    matrix = []\n",
    "    for line in file:\n",
    "        fields = line.strip().split()\n",
    "        row_data = []\n",
    "        for field in fields:\n",
    "            if field.isdigit():\n",
    "                # If the field is a digit, convert it to an integer\n",
    "                value = int(0)\n",
    "            else:\n",
    "                # If the field is not a digit, keep it as a string\n",
    "                value = field\n",
    "            row_data.append(value)\n",
    "        matrix.append(row_data)\n",
    "\n",
    "data = (matrix)"
   ]
  },
  {
   "cell_type": "code",
   "execution_count": 210,
   "metadata": {},
   "outputs": [
    {
     "name": "stdout",
     "output_type": "stream",
     "text": [
      "93185\n"
     ]
    }
   ],
   "source": [
    "NumRows = int(len(matrix))\n",
    "\n",
    "print(NumRows)\n",
    "\n",
    "\n",
    "\n"
   ]
  },
  {
   "cell_type": "code",
   "execution_count": null,
   "metadata": {},
   "outputs": [],
   "source": []
  },
  {
   "cell_type": "code",
   "execution_count": null,
   "metadata": {},
   "outputs": [],
   "source": [
    "# dirIn = FileDirIn+'\\\\'+co_dataFiles[1] \n",
    "# #print(dirIn)\n",
    "# #print(os.path.isfile(dirIn))\n",
    "\n",
    "mat_data = loadmat(dirIn)\n",
    "print(mat_data.keys())\n",
    "\n",
    "cndNnm = mat_data['cndNmb'][0][0] # number of condition\n",
    "NumTrials = mat_data['nTrl'][0][0] # 12 trials\n",
    "NumChans= mat_data['nCh'][0][0] # 128 channels\n",
    "NumFreqs = mat_data['nFr'][0] # 140 freqs (cols)\n",
    "nt = mat_data['nT'][0][0] # sr or bin duration in samples per bin\n",
    "signal = np.array(mat_data['Amp'][0])\n",
    "f1 = mat_data['i1F1'][0][0] # 7.5 Hz\n",
    "f2 = mat_data['i1F2'][0][0] # 6 Hz\n",
    "\n",
    "# test = mat_data['Amp'][0][0]\n",
    "# print(test)\n",
    "print(f1,f2)\n",
    "print(NumTrials)\n",
    "# print(signal.shape)\n",
    "\n",
    "# # data is 128 x 12 \n",
    "fig,axs = plt.subplots(figsize = (6,4))\n",
    "for nt in range(NumTrials):\n",
    "    axs.plot(signal[:,nt], label = f'trial # {nt+1}')\n",
    "    axs.legend(fontsize = '8')\n",
    "plt.show()\n",
    "\n",
    "\n",
    "plt.plot(np.nanmean(signal,axis = 0))\n",
    "plt.show()"
   ]
  }
 ],
 "metadata": {
  "kernelspec": {
   "display_name": "Python 3",
   "language": "python",
   "name": "python3"
  },
  "language_info": {
   "codemirror_mode": {
    "name": "ipython",
    "version": 3
   },
   "file_extension": ".py",
   "mimetype": "text/x-python",
   "name": "python",
   "nbconvert_exporter": "python",
   "pygments_lexer": "ipython3",
   "version": "3.11.9"
  }
 },
 "nbformat": 4,
 "nbformat_minor": 2
}
