{
 "cells": [
  {
   "cell_type": "markdown",
   "metadata": {},
   "source": [
    "### Naka Rushton Modeling for RCA Data Derived from LTP Task (AttnL and AttnR) "
   ]
  },
  {
   "cell_type": "code",
   "execution_count": null,
   "metadata": {},
   "outputs": [],
   "source": [
    "# load packages\n",
    "import numpy as np \n",
    "import scipy.io\n",
    "from scipy.fft import fft, ifft\n",
    "from scipy.io   import  loadmat\n",
    "import pandas as pd\n",
    "import os\n",
    "import matplotlib.pyplot as plt #import matplotlib as plt\n",
    "from scipy.optimize import curve_fit \n",
    "import seaborn as sns\n",
    "#import mat73"
   ]
  },
  {
   "cell_type": "markdown",
   "metadata": {},
   "source": [
    "#### Set Functions; Naka Rushton nd Cost Function"
   ]
  },
  {
   "cell_type": "code",
   "execution_count": null,
   "metadata": {},
   "outputs": [],
   "source": [
    "# Naka-Rushton function: Response as function of luminance contrast\n",
    "def naka_rushton(I, I0, n, Rmax):\n",
    "    return Rmax * (I**n) / (I0**n + I**n)\n",
    "## R(C) = Rmax * C^n / ((C^n)underscore50 + C^n) - 3 PARAMETERS\n",
    "# 1.) Rmax = maximum response (amplitude of VEP)/ spike rate at which the response saturates\n",
    "# 2.) C50 = contrast necessary to reach 50% of the maximum response (semisaturation contrast) \n",
    "# 3.) n = determines the slope of the curve as well as sharpness of of the nonlinearities at low and high contrasts\n",
    "## n is determined through an iterative fitting process - try least squares fitting\n",
    "def cost_function(n, I, R, IO, Rmax):\n",
    "    predictions = naka_rushton(I,IO,n,Rmax)\n",
    "    return np.sum((predictions - R)**2)\n",
    "# function that easurea the difference between model predictions and the actual data"
   ]
  },
  {
   "cell_type": "markdown",
   "metadata": {},
   "source": [
    "#### Set Path for RCA Data File"
   ]
  },
  {
   "cell_type": "code",
   "execution_count": null,
   "metadata": {},
   "outputs": [],
   "source": [
    "# Main Directory of processed file from MatLab\n",
    "MainDir = 'D:\\\\AttnXV3_analysis\\\\RCA_F1\\\\RCA\\\\' # set dir\n",
    "os.chdir(MainDir)\n",
    "# Set File Name \n",
    "d = os.listdir(MainDir) # list files in dir\n",
    "FileN = (d[0]) # choose one\n",
    "file_path = os.path.join(MainDir, FileN) # join paths and prep 2 load\n",
    "print(file_path) # does path exist ... ?\n",
    "os.path.exists(file_path) # yes or no"
   ]
  },
  {
   "cell_type": "markdown",
   "metadata": {},
   "source": [
    "#### Import and Extract Data"
   ]
  },
  {
   "cell_type": "code",
   "execution_count": null,
   "metadata": {},
   "outputs": [],
   "source": [
    "mat_data = scipy.io.loadmat(file_path)\n",
    "rca = mat_data['rcaResult']['projectedData'][0,0]\n",
    "rcaData = [rca[i,0] for i in range(rca.shape[0])] # final data output"
   ]
  },
  {
   "cell_type": "markdown",
   "metadata": {},
   "source": [
    "#### Set Params + Import Single Data Set Just before mass loops"
   ]
  },
  {
   "cell_type": "code",
   "execution_count": null,
   "metadata": {},
   "outputs": [],
   "source": [
    "t = rcaData[16] # 24 x 4 x 78\n",
    "t[t == 0] = np.nan # replace 0's with nan's\n",
    "[NumRows, NumComps, NumTrials] = t.shape\n",
    "NumBins = 6 # number of contrasts\n",
    "NumHarms = 2 # number of harmonic data: 2F1. 4F1\n",
    "NumFreqs = (NumRows/NumBins) / 2\n",
    "FreqBound = int(NumRows/2) # index across cols\n",
    "TrialBound = int(NumTrials/2) # index across cols\n",
    "NumComp = 0 # first component from RCA\n",
    "contrast_levels = np.array([1, 3, 5, 16, 40, 100])\n",
    "x  = sns.color_palette(\"Paired\",6)"
   ]
  },
  {
   "cell_type": "markdown",
   "metadata": {},
   "source": [
    "#### Segement Data Based on 4 conditions"
   ]
  },
  {
   "cell_type": "code",
   "execution_count": null,
   "metadata": {},
   "outputs": [],
   "source": [
    "real_pre = np.squeeze (t[0:FreqBound, NumComp, 0:TrialBound]) # 12 x 39\n",
    "imag_pre = np.squeeze (t[FreqBound:,  NumComp, 0:TrialBound])\n",
    "real_post = np.squeeze(t[0:FreqBound, NumComp, TrialBound:])\n",
    "imag_post = np.squeeze(t[FreqBound:,  NumComp, TrialBound:])\n",
    "print(imag_post.shape) # sanity check"
   ]
  },
  {
   "cell_type": "markdown",
   "metadata": {},
   "source": [
    "#### Find the Amplitude Per Bin Per harmonic Frequency"
   ]
  },
  {
   "cell_type": "code",
   "execution_count": null,
   "metadata": {},
   "outputs": [],
   "source": [
    "AmpPerBin = np.zeros((2,NumBins*2))\n",
    "for j in range(12):\n",
    "    pre = np.hypot(np.nanmean(real_pre[j,:]),np.nanmean(imag_pre[j,:]))\n",
    "    post = np.hypot(np.nanmean(real_post[j,:]), np.nanmean(imag_post[j,:]))\n",
    "    AmpPerBin[0,j] = pre\n",
    "    AmpPerBin[1,j] = post"
   ]
  },
  {
   "cell_type": "markdown",
   "metadata": {},
   "source": [
    "##### Plot as Sanity Check"
   ]
  },
  {
   "cell_type": "code",
   "execution_count": null,
   "metadata": {},
   "outputs": [],
   "source": [
    "fig, axs = plt.subplots(1, NumHarms, figsize=(12, 6), sharey = True)\n",
    "#fbins = np.arange(1, 13).reshape(NumHarms, -1)\n",
    "fbins = np.array([[0, 1, 2, 3, 4, 5,], [6, 7, 8, 9, 10, 11]])\n",
    "\n",
    "for k in range(NumHarms):\n",
    "    axs[k].plot(AmpPerBin[0, fbins[k, :]], label='pre')\n",
    "    axs[k].plot(AmpPerBin[1, fbins[k, :]], label='post')\n",
    "\n",
    "    axs[k].set_title(f'Subplot {k + 1}')\n",
    "    axs[k].legend()\n",
    "plt.show()"
   ]
  },
  {
   "cell_type": "markdown",
   "metadata": {},
   "source": [
    "#### Stack Pre and Post into a Single Data Array"
   ]
  },
  {
   "cell_type": "code",
   "execution_count": null,
   "metadata": {},
   "outputs": [],
   "source": [
    "crfuns = np.zeros((int(NumFreqs)*2,int(NumBins))) # 4 x 6 array for all crf conditions\n",
    "# pre / post 2F1\n",
    "crfuns[0,:] =  AmpPerBin[0,0:6]\n",
    "crfuns[1,:] =  AmpPerBin[1,0:6]\n",
    "# pre / post 4F1\n",
    "crfuns[2,:] =  AmpPerBin[0,6:]\n",
    "crfuns[3,:] =  AmpPerBin[1,6:]"
   ]
  },
  {
   "cell_type": "markdown",
   "metadata": {},
   "source": [
    "#### Find C50 and RMax for every Condition"
   ]
  },
  {
   "cell_type": "code",
   "execution_count": null,
   "metadata": {},
   "outputs": [],
   "source": [
    "C50_ind = np.zeros((4))\n",
    "rMax_ind = np.zeros((4))\n",
    "for j in range(4):\n",
    "    C50_ind[j] = contrast_levels[np.argmin(np.abs(crfuns[j,:] - (np.max(crfuns[j,:])/2)))] # contrast that elcits 50% of max neural activity\n",
    "    rMax_ind[j] = np.max(crfuns[j,:]) # max amplitude before saturation\n",
    "print(C50_ind)\n",
    "print(rMax_ind)"
   ]
  },
  {
   "cell_type": "code",
   "execution_count": null,
   "metadata": {},
   "outputs": [],
   "source": [
    "n_optimal = np.zeros((4))\n",
    "\n",
    "initial_n_guess = 1.0\n",
    "for iters in range(4):\n",
    "    OptimalVal, opsCov = curve_fit(lambda I, n: naka_rushton(contrast_levels,n,C50_ind[iters],rMax_ind[iters]), contrast_levels, crfuns[iters,:], p0 = [initial_n_guess],method = 'lm',check_finite = True)\n",
    "    n_optimal[iters] = OptimalVal[0]\n",
    "    print('Optimal N:',n_optimal[iters]) # n fit (determines shape of function)\n",
    "    print(opsCov)\n",
    "    print(np.linalg.cond(opsCov)) # condition number of covariance matrix\n",
    "# small number suggests matrix is well conditioned and parameter estimates are stable \n",
    "# wrt variations in the input data\n",
    "    print(np.diag(opsCov)) # should be a matrix .... hmm..."
   ]
  },
  {
   "cell_type": "markdown",
   "metadata": {},
   "source": [
    "### Plot CRF's and Naka Rushton "
   ]
  },
  {
   "cell_type": "code",
   "execution_count": null,
   "metadata": {},
   "outputs": [],
   "source": [
    "# Plotting the Naka-Rushton function with the fixed I0 and Rmax, and optimized n\n",
    "fig, axs = plt.subplots(1, NumHarms, figsize=(14, 6), sharey = True)\n",
    "# 2F1\n",
    "axs[0].plot(crfuns[0,:], 'o', markersize = 8, label = 'Pre 2F1', color = x[2])\n",
    "axs[0].plot(naka_rushton(contrast_levels, n_optimal[0], C50_ind[0], rMax_ind[0]),linewidth=3,label=f'Naka-Rushton, C50={C50_ind[0]:.2f}, Rmax={rMax_ind[0]:.2f}, nFit={n_optimal[0]:.2f}', color = x[2])\n",
    "axs[0].plot(crfuns[1,:], 'o',markersize = 8,  label = 'Post 2F1', color = x[3])\n",
    "axs[0].plot(naka_rushton(contrast_levels, n_optimal[1], C50_ind[1], rMax_ind[1]),linewidth=3,label=f'Naka-Rushton, C50={C50_ind[1]:.2f}, Rmax={rMax_ind[1]:.2f}, nFit={n_optimal[1]:.2f}', color = x[3])\n",
    "axs[0].set_title('2F1 Naka Rushton Sim')\n",
    "axs[0].legend(fontsize = 10, loc = 'lower right')\n",
    "axs[0].spines['top'].set_visible(False)\n",
    "axs[0].spines['right'].set_visible(False)\n",
    "axs[0].set_ylabel('Response (R)')\n",
    "axs[0].set_xlabel('Contrast Increase')\n",
    "# 4F1\n",
    "axs[1].plot(crfuns[2,:], 'o',markersize = 8,  label = 'Pre 4F1', color = x[2])\n",
    "axs[1].plot(naka_rushton(contrast_levels, n_optimal[2], C50_ind[2], rMax_ind[2]),linewidth=3,label=f'Naka-Rushton, C50={C50_ind[2]:.4f}, Rmax={rMax_ind[2]:.4f}, nFit={n_optimal[2]:.4f}', color = x[2])\n",
    "axs[1].plot(crfuns[3,:], 'o', markersize = 8,  label = 'Post 4F1', color = x[3])\n",
    "axs[1].plot(naka_rushton(contrast_levels, n_optimal[3], C50_ind[3], rMax_ind[3]),linewidth=3,label=f'Naka-Rushton, C50={C50_ind[3]:.4f}, Rmax={rMax_ind[3]:.4f}, nFit={n_optimal[3]:.4f}', color = x[3])\n",
    "axs[1].set_title('4F1 Naka Rushton Sim')\n",
    "axs[1].legend(fontsize = 8, loc = 'lower right')\n",
    "axs[1].spines['top'].set_visible(False)\n",
    "axs[1].spines['right'].set_visible(False)\n",
    "axs[1].set_ylabel('Response (R)')\n",
    "axs[1].set_xlabel('Contrast Increase')\n",
    "plt.suptitle('Conditional CRFs & Corresponding Hyperbolic Ratio Model', fontsize=18)\n",
    "plt.show()\n",
    "plt.close()\n",
    "#print(C50_ind)\n",
    "#print(rMax_ind)"
   ]
  },
  {
   "cell_type": "markdown",
   "metadata": {},
   "source": [
    "#### Shuffle Across Trials - Pilot Bootstrap\n",
    "#np.random.seed(10092006)\n",
    "#shuff_data = np.zeros(t.shape)\n",
    "#np.shape(shuff_data)\n",
    "#shuff_trials = np.random.permutation(np.arange(NumTrials))\n",
    "#shuff_data = t[:,:,shuff_trials]\n",
    "#print(shuff_trials)\n",
    "# check if numbers are shuffled\n",
    "#print(t[1,1,0:5])\n",
    "#print(shuff_data[1,1,0:5])\n",
    "#t = shuff_data"
   ]
  },
  {
   "cell_type": "code",
   "execution_count": null,
   "metadata": {},
   "outputs": [],
   "source": [
    "#data = fftData.rcaResult.projectedData; % 55 x 1\n",
    "#weights = fftData.rcaResult.W; % 128 x 4 \n",
    "#noise_l = fftData.rcaResult.noiseData.lowerSideBand; % 55 x 1\n",
    "#noise_h = fftData.rcaResult.noiseData.higherSideBand; % 55 x 1"
   ]
  }
 ],
 "metadata": {
  "kernelspec": {
   "display_name": "base",
   "language": "python",
   "name": "python3"
  },
  "language_info": {
   "codemirror_mode": {
    "name": "ipython",
    "version": 3
   },
   "file_extension": ".py",
   "mimetype": "text/x-python",
   "name": "python",
   "nbconvert_exporter": "python",
   "pygments_lexer": "ipython3",
   "version": "3.11.5"
  }
 },
 "nbformat": 4,
 "nbformat_minor": 2
}
