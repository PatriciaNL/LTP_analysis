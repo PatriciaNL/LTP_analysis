{
 "cells": [
  {
   "cell_type": "code",
   "execution_count": 50,
   "metadata": {},
   "outputs": [],
   "source": [
    "# load libs\n",
    "import numpy as np \n",
    "import scipy \n",
    "import pandas as pd\n",
    "import os\n",
    "import matplotlib.pyplot as plt #import matplotlib as plt\n",
    "from mpl_toolkits.axes_grid1 import make_axes_locatable\n",
    "import seaborn as sns #import mat73\n",
    "import pickle as pkl\n",
    "from datetime import datetime\n",
    "import mne\n",
    "from mne.viz import plot_topomap\n",
    "from mne.io import RawArray\n",
    "import numpy.matlib\n",
    "sns.set_theme() # set the plotting atmosphere"
   ]
  },
  {
   "cell_type": "code",
   "execution_count": 56,
   "metadata": {},
   "outputs": [],
   "source": [
    "NumHarms = 4\n",
    "prebins = 1\n",
    "NumBins = 6 # 6 contrasts\n",
    "allbins = prebins+NumBins # 6 contrasts + prelude bin (7)\n",
    "NumChans = 128\n",
    "NumHemis = 2 # hemifield data\n",
    "NumFriters = NumHarms*NumHemis # 8 : 2f1 4f1 6f1 8f1 2f2 4f2 6f2 8f2\n",
    "co = 0 # condition out of 6 \n",
    "### row count to determine if 1f1 data exists\n",
    "ExpectedRows = (8*allbins)* 2 # 112 \n",
    "BadRows = (9*allbins)*2 # 126\n",
    "h = np.arange(0,NumFriters,1)\n",
    "# set freq index list for 2f1 - 8f2 data\n",
    "hIters = np.sort(np.tile(h,allbins))\n",
    "chanInd = np.arange(1,NumChans,1) # channel index ..."
   ]
  },
  {
   "cell_type": "code",
   "execution_count": 54,
   "metadata": {},
   "outputs": [
    {
     "name": "stdout",
     "output_type": "stream",
     "text": [
      "<DigMontage | 0 extras (headshape), 0 HPIs, 3 fiducials, 128 channels>\n",
      "Channels to be visualized: [30 36 41 46 50 51 52 53 54 57 58 59 60 61 63 64 65 66 67 68 69 70 71 72\n",
      " 73 74 75 76 77 78 79 80 81 82 83 84 85 86 87 88 89 90 91 92 93 94 95 96\n",
      " 97]\n"
     ]
    }
   ],
   "source": [
    "# montage info \n",
    "montageIn = mne.channels.make_standard_montage(\"GSN-HydroCel-128\")\n",
    "info = mne.create_info(ch_names=montageIn.ch_names, sfreq=1, ch_types=\"eeg\")\n",
    "info.set_montage(montageIn)\n",
    "print(montageIn)\n",
    "# contrast labels\n",
    "# contrast_levels=np.array([1, 3, 5, 16, 40, 100])\n",
    "# cll=['1%', '3%', '5%', '16%', '40%', '100%']\n",
    "# ttl = ['2f1','4f1','6f1','8f1','2f2','4f2','6f2','8f2']\n",
    "# occipital electrode placement locs\n",
    "elec_Arc1_outer = [68,64,58,51,47,42,37,31,    80,87,93,98,97,96,95,94]\n",
    "elec_Arc2 = [73,69,65,59,52,53,54,  55,  79,86,92,91,90,89,88]\n",
    "elec_Arc3 = [74,70,66,60,61,  78,85,84,83,82,  81]\n",
    "elec_Arc4_inner = [71,67,62,77,76,75,     72]\n",
    "AllAnalysisChans = np.concatenate([elec_Arc1_outer,elec_Arc2,elec_Arc3,elec_Arc4_inner])\n",
    "AnalysisChans = np.unique(AllAnalysisChans) - 1\n",
    "VisChans = np.sort(AnalysisChans)\n",
    "print(f'Channels to be visualized: {VisChans}')\n",
    "ocm = np.zeros_like((np.arange(0,NumChans,1)))\n",
    "ocm[VisChans] = True # set good chans to true\n",
    "#ocm_chans = ocm.astype(bool)\n",
    "\n",
    "# function to plot topos\n",
    "def init_TopoTemplate(title_In):\n",
    "    \"\"\"Prep topo plot fig and axes\"\"\"\n",
    "    fig, axes = plt.subplots(nrows=1, ncols=2, figsize=(8,4))\n",
    "    axes[0].axis('off')\n",
    "    axes[1].axis('off')\n",
    "    axes[0].gridspec_kw=dict(height_ratios=[3])\n",
    "    axes[1].gridspec_kw=dict(height_ratios=[3])\n",
    "    plt.tight_layout()\n",
    "    plt.suptitle(f'{title_In}', fontsize = 20)\n",
    "    return fig, axes"
   ]
  },
  {
   "cell_type": "markdown",
   "metadata": {},
   "source": [
    "### Import all files that will be sorted and exported into another .mat file"
   ]
  },
  {
   "cell_type": "code",
   "execution_count": 53,
   "metadata": {},
   "outputs": [
    {
     "name": "stdout",
     "output_type": "stream",
     "text": [
      "Number of Files on hand: 50\n"
     ]
    }
   ],
   "source": [
    "# Main Directory of processed file from MatLab\n",
    "MainDir = 'C:\\\\plimon\\\\LTP_analysis\\\\eegMatFiles\\\\MAT' # set dir\n",
    "os.chdir(MainDir) # change old dir, to this dir\n",
    "d = os.listdir(MainDir) # list files in dir\n",
    "print(f'Number of Files on hand: {int(len(d))}')\n",
    "Fnames = np.sort(d) # get all subjects label names "
   ]
  },
  {
   "cell_type": "code",
   "execution_count": 74,
   "metadata": {},
   "outputs": [
    {
     "name": "stdout",
     "output_type": "stream",
     "text": [
      "39\n",
      "data is expected shape (56, 2, 128, 78)\n",
      "39\n",
      "data is expected shape (56, 2, 128, 78)\n",
      "40\n",
      "f2 data removed, new shape (56, 2, 128, 80)\n"
     ]
    }
   ],
   "source": [
    "SignalData  = {} # ave average data \n",
    "RealnImaginaryData = {} # save real and imaginary data \n",
    "\n",
    "for suIn in range(len(d)):#range(10):# og d \n",
    "    #RealnImaginaryData[0] = {}\n",
    "### import file via path \n",
    "    FileN = Fnames[suIn+46] # import from sorted subj expt name list                       \n",
    "    file_path = os.path.join(MainDir, FileN) # join paths and prep 2 load\n",
    "    mat_data = scipy.io.loadmat(file_path) # import data file\n",
    "\n",
    "### extract signal data from file and dims\n",
    "    MainData = mat_data['signalData'][co][0]\n",
    "    SortDataIn = np.array(MainData)\n",
    "    [NumRows, NumChans, NumTrials] = SortDataIn.shape # get dims of data to use later ..\n",
    "    real_imag_bound = int((NumRows/2)) # real and imaginary freq values ...\n",
    "    prepost_bound = int(NumTrials/2)\n",
    "\n",
    "### reshape real and imaginary values and remove 0's with nan's\n",
    "    dIn = SortDataIn.reshape(real_imag_bound,2,NumChans,NumTrials,order='A')\n",
    "    # RealnImaginaryData[suIn]= dIn    \n",
    "    dIn[dIn==0]=np.nan\n",
    "    #print(dIn.shape)\n",
    "    RowCount = int(dIn.shape[0])\n",
    "    if RowCount == int(ExpectedRows/2): # if data dont have extra f1 data\n",
    "        print(f'data is expected shape {dIn.shape}')\n",
    "        data = dIn\n",
    "    else:\n",
    "        #print(f'data contains f1 info') # data has extra f1 info - rmv\n",
    "        data = dIn[allbins:,:,:] # remove 0-7 rows\n",
    "        print(f'f2 data removed, new shape {data.shape}')\n",
    "RealnImaginaryData[suIn] = data\n",
    "\n",
    "#     xF_Bins = {}\n",
    "#     for hi in range(8):\n",
    "#         tempIn =data[hIters == hi]\n",
    "#         tempOut = tempIn[1:,:,:,:]\n",
    "#         #print(tempOut.shape)\n",
    "#         xF_Bins[hi] = tempOut\n",
    "\n",
    "#     tInds = np.arange(0,NumTrials,prepost_bound)# trial inds\n",
    "\n",
    "#     sOut = {} # hypot data\n",
    "#     # riOut = {} # real / imaginary data\n",
    "\n",
    "#     valMat = np.zeros((8,2,6,128))\n",
    "#     for fritter in range(8): # per frequency \n",
    "#         fIn = xF_Bins[fritter]\n",
    "#         #print(fIn.shape)\n",
    "#         for triters in range(2): # per trial\n",
    "#             ti = tInds[triters]\n",
    "#             te = ti + prepost_bound\n",
    "#             ppIn = fIn[:,:,:,ti:te]\n",
    "#             for biters in range(6): # per bin\n",
    "#                 bdIn = ppIn[biters,:,:,:]\n",
    "#                 for chiters in range(128): # per channel\n",
    "#                     chIn = bdIn[:,chiters,:] # 2 x 29 (real /imag) x trials\n",
    "#                     preChAct = np.nanmean(bdIn[0,chiters,:]) # 39 rela and imaginary vals per bin x chan x harmonic x hemifield\n",
    "#                     postChAct = np.nanmean(bdIn[1,chiters,:])\n",
    "#                     hypOut = np.hypot(preChAct,postChAct)\n",
    "#                     valMat[fritter,triters,biters,chiters] = hypOut\n",
    "#                     #print(preChAct,postChAct, hypOut)\n",
    "# print(valMat.shape)"
   ]
  },
  {
   "cell_type": "code",
   "execution_count": null,
   "metadata": {},
   "outputs": [],
   "source": [
    "t_F1  = valMat[0,:,:,:] # harmonicHemi x prepost x bins x channels\n",
    "t_F2 = valMat[4,:,:,:]\n",
    "print(t_F1.shape) # pre post for contrat allchannels"
   ]
  },
  {
   "cell_type": "code",
   "execution_count": null,
   "metadata": {},
   "outputs": [],
   "source": [
    "for bin in range(6):\n",
    "    tIn_pre = np.array(t_F1[0,bin,:])\n",
    "    tIn_post = np.array(t_F1[1,bin,:])\n",
    "    # findLims = np.vstack((tIn_F1,tIn_F2))\n",
    "    # print(findLims.shape)\n",
    "    # t_max = np.max(findLims)\n",
    "    # t_min = np.min(findLims)\n",
    "    # print(t_min,t_max)\n",
    "    v_max = 2\n",
    "    v_min = 0\n",
    "\n",
    "    fig, axes = init_TopoTemplate(f'pre / post 2f1 {cll[bin]} contrast')\n",
    "    # left side plot\n",
    "    im,_ = plot_topomap(tIn_pre, info,mask = ocm, vlim = [v_min,v_max],axes = axes[0], show =False,extrapolate = 'local',cmap = 'Spectral_r', res = 32, contours =4,sphere=(0.0,0.0,0.0,0.09),outlines = 'head')\n",
    "    # middle  plot\n",
    "    im,_ = plot_topomap(tIn_post, info,mask = ocm,vlim = [v_min,v_max], axes = axes[1],show =False,extrapolate = 'local',cmap = 'Spectral_r', res = 32, contours =4,sphere=(0.0,0.0,0.0,0.09),outlines = 'head')\n",
    "\n",
    "    divider = make_axes_locatable(axes[1])\n",
    "    cax = divider.append_axes('right', size='5%', pad=0.1)\n",
    "    cbar = plt.colorbar(im, cax=cax)"
   ]
  },
  {
   "cell_type": "code",
   "execution_count": null,
   "metadata": {},
   "outputs": [],
   "source": [
    "for bin in range(6):\n",
    "    tIn_pre = t_F2[0,bin,:]\n",
    "    tIn_post = t_F2[1,bin,:]\n",
    "    # findLims = np.vstack((tIn_F1,tIn_F2))\n",
    "    # print(findLims.shape)\n",
    "    # t_max = np.max(findLims)\n",
    "    # t_min = np.min(findLims)\n",
    "    # print(t_min,t_max)\n",
    "    v_max = 2\n",
    "    v_min = 0\n",
    "\n",
    "    fig, axes = init_TopoTemplate(f'pre / post 2f2 {cll[bin]} contrast')\n",
    "    # left side plot\n",
    "    im,_ = plot_topomap(tIn_pre, info,mask = ocm, vlim = [v_min,v_max],axes = axes[0], show =False,extrapolate = 'local',cmap = 'Spectral_r', res = 32, contours =4,sphere=(0.0,0.0,0.0,0.09),outlines = 'head')\n",
    "    # middle  plot\n",
    "    im,_ = plot_topomap(tIn_post, info,mask = ocm,vlim = [v_min,v_max], axes = axes[1],show =False,extrapolate = 'local',cmap = 'Spectral_r', res = 32, contours =4,sphere=(0.0,0.0,0.0,0.09),outlines = 'head')\n",
    "\n",
    "    divider = make_axes_locatable(axes[1])\n",
    "    cax = divider.append_axes('right', size='5%', pad=0.1)\n",
    "    cbar = plt.colorbar(im, cax=cax)"
   ]
  },
  {
   "cell_type": "code",
   "execution_count": null,
   "metadata": {},
   "outputs": [],
   "source": []
  },
  {
   "cell_type": "markdown",
   "metadata": {},
   "source": [
    "## dont touch!!! until above is resolved"
   ]
  },
  {
   "cell_type": "code",
   "execution_count": null,
   "metadata": {},
   "outputs": [],
   "source": [
    "print(RealnImaginaryData.keys())\n",
    "print(RealnImaginaryData[0].keys())\n",
    "print(RealnImaginaryData[0][0].shape)"
   ]
  },
  {
   "cell_type": "code",
   "execution_count": null,
   "metadata": {},
   "outputs": [],
   "source": [
    "# sIn = 25\n",
    "\n",
    "# fig,axs = plt.subplots(8,2, figsize = (4,16), sharey = True)\n",
    "# d2p = SignalData[sIn]\n",
    "# print(d2p.keys())\n",
    "\n",
    "# for i in range(8):\n",
    "#     #print(d2p[i].shape)\n",
    "#     axs[i,0].plot(d2p[i][:,0,55:90])\n",
    "#     axs[i,1].plot(d2p[i][:,1,55:90])\n"
   ]
  },
  {
   "cell_type": "markdown",
   "metadata": {},
   "source": [
    "#### Sort Condition Bools"
   ]
  },
  {
   "cell_type": "code",
   "execution_count": null,
   "metadata": {},
   "outputs": [],
   "source": [
    "FileNamesIndicies = np.array(d) # make list into array \n",
    "FileName = [FileNamesIndicies.replace('_','-') for FileNamesIndicies in FileNamesIndicies] # uniform fnames to make bools for attnl and attnR "
   ]
  },
  {
   "cell_type": "code",
   "execution_count": null,
   "metadata": {},
   "outputs": [],
   "source": [
    "DataOut = {}\n",
    "\n",
    "DataOut['RealImaginaryData_sIns'] = RealnImaginaryData\n",
    "DataOut['EEGData'] = SignalData\n",
    "DataOut['SubIDs'] = FileName"
   ]
  },
  {
   "cell_type": "code",
   "execution_count": null,
   "metadata": {},
   "outputs": [],
   "source": [
    "SaveDataDir = 'C:\\\\plimon\\\\LTP_analysis\\\\eegMatFiles\\\\AllMat'\n",
    "print(os.path.exists(SaveDataDir)) # does pth exist :p\n",
    "\n",
    "dnt = datetime.now() # add date and time bc im wreckless when saving ..\n",
    "fdnt = dnt.strftime(\"%Y%m%d_%H%M%S\") # set the above as a string ...\n",
    "FileOutName = 'AllSubj_MatFiles_ri_C1'\n",
    "FileN = f'{FileOutName}_{fdnt}.pkl' \n",
    "NewFileNPath = os.path.join(SaveDataDir,FileN)\n",
    "print('Full New File Dir: ', NewFileNPath)\n",
    "\n",
    "saveFile = 'y'\n",
    "if saveFile == 'y':\n",
    " with open(NewFileNPath, 'wb') as file:\n",
    "    pkl.dump(DataOut, file, protocol=pkl.HIGHEST_PROTOCOL)\n",
    "    print('MAT Data For All Subjs Saved! :))')\n",
    "else:\n",
    "    print('Did Not Save File! Change file name before switching to y!')"
   ]
  }
 ],
 "metadata": {
  "kernelspec": {
   "display_name": "Python 3",
   "language": "python",
   "name": "python3"
  },
  "language_info": {
   "codemirror_mode": {
    "name": "ipython",
    "version": 3
   },
   "file_extension": ".py",
   "mimetype": "text/x-python",
   "name": "python",
   "nbconvert_exporter": "python",
   "pygments_lexer": "ipython3",
   "version": "3.11.9"
  }
 },
 "nbformat": 4,
 "nbformat_minor": 2
}
