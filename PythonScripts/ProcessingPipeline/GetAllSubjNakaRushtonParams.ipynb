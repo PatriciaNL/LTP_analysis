{
 "cells": [
  {
   "cell_type": "markdown",
   "metadata": {},
   "source": [
    "## STEP  FIVE OF PROCESSING PIPELINE"
   ]
  },
  {
   "cell_type": "markdown",
   "metadata": {},
   "source": [
    "#### This script imports original CRF and No SuperSat Data and computes the Naka Rushton / Hyperbolic ratio parameters via SciPy.curve_fit for both data sets.These parameters are saved and then exported as dict file for ANOVA and visual inspection (dict -> .pkl file)\n",
    "\n",
    "#### Pending goals ...\n",
    "#### 1|Save data as a .mat file to compare with martins code "
   ]
  },
  {
   "cell_type": "code",
   "execution_count": null,
   "metadata": {},
   "outputs": [],
   "source": [
    "# load packages\n",
    "import numpy as np \n",
    "from scipy.io   import  loadmat\n",
    "import pandas as pd\n",
    "import os\n",
    "import matplotlib.pyplot as plt #import matplotlib as plt\n",
    "from scipy.optimize import curve_fit \n",
    "import seaborn as sns #import mat73\n",
    "import pickle as pkl\n",
    "from datetime import datetime"
   ]
  },
  {
   "cell_type": "code",
   "execution_count": null,
   "metadata": {},
   "outputs": [],
   "source": [
    "NumBins = 6 # number of contrasts\n",
    "NumHarms = 2 # number of harmonic data: 2F1, 4F1\n",
    "NumComp = 0 # first component from RCA\n",
    "NumConds = 4"
   ]
  },
  {
   "cell_type": "code",
   "execution_count": null,
   "metadata": {},
   "outputs": [],
   "source": [
    "cp1 = sns.color_palette(\"cubehelix\",12) \n",
    "cp2 = sns.color_palette(\"hls\", 12)"
   ]
  },
  {
   "cell_type": "code",
   "execution_count": null,
   "metadata": {},
   "outputs": [],
   "source": [
    "# Main Directory of processed file from MatLab\n",
    "# MainDir = 'D:\\\\AttnXV3_analysis\\\\RCA_F1\\\\AvgCRFs\\\\' # set dir\n",
    "MainDir = 'c:\\\\plimon\\\\LTP_analysis\\\\RCA_F1\\\\AvgCRFs\\\\' # set dir\n",
    "os.chdir(MainDir) # change old dir, to this dir\n",
    "d = os.listdir(MainDir) # list files in dir\n",
    "print(f'Files on hand: {d}')\n",
    "##############################################\n",
    "FileN = d[0] # choose one                        \n",
    "file_path1 = os.path.join(MainDir, FileN) # join paths and prep 2 load\n",
    "print('Current WD:',file_path1) # does path exist ... ?\n",
    "print('Does File #1 Exist?',os.path.exists(file_path1)) # yes or no"
   ]
  },
  {
   "cell_type": "code",
   "execution_count": null,
   "metadata": {},
   "outputs": [],
   "source": [
    "loadData = pkl.load(open(file_path1,'rb'))\n",
    "print(loadData.keys())"
   ]
  },
  {
   "cell_type": "code",
   "execution_count": null,
   "metadata": {},
   "outputs": [],
   "source": [
    "data = loadData['Data']\n",
    "data_labels = loadData['DictMainKeys']\n",
    "SubNames = np.array(loadData['SubNames'])\n",
    "note = loadData['VoiceMemo']\n",
    "contrast_levels = loadData['ContLevs']\n",
    "contrast_labs = loadData['crfLabs']\n",
    "print(note)\n",
    "NumSubs = int(len(SubNames))\n",
    "print(data_labels) # labels for nr plots"
   ]
  },
  {
   "cell_type": "markdown",
   "metadata": {},
   "source": [
    "## Naka Rushton Model Function"
   ]
  },
  {
   "cell_type": "code",
   "execution_count": null,
   "metadata": {},
   "outputs": [],
   "source": [
    "def naka_rushton(C, C50, n, Rmax, b):\n",
    "    \"\"\"\n",
    "    This function models neural responses captured by Contrast Response Functions\n",
    "     \n",
    "    C50 (parameter 1) : Contrast level that yields half of max response (contrast %)\n",
    "    n (parameter 2)   : Determines the curve arc for fitting (small integer)\n",
    "    Rmax (Parameter 3): Max response elicited (mv)\n",
    "    b (Parameter 4)   : Starting value (origin)\n",
    "    \"\"\"\n",
    "    return ((Rmax * ((C**n) / (C50**n + C**n)))+b)"
   ]
  },
  {
   "cell_type": "markdown",
   "metadata": {},
   "source": [
    "#### Other Important Functions ..."
   ]
  },
  {
   "cell_type": "code",
   "execution_count": null,
   "metadata": {},
   "outputs": [],
   "source": [
    "def ReshapeData(NumConds,NumBins,x):\n",
    "    \"\"\"\n",
    "    Reshape CRF data for all conditions to feed into scipy optimally\n",
    "    12 x 2 -> 4x6 array for scipy curve fit\n",
    "    \"\"\"\n",
    "    dictOut = {}\n",
    "    NumSubs = int(len(x.keys())) # 25\n",
    "    for i in (range(NumSubs)):\n",
    "        yOut = np.zeros((NumConds,NumBins)) # how data is going to be stored\n",
    "        yIn = x[i]\n",
    "        yOut[0,:] = yIn[:NumBins,0] # 2f Pre\n",
    "        yOut[1,:] = yIn[:NumBins,1] # 2f Post\n",
    "        yOut[2,:] = yIn[NumBins:,0] # 4f Pre\n",
    "        yOut[3,:] = yIn[NumBins:,1] # 4f Post\n",
    "        dictOut[i] = np.array(yOut)\n",
    "    return dictOut\n",
    "#######################################################################################################\n",
    "def FixSuperSat(DictIn,NumBins,NumConds,NumSubs):\n",
    "    \"\"\"\n",
    "    Fix Supersaturation at higher contrasts by setting proceeding vals to max val\n",
    "    before supersaturation occurs, basically lift drooping *tail*\n",
    "    DictIn = Dict key \n",
    "    \"\"\"\n",
    "    dictOut = {}\n",
    "    for i in range(NumSubs):\n",
    "        aIn = DictIn[i] # 4x6\n",
    "        aOut = np.zeros_like(aIn)\n",
    "        max_pos, max_val = np.argmax(aIn,axis=1), np.max(aIn,axis=1) # 4 array \n",
    "        for co in range(NumConds):\n",
    "            pos = max_pos[co]\n",
    "            amp = max_val[co]\n",
    "            if pos < NumBins:\n",
    "                aOut[co,:pos] = aIn[co,:pos]\n",
    "                aOut[co,pos:] = amp\n",
    "            else:\n",
    "                aOut[co,:] = aIn[co,:]\n",
    "        dictOut[i] = aOut\n",
    "    return dictOut\n",
    "#######################################################################################################\n",
    "def HyperRatComputation(NumConds,NumSubs,naka_rushton,contrast_levels,init_g1,init_g2,boundaries,xDict):\n",
    "    \"\"\"\n",
    "    1st pass - Run Curve Fit for each condition for 1 subject at the same time and save params into dict\n",
    "    Goal : save cov to plot error bars!!!\n",
    "    \"\"\"\n",
    "    nr_data = {}\n",
    "    for subj in range(NumSubs):\n",
    "        dIn = xDict[subj]\n",
    "        nr_out = np.zeros((NumConds,NumConds)) # 4 x 4 array\n",
    "        for cond in range(NumConds):\n",
    "            #if c<=2:\n",
    "            if cond<=1:\n",
    "                # NR for 2F harmonic pre and post\n",
    "                p, cov = curve_fit(naka_rushton,contrast_levels,dIn[cond,:],p0 = init_g1, bounds = boundaries, nan_policy = 'omit', method = 'trf' )\n",
    "            else:\n",
    "                # NR for 4F harmonic pre and post\n",
    "                p, cov = curve_fit(naka_rushton,contrast_levels,dIn[cond,:],p0 = init_g2, bounds = boundaries, nan_policy = 'omit', method = 'trf')\n",
    "            nr_out[cond,:] = p\n",
    "        nr_data[subj] = np.array(nr_out)\n",
    "    return nr_data\n",
    "#######################################################################################################\n",
    "def SmoothHyperRat(naka_rushton,NumConds,NumSubs,ContrastEnd,Full_Contrasts,dict_In):# = HyperBolicParams[0]):\n",
    "    \"\"\"\n",
    "    2nd pass - Run Naka Rushton Model *again* for all contrasts 1% - 100% for all conditions to get a smoother fit of the data \n",
    "    returns data dict\n",
    "    \"\"\"\n",
    "    dictOut = {}\n",
    "    for i in range(NumSubs):\n",
    "        xIn = dict_In[i] # 4x4 array \n",
    "        xOut = np.zeros((NumConds,ContrastEnd)) # \n",
    "        for co in range(NumConds):                   # c50   |   n    |  Rmax  |    b\n",
    "            hyperRat = naka_rushton(Full_Contrasts,xIn[co,0],xIn[co,1],xIn[co,2],xIn[co,3])\n",
    "            xOut[co,:] = hyperRat\n",
    "        dictOut[i] = xOut\n",
    "    return dictOut\n",
    "#######################################################################################################\n",
    "def GenImgs(NumConds,contrast_levels,x2,sIn,CRF_In,NRParams_In):\n",
    "#sIn = 4\n",
    "#CRF_In = pyData_clean\n",
    "#NRParams_In = RefinedHyperBolicParams\n",
    "    \"\"\"\n",
    "    Plot Everyones CRF and NR Model produced by SmoothHyperRat,\n",
    "    serves as a sanity check to see if the model captured that data appropriately / didnt get stuck on a boundary\n",
    "    \"\"\"\n",
    "    fig,axs = plt.subplots(2,4, figsize = (16,8),sharey=True)\n",
    "    for files in range(NumConds):\n",
    "        x_CRF = CRF_In[files][sIn]\n",
    "        x_nr_params = NRParams_In[files][sIn]\n",
    "        for co in range(NumConds):\n",
    "            axs[0,files].plot(x2,x_nr_params[0,:],color = cp1[3], label = '2f pre')\n",
    "            axs[0,files].plot(x2,x_nr_params[1,:],color = cp1[7], label = '2f post')\n",
    "\n",
    "            axs[0,files].scatter(contrast_levels,x_CRF[0,:],color = cp1[3],alpha = 0.5, label = '2f pre')\n",
    "            axs[0,files].scatter(contrast_levels,x_CRF[1,:],color = cp1[7],alpha = 0.5, label = '2f pre')\n",
    "\n",
    "            axs[0,files].set_title(f'{data_labels[files]}')\n",
    "            #########################################################################\n",
    "            if files == 0 and co == 0:\n",
    "                axs[0,files].legend(loc = 'lower right')\n",
    "            axs[1,files].plot(x2,x_nr_params[2,:],color = cp1[3], label = '4f pre')\n",
    "            axs[1,files].plot(x2,x_nr_params[3,:],color = cp1[7], label = '4f post')\n",
    "                \n",
    "            axs[1,files].scatter(contrast_levels,x_CRF[2,:],color = cp1[3],alpha = 0.5, label = '4f pre')\n",
    "            axs[1,files].scatter(contrast_levels,x_CRF[3,:],color = cp1[7],alpha = 0.5, label = '4f pre')\n",
    "    return fig, axs"
   ]
  },
  {
   "cell_type": "markdown",
   "metadata": {},
   "source": [
    "#### Reshape Data to Feed into SciPy"
   ]
  },
  {
   "cell_type": "code",
   "execution_count": null,
   "metadata": {},
   "outputs": [],
   "source": [
    "pyData = {} # reshaped data to enter into curve fit\n",
    "for co in range(NumConds):\n",
    "    pyData[co] = ReshapeData(NumConds,NumBins,x=data[co])"
   ]
  },
  {
   "cell_type": "markdown",
   "metadata": {},
   "source": [
    "#### Remove SuperSaturation"
   ]
  },
  {
   "cell_type": "code",
   "execution_count": null,
   "metadata": {},
   "outputs": [],
   "source": [
    "pyData_clean = {}\n",
    "for co in range(NumConds):\n",
    "    pyData_clean[co] = FixSuperSat(pyData[co],NumBins,NumConds,NumSubs)"
   ]
  },
  {
   "cell_type": "code",
   "execution_count": null,
   "metadata": {},
   "outputs": [],
   "source": [
    "# sanity check for everything thats been done so far ...\n",
    "sns.set_theme()\n",
    "fig,axs = plt.subplots(1,2, figsize = (3,1.5),sharey=True)\n",
    "#############    Compare Here    #################\n",
    "d = pyData_clean[2] # no super saturation CRF's  #\n",
    "#d = pyData[2] # original data CRF               #\n",
    "##################################################\n",
    "a = np.array(d[3]) # 4x 6 \n",
    "for i in range(NumConds):\n",
    "    axs[0].plot(a[0,:],label = 'pre', color =  cp1[6])\n",
    "    axs[0].plot(a[1,:],label='post', color = cp1[3])\n",
    "    if i  == 0:\n",
    "        axs[0].legend(loc = 'lower right', fontsize = 8)\n",
    "\n",
    "    axs[1].plot(a[2,:],label = 'pre', color =  cp1[6])\n",
    "    axs[1].plot(a[3,:],label='post', color = cp1[3])"
   ]
  },
  {
   "cell_type": "markdown",
   "metadata": {},
   "source": [
    "#### Set Boundaries and Initial Est"
   ]
  },
  {
   "cell_type": "code",
   "execution_count": null,
   "metadata": {},
   "outputs": [],
   "source": [
    "### Model Estimates...based on nothing soild - subject to change \n",
    "c50_b = [0,300]\n",
    "n_b = [0,5] # [0,10]\n",
    "Rmax_b = [0,10] # [0,10]\n",
    "b_b = [0,3]\n",
    "boundaries=([c50_b[0],n_b[0],Rmax_b[0],b_b[0]], [c50_b[1],n_b[1],Rmax_b[1],b_b[1]]) # Boundary Params for C50, N, Rmax and B\n",
    "init_g1 = [20,3,4,0.5] # Initial guess for 2f params\n",
    "init_g2 = [10,1,2,0.5] # Initial guess for 4f params\n",
    "\n",
    "param_names=['C50','n','Rmax','b']"
   ]
  },
  {
   "cell_type": "markdown",
   "metadata": {},
   "source": [
    "#### Run Curve Fit"
   ]
  },
  {
   "cell_type": "code",
   "execution_count": null,
   "metadata": {},
   "outputs": [],
   "source": [
    "HyperBolicParams = {}\n",
    "for i in range(NumConds):\n",
    "    HyperBolicParams[i] = HyperRatComputation(NumConds,NumSubs,naka_rushton,contrast_levels, init_g1,init_g2, boundaries, xDict = pyData_clean[i])"
   ]
  },
  {
   "cell_type": "markdown",
   "metadata": {},
   "source": [
    "#### Re-Run Hyperbolic Ratio Params Into HyperRat for a Smoother Fit"
   ]
  },
  {
   "cell_type": "code",
   "execution_count": null,
   "metadata": {},
   "outputs": [],
   "source": [
    "Full_Contrasts = np.array(np.arange(0.1,100,0.1)) # all contrast from 1% - 100% - ~1k data points\n",
    "ContrastEnd = (Full_Contrasts.shape[0])\n",
    "print('length of x array for contrasts: ', Full_Contrasts.shape)\n",
    "\n",
    "x1 = np.linspace(0, 100, NumBins) # all 6 contrasts\n",
    "x2 = np.linspace(0, 100, ContrastEnd) # all 100 contrasts"
   ]
  },
  {
   "cell_type": "code",
   "execution_count": null,
   "metadata": {},
   "outputs": [],
   "source": [
    "RefinedHyperBolicParams = {}\n",
    "\n",
    "for i in range(NumConds):\n",
    "    RefinedHyperBolicParams[i] = SmoothHyperRat(naka_rushton, NumConds,NumSubs,ContrastEnd,Full_Contrasts, dict_In = HyperBolicParams[i])"
   ]
  },
  {
   "cell_type": "markdown",
   "metadata": {},
   "source": [
    "### Plot Some Figs ..."
   ]
  },
  {
   "cell_type": "code",
   "execution_count": null,
   "metadata": {},
   "outputs": [],
   "source": [
    "for su in range(4):#(NumSubs):\n",
    "    skdjv,x = GenImgs(NumConds,contrast_levels,x2,sIn = su, CRF_In = pyData_clean, NRParams_In = RefinedHyperBolicParams)"
   ]
  },
  {
   "cell_type": "markdown",
   "metadata": {},
   "source": [
    "#### Save Data!"
   ]
  },
  {
   "cell_type": "code",
   "execution_count": null,
   "metadata": {},
   "outputs": [],
   "source": [
    "# set save data dir \n",
    "# Set directory to save NR Data in ..new folder\n",
    "# SaveDataDir = 'D:\\\\AttnXV3_analysis\\\\RCA_F1\\\\HyperRatioParams\\\\' # set dir where files (.pkl, .csv) will be saved\n",
    "SaveDataDir = 'C:\\\\plimon\\\\LTP_analysis\\\\RCA_F1\\\\HyperRatioParams\\\\' # set dir where files (.pkl, .csv) will be saved\n",
    "FileOutName = 'All_HRP_Data_FixedSupSat_CRFuncs' # make sure this file changes each time you save\n",
    "######################################################\n",
    "dnt = datetime.now() # add date and time bc im wreckless when saving ..\n",
    "fdnt = dnt.strftime(\"%Y%m%d_%H%M\") # set the above as a string ...\n",
    "FileN = f'{FileOutName}_{fdnt}.pkl' \n",
    "#MatLabFileN = f'{FileOutName}_{fdnt}.mat'\n",
    "\n",
    "NewFileNPath = os.path.join(SaveDataDir,FileN)\n",
    "#Mat_NewFileNPath = os.path.join(SaveDataDir, MatLabFileN)\n",
    "\n",
    "print('Full New File Dir: ', NewFileNPath)\n",
    "# #print('Where matlab file will be stored',Mat_NewFileNPath )\n",
    "\n",
    "if not os.path.exists(SaveDataDir):\n",
    "     os.makedirs(SaveDataDir)\n",
    "     print('Path to Save File is:',SaveDataDir)"
   ]
  },
  {
   "cell_type": "code",
   "execution_count": null,
   "metadata": {},
   "outputs": [],
   "source": [
    "# add another personal voice memo ...\n",
    "Note = ['This file contains all subjects who did both sessions (fixed super saturation), RN Params, and model based on NR params for all conditions']\n",
    "\n",
    "DictOut = {}\n",
    "\n",
    "DictOut['nr_params'] = HyperBolicParams # 4 x 4 array of values per condition \n",
    "DictOut['HyperRatioModels'] = RefinedHyperBolicParams # smoother version of nr_params\n",
    "DictOut['SubNames'] = SubNames # subject names\n",
    "DictOut['DictMainKeys'] = data_labels # conditions across all 4 files .. \n",
    "DictOut['ContLevs'] = contrast_levels # expt contrasts used\n",
    "DictOut['crfLabs'] = contrast_labs # same as above but string\n",
    "DictOut['VoiceMemo'] = Note # personal note in case i forget\n",
    "DictOut['plot_nr_arr'] = x2 # array to plot Hyperratiomodels model for 1-100% contrast\n",
    "# Info about scipy params\n",
    "DictOut['model_bounds'] = boundaries # bounds fed to scipy\n",
    "DictOut['param_order'] = param_names # order in which params were stored\n",
    "DictOut['2f_initalGuess'] = init_g1 # initial guess for model\n",
    "DictOut['4f_initalGuess'] = init_g2 # initial guess for model"
   ]
  },
  {
   "cell_type": "code",
   "execution_count": null,
   "metadata": {},
   "outputs": [],
   "source": [
    "print(NewFileNPath)"
   ]
  },
  {
   "cell_type": "code",
   "execution_count": null,
   "metadata": {},
   "outputs": [],
   "source": [
    "saveFile = 'n'\n",
    "\n",
    "if saveFile == 'y':\n",
    " \n",
    " with open(NewFileNPath, 'wb') as file:\n",
    "    pkl.dump(DictOut, file, protocol=pkl.HIGHEST_PROTOCOL)\n",
    "    # save as .mat file or .csv file to import into matlab \n",
    "    \n",
    "    print('Data Saved! :))')\n",
    "else:\n",
    "    print('Did Not Save File! Change file name before switching to y!')"
   ]
  }
 ],
 "metadata": {
  "kernelspec": {
   "display_name": "base",
   "language": "python",
   "name": "python3"
  },
  "language_info": {
   "codemirror_mode": {
    "name": "ipython",
    "version": 3
   },
   "file_extension": ".py",
   "mimetype": "text/x-python",
   "name": "python",
   "nbconvert_exporter": "python",
   "pygments_lexer": "ipython3",
   "version": "3.11.8"
  }
 },
 "nbformat": 4,
 "nbformat_minor": 2
}
