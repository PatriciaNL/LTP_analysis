{
 "cells": [
  {
   "cell_type": "code",
   "execution_count": 1,
   "metadata": {},
   "outputs": [],
   "source": [
    "# load libs\n",
    "import numpy as np \n",
    "import scipy \n",
    "import pandas as pd\n",
    "import os\n",
    "import matplotlib.pyplot as plt #import matplotlib as plt\n",
    "from mpl_toolkits.axes_grid1 import make_axes_locatable\n",
    "import seaborn as sns #import mat73\n",
    "import pickle as pkl\n",
    "from datetime import datetime\n",
    "import mne\n",
    "from mne.viz import plot_topomap\n",
    "from mne.viz import set_3d_title, set_3d_view\n",
    "from scipy.linalg import svd\n",
    "#sns.set_theme() # set the plotting atmosphere"
   ]
  },
  {
   "cell_type": "code",
   "execution_count": 2,
   "metadata": {},
   "outputs": [
    {
     "name": "stdout",
     "output_type": "stream",
     "text": [
      "Total Files Avilable: 2\n",
      "Current WD: C:\\plimon\\LTP_analysis\\eegClean\\ProcessedData_Reviz_20240418_154916.pkl\n",
      "Does File #1 Exist? True\n"
     ]
    }
   ],
   "source": [
    "# Main Directory of processed file from MatLab\n",
    "MainDir = 'C:\\\\plimon\\\\LTP_analysis\\\\eegClean' # set dir\n",
    "os.chdir(MainDir) # change old dir, to this dir\n",
    "dataFileNames = os.listdir(MainDir) # list files in dir\n",
    "print(f'Total Files Avilable: {len(dataFileNames)}')\n",
    "##############################################\n",
    "FileN = dataFileNames[1]# choose one                        \n",
    "file_path1 = os.path.join(MainDir, FileN) # join paths and prep 2 load\n",
    "print('Current WD:',file_path1) # does path exist ... ?\n",
    "print('Does File #1 Exist?',os.path.exists(file_path1)) # yes or no"
   ]
  },
  {
   "cell_type": "markdown",
   "metadata": {},
   "source": [
    "### Set Topo Montage For plotting topos"
   ]
  },
  {
   "cell_type": "code",
   "execution_count": 3,
   "metadata": {},
   "outputs": [
    {
     "name": "stdout",
     "output_type": "stream",
     "text": [
      "<DigMontage | 0 extras (headshape), 0 HPIs, 3 fiducials, 128 channels>\n"
     ]
    }
   ],
   "source": [
    "# montage info \n",
    "montageIn = mne.channels.make_standard_montage(\"GSN-HydroCel-128\")\n",
    "info = mne.create_info(ch_names=montageIn.ch_names, sfreq=1, ch_types=\"eeg\")\n",
    "info.set_montage(montageIn)\n",
    "print(montageIn)"
   ]
  },
  {
   "cell_type": "markdown",
   "metadata": {},
   "source": [
    "### Function(s)"
   ]
  },
  {
   "cell_type": "code",
   "execution_count": 4,
   "metadata": {},
   "outputs": [],
   "source": [
    "def contrastAvg(arrIn,s, e):\n",
    "    \"\"\"Average Data for low and high contrasts across all subjects\"\"\"\n",
    "    avgCont = {}\n",
    "    SortedData = {}\n",
    "    for i in range(2):\n",
    "        avgCont[i] = np.nanmean(arrIn[s[i]:e[i],:],axis = 0)\n",
    "        SortedData[i] = arrIn[s[i]:e[i],:]\n",
    "    return avgCont,SortedData\n",
    "\n",
    "def init_TopoTemplate(title_In):\n",
    "    \"\"\"Prep topo plot fig and axes\"\"\"\n",
    "    fig, axes = plt.subplots(nrows=1, ncols=1, figsize=(8,6)) # ,gridspec_kw=dict(height_ratios=[3]), layout = 'constrained'\n",
    "    axes.axis('off')\n",
    "    axes.gridspec_kw=dict(height_ratios=[3])\n",
    "    plt.tight_layout()\n",
    "    axes.set_title(f'{title_In}', fontsize = 20)\n",
    "    return fig, axes"
   ]
  },
  {
   "cell_type": "code",
   "execution_count": 5,
   "metadata": {},
   "outputs": [],
   "source": [
    "# global params / exp condition standards\n",
    "NumBins = 6    # Number of bins\n",
    "NumChans = 128 # Number of channels \n",
    "NumHarms = 4   # number of harmonics"
   ]
  },
  {
   "cell_type": "markdown",
   "metadata": {},
   "source": [
    "#### Occipital Channel Info"
   ]
  },
  {
   "cell_type": "code",
   "execution_count": 6,
   "metadata": {},
   "outputs": [
    {
     "name": "stdout",
     "output_type": "stream",
     "text": [
      "Channels to be visualized: [31 37 42 47 51 52 53 54 55 58 59 60 61 62 64 65 66 67 68 69 70 71 72 73\n",
      " 74 75 76 77 78 79 80 81 82 83 84 85 86 87 88 89 90 91 92 93 94 95 96 97\n",
      " 98]\n"
     ]
    }
   ],
   "source": [
    "elec_Arc1_outer = [68,64,58,51,47,42,37,31,    80,87,93,98,97,96,95,94]\n",
    "elec_Arc2 = [73,69,65,59,52,53,54,  55,  79,86,92,91,90,89,88]\n",
    "elec_Arc3 = [74,70,66,60,61,  78,85,84,83,82,  81]\n",
    "elec_Arc4_inner = [71,67,62,77,76,75,     72]\n",
    "AllAnalysisChans = np.concatenate([elec_Arc1_outer,elec_Arc2,elec_Arc3,elec_Arc4_inner])\n",
    "#AllAnalysisChans = np.concatenate([elec_Arc2,elec_Arc3,elec_Arc4_inner])\n",
    "AnalysisChans = np.unique(AllAnalysisChans)\n",
    "AnalysisChans_int = np.array(AnalysisChans, dtype = int)\n",
    "VisChans = np.sort(AnalysisChans)\n",
    "\n",
    "print(f'Channels to be visualized: {VisChans}')"
   ]
  },
  {
   "cell_type": "markdown",
   "metadata": {},
   "source": [
    "#### Occipital Channel Bool"
   ]
  },
  {
   "cell_type": "code",
   "execution_count": 7,
   "metadata": {},
   "outputs": [],
   "source": [
    "ch_list = np.arange(0,NumChans,1)\n",
    "ocm = np.zeros_like((ch_list))\n",
    "ocm[VisChans] = True # set good chans to true\n",
    "ocm_chans = ocm.astype(bool)\n",
    "#print(ocm_chans)"
   ]
  },
  {
   "cell_type": "markdown",
   "metadata": {},
   "source": [
    "#### Load Data From all Particpants"
   ]
  },
  {
   "cell_type": "code",
   "execution_count": 8,
   "metadata": {},
   "outputs": [
    {
     "name": "stdout",
     "output_type": "stream",
     "text": [
      "dict_keys(['F1_Data', 'F2_Data', 'eegSubInfo'])\n"
     ]
    }
   ],
   "source": [
    "loadData = pkl.load(open(file_path1, 'rb'))\n",
    "print(loadData.keys())"
   ]
  },
  {
   "cell_type": "code",
   "execution_count": 9,
   "metadata": {},
   "outputs": [],
   "source": [
    "# est. keys \n",
    "f1 = loadData['F1_Data']\n",
    "f2 = loadData['F2_Data']\n",
    "eegSubInf = loadData['eegSubInfo']"
   ]
  },
  {
   "cell_type": "code",
   "execution_count": 10,
   "metadata": {},
   "outputs": [
    {
     "name": "stdout",
     "output_type": "stream",
     "text": [
      "dict_keys(['BinDiffArith', 'BinBaseDiff', 'BinPrePost'])\n"
     ]
    }
   ],
   "source": [
    "print(f1.keys()) # see keys"
   ]
  },
  {
   "cell_type": "markdown",
   "metadata": {},
   "source": [
    "#### Bools for Exp Condition Grouping"
   ]
  },
  {
   "cell_type": "code",
   "execution_count": 11,
   "metadata": {},
   "outputs": [
    {
     "name": "stdout",
     "output_type": "stream",
     "text": [
      "26 24\n"
     ]
    }
   ],
   "source": [
    "ai = eegSubInf['attnX_binarybool'] # 1 == attnL , 0 == attnR task\n",
    "attn_index = np.array(ai)\n",
    "\n",
    "al = eegSubInf['attnX_label'] # actual label of file expt \n",
    "attnX_label = np.array(al)\n",
    "\n",
    "s_iters = int(len(attn_index)) # total number of particpants \n",
    "s_attnl = int(np.sum(attn_index == 1)) # total number of attnl particpants \n",
    "s_attnr = int(np.sum(attn_index == 0)) # total number of attnR participants\n",
    "print(s_attnl,s_attnr)"
   ]
  },
  {
   "cell_type": "code",
   "execution_count": 12,
   "metadata": {},
   "outputs": [],
   "source": [
    "f1_bda = f1['BinDiffArith'] # 6 x 128\n",
    "f2_bda = f2['BinDiffArith']"
   ]
  },
  {
   "cell_type": "code",
   "execution_count": 13,
   "metadata": {},
   "outputs": [],
   "source": [
    "harmonicofInt = 0 # 2f , 4f, 6f, 8f \n",
    "### preallocate for seperating data\n",
    "attnL_data_f1 =  np.zeros((NumBins,NumChans,s_attnl))\n",
    "attnR_data_f1 = np.zeros((NumBins,NumChans,s_attnl))\n",
    "\n",
    "attnL_data_f2 =  np.zeros((NumBins,NumChans,s_attnl))\n",
    "attnR_data_f2 = np.zeros((NumBins,NumChans,s_attnl))"
   ]
  },
  {
   "cell_type": "code",
   "execution_count": 14,
   "metadata": {},
   "outputs": [],
   "source": [
    "l_counter = 0\n",
    "r_counter = 0\n",
    "\n",
    "for s in range((s_iters)-1):\n",
    "    dIn_f1 = f1_bda[s][harmonicofInt] # impot 1 subj data and a specific harmonic of interest \n",
    "    dIn_f2 = f2_bda[s][harmonicofInt] # import 1 subj data and a specific harmonic of interest \n",
    "    \n",
    "    if attn_index[s] == 1:\n",
    "        attnL_data_f1[:,:,l_counter] = dIn_f1\n",
    "        attnL_data_f2[:,:,l_counter] = dIn_f2\n",
    "\n",
    "        l_counter  = l_counter + 1\n",
    "\n",
    "    else:\n",
    "        attnR_data_f1[:,:,r_counter] = dIn_f1\n",
    "        attnR_data_f2[:,:,r_counter] = dIn_f2\n",
    "\n",
    "        r_counter = r_counter + 1"
   ]
  },
  {
   "cell_type": "code",
   "execution_count": 15,
   "metadata": {},
   "outputs": [],
   "source": [
    "c = np.nanmean(attnL_data_f1,axis = 2) # contrast x channels \n",
    "f1_attnR = np.nanmean(attnR_data_f1,axis = 2) # contrast x channels \n",
    "\n",
    "f2_attnL = np.nanmean(attnL_data_f2,axis = 2)\n",
    "f2_attnR = np.nanmean(attnR_data_f2,axis = 2)"
   ]
  },
  {
   "cell_type": "code",
   "execution_count": 16,
   "metadata": {},
   "outputs": [
    {
     "name": "stdout",
     "output_type": "stream",
     "text": [
      "(6, 128, 26)\n",
      "26\n",
      "26\n",
      "26\n",
      "26\n"
     ]
    }
   ],
   "source": [
    "DataCoGroupSet = [attnL_data_f1,attnR_data_f1,attnL_data_f2,attnR_data_f2]\n",
    "\n",
    "# fig, axs = plt.subplots(1)\n",
    "print(attnL_data_f1.shape)\n",
    "\n",
    "for CoIter in range(4):\n",
    "    gIn = (DataCoGroupSet[CoIter])\n",
    "    iter = int(gIn.shape[2])\n",
    "    print(iter)\n",
    "    #for sRow in range gIn.shape[1]:\n",
    "    #     axs[CoIter].scatter(ch_list, gIn[0,:,sRow])"
   ]
  },
  {
   "cell_type": "markdown",
   "metadata": {},
   "source": [
    "#### Average Data per high and low contrasts"
   ]
  },
  {
   "cell_type": "code",
   "execution_count": 17,
   "metadata": {},
   "outputs": [
    {
     "ename": "NameError",
     "evalue": "name 'f1_attnL' is not defined",
     "output_type": "error",
     "traceback": [
      "\u001b[1;31m---------------------------------------------------------------------------\u001b[0m",
      "\u001b[1;31mNameError\u001b[0m                                 Traceback (most recent call last)",
      "Cell \u001b[1;32mIn[17], line 7\u001b[0m\n\u001b[0;32m      2\u001b[0m end_set \u001b[38;5;241m=\u001b[39m [\u001b[38;5;241m3\u001b[39m,\u001b[38;5;241m6\u001b[39m]\n\u001b[0;32m      3\u001b[0m \u001b[38;5;66;03m# start_set = [0,4]\u001b[39;00m\n\u001b[0;32m      4\u001b[0m \u001b[38;5;66;03m# end_set = [4,5]\u001b[39;00m\n\u001b[1;32m----> 7\u001b[0m f1L_cont,f1l_all \u001b[38;5;241m=\u001b[39m contrastAvg(arrIn \u001b[38;5;241m=\u001b[39m \u001b[43mf1_attnL\u001b[49m, s\u001b[38;5;241m=\u001b[39mstart_set, e\u001b[38;5;241m=\u001b[39mend_set) \u001b[38;5;66;03m# 0 = lo contrasts, 1 = high contrasts\u001b[39;00m\n\u001b[0;32m      8\u001b[0m f1R_cont,f1r_all  \u001b[38;5;241m=\u001b[39m contrastAvg(arrIn \u001b[38;5;241m=\u001b[39m f1_attnR, s\u001b[38;5;241m=\u001b[39mstart_set, e\u001b[38;5;241m=\u001b[39mend_set)\n\u001b[0;32m     10\u001b[0m f2L_cont,f2l_all \u001b[38;5;241m=\u001b[39m contrastAvg(arrIn \u001b[38;5;241m=\u001b[39m f2_attnL, s\u001b[38;5;241m=\u001b[39mstart_set, e\u001b[38;5;241m=\u001b[39mend_set)\n",
      "\u001b[1;31mNameError\u001b[0m: name 'f1_attnL' is not defined"
     ]
    }
   ],
   "source": [
    "start_set = [0,3]\n",
    "end_set = [3,6]\n",
    "# start_set = [0,4]\n",
    "# end_set = [4,5]\n",
    "\n",
    "\n",
    "f1L_cont,f1l_all = contrastAvg(arrIn = f1_attnL, s=start_set, e=end_set) # 0 = lo contrasts, 1 = high contrasts\n",
    "f1R_cont,f1r_all  = contrastAvg(arrIn = f1_attnR, s=start_set, e=end_set)\n",
    "\n",
    "f2L_cont,f2l_all = contrastAvg(arrIn = f2_attnL, s=start_set, e=end_set)\n",
    "f2R_cont,f2r_all  = contrastAvg(arrIn = f2_attnR, s=start_set, e=end_set)"
   ]
  },
  {
   "cell_type": "code",
   "execution_count": null,
   "metadata": {},
   "outputs": [
    {
     "ename": "NameError",
     "evalue": "name 'f1l_all' is not defined",
     "output_type": "error",
     "traceback": [
      "\u001b[1;31m---------------------------------------------------------------------------\u001b[0m",
      "\u001b[1;31mNameError\u001b[0m                                 Traceback (most recent call last)",
      "Cell \u001b[1;32mIn[44], line 2\u001b[0m\n\u001b[0;32m      1\u001b[0m hi_lo \u001b[38;5;241m=\u001b[39m \u001b[38;5;241m0\u001b[39m\n\u001b[1;32m----> 2\u001b[0m contrast_groups \u001b[38;5;241m=\u001b[39m [\u001b[43mf1l_all\u001b[49m[hi_lo],f1r_all[hi_lo],f2l_all[hi_lo],f2r_all[hi_lo]] \u001b[38;5;66;03m# array of condition data \u001b[39;00m\n\u001b[0;32m      3\u001b[0m gInd \u001b[38;5;241m=\u001b[39m np\u001b[38;5;241m.\u001b[39marray(contrast_groups[\u001b[38;5;241m3\u001b[39m]) \u001b[38;5;66;03m#plot 1 group only \u001b[39;00m\n\u001b[0;32m      4\u001b[0m \u001b[38;5;28mprint\u001b[39m(gInd\u001b[38;5;241m.\u001b[39mshape)\n",
      "\u001b[1;31mNameError\u001b[0m: name 'f1l_all' is not defined"
     ]
    }
   ],
   "source": [
    "hi_lo = 0\n",
    "contrast_groups = [f1l_all[hi_lo],f1r_all[hi_lo],f2l_all[hi_lo],f2r_all[hi_lo]] # array of condition data \n",
    "gInd = np.array(contrast_groups[3]) #plot 1 group only \n",
    "print(gInd.shape)\n",
    "# svd compu\n",
    "U,D,Vh = np.linalg.svd(gInd, full_matrices=False) # dim reduction\n",
    "print(np.allclose(gInd, np.dot(U * D, Vh))) # sanity check of data\n",
    "smat = np.diag(D) # digonal matrix of weights .... double check this\n",
    "print(np.allclose(gInd, np.dot(U,np.dot(smat, Vh)))) # futher confirm if svd output is similar enough to og data \n",
    "# svd output \n",
    "gOut = np.dot(U,np.dot(smat, Vh)) # group data reduction from SVD\n",
    "# sience out channel activity from channels not of interest\n",
    "gom = np.array(np.nanmean(gOut[0:1,:], axis = 0)) # average channel weights (?)\n",
    "misc_chan_avg_svd = np.nanmean(gom[~ocm_chans]/np.sum([ocm_chans == False])) # avg activity of all channels not of interest and spread signal\n",
    "print(misc_chan_avg_svd)\n",
    "\n",
    "misc_chan_avg = np.nanmean(f1L_cont[0][~ocm_chans]/np.sum([ocm_chans == False]))\n",
    "print(misc_chan_avg)\n",
    "###########################################################################################################################################\n",
    "# svd channel data\n",
    "topoIn = gOut[0,:] # 128 channels \n",
    "# originl data to spread chan act\n",
    "mod = f1L_cont[0].copy()\n",
    "############################################################################################################################################\n",
    "# spread signal for channels not of interest\n",
    "# topoIn[~ocm_chans] = misc_chan_avg_svd\n",
    "# mod[~ocm_chans] = misc_chan_avg\n",
    "# compare topo data between: svd, regular signal silencing, and raw data\n",
    "fig,axs = plt.subplots(3,1, figsize = (12,7), sharey = True) # orignal data with preserved signal \n",
    "axs[0].scatter(ch_list,f1L_cont[0], label = f'og data')\n",
    "axs[0].legend()\n",
    "# original data with non chans of interest averaged\n",
    "axs[1].scatter(ch_list,mod, label = f' og data ch oi')\n",
    "axs[1].legend(loc = 'upper left')\n",
    "#  svd data with non chans of interest averaged\n",
    "axs[2].scatter(ch_list,topoIn, label = f'svd ch oi projections')\n",
    "axs[2].legend(loc = 'upper left')\n",
    "# plt.scatter"
   ]
  },
  {
   "cell_type": "code",
   "execution_count": null,
   "metadata": {},
   "outputs": [],
   "source": [
    "vl_max = 0.10\n",
    "vl_min = -0.10"
   ]
  },
  {
   "cell_type": "code",
   "execution_count": 18,
   "metadata": {},
   "outputs": [
    {
     "ename": "NameError",
     "evalue": "name 'gOut' is not defined",
     "output_type": "error",
     "traceback": [
      "\u001b[1;31m---------------------------------------------------------------------------\u001b[0m",
      "\u001b[1;31mNameError\u001b[0m                                 Traceback (most recent call last)",
      "Cell \u001b[1;32mIn[18], line 3\u001b[0m\n\u001b[0;32m      1\u001b[0m \u001b[38;5;66;03m# chans = ch_list[ocm == True]\u001b[39;00m\n\u001b[0;32m      2\u001b[0m \u001b[38;5;66;03m# print(chans)\u001b[39;00m\n\u001b[1;32m----> 3\u001b[0m SortChanActivityAcs \u001b[38;5;241m=\u001b[39m (np\u001b[38;5;241m.\u001b[39margsort(np\u001b[38;5;241m.\u001b[39mnanmean(\u001b[43mgOut\u001b[49m,axis \u001b[38;5;241m=\u001b[39m \u001b[38;5;241m0\u001b[39m)))\n\u001b[0;32m      4\u001b[0m MaxChanActivity \u001b[38;5;241m=\u001b[39m SortChanActivityAcs[\u001b[38;5;241m0\u001b[39m:\u001b[38;5;241m30\u001b[39m]\n\u001b[0;32m      5\u001b[0m \u001b[38;5;28mprint\u001b[39m(MaxChanActivity)\n",
      "\u001b[1;31mNameError\u001b[0m: name 'gOut' is not defined"
     ]
    }
   ],
   "source": [
    "# chans = ch_list[ocm == True]\n",
    "# print(chans)\n",
    "SortChanActivityAcs = (np.argsort(np.nanmean(gOut,axis = 0)))\n",
    "MaxChanActivity = SortChanActivityAcs[0:30]\n",
    "print(MaxChanActivity)"
   ]
  },
  {
   "cell_type": "code",
   "execution_count": 19,
   "metadata": {},
   "outputs": [
    {
     "ename": "NameError",
     "evalue": "name 'mod' is not defined",
     "output_type": "error",
     "traceback": [
      "\u001b[1;31m---------------------------------------------------------------------------\u001b[0m",
      "\u001b[1;31mNameError\u001b[0m                                 Traceback (most recent call last)",
      "Cell \u001b[1;32mIn[19], line 2\u001b[0m\n\u001b[0;32m      1\u001b[0m fig,axes \u001b[38;5;241m=\u001b[39m init_TopoTemplate(title_In \u001b[38;5;241m=\u001b[39m \u001b[38;5;124m'\u001b[39m\u001b[38;5;124mF2 Attnr lo contrasts\u001b[39m\u001b[38;5;124m'\u001b[39m)\n\u001b[1;32m----> 2\u001b[0m im,_ \u001b[38;5;241m=\u001b[39m plot_topomap(\u001b[43mmod\u001b[49m, info, mask \u001b[38;5;241m=\u001b[39m ocm, axes \u001b[38;5;241m=\u001b[39m axes, show \u001b[38;5;241m=\u001b[39m\u001b[38;5;28;01mFalse\u001b[39;00m,cmap \u001b[38;5;241m=\u001b[39m \u001b[38;5;124m'\u001b[39m\u001b[38;5;124mSpectral_r\u001b[39m\u001b[38;5;124m'\u001b[39m, res \u001b[38;5;241m=\u001b[39m \u001b[38;5;241m32\u001b[39m,contours \u001b[38;5;241m=\u001b[39m\u001b[38;5;241m3\u001b[39m,extrapolate \u001b[38;5;241m=\u001b[39m \u001b[38;5;124m'\u001b[39m\u001b[38;5;124mlocal\u001b[39m\u001b[38;5;124m'\u001b[39m, outlines \u001b[38;5;241m=\u001b[39m \u001b[38;5;124m'\u001b[39m\u001b[38;5;124mhead\u001b[39m\u001b[38;5;124m'\u001b[39m,sphere\u001b[38;5;241m=\u001b[39m(\u001b[38;5;241m0.0\u001b[39m,\u001b[38;5;241m0.0\u001b[39m,\u001b[38;5;241m0.0\u001b[39m,\u001b[38;5;241m0.09\u001b[39m))\n\u001b[0;32m      3\u001b[0m divider \u001b[38;5;241m=\u001b[39m make_axes_locatable(axes)\n\u001b[0;32m      4\u001b[0m cax \u001b[38;5;241m=\u001b[39m divider\u001b[38;5;241m.\u001b[39mappend_axes(\u001b[38;5;124m'\u001b[39m\u001b[38;5;124mright\u001b[39m\u001b[38;5;124m'\u001b[39m, size\u001b[38;5;241m=\u001b[39m\u001b[38;5;124m'\u001b[39m\u001b[38;5;124m5\u001b[39m\u001b[38;5;124m%\u001b[39m\u001b[38;5;124m'\u001b[39m, pad\u001b[38;5;241m=\u001b[39m\u001b[38;5;241m0.4\u001b[39m)\n",
      "\u001b[1;31mNameError\u001b[0m: name 'mod' is not defined"
     ]
    },
    {
     "data": {
      "image/png": "[encoded data removed]",
      "text/plain": [
       "<Figure size 800x600 with 1 Axes>"
      ]
     },
     "metadata": {},
     "output_type": "display_data"
    }
   ],
   "source": [
    "fig,axes = init_TopoTemplate(title_In = 'F2 Attnr lo contrasts')\n",
    "im,_ = plot_topomap(mod, info, mask = ocm, axes = axes, show =False,cmap = 'Spectral_r', res = 32,contours =3,extrapolate = 'local', outlines = 'head',sphere=(0.0,0.0,0.0,0.09))\n",
    "divider = make_axes_locatable(axes)\n",
    "cax = divider.append_axes('right', size='5%', pad=0.4)\n",
    "cbar = plt.colorbar(im, cax=cax)\n",
    "plt.show()"
   ]
  },
  {
   "cell_type": "code",
   "execution_count": null,
   "metadata": {},
   "outputs": [],
   "source": [
    "hi_lo = 1\n",
    "contrast_groups = [f1l_all[hi_lo],f1r_all[hi_lo],f2l_all[hi_lo],f2r_all[hi_lo]] # array of condition data \n",
    "\n",
    "gInd = np.array(contrast_groups[3]) #plot 1 group only \n",
    "print(gInd.shape)\n",
    "# svd compu\n",
    "U,D,Vh = np.linalg.svd(gInd, full_matrices=False) # dim reduction\n",
    "print(np.allclose(gInd, np.dot(U * D, Vh))) # sanity check of data\n",
    "smat = np.diag(D) # digonal matrix of weights .... double check this\n",
    "print(np.allclose(gInd, np.dot(U,np.dot(smat, Vh)))) # futher confirm if svd output is similar enough to og data \n",
    "# svd output \n",
    "gOut = np.dot(U,np.dot(smat, Vh)) # group data reduction from SVD\n",
    "# sience out channel activity from channels not of interest\n",
    "gom = np.array(np.nanmean(gOut[0:1,:], axis = 0)) # average channel weights (?)\n",
    "misc_chan_avg_svd = np.nanmean(gom[~ocm_chans]/np.sum([ocm_chans == False])) # avg activity of all channels not of interest and spread signal\n",
    "print(misc_chan_avg_svd)\n",
    "\n",
    "misc_chan_avg = np.nanmean(f1L_cont[1][~ocm_chans]/np.sum([ocm_chans == False]))\n",
    "print(misc_chan_avg)\n",
    "###########################################################################################################################################\n",
    "# svd channel data\n",
    "topoIn = gOut[0,:] # 128 channels \n",
    "# originl data to spread chan act\n",
    "mod = f1L_cont[1].copy()\n",
    "############################################################################################################################################\n",
    "# spread signal for channels not of interest\n",
    "# topoIn[~ocm_chans] = misc_chan_avg_svd\n",
    "# mod[~ocm_chans] = misc_chan_avg\n",
    "# compare topo data between: svd, regular signal silencing, and raw data\n",
    "fig,axs = plt.subplots(3,1, figsize = (12,7), sharey = True) # orignal data with preserved signal \n",
    "axs[0].scatter(ch_list,f1L_cont[1], label = f'og data')\n",
    "axs[0].legend()\n",
    "# original data with non chans of interest averaged\n",
    "axs[1].scatter(ch_list,mod, label = f' og data ch oi')\n",
    "axs[1].legend(loc = 'upper left')\n",
    "#  svd data with non chans of interest averaged\n",
    "axs[2].scatter(ch_list,topoIn, label = f'svd ch oi projections')\n",
    "axs[2].legend(loc = 'upper left')"
   ]
  },
  {
   "cell_type": "code",
   "execution_count": null,
   "metadata": {},
   "outputs": [],
   "source": [
    "\n",
    "fig,axes = init_TopoTemplate(title_In = 'F2 Attnr hi contrasts')\n",
    "im,_ = plot_topomap(mod, info, mask = ocm, axes = axes, show =False,cmap = 'Spectral_r', res = 32,contours =3,extrapolate = 'local', outlines = 'head',sphere=(0.0,0.0,0.0,0.09))\n",
    "divider = make_axes_locatable(axes)\n",
    "cax = divider.append_axes('right', size='5%', pad=0.4)\n",
    "cbar = plt.colorbar(im, cax=cax)\n",
    "plt.show()"
   ]
  },
  {
   "cell_type": "code",
   "execution_count": null,
   "metadata": {},
   "outputs": [],
   "source": [
    "fig, axs = plt.subplots(1,2, figsize = (10,3), sharey = True)\n",
    "\n",
    "axs[0].scatter(ch_list,f1L_cont[0], label = f'low contrasts') # original data \n",
    "axs[1].scatter(ch_list,f1L_cont[1], label = f'high contrasts') # original data \n",
    "axs[0].legend()\n",
    "axs[1].legend()"
   ]
  }
 ],
 "metadata": {
  "kernelspec": {
   "display_name": "Python 3",
   "language": "python",
   "name": "python3"
  },
  "language_info": {
   "codemirror_mode": {
    "name": "ipython",
    "version": 3
   },
   "file_extension": ".py",
   "mimetype": "text/x-python",
   "name": "python",
   "nbconvert_exporter": "python",
   "pygments_lexer": "ipython3",
   "version": "3.11.9"
  }
 },
 "nbformat": 4,
 "nbformat_minor": 2
}
