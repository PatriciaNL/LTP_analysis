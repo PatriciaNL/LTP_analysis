{
 "cells": [
  {
   "cell_type": "code",
   "execution_count": 76,
   "metadata": {},
   "outputs": [],
   "source": [
    "# load packages\n",
    "import numpy as np \n",
    "from scipy.io   import  loadmat\n",
    "from scipy import stats\n",
    "import pandas as pd\n",
    "import os\n",
    "import matplotlib.pyplot as plt #import matplotlib as plt\n",
    "from scipy.optimize import curve_fit \n",
    "import seaborn as sns #import mat73\n",
    "import pickle as pkl\n",
    "from datetime import datetime\n",
    "import statsmodels.api as sm \n",
    "from statsmodels.formula.api import ols"
   ]
  },
  {
   "cell_type": "code",
   "execution_count": 77,
   "metadata": {},
   "outputs": [],
   "source": [
    "#create data\n",
    "df = pd.DataFrame({'water': np.repeat(['daily', 'weekly'], 15),\n",
    "                   'sun': np.tile(np.repeat(['low', 'med', 'high'], 5), 2),\n",
    "                   'height': [6, 6, 6, 5, 6, 5, 5, 6, 4, 5,\n",
    "                              6, 6, 7, 8, 7, 3, 4, 4, 4, 5,\n",
    "                              4, 4, 4, 4, 4, 5, 6, 6, 7, 8]})"
   ]
  },
  {
   "cell_type": "code",
   "execution_count": 78,
   "metadata": {},
   "outputs": [
    {
     "name": "stdout",
     "output_type": "stream",
     "text": [
      "     water   sun  height\n",
      "0    daily   low       6\n",
      "1    daily   low       6\n",
      "2    daily   low       6\n",
      "3    daily   low       5\n",
      "4    daily   low       6\n",
      "5    daily   med       5\n",
      "6    daily   med       5\n",
      "7    daily   med       6\n",
      "8    daily   med       4\n",
      "9    daily   med       5\n",
      "10   daily  high       6\n",
      "11   daily  high       6\n",
      "12   daily  high       7\n",
      "13   daily  high       8\n",
      "14   daily  high       7\n",
      "15  weekly   low       3\n",
      "16  weekly   low       4\n",
      "17  weekly   low       4\n",
      "18  weekly   low       4\n",
      "19  weekly   low       5\n",
      "20  weekly   med       4\n",
      "21  weekly   med       4\n",
      "22  weekly   med       4\n",
      "23  weekly   med       4\n",
      "24  weekly   med       4\n",
      "25  weekly  high       5\n",
      "26  weekly  high       6\n",
      "27  weekly  high       6\n",
      "28  weekly  high       7\n",
      "29  weekly  high       8\n"
     ]
    }
   ],
   "source": [
    "print(df)"
   ]
  },
  {
   "cell_type": "code",
   "execution_count": 79,
   "metadata": {},
   "outputs": [
    {
     "data": {
      "text/html": [
       "<div>\n",
       "<style scoped>\n",
       "    .dataframe tbody tr th:only-of-type {\n",
       "        vertical-align: middle;\n",
       "    }\n",
       "\n",
       "    .dataframe tbody tr th {\n",
       "        vertical-align: top;\n",
       "    }\n",
       "\n",
       "    .dataframe thead th {\n",
       "        text-align: right;\n",
       "    }\n",
       "</style>\n",
       "<table border=\"1\" class=\"dataframe\">\n",
       "  <thead>\n",
       "    <tr style=\"text-align: right;\">\n",
       "      <th></th>\n",
       "      <th>sum_sq</th>\n",
       "      <th>df</th>\n",
       "      <th>F</th>\n",
       "      <th>PR(&gt;F)</th>\n",
       "    </tr>\n",
       "  </thead>\n",
       "  <tbody>\n",
       "    <tr>\n",
       "      <th>C(water)</th>\n",
       "      <td>8.533333</td>\n",
       "      <td>1.0</td>\n",
       "      <td>16.0000</td>\n",
       "      <td>0.000527</td>\n",
       "    </tr>\n",
       "    <tr>\n",
       "      <th>C(sun)</th>\n",
       "      <td>24.866667</td>\n",
       "      <td>2.0</td>\n",
       "      <td>23.3125</td>\n",
       "      <td>0.000002</td>\n",
       "    </tr>\n",
       "    <tr>\n",
       "      <th>C(water):C(sun)</th>\n",
       "      <td>2.466667</td>\n",
       "      <td>2.0</td>\n",
       "      <td>2.3125</td>\n",
       "      <td>0.120667</td>\n",
       "    </tr>\n",
       "    <tr>\n",
       "      <th>Residual</th>\n",
       "      <td>12.800000</td>\n",
       "      <td>24.0</td>\n",
       "      <td>NaN</td>\n",
       "      <td>NaN</td>\n",
       "    </tr>\n",
       "  </tbody>\n",
       "</table>\n",
       "</div>"
      ],
      "text/plain": [
       "                    sum_sq    df        F    PR(>F)\n",
       "C(water)          8.533333   1.0  16.0000  0.000527\n",
       "C(sun)           24.866667   2.0  23.3125  0.000002\n",
       "C(water):C(sun)   2.466667   2.0   2.3125  0.120667\n",
       "Residual         12.800000  24.0      NaN       NaN"
      ]
     },
     "execution_count": 79,
     "metadata": {},
     "output_type": "execute_result"
    }
   ],
   "source": [
    "#perform two-way ANOVA\n",
    "model = ols('height ~ C(water) + C(sun) + C(water):C(sun)', data=df).fit()\n",
    "sm.stats.anova_lm(model, typ=2)"
   ]
  },
  {
   "cell_type": "markdown",
   "metadata": {},
   "source": [
    "#### import and set actual anova params"
   ]
  },
  {
   "cell_type": "code",
   "execution_count": 80,
   "metadata": {},
   "outputs": [
    {
     "name": "stdout",
     "output_type": "stream",
     "text": [
      "Files on hand: ['LTP_ResponseDifferences_20240223_1325.pkl', 'PostPreResponseDifferences_20240220_1029.pkl']\n",
      "Current WD: C:\\plimon\\LTP_analysis\\RCA_F1\\AmpResponseDiffs\\LTP_ResponseDifferences_20240223_1325.pkl\n",
      "Does File #1 Exist? True\n"
     ]
    }
   ],
   "source": [
    "# Main Directory of processed file from MatLab\n",
    "#MainDir = 'D:\\\\AttnXV3_analysis\\\\RCA_F1\\\\AvgCRFs\\\\' # set dir\n",
    "MainDir = 'C:\\\\plimon\\\\LTP_analysis\\\\RCA_F1\\\\AmpResponseDiffs\\\\' # set dir\n",
    "os.chdir(MainDir) # change old dir, to this dir\n",
    "d = os.listdir(MainDir) # list files in dir\n",
    "print(f'Files on hand: {d}')\n",
    "##############################################\n",
    "FileN = d[0] # choose one                        \n",
    "file_path1 = os.path.join(MainDir, FileN) # join paths and prep 2 load\n",
    "print('Current WD:',file_path1) # does path exist ... ?\n",
    "print('Does File #1 Exist?',os.path.exists(file_path1)) # yes or no"
   ]
  },
  {
   "cell_type": "code",
   "execution_count": 81,
   "metadata": {},
   "outputs": [
    {
     "name": "stdout",
     "output_type": "stream",
     "text": [
      "dict_keys(['DiffData', 'ErrVals', 'SubNames', 'DictMainKeys', 'ContLevs', 'crfLabs', 'VoiceMemo'])\n"
     ]
    }
   ],
   "source": [
    "loadData = pkl.load(open(file_path1,'rb'))\n",
    "print(loadData.keys())"
   ]
  },
  {
   "cell_type": "code",
   "execution_count": 82,
   "metadata": {},
   "outputs": [
    {
     "name": "stdout",
     "output_type": "stream",
     "text": [
      "['Cont:Post - pre responses for all conditions for all subs, sub x contrast diff']\n",
      "['attnL F1', 'attnL F2', 'attnR F1', 'attnR F2']\n"
     ]
    }
   ],
   "source": [
    "data = loadData['DiffData']\n",
    "# wont load error bars just yet\n",
    "data_labels = loadData['DictMainKeys']\n",
    "SubNames = np.array(loadData['SubNames'])\n",
    "note = loadData['VoiceMemo']\n",
    "contrast_levels = loadData['ContLevs']\n",
    "contrast_labs = loadData['crfLabs']\n",
    "print(note)\n",
    "NumSubs = int(len(SubNames))\n",
    "print(data_labels) # labels for nr plots"
   ]
  },
  {
   "cell_type": "markdown",
   "metadata": {},
   "source": [
    "#### Stack all condition differences for 1 subject - make into a function"
   ]
  },
  {
   "cell_type": "code",
   "execution_count": 83,
   "metadata": {},
   "outputs": [],
   "source": [
    "NumBins = 6 # number of contrasts\n",
    "NumHarms = 2 # number of harmonic data: 2F1, 4F1\n",
    "NumComp = 0 # first component from RCA\n",
    "NumConds = 4"
   ]
  },
  {
   "cell_type": "code",
   "execution_count": 84,
   "metadata": {},
   "outputs": [],
   "source": [
    "RowPop = NumBins * NumHarms * NumConds # 6 x 2 x 4\n",
    "SubRows = NumBins*NumHarms\n",
    "ContrastInd = np.arange(0,NumBins)\n",
    "ContrastArr = np.arange(RowPop) % NumBins"
   ]
  },
  {
   "cell_type": "code",
   "execution_count": 85,
   "metadata": {},
   "outputs": [],
   "source": [
    "AttnXArr = np.zeros((RowPop))\n",
    "FreqFiltArr = np.zeros((RowPop))\n",
    "HarmArr = np.zeros((RowPop))\n",
    "# load subject response differnces across conditions\n",
    "for co in range(NumConds):\n",
    "    HarmArr[(co*SubRows):(co+1)*SubRows]  = [0] * NumBins + [1] * NumBins # index harmonic data:  2F / 4F \n",
    "if co == 0 or co == 1: # Index if Data is AttnL or AttnR\n",
    "    AttnXArr[(co*SubRows):(co+1)*(SubRows)] = 0\n",
    "else:\n",
    "    AttnXArr[(co*SubRows):(co+1)*(SubRows)] = 1\n",
    "if co % 2:          # Index what data was F1 = 6 Hz or F2 = 7.5 Hz \n",
    "    FreqFiltArr[(co*SubRows):(co+1)*SubRows] = [1]*SubRows\n",
    "else:\n",
    "    FreqFiltArr[(co*SubRows):(co+1)*SubRows] = [0]*SubRows"
   ]
  },
  {
   "cell_type": "code",
   "execution_count": 86,
   "metadata": {},
   "outputs": [],
   "source": [
    "def MakeDataFramePerSubject(RowPop,SubRows,ContrastArr,AttnXArr,FreqFiltArr,HarmArr,NumConds,soi, dictIn):\n",
    "    SubjArr = [soi] * RowPop # Subject label\n",
    "    ValArr = np.zeros((RowPop)) # INDEPENDENT VARIABLE 12 x 4  = 48 rows per val\n",
    "    # load subject response differnces across conditions\n",
    "    for co in range(NumConds):\n",
    "        dIn = dictIn[co][soi,:] \n",
    "        ValArr[(co*SubRows):(co+1)*SubRows] = dIn # Sort Data Values \n",
    "    \n",
    "    dataOut = {'Subj': SubjArr,\n",
    "                'AttnX': AttnXArr,\n",
    "                'FreqFilt': FreqFiltArr,\n",
    "                'Harmonic': HarmArr,\n",
    "                'Contrast': ContrastArr,\n",
    "                'Vals': ValArr}\n",
    "    df = pd.DataFrame(dataOut)\n",
    "    return df"
   ]
  },
  {
   "cell_type": "code",
   "execution_count": 87,
   "metadata": {},
   "outputs": [],
   "source": [
    "Sub_df = {}\n",
    "for su in range(NumSubs):\n",
    "    Sub_df[su]= MakeDataFramePerSubject(RowPop,SubRows,ContrastArr,AttnXArr,FreqFiltArr,HarmArr,NumConds,soi=su,dictIn=data)"
   ]
  },
  {
   "cell_type": "markdown",
   "metadata": {},
   "source": [
    "#### Load Some DateFrames to see if they differ"
   ]
  },
  {
   "cell_type": "code",
   "execution_count": 88,
   "metadata": {},
   "outputs": [
    {
     "name": "stdout",
     "output_type": "stream",
     "text": [
      "    Subj  AttnX  FreqFilt  Harmonic  Contrast      Vals\n",
      "0     22    0.0       0.0       0.0         0  0.115997\n",
      "1     22    0.0       0.0       0.0         1 -0.035183\n",
      "2     22    0.0       0.0       0.0         2 -0.001178\n",
      "3     22    0.0       0.0       0.0         3  0.020009\n",
      "4     22    0.0       0.0       0.0         4  0.218810\n",
      "5     22    0.0       0.0       0.0         5  0.823410\n",
      "6     22    0.0       0.0       1.0         0 -0.474678\n",
      "7     22    0.0       0.0       1.0         1  0.201052\n",
      "8     22    0.0       0.0       1.0         2  0.060527\n",
      "9     22    0.0       0.0       1.0         3  0.622315\n",
      "10    22    0.0       0.0       1.0         4 -0.057761\n",
      "11    22    0.0       0.0       1.0         5  0.134541\n",
      "12    22    0.0       0.0       0.0         0 -0.246698\n",
      "13    22    0.0       0.0       0.0         1  0.643388\n",
      "14    22    0.0       0.0       0.0         2  0.767005\n",
      "15    22    0.0       0.0       0.0         3  1.058887\n",
      "16    22    0.0       0.0       0.0         4  1.308597\n",
      "17    22    0.0       0.0       0.0         5  1.633892\n",
      "18    22    0.0       0.0       1.0         0  0.050217\n",
      "19    22    0.0       0.0       1.0         1 -0.113763\n",
      "20    22    0.0       0.0       1.0         2  0.510460\n",
      "21    22    0.0       0.0       1.0         3  0.117377\n",
      "22    22    0.0       0.0       1.0         4 -0.604367\n",
      "23    22    0.0       0.0       1.0         5 -0.086406\n",
      "24    22    0.0       0.0       0.0         0 -0.219094\n",
      "25    22    0.0       0.0       0.0         1 -0.290536\n",
      "26    22    0.0       0.0       0.0         2  0.435293\n",
      "27    22    0.0       0.0       0.0         3  0.893812\n",
      "28    22    0.0       0.0       0.0         4  0.695781\n",
      "29    22    0.0       0.0       0.0         5  0.330873\n",
      "30    22    0.0       0.0       1.0         0 -0.178250\n",
      "31    22    0.0       0.0       1.0         1 -0.033328\n",
      "32    22    0.0       0.0       1.0         2  0.075240\n",
      "33    22    0.0       0.0       1.0         3  0.737097\n",
      "34    22    0.0       0.0       1.0         4  0.025958\n",
      "35    22    0.0       0.0       1.0         5 -0.302105\n",
      "36    22    1.0       1.0       0.0         0  0.509407\n",
      "37    22    1.0       1.0       0.0         1  0.498639\n",
      "38    22    1.0       1.0       0.0         2  0.865294\n",
      "39    22    1.0       1.0       0.0         3  1.429580\n",
      "40    22    1.0       1.0       0.0         4  0.963546\n",
      "41    22    1.0       1.0       0.0         5  0.520118\n",
      "42    22    1.0       1.0       1.0         0 -0.096510\n",
      "43    22    1.0       1.0       1.0         1  0.111352\n",
      "44    22    1.0       1.0       1.0         2  0.304380\n",
      "45    22    1.0       1.0       1.0         3  0.451985\n",
      "46    22    1.0       1.0       1.0         4  0.896604\n",
      "47    22    1.0       1.0       1.0         5  0.480110\n"
     ]
    }
   ],
   "source": [
    "print(Sub_df[22])"
   ]
  },
  {
   "cell_type": "code",
   "execution_count": 89,
   "metadata": {},
   "outputs": [
    {
     "name": "stdout",
     "output_type": "stream",
     "text": [
      "(1200, 6)\n",
      "['Subj' 'AttnX' 'FreqFilt' 'Harmonic' 'Contrast' 'Vals']\n"
     ]
    }
   ],
   "source": [
    "anova_df = np.zeros((RowPop*NumSubs,6))\n",
    "print(anova_df.shape)\n",
    "\n",
    "headerArr = Sub_df[0].columns.values\n",
    "print(headerArr)"
   ]
  },
  {
   "cell_type": "code",
   "execution_count": 90,
   "metadata": {},
   "outputs": [],
   "source": [
    "for su in range(NumSubs):\n",
    "    aIn = np.array(Sub_df[su])\n",
    "    anova_df[(RowPop*su):(RowPop*(su+1)),:] = aIn"
   ]
  },
  {
   "cell_type": "code",
   "execution_count": 91,
   "metadata": {},
   "outputs": [],
   "source": [
    "anovaDataArr = np.append([headerArr],anova_df, axis = 0 )\n",
    "anova_dataf = pd.DataFrame(anovaDataArr)"
   ]
  },
  {
   "cell_type": "code",
   "execution_count": 92,
   "metadata": {},
   "outputs": [
    {
     "data": {
      "text/html": [
       "<div>\n",
       "<style scoped>\n",
       "    .dataframe tbody tr th:only-of-type {\n",
       "        vertical-align: middle;\n",
       "    }\n",
       "\n",
       "    .dataframe tbody tr th {\n",
       "        vertical-align: top;\n",
       "    }\n",
       "\n",
       "    .dataframe thead th {\n",
       "        text-align: right;\n",
       "    }\n",
       "</style>\n",
       "<table border=\"1\" class=\"dataframe\">\n",
       "  <thead>\n",
       "    <tr style=\"text-align: right;\">\n",
       "      <th></th>\n",
       "      <th>0</th>\n",
       "      <th>1</th>\n",
       "      <th>2</th>\n",
       "      <th>3</th>\n",
       "      <th>4</th>\n",
       "      <th>5</th>\n",
       "    </tr>\n",
       "  </thead>\n",
       "  <tbody>\n",
       "    <tr>\n",
       "      <th>0</th>\n",
       "      <td>Subj</td>\n",
       "      <td>AttnX</td>\n",
       "      <td>FreqFilt</td>\n",
       "      <td>Harmonic</td>\n",
       "      <td>Contrast</td>\n",
       "      <td>Vals</td>\n",
       "    </tr>\n",
       "    <tr>\n",
       "      <th>1</th>\n",
       "      <td>0.0</td>\n",
       "      <td>0.0</td>\n",
       "      <td>0.0</td>\n",
       "      <td>0.0</td>\n",
       "      <td>0.0</td>\n",
       "      <td>-0.053774</td>\n",
       "    </tr>\n",
       "    <tr>\n",
       "      <th>2</th>\n",
       "      <td>0.0</td>\n",
       "      <td>0.0</td>\n",
       "      <td>0.0</td>\n",
       "      <td>0.0</td>\n",
       "      <td>1.0</td>\n",
       "      <td>-0.395514</td>\n",
       "    </tr>\n",
       "    <tr>\n",
       "      <th>3</th>\n",
       "      <td>0.0</td>\n",
       "      <td>0.0</td>\n",
       "      <td>0.0</td>\n",
       "      <td>0.0</td>\n",
       "      <td>2.0</td>\n",
       "      <td>0.293846</td>\n",
       "    </tr>\n",
       "    <tr>\n",
       "      <th>4</th>\n",
       "      <td>0.0</td>\n",
       "      <td>0.0</td>\n",
       "      <td>0.0</td>\n",
       "      <td>0.0</td>\n",
       "      <td>3.0</td>\n",
       "      <td>0.278024</td>\n",
       "    </tr>\n",
       "    <tr>\n",
       "      <th>...</th>\n",
       "      <td>...</td>\n",
       "      <td>...</td>\n",
       "      <td>...</td>\n",
       "      <td>...</td>\n",
       "      <td>...</td>\n",
       "      <td>...</td>\n",
       "    </tr>\n",
       "    <tr>\n",
       "      <th>1196</th>\n",
       "      <td>24.0</td>\n",
       "      <td>1.0</td>\n",
       "      <td>1.0</td>\n",
       "      <td>1.0</td>\n",
       "      <td>1.0</td>\n",
       "      <td>-0.210037</td>\n",
       "    </tr>\n",
       "    <tr>\n",
       "      <th>1197</th>\n",
       "      <td>24.0</td>\n",
       "      <td>1.0</td>\n",
       "      <td>1.0</td>\n",
       "      <td>1.0</td>\n",
       "      <td>2.0</td>\n",
       "      <td>0.035446</td>\n",
       "    </tr>\n",
       "    <tr>\n",
       "      <th>1198</th>\n",
       "      <td>24.0</td>\n",
       "      <td>1.0</td>\n",
       "      <td>1.0</td>\n",
       "      <td>1.0</td>\n",
       "      <td>3.0</td>\n",
       "      <td>0.010592</td>\n",
       "    </tr>\n",
       "    <tr>\n",
       "      <th>1199</th>\n",
       "      <td>24.0</td>\n",
       "      <td>1.0</td>\n",
       "      <td>1.0</td>\n",
       "      <td>1.0</td>\n",
       "      <td>4.0</td>\n",
       "      <td>0.058085</td>\n",
       "    </tr>\n",
       "    <tr>\n",
       "      <th>1200</th>\n",
       "      <td>24.0</td>\n",
       "      <td>1.0</td>\n",
       "      <td>1.0</td>\n",
       "      <td>1.0</td>\n",
       "      <td>5.0</td>\n",
       "      <td>-0.155763</td>\n",
       "    </tr>\n",
       "  </tbody>\n",
       "</table>\n",
       "<p>1201 rows × 6 columns</p>\n",
       "</div>"
      ],
      "text/plain": [
       "         0      1         2         3         4         5\n",
       "0     Subj  AttnX  FreqFilt  Harmonic  Contrast      Vals\n",
       "1      0.0    0.0       0.0       0.0       0.0 -0.053774\n",
       "2      0.0    0.0       0.0       0.0       1.0 -0.395514\n",
       "3      0.0    0.0       0.0       0.0       2.0  0.293846\n",
       "4      0.0    0.0       0.0       0.0       3.0  0.278024\n",
       "...    ...    ...       ...       ...       ...       ...\n",
       "1196  24.0    1.0       1.0       1.0       1.0 -0.210037\n",
       "1197  24.0    1.0       1.0       1.0       2.0  0.035446\n",
       "1198  24.0    1.0       1.0       1.0       3.0  0.010592\n",
       "1199  24.0    1.0       1.0       1.0       4.0  0.058085\n",
       "1200  24.0    1.0       1.0       1.0       5.0 -0.155763\n",
       "\n",
       "[1201 rows x 6 columns]"
      ]
     },
     "execution_count": 92,
     "metadata": {},
     "output_type": "execute_result"
    }
   ],
   "source": [
    "anova_dataf"
   ]
  }
 ],
 "metadata": {
  "kernelspec": {
   "display_name": "Python 3",
   "language": "python",
   "name": "python3"
  },
  "language_info": {
   "codemirror_mode": {
    "name": "ipython",
    "version": 3
   },
   "file_extension": ".py",
   "mimetype": "text/x-python",
   "name": "python",
   "nbconvert_exporter": "python",
   "pygments_lexer": "ipython3",
   "version": "3.11.8"
  }
 },
 "nbformat": 4,
 "nbformat_minor": 2
}
