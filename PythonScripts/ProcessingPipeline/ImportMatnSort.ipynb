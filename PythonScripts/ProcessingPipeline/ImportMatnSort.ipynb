{
 "cells": [
  {
   "cell_type": "code",
   "execution_count": 25,
   "metadata": {},
   "outputs": [],
   "source": [
    "# load packages\n",
    "import numpy as np \n",
    "import scipy \n",
    "import pandas as pd\n",
    "import os\n",
    "import matplotlib.pyplot as plt #import matplotlib as plt\n",
    "from scipy.optimize import curve_fit \n",
    "import seaborn as sns #import mat73\n",
    "import pickle as pkl\n",
    "from datetime import datetime"
   ]
  },
  {
   "cell_type": "code",
   "execution_count": 26,
   "metadata": {},
   "outputs": [
    {
     "name": "stdout",
     "output_type": "stream",
     "text": [
      "Files on hand: ['nl-345215-attnR_20240201_1637_RLS.mat']\n",
      "Current WD: C:\\plimon\\LTP_analysis\\eegMatFiles\\nl-345215-attnR_20240201_1637_RLS.mat\n",
      "Does File #1 Exist? True\n"
     ]
    }
   ],
   "source": [
    "# Main Directory of processed file from MatLab\n",
    "#MainDir = 'D:\\\\AttnXV3_analysis\\\\RCA_F1\\\\AvgCRFs\\\\' # set dir\n",
    "MainDir = 'C:\\\\plimon\\\\LTP_analysis\\\\eegMatFiles\\\\' # set dir\n",
    "os.chdir(MainDir) # change old dir, to this dir\n",
    "d = os.listdir(MainDir) # list files in dir\n",
    "print(f'Files on hand: {d}')\n",
    "##############################################\n",
    "FileN = d[-1] # choose one                        \n",
    "file_path1 = os.path.join(MainDir, FileN) # join paths and prep 2 load\n",
    "print('Current WD:',file_path1) # does path exist ... ?\n",
    "print('Does File #1 Exist?',os.path.exists(file_path1)) # yes or no"
   ]
  },
  {
   "cell_type": "code",
   "execution_count": 27,
   "metadata": {},
   "outputs": [
    {
     "name": "stdout",
     "output_type": "stream",
     "text": [
      "dict_keys(['__header__', '__version__', '__globals__', 'info', 'signalData', 'noise1', 'noise2'])\n"
     ]
    }
   ],
   "source": [
    "mat_data = scipy.io.loadmat(file_path1) # import data file\n",
    "print((mat_data.keys()))"
   ]
  },
  {
   "cell_type": "code",
   "execution_count": 28,
   "metadata": {},
   "outputs": [
    {
     "name": "stdout",
     "output_type": "stream",
     "text": [
      "Data file contains data for 6 different conditions\n"
     ]
    }
   ],
   "source": [
    "# find basic data parms \n",
    "MainData = mat_data['signalData']\n",
    "noise1 = mat_data['noise1'] # 6 x 1 \n",
    "noise2 = mat_data['noise2']\n",
    "inds = mat_data['info'][0][0]\n",
    "ExpConds = int(MainData.shape[0])\n",
    "print(f'Data file contains data for {ExpConds} different conditions')"
   ]
  },
  {
   "cell_type": "markdown",
   "metadata": {},
   "source": [
    "### Channels to analyze derived form ryans selcted electrodes"
   ]
  },
  {
   "cell_type": "code",
   "execution_count": 29,
   "metadata": {},
   "outputs": [],
   "source": [
    "elecLeftLateral=[51,52,60,58,59,64,65,68,69]\n",
    "elecLeftMedial=[72,75,81,70,71,74]\n",
    "elecRightMedial=[72,75,81,76,83,82]\n",
    "elecMedial=[72,75,81,70,71,74,76,83,82]\n",
    "elecRightLateral=[97,92,85,96,91,95,90,94,88]"
   ]
  },
  {
   "cell_type": "code",
   "execution_count": 30,
   "metadata": {},
   "outputs": [],
   "source": [
    "# save signal data\n",
    "FreqDataPerCo = {}\n",
    "for co in range(ExpConds):\n",
    "    #print(MainData[co][0].shape)\n",
    "    FreqDataPerCo[co] = MainData[co][0]\n",
    "# noise data 1 \n",
    "Noise1DataPerCo = {}\n",
    "for co in range(ExpConds):\n",
    "    #print(noise1[co][0].shape)\n",
    "    Noise1DataPerCo[co] = noise1[co][0]\n",
    "# noise data 2\n",
    "Noise2DataPerCo = {}\n",
    "for co in range(ExpConds):\n",
    "    #print(noise2[co][0].shape)\n",
    "    Noise2DataPerCo[co] = noise2[co][0]"
   ]
  },
  {
   "cell_type": "code",
   "execution_count": 31,
   "metadata": {},
   "outputs": [
    {
     "name": "stdout",
     "output_type": "stream",
     "text": [
      "[[array(['2F1'], dtype='<U3')]\n",
      " [array(['4F1'], dtype='<U3')]\n",
      " [array(['6F1'], dtype='<U3')]\n",
      " [array(['8F1'], dtype='<U3')]\n",
      " [array(['2F2'], dtype='<U3')]\n",
      " [array(['4F2'], dtype='<U3')]\n",
      " [array(['6F2'], dtype='<U3')]\n",
      " [array(['8F2'], dtype='<U3')]]\n",
      "['2F1']\n",
      "['4F1']\n",
      "['6F1']\n",
      "['8F1']\n",
      "['2F2']\n",
      "['4F2']\n",
      "['6F2']\n",
      "['8F2']\n"
     ]
    }
   ],
   "source": [
    "co = 0 # pre and post induction ltp\n",
    "HarmInd = np.array(mat_data['info'][0][0] [0][co][0])\n",
    "BinInd = np.array(mat_data['info'][0][0] [1][co][0])\n",
    "HarmonLabels = mat_data['info'][0][0][2][co][0]\n",
    "AvgAct = mat_data['info'][0][0] [3][co] [0]\n",
    "NumCondInd = mat_data['info'][0][0][4][co][0]\n",
    "HemiFieldLabels = mat_data['info'][0][0] [2][co] [0]\n",
    "\n",
    "#########IN case some nexted arrays need to be extracted or explored\n",
    "co = 0\n",
    "ind = 2\n",
    "inds = mat_data['info'][0][0] [ind][co] [0] # avoid prelude bind which == 0 actually \n",
    "print(inds)\n",
    "for innerlist in inds:\n",
    "    for item in innerlist:\n",
    "        print(item)"
   ]
  },
  {
   "cell_type": "markdown",
   "metadata": {},
   "source": [
    "#### have to combine real and imaginar before data can be indexed "
   ]
  },
  {
   "cell_type": "code",
   "execution_count": 32,
   "metadata": {},
   "outputs": [
    {
     "name": "stdout",
     "output_type": "stream",
     "text": [
      "[1 2 3 4 5 6 7 8] [7 7 7 7 7 7 7 7]\n",
      "[0 1 2 3 4 5 6] [8 8 8 8 8 8 8]\n"
     ]
    }
   ],
   "source": [
    "NumHarms,NumHarmCount = np.unique(HarmInd, return_counts = True)\n",
    "print(NumHarms,NumHarmCount)\n",
    "NumBins,NumBinCount = np.unique(BinInd, return_counts = True)\n",
    "print(NumBins,NumBinCount)\n",
    "\n",
    "Bins = int(len(NumBins)-1)"
   ]
  },
  {
   "cell_type": "code",
   "execution_count": 33,
   "metadata": {},
   "outputs": [
    {
     "name": "stdout",
     "output_type": "stream",
     "text": [
      "(112, 128, 78)\n",
      "56\n"
     ]
    }
   ],
   "source": [
    "SortDataIn =  FreqDataPerCo[0] # 112 x 128 x 78\n",
    "[NumRows, NumChans, NumTrials] = SortDataIn.shape\n",
    "print(SortDataIn.shape)\n",
    "real_imag_bound = int((NumRows/2))\n",
    "print(real_imag_bound)\n",
    "\n",
    "prepost_bound = int(NumTrials/2)\n"
   ]
  },
  {
   "cell_type": "code",
   "execution_count": 36,
   "metadata": {},
   "outputs": [
    {
     "name": "stdout",
     "output_type": "stream",
     "text": [
      "(56, 128, 78)\n"
     ]
    }
   ],
   "source": [
    "SelectCo = 0\n",
    "# segment data into real and imaginary data side by side\n",
    "dIn = FreqDataPerCo[SelectCo].reshape(real_imag_bound,2,NumChans,NumTrials) # 56 x 2 x 128 x 78\n",
    "n1 = Noise1DataPerCo[SelectCo].reshape(real_imag_bound,2,NumChans,NumTrials)\n",
    "n2 = Noise2DataPerCo[SelectCo].reshape(real_imag_bound,2,NumChans,NumTrials)\n",
    "dIn[dIn == 0] = np.nan\n",
    "n1[n1 == 0] = np.nan\n",
    "n2[n2 == 0] = np.nan\n",
    "\n",
    "# combine real and imaginary compnents for signal data, noise 1 and noise 2 \n",
    "DataOut = np.hypot(dIn[:,0,:],dIn[:,1,:]) # (56, 128, 78)\n",
    "n1Out = np.hypot(n1[:,0,:],n1[:,1,:]) # (56, 128, 78)\n",
    "n2Out = np.hypot(n2[:,0,:],n2[:,1,:]) # (56, 128, 78)\n",
    "\n",
    "print(DataOut.shape)"
   ]
  },
  {
   "cell_type": "code",
   "execution_count": null,
   "metadata": {},
   "outputs": [],
   "source": [
    "# # # get avg data and non avg data\n",
    "# CleanData = DataOut[(BinInd[BinInd != 0]),:,:] # remove prelude bins \n",
    "# n1_c =  n1Out[(BinInd[BinInd != 0]),:,:] # remove prelude bins \n",
    "# n2_c =  n2Out[(BinInd[BinInd != 0]),:,:] # remove prelude bins \n",
    "# print(CleanData.shape)\n",
    "# print(n1_c.shape)\n",
    "# print(n2_c.shape)\n",
    "\n",
    "# print(CleanData.shape)\n",
    "# plt.plot(CleanData[:,90,10], label = 'signal')\n",
    "# plt.plot(n1_c[:,90,10], label = 'noise1')\n",
    "# plt.plot(n2_c[:,90,10], label = 'noise 2')\n",
    "# plt.legend()\n"
   ]
  },
  {
   "cell_type": "code",
   "execution_count": 38,
   "metadata": {},
   "outputs": [
    {
     "name": "stdout",
     "output_type": "stream",
     "text": [
      "(8, 128, 78)\n",
      "(8, 128, 78)\n",
      "(8, 128, 78)\n",
      "(8, 128, 78)\n",
      "(8, 128, 78)\n",
      "(8, 128, 78)\n"
     ]
    },
    {
     "data": {
      "text/plain": [
       "<matplotlib.legend.Legend at 0x1620768e710>"
      ]
     },
     "execution_count": 38,
     "metadata": {},
     "output_type": "execute_result"
    },
    {
     "data": {
      "image/png": "[encoded data removed]",
      "text/plain": [
       "<Figure size 640x480 with 1 Axes>"
      ]
     },
     "metadata": {},
     "output_type": "display_data"
    }
   ],
   "source": [
    "\n",
    "DataPerBin = {} # first half of data is 2f1, 4f1,6f1,8f1, 2f2,4f2,6f2,8f2\n",
    "for i in range(Bins):\n",
    "    #nested_bool = (HarmInd[HarmInd == i+1])\n",
    "    nested_bool = (BinInd[BinInd == i+1])\n",
    "    DataPerBin[i] = np.squeeze(DataOut[nested_bool,:,:])\n",
    "    print(DataPerBin[i].shape)\n",
    "x = 3\n",
    "\n",
    "pre_f1 = np.mean(DataPerBin[x][:4,:,0:prepost_bound],axis = 0) # average activity across channels for 1 bin i belive \n",
    "post_f1 = np.mean(DataPerBin[x][:4,:,prepost_bound:],axis = 0)\n",
    "\n",
    "\n",
    "pre_f2 = np.mean(DataPerBin[x][4:,:,0:prepost_bound],axis = 0) # average activity across channels for 1 bin i belive \n",
    "post_f2 = np.mean(DataPerBin[x][4:,:,prepost_bound:],axis = 0)\n",
    "\n",
    "\n",
    "plt.plot(pre_f1[80,:], label = '2f1')\n",
    "plt.plot(pre_f2[80,:], label = '2f2')\n",
    "plt.legend()\n"
   ]
  },
  {
   "cell_type": "code",
   "execution_count": null,
   "metadata": {},
   "outputs": [],
   "source": [
    "# MaskPreludes = BinInd!=0\n",
    "# eegData = SortDataIn[MaskPreludes :, :]\n",
    "# AvgData = SortDataIn[(BinInd[BinInd == 0]),:,:]\n",
    "# #omitAvg[(HarmInd[HarmInd == 1]&~BinInd == 0]),:,:]) # try and ke this matrix without the averag data inside , 112 x 128 x \n",
    "# #mysteryAvg = \n",
    "\n",
    "# print(AvgData.shape) # 8 x 128 x 78\n",
    "# #print(eegData.shape) # 48 x 128 x 78"
   ]
  }
 ],
 "metadata": {
  "kernelspec": {
   "display_name": "Python 3",
   "language": "python",
   "name": "python3"
  },
  "language_info": {
   "codemirror_mode": {
    "name": "ipython",
    "version": 3
   },
   "file_extension": ".py",
   "mimetype": "text/x-python",
   "name": "python",
   "nbconvert_exporter": "python",
   "pygments_lexer": "ipython3",
   "version": "3.11.9"
  }
 },
 "nbformat": 4,
 "nbformat_minor": 2
}
