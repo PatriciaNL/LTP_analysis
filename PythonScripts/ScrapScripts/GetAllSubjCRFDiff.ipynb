{
 "cells": [
  {
   "cell_type": "markdown",
   "metadata": {},
   "source": [
    "## STEP SIX OF PROCESSING PIPELINE"
   ]
  },
  {
   "cell_type": "markdown",
   "metadata": {},
   "source": [
    "#### This script imports CRF data and computes the difference between pre and post conditions. Average of differences are computed w error bars for visual inspection - individual differences are also plotted in the background"
   ]
  },
  {
   "cell_type": "markdown",
   "metadata": {},
   "source": [
    "## To Do: \n",
    "\n",
    "#### 1 | Figure out exclusion criterion - talk w ryan : check numtrials excluded when cdiva processing txt files\n",
    "#### 2| Re Run analysis (MANOVA(?)) w the following analysis: \n",
    "\n",
    "##### contrast\n",
    "##### attention\n",
    "##### 2f 4f (harmonic)\n",
    "##### F1 and F2 \n",
    "##### pre and post - there an effect of pre- post \n",
    "##### as a function of contrast, freq is there an eefect between pre post\n",
    "##### get a p values for each of these to see if there is any quantifiable effect of data\n",
    "##### enter raw data rahter than differnces \n",
    "##### plot differences and run analysis for pre post"
   ]
  },
  {
   "cell_type": "code",
   "execution_count": null,
   "metadata": {},
   "outputs": [],
   "source": [
    "# load packages\n",
    "import numpy as np \n",
    "from scipy.io   import  loadmat\n",
    "from scipy import stats\n",
    "import pandas as pd\n",
    "import os\n",
    "import matplotlib.pyplot as plt #import matplotlib as plt\n",
    "from scipy.optimize import curve_fit \n",
    "import seaborn as sns #import mat73\n",
    "import pickle as pkl\n",
    "from datetime import datetime"
   ]
  },
  {
   "cell_type": "code",
   "execution_count": null,
   "metadata": {},
   "outputs": [],
   "source": [
    "NumBins = 6 # number of contrasts\n",
    "NumHarms = 2 # number of harmonic data: 2F1, 4F1\n",
    "NumComp = 0 # first component from RCA\n",
    "NumConds = 4\n",
    "diff_ax = np.arange(0,NumBins) # plot differences"
   ]
  },
  {
   "cell_type": "code",
   "execution_count": null,
   "metadata": {},
   "outputs": [],
   "source": [
    "cp1 = sns.color_palette(\"Paired\",12)\n",
    "cp2 = sns.color_palette(\"cubehelix\",12)# dark to light\n",
    "sns.set_theme(context='notebook', style = 'darkgrid', palette=cp1)"
   ]
  },
  {
   "cell_type": "code",
   "execution_count": null,
   "metadata": {},
   "outputs": [],
   "source": [
    "# Main Directory of processed file from MatLab\n",
    "#MainDir = 'D:\\\\AttnXV3_analysis\\\\RCA_F1\\\\AvgCRFs\\\\' # set dir\n",
    "MainDir = 'C:\\\\plimon\\\\LTP_analysis\\\\RCA_F1\\\\AvgCRFs\\\\' # set dir\n",
    "os.chdir(MainDir) # change old dir, to this dir\n",
    "d = os.listdir(MainDir) # list files in dir\n",
    "print(f'Files on hand: {d}')\n",
    "##############################################\n",
    "FileN = d[0] # choose one                        \n",
    "file_path1 = os.path.join(MainDir, FileN) # join paths and prep 2 load\n",
    "print('Current WD:',file_path1) # does path exist ... ?\n",
    "print('Does File #1 Exist?',os.path.exists(file_path1)) # yes or no"
   ]
  },
  {
   "cell_type": "code",
   "execution_count": null,
   "metadata": {},
   "outputs": [],
   "source": [
    "loadData = pkl.load(open(file_path1,'rb'))\n",
    "print(loadData.keys())"
   ]
  },
  {
   "cell_type": "code",
   "execution_count": null,
   "metadata": {},
   "outputs": [],
   "source": [
    "data = loadData['Data']\n",
    "data_labels = loadData['DictMainKeys']\n",
    "SubNames = np.array(loadData['SubNames'])\n",
    "note = loadData['VoiceMemo']\n",
    "contrast_levels = loadData['ContLevs']\n",
    "contrast_labs = loadData['crfLabs']\n",
    "print(note)\n",
    "NumSubs = int(len(SubNames))\n",
    "print(data_labels) # labels for nr plots"
   ]
  },
  {
   "cell_type": "markdown",
   "metadata": {},
   "source": [
    "#### Functions"
   ]
  },
  {
   "cell_type": "code",
   "execution_count": null,
   "metadata": {},
   "outputs": [],
   "source": [
    "def GetDiffs(NumSubs, dictIn):\n",
    "    \"\"\"\n",
    "    Get All post - pre amplitude differnces cross conditions and contrasts\n",
    "    dictIn = key of dict data\n",
    "    \"\"\"\n",
    "    aOut = np.zeros((NumSubs,NumBins*2)) # 55 x 12 \n",
    "    for su in range(NumSubs):\n",
    "        aIn = dictIn[su]\n",
    "        AllDiffs = aIn[:,1] - aIn[:,0]\n",
    "        aOut[su,:] = AllDiffs\n",
    "    return aOut # 12x1 arry [0:6] 2f, [6:12] 4f\n",
    "####################################################################################\n",
    "def GetErrorBars(NumHarms,NumBins,NumSubs,dictIn):\n",
    "   '''\n",
    "   Get Error Bars for Data Vis.\n",
    "   DataIn = XSubs x YBins array [25 x 12]\n",
    "   DataOut = YBins-size Array\n",
    "   '''\n",
    "   err_bar_arr = np.zeros((NumHarms*NumBins)) # store errorbar info into NumBinxNumHarm-accomodating-size array\n",
    "   for BinInd in range(NumBins*NumHarms):\n",
    "      sObs_arr_perBin = np.zeros((NumSubs)) # store 1 val per subj\n",
    "      for Sub_Obv in range(NumSubs):\n",
    "         sObs_arr_perBin[Sub_Obv] = dictIn[Sub_Obv,BinInd]\n",
    "      # Standard error of mean :  std of dataset / SampSize**2\n",
    "      # est of uncertainty about dataset\n",
    "      s1 = np.std(sObs_arr_perBin)\n",
    "      err_bar = s1 / np.sqrt(NumSubs)\n",
    "      err_bar_arr[BinInd] = err_bar\n",
    "   return err_bar_arr"
   ]
  },
  {
   "cell_type": "code",
   "execution_count": null,
   "metadata": {},
   "outputs": [],
   "source": [
    "AllDiffs  = {} # 4 [nsubj * 12 array]\n",
    "for co in range(NumConds):  \n",
    "    AllDiffs[co] = GetDiffs(NumSubs,data[co])\n",
    "    #print(AllDiffs[co].shape)"
   ]
  },
  {
   "cell_type": "markdown",
   "metadata": {},
   "source": [
    "#### Vis Current Data and Exclude Particpants"
   ]
  },
  {
   "cell_type": "code",
   "execution_count": null,
   "metadata": {},
   "outputs": [],
   "source": [
    "cond_ind = 1\n",
    "bin_ind = 1\n",
    "\n",
    "fig,axs = plt.subplots(1, figsize = (2,2), sharey=True)\n",
    "dIn = AllDiffs[cond_ind][:,bin_ind] # because we start at 0 ...\n",
    "NoisyVal, NoisySub = np.min(dIn,axis = 0), np.argmin(dIn, axis = 0)\n",
    "print(NoisyVal,NoisySub)\n",
    "print(SubNames[NoisySub])\n",
    "axs.plot(diff_ax,AllDiffs[cond_ind][NoisySub,0:6])"
   ]
  },
  {
   "cell_type": "code",
   "execution_count": null,
   "metadata": {},
   "outputs": [],
   "source": [
    "Subarr = np.ones((NumSubs)) # empty subject boolean array\n",
    "#rmv_subj_ind = ['2655','2670','2668','2671'] # subjects to remove \n",
    "rmv_subj_ind = ['2670','2671']\n",
    "rmv_subj_ind = set(rmv_subj_ind)\n",
    "# list comp to set identified badsubs to 0\n",
    "GoodSubs = [0 if SubNames[i] in rmv_subj_ind else Subarr[i] for i in range(NumSubs)] # 1 = good subject"
   ]
  },
  {
   "cell_type": "code",
   "execution_count": null,
   "metadata": {},
   "outputs": [],
   "source": [
    "fig,axs = plt.subplots(1,4,figsize = (12,3), sharey=True)\n",
    "\n",
    "for f_co in range(NumConds):\n",
    "    for su in range(NumSubs):\n",
    "        plot_ind = GoodSubs[su]\n",
    "        if plot_ind == 1:\n",
    "            dIn = AllDiffs[f_co]\n",
    "            axs[f_co].plot(diff_ax,dIn[su,:6])\n",
    "        else: \n",
    "            print(f'subject {SubNames[su]} was excluded via VisInspect')"
   ]
  },
  {
   "cell_type": "markdown",
   "metadata": {},
   "source": [
    "#### Visualize Data"
   ]
  },
  {
   "cell_type": "code",
   "execution_count": null,
   "metadata": {},
   "outputs": [],
   "source": [
    "# fig,axs = plt.subplots(2,NumConds,figsize = (12,8), sharey = True)\n",
    "\n",
    "# for co in range(NumConds):\n",
    "#     for su in range(NumSubs):\n",
    "#         plot_ind = GoodSubs[su]\n",
    "#         if plot_ind == 1:\n",
    "#             #axs[0,co].scatter(diff_ax,AllDiffs[co][su,:6], color = cp1[2])\n",
    "#             axs[0,co].plot(diff_ax,AllDiffs[co][su,:6], color = cp1[4],alpha = 1/2)\n",
    "#             axs[0,co].hlines(0, xmin = 0, xmax = 5, color = 'black',linewidth = 1)\n",
    "#             axs[0,co].vlines(0, ymin = -1/2, ymax = 1/2, color = 'black',linewidth = 1/2)\n",
    "\n",
    "#             #axs[1,co].scatter(diff_ax,AllDiffs[co][su,6:],color = cp1[1])\n",
    "#             axs[1,co].plot(diff_ax,AllDiffs[co][su,6:],color = cp1[7],alpha = 1/2)\n",
    "#             axs[1,co].hlines(0, xmin = 0, xmax = 5, color = 'black',linewidth = 1)\n",
    "#             axs[1,co].vlines(0, ymin = -1/2, ymax = 1/2, color = 'black',linewidth = 1/2)\n",
    "\n",
    "#             axs[0,co].set_title(f'{data_labels[co]}')\n",
    "\n",
    "#             axs[0,co].set_xticks(range(len(contrast_levels)))\n",
    "#             axs[0,co].set_xticklabels(contrast_labs)\n",
    "\n",
    "#             axs[1,co].set_xticks(range(len(contrast_levels)))\n",
    "#             axs[1,co].set_xticklabels(contrast_labs)\n",
    "#         else:\n",
    "#             print(f'subject {SubNames[su]} was excluded via VisInspect')\n",
    "# plt.suptitle(f'Net Response Differences Post - Pre')\n",
    "# fig.tight_layout()\n",
    "# plt.show()"
   ]
  },
  {
   "cell_type": "markdown",
   "metadata": {},
   "source": [
    "#### Get Average of Post - Pre Amplitudes"
   ]
  },
  {
   "cell_type": "code",
   "execution_count": null,
   "metadata": {},
   "outputs": [],
   "source": [
    "AvgDiffs = {}\n",
    "for co in range(NumConds):\n",
    "    AvgDiffs[co] = np.mean(AllDiffs[co],axis = 0)\n",
    "print(AvgDiffs[0].shape)"
   ]
  },
  {
   "cell_type": "markdown",
   "metadata": {},
   "source": [
    "#### Compute Error Bars"
   ]
  },
  {
   "cell_type": "code",
   "execution_count": null,
   "metadata": {},
   "outputs": [],
   "source": [
    "AllErrBarVals = np.zeros((NumConds,NumBins*NumHarms)) # 4x 12 arr\n",
    "for co in range(NumConds):\n",
    "    AllErrBarVals[co,:] = GetErrorBars(NumHarms,NumBins,NumSubs, dictIn = AllDiffs[co])"
   ]
  },
  {
   "cell_type": "markdown",
   "metadata": {},
   "source": [
    "#### Visualize Average Differences "
   ]
  },
  {
   "cell_type": "code",
   "execution_count": null,
   "metadata": {},
   "outputs": [],
   "source": [
    "fig,axs = plt.subplots(1,2,figsize=(6,4),sharey=True, sharex = True)\n",
    "for i in range(NumConds):\n",
    "    axs[0].scatter(diff_ax,AvgDiffs[i][:6], label = f'{data_labels[i]}', color = cp1[i+2])\n",
    "    axs[0].plot(diff_ax,AvgDiffs[i][:6], label = f'{data_labels[i]}', color = cp1[i+2])\n",
    "\n",
    "    axs[1].scatter(diff_ax,AvgDiffs[i][6:], label = f'{data_labels[i]}', color = cp1[i+2])\n",
    "    axs[1].plot(diff_ax,AvgDiffs[i][6:], label = f'{data_labels[i]}', color = cp1[i+2])\n",
    "\n",
    "    axs[0].hlines(0,xmin=0,xmax=5,color='black',linewidth = 1/3)\n",
    "    axs[1].hlines(0,xmin=0,xmax=5,color='black',linewidth = 1/3)\n",
    "    axs[0].vlines(0,ymin=-1/2,ymax=1/2,color ='black',linewidth=1/2)\n",
    "\n",
    "    axs[0].set_title(f'2F (6/7.5 hz)')\n",
    "    axs[1].set_title(f'4F (12/15 hz)')\n",
    "\n",
    "plt.suptitle(f'Average Response Difference Across Conditions')\n",
    "plt.tight_layout()\n",
    "axs[0].legend(loc = 'upper right',fontsize=9)\n",
    "axs[0].legend(loc='upper right', bbox_to_anchor=(-0.2, 0.98))"
   ]
  },
  {
   "cell_type": "markdown",
   "metadata": {},
   "source": [
    "#### Plot with ErrorBars"
   ]
  },
  {
   "cell_type": "code",
   "execution_count": null,
   "metadata": {},
   "outputs": [],
   "source": [
    "cp1 = sns.color_palette(\"husl\", 8)\n",
    "\n",
    "fig,axs = plt.subplots(1,2,figsize=(8,5),sharey=True, sharex = True)\n",
    "for i in range(NumConds):\n",
    "    axs[0].plot(diff_ax,AvgDiffs[i][:6], label = f'{data_labels[i]}', color = cp1[i+2],linewidth = 3)\n",
    "    axs[0].errorbar(diff_ax,AvgDiffs[i][:6],yerr=AllErrBarVals[i,:6],fmt='o',label=f'{data_labels[i]}',color = cp1[i+2],capsize = 8, linewidth = 3)\n",
    "    axs[0].set_xlabel(f'Contrast Level')\n",
    "    axs[0].set_ylabel(f'Amp (mV)')\n",
    "    \n",
    "    axs[1].plot(diff_ax,AvgDiffs[i][6:], label = f'{data_labels[i]}', color = cp1[i+2], linewidth = 3)\n",
    "    axs[1].errorbar(diff_ax,AvgDiffs[i][6:],yerr=AllErrBarVals[i,6:],fmt='o',label = f'{data_labels[i]}', color = cp1[i+2],capsize = 8, linewidth = 3)\n",
    "    axs[1].set_xlabel(f'Contrast Level')\n",
    "    axs[1].set_ylabel(f'Amp (mV)')\n",
    "\n",
    "    axs[0].hlines(0,xmin=0,xmax=5,color='black',linewidth = 1/3)\n",
    "    axs[1].hlines(0,xmin=0,xmax=5,color='black',linewidth = 1/3)\n",
    "    axs[0].vlines(0,ymin=-1/2,ymax=1/2,color ='black',linewidth=1/2)\n",
    "\n",
    "    axs[0].set_title(f'2F (6/7.5 hz)')\n",
    "    axs[1].set_title(f'4F (12/15 hz)')\n",
    "##########################################################################################################################################################\n",
    "axs[0].set_xticks(range(len(contrast_levels)))\n",
    "axs[0].set_xticklabels(contrast_labs)\n",
    "axs[1].set_xticks(range(len(contrast_levels)))\n",
    "axs[1].set_xticklabels(contrast_labs)\n",
    "plt.suptitle(f'Average Response Difference Across Conditions')\n",
    "plt.tight_layout()\n",
    "axs[0].legend(loc = 'upper right',fontsize=9)\n",
    "axs[0].legend(loc='upper right', bbox_to_anchor=(-0.3, 0.98))"
   ]
  },
  {
   "cell_type": "code",
   "execution_count": null,
   "metadata": {},
   "outputs": [],
   "source": [
    "fig,axs = plt.subplots(2,NumConds,figsize = (11,7), sharey = False)\n",
    "\n",
    "for co in range(NumConds):\n",
    "    for su in range(NumSubs):\n",
    "        plot_ind = GoodSubs[su]\n",
    "######################################################################################################################\n",
    "        if plot_ind == 1:\n",
    "            #axs[0,co].scatter(diff_ax,AllDiffs[co][su,:6], color = cp1[2])\n",
    "            axs[0,co].plot(diff_ax,AllDiffs[co][su,:6], color = cp1[5],alpha = 0.25)\n",
    "            axs[0,co].hlines(0, xmin = 0, xmax = 5, color = 'black',linewidth = 1)\n",
    "            # plt avgs\n",
    "            axs[0,co].plot(diff_ax,AvgDiffs[co][:6], label = f'{data_labels[i]}', color = cp1[4],linewidth = 3)\n",
    "            # plot avg with error bars \n",
    "            axs[0,co].errorbar(diff_ax,AvgDiffs[co][:6], yerr = AllErrBarVals[co,:6], fmt = 'o', label = f'{data_labels[co]}', color = cp1[4],capsize = 8, linewidth = 3)\n",
    "            #axs[0,co].scatter(diff_ax,AvgDiffs[co][:6], label = f'{data_labels[i]}', color = cp1[5],linewidth = 3)\n",
    "            axs[0,co].vlines(0, ymin = -1/2, ymax = 1/2, color = 'black',linewidth = 1)\n",
    "            axs[0,co].set_xlabel(f'Contrast Level')\n",
    "            axs[0,co].set_ylabel(f'Amp (mV)')\n",
    "            ###########################################################################################################\n",
    "            #axs[1,co].scatter(diff_ax,AllDiffs[co][su,6:],color = cp1[1])\n",
    "            axs[1,co].plot(diff_ax,AllDiffs[co][su,6:],color = cp1[5],alpha = 0.25)\n",
    "            axs[1,co].hlines(0, xmin = 0, xmax = 5, color = 'black',linewidth = 1)\n",
    "            axs[1,co].vlines(0, ymin = -1/2, ymax = 1/2, color = 'black',linewidth = 1)\n",
    "            # plt avgs\n",
    "            axs[1,co].plot(diff_ax,AvgDiffs[co][6:], label = f'{data_labels[i]}', color = cp1[4],linewidth = 3)\n",
    "            axs[1,co].errorbar(diff_ax,AvgDiffs[co][6:], yerr = AllErrBarVals[co,6:], fmt = 'o', label = f'{data_labels[co]}', color = cp1[4],capsize = 8, linewidth = 3)\n",
    "            #axs[1,co].scatter(diff_ax,AvgDiffs[co][6:], label = f'{data_labels[i]}', color = cp1[5],linewidth = 3)\n",
    "            axs[1,co].set_xlabel(f'Contrast Level')\n",
    "            axs[1,co].set_ylabel(f'Amp (mV)')\n",
    "#######################################################################################################################\n",
    "            axs[0,co].set_title(f'{data_labels[co]}')\n",
    "            axs[0,co].set_xticks(range(len(contrast_levels)))\n",
    "            axs[0,co].set_xticklabels(contrast_labs)\n",
    "            axs[1,co].set_xticks(range(len(contrast_levels)))\n",
    "            axs[1,co].set_xticklabels(contrast_labs)\n",
    "        else:\n",
    "            print(f'subject {SubNames[su]} was excluded via VisInspect')\n",
    "plt.suptitle(f'Net Response Differences Post - Pre')\n",
    "fig.tight_layout()\n",
    "plt.show()"
   ]
  },
  {
   "cell_type": "markdown",
   "metadata": {},
   "source": [
    "#### Save Data"
   ]
  },
  {
   "cell_type": "code",
   "execution_count": null,
   "metadata": {},
   "outputs": [],
   "source": [
    "DictOut={}\n",
    "\n",
    "note = ['Cont:Post - pre responses for all conditions for all subs, sub x contrast diff']\n",
    "\n",
    "DictOut['DiffData'] = AllDiffs\n",
    "DictOut['ErrVals'] = AllErrBarVals\n",
    "DictOut['SubNames'] = SubNames\n",
    "DictOut['DictMainKeys'] = data_labels\n",
    "DictOut['ContLevs'] = contrast_levels\n",
    "DictOut['crfLabs'] = contrast_labs # string array of contrast level %\n",
    "DictOut['VoiceMemo'] = note"
   ]
  },
  {
   "cell_type": "markdown",
   "metadata": {},
   "source": [
    "#### Set and Save Data Dir"
   ]
  },
  {
   "cell_type": "code",
   "execution_count": null,
   "metadata": {},
   "outputs": [],
   "source": [
    "SaveDataDir = 'C:\\\\plimon\\\\LTP_analysis\\\\RCA_F1\\\\AmpResponseDiffs\\\\'\n",
    "FileOutName = 'LTP_ResponseDifferences'\n",
    "#####################################################\n",
    "dnt = datetime.now()\n",
    "fdnt = dnt.strftime(\"%Y%m%d_%H%M\") # lil date seal xoxo\n",
    "FileN = f'{FileOutName}_{fdnt}.pkl'\n",
    "\n",
    "NewFilePath = os.path.join(SaveDataDir, FileN)\n",
    "print(NewFilePath)\n",
    "\n",
    "if not os.path.exists(SaveDataDir):\n",
    "    os.makedirs(SaveDataDir)\n",
    "    print(f'Path to Saved File is {NewFilePath}')"
   ]
  },
  {
   "cell_type": "code",
   "execution_count": null,
   "metadata": {},
   "outputs": [],
   "source": [
    "SaveFile = 'n'\n",
    "\n",
    "if SaveFile == 'y':\n",
    "    with open(NewFilePath, 'wb') as file:\n",
    "        pkl.dump(DictOut, file, protocol=pkl.HIGHEST_PROTOCOL)\n",
    "\n",
    "        print('Data Saved!!')\n",
    "else:\n",
    "    print('Did not save file!')\n"
   ]
  }
 ],
 "metadata": {
  "kernelspec": {
   "display_name": "base",
   "language": "python",
   "name": "python3"
  },
  "language_info": {
   "codemirror_mode": {
    "name": "ipython",
    "version": 3
   },
   "file_extension": ".py",
   "mimetype": "text/x-python",
   "name": "python",
   "nbconvert_exporter": "python",
   "pygments_lexer": "ipython3",
   "version": "3.11.8"
  }
 },
 "nbformat": 4,
 "nbformat_minor": 2
}
