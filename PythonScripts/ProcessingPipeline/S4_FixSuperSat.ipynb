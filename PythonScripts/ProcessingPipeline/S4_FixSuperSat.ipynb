{
 "cells": [
  {
   "cell_type": "code",
   "execution_count": null,
   "metadata": {},
   "outputs": [],
   "source": [
    "sd = 45\n",
    "############################################################################\n",
    "# def FixSaturation(x,NumBins,NumSubs,start,end,col):\n",
    "#     \"\"\"\n",
    "#     Fix SuperSaturation towards the higher contrasts \n",
    "#     by setting those lower values to the max response before\n",
    "#     this dip occurs \n",
    "#     \"\"\"\n",
    "#     r1 = start\n",
    "#     r2 = end\n",
    "#     cond = col \n",
    "#     d = np.zeros((NumSubs,NumBins))\n",
    "#     pos_rec = []\n",
    "#     for i in range(NumSubs):\n",
    "#         dataIn = x[i][r1:r2,cond] \n",
    "#         dataOut = np.zeros((1,NumBins))\n",
    "#         maxpos = np.argmax(dataIn, axis = 0)\n",
    "#         pos_rec.append(maxpos)\n",
    "#         maxamp = dataIn[maxpos]\n",
    "#         if maxpos < NumBins:\n",
    "#             dataOut[0,:maxpos] =  dataIn[:maxpos]\n",
    "#             dataOut[0,maxpos:] = maxamp\n",
    "#             d[i,:] = dataOut\n",
    "#         else:\n",
    "#             d[i,:]  = dataIn\n",
    "#     return d, pos_rec"
   ]
  }
 ],
 "metadata": {
  "kernelspec": {
   "display_name": "Python 3",
   "language": "python",
   "name": "python3"
  },
  "language_info": {
   "name": "python",
   "version": "3.11.8"
  }
 },
 "nbformat": 4,
 "nbformat_minor": 2
}
